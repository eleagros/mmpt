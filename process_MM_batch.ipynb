{
 "cells": [
  {
   "cell_type": "markdown",
   "id": "5833fa74",
   "metadata": {},
   "source": [
    "# Process the data obtained from polarimetry and reorganize the data into the correct folders"
   ]
  },
  {
   "cell_type": "code",
   "execution_count": 1,
   "id": "a9006a18",
   "metadata": {},
   "outputs": [
    {
     "name": "stdout",
     "output_type": "stream",
     "text": [
      " Could not import win32api and/or win32con\n"
     ]
    }
   ],
   "source": [
    "%load_ext autoreload\n",
    "%autoreload 2\n",
    "\n",
    "import os\n",
    "from processingmm import processingmm"
   ]
  },
  {
   "cell_type": "code",
   "execution_count": null,
   "id": "40d299fa-1270-4737-99a3-f2e7c75f87a1",
   "metadata": {},
   "outputs": [],
   "source": []
  },
  {
   "cell_type": "code",
   "execution_count": 2,
   "id": "35f24a20",
   "metadata": {},
   "outputs": [],
   "source": [
    "# set the parameters to run the script\n",
    "directories = [r'/media/elea/ssd/NPP_dev']\n",
    "calib_directory = r'/media/elea/ssd/NPP_dev/calib'\n",
    "    \n",
    "# set the parameters to be used for the line visualisation\n",
    "# NB: parameter file accessible in ./src/processingmm/data/parameters_visualisations.json\n",
    "parameter_set = 'default'\n",
    "\n",
    "# set run_all to true in order to run the pipeline on all the folders (even the ones already processed)\n",
    "run_all = True\n",
    "\n",
    "# PDDN_mode can be set to:\n",
    "# 1. 'no': processes without using the PDDN\n",
    "# 2. 'pddn': processes with PDDN when available (for 550nm and 650nm)\n",
    "# 3. 'both': processes both with PDDN when available and without PDDN\n",
    "PDDN_mode = 'no'\n",
    "\n",
    "# do not specify unless you want to use a custom path for the PDDN models\n",
    "PDDN_models_path = None\n",
    "\n",
    "# Set the wavelengths to be processed\n",
    "# 1. 'all': processes all the available wavelenght\n",
    "# 2. [xxx, yyy]: processes only the wavelenghts 'xxx' and 'yyy'\n",
    "wavelengths = [550]\n",
    "\n",
    "# Processing mode\n",
    "# 1. 'no_viz': processes only the MM - no visualization at all. useful for fast computation\n",
    "# 2. 'default': processes the MM and plots the polarimetric parameters maps (i.e. depolarization, azimuth, \n",
    "# retardance, diattenuation, azimuth local variability)\n",
    "# 3. 'full': do like default, and additionally plot the MM components, as well as the line\n",
    "# visualization\n",
    "\n",
    "# define if pdf figures should be saved (takes a lot of time) - no impact when processing_mode is set to no_viz\n",
    "\n",
    "# NB: processing time without PDDN (with the data on a SSD drive)\n",
    "# 'no_viz': 0.39s\n",
    "# 'default', save_pdf_figs False: 1.65s\n",
    "# 'default', save_pdf_figs True: 2.67s\n",
    "# 'full', save_pdf_figs False: 3.24s\n",
    "# 'full', save_pdf_figs True: 5.94s\n",
    "processing_mode = 'default'\n",
    "save_pdf_figs = False\n",
    "\n",
    "# define if the wavelenghts should be aligned before processing - and used for the computation\n",
    "align_wls = False\n",
    "\n",
    "parameters = processingmm.get_parameters(directories, calib_directory, wavelengths, parameter_set = parameter_set, \n",
    "                                PDDN_mode = PDDN_mode, PDDN_models_path = PDDN_models_path, \n",
    "                                processing_mode = processing_mode, run_all = run_all, \n",
    "                                save_pdf_figs = save_pdf_figs, align_wls = align_wls)"
   ]
  },
  {
   "cell_type": "code",
   "execution_count": null,
   "id": "3e2ea1d8-4794-49c2-9a16-9ae7874fe36c",
   "metadata": {},
   "outputs": [],
   "source": []
  },
  {
   "cell_type": "code",
   "execution_count": null,
   "id": "017cdd19",
   "metadata": {},
   "outputs": [
    {
     "name": "stdout",
     "output_type": "stream",
     "text": [
      "processing without PDDN...\n"
     ]
    },
    {
     "name": "stderr",
     "output_type": "stream",
     "text": [
      "  0%|                                                   | 0/147 [00:00<?, ?it/s]"
     ]
    },
    {
     "name": "stdout",
     "output_type": "stream",
     "text": [
      "Processing: /media/elea/ssd/NPP_dev/HT/550x600/2024-10-03_T_AUTOPSY-AF_FR_S2_1\n",
      "/media/elea/ssd/NPP_dev/HT/550x600/2024-10-03_T_AUTOPSY-AF_FR_S2_1/polarimetry/550nm\n",
      "/media/elea/ssd/NPP_dev/HT/550x600/2024-10-03_T_AUTOPSY-AF_FR_S2_1/polarimetry/650nm\n",
      "/media/elea/ssd/NPP_dev/HT/550x600/2024-10-03_T_AUTOPSY-AF_FR_S2_1/polarimetry/700nm\n",
      "/media/elea/ssd/NPP_dev/HT/550x600/2024-10-03_T_AUTOPSY-AF_FR_S2_1/polarimetry/500nm\n",
      "/media/elea/ssd/NPP_dev/HT/550x600/2024-10-03_T_AUTOPSY-AF_FR_S2_1/polarimetry/450nm\n",
      "/media/elea/ssd/NPP_dev/HT/550x600/2024-10-03_T_AUTOPSY-AF_FR_S2_1/polarimetry/600nm\n",
      "/media/elea/ssd/NPP_dev/HT/550x600/2024-10-03_T_AUTOPSY-AF_FR_S2_1/polarimetry/400nm\n",
      "/media/elea/ssd/NPP_dev/HT/550x600/2024-10-03_T_AUTOPSY-AF_FR_S2_1/polarimetry_PDDN/450nm\n",
      "/media/elea/ssd/NPP_dev/HT/550x600/2024-10-03_T_AUTOPSY-AF_FR_S2_1/polarimetry_PDDN/500nm\n",
      "/media/elea/ssd/NPP_dev/HT/550x600/2024-10-03_T_AUTOPSY-AF_FR_S2_1/polarimetry_PDDN/550nm\n",
      "/media/elea/ssd/NPP_dev/HT/550x600/2024-10-03_T_AUTOPSY-AF_FR_S2_1/polarimetry_PDDN/600nm\n",
      "/media/elea/ssd/NPP_dev/HT/550x600/2024-10-03_T_AUTOPSY-AF_FR_S2_1/polarimetry_PDDN/650nm\n",
      "/media/elea/ssd/NPP_dev/HT/550x600/2024-10-03_T_AUTOPSY-AF_FR_S2_1/polarimetry_PDDN/700nm\n"
     ]
    },
    {
     "name": "stderr",
     "output_type": "stream",
     "text": [
      "  1%|▎                                          | 1/147 [00:02<05:23,  2.22s/it]"
     ]
    },
    {
     "name": "stdout",
     "output_type": "stream",
     "text": [
      "Processing: /media/elea/ssd/NPP_dev/TU/550x600/2023-04-05_T_HORAO-94-BF_FR_S2_1\n",
      "/media/elea/ssd/NPP_dev/TU/550x600/2023-04-05_T_HORAO-94-BF_FR_S2_1/polarimetry/600nm\n",
      "/media/elea/ssd/NPP_dev/TU/550x600/2023-04-05_T_HORAO-94-BF_FR_S2_1/polarimetry/700nm\n",
      "/media/elea/ssd/NPP_dev/TU/550x600/2023-04-05_T_HORAO-94-BF_FR_S2_1/polarimetry/500nm\n",
      "/media/elea/ssd/NPP_dev/TU/550x600/2023-04-05_T_HORAO-94-BF_FR_S2_1/polarimetry/400nm\n",
      "/media/elea/ssd/NPP_dev/TU/550x600/2023-04-05_T_HORAO-94-BF_FR_S2_1/polarimetry/650nm\n",
      "/media/elea/ssd/NPP_dev/TU/550x600/2023-04-05_T_HORAO-94-BF_FR_S2_1/polarimetry/550nm\n",
      "/media/elea/ssd/NPP_dev/TU/550x600/2023-04-05_T_HORAO-94-BF_FR_S2_1/polarimetry/450nm\n",
      "/media/elea/ssd/NPP_dev/TU/550x600/2023-04-05_T_HORAO-94-BF_FR_S2_1/polarimetry_PDDN/450nm\n",
      "/media/elea/ssd/NPP_dev/TU/550x600/2023-04-05_T_HORAO-94-BF_FR_S2_1/polarimetry_PDDN/500nm\n",
      "/media/elea/ssd/NPP_dev/TU/550x600/2023-04-05_T_HORAO-94-BF_FR_S2_1/polarimetry_PDDN/550nm\n",
      "/media/elea/ssd/NPP_dev/TU/550x600/2023-04-05_T_HORAO-94-BF_FR_S2_1/polarimetry_PDDN/600nm\n",
      "/media/elea/ssd/NPP_dev/TU/550x600/2023-04-05_T_HORAO-94-BF_FR_S2_1/polarimetry_PDDN/650nm\n",
      "/media/elea/ssd/NPP_dev/TU/550x600/2023-04-05_T_HORAO-94-BF_FR_S2_1/polarimetry_PDDN/700nm\n"
     ]
    },
    {
     "name": "stderr",
     "output_type": "stream",
     "text": [
      "  1%|▌                                          | 2/147 [00:04<04:55,  2.04s/it]"
     ]
    },
    {
     "name": "stdout",
     "output_type": "stream",
     "text": [
      "Processing: /media/elea/ssd/NPP_dev/HT/550x600/2024-09-18_T_AUTOPSY-BF_FR_S5_1\n",
      "/media/elea/ssd/NPP_dev/HT/550x600/2024-09-18_T_AUTOPSY-BF_FR_S5_1/polarimetry/550nm\n",
      "/media/elea/ssd/NPP_dev/HT/550x600/2024-09-18_T_AUTOPSY-BF_FR_S5_1/polarimetry/650nm\n",
      "/media/elea/ssd/NPP_dev/HT/550x600/2024-09-18_T_AUTOPSY-BF_FR_S5_1/polarimetry/700nm\n",
      "/media/elea/ssd/NPP_dev/HT/550x600/2024-09-18_T_AUTOPSY-BF_FR_S5_1/polarimetry/500nm\n",
      "/media/elea/ssd/NPP_dev/HT/550x600/2024-09-18_T_AUTOPSY-BF_FR_S5_1/polarimetry/450nm\n",
      "/media/elea/ssd/NPP_dev/HT/550x600/2024-09-18_T_AUTOPSY-BF_FR_S5_1/polarimetry/600nm\n",
      "/media/elea/ssd/NPP_dev/HT/550x600/2024-09-18_T_AUTOPSY-BF_FR_S5_1/polarimetry/400nm\n",
      "/media/elea/ssd/NPP_dev/HT/550x600/2024-09-18_T_AUTOPSY-BF_FR_S5_1/polarimetry_PDDN/450nm\n",
      "/media/elea/ssd/NPP_dev/HT/550x600/2024-09-18_T_AUTOPSY-BF_FR_S5_1/polarimetry_PDDN/500nm\n",
      "/media/elea/ssd/NPP_dev/HT/550x600/2024-09-18_T_AUTOPSY-BF_FR_S5_1/polarimetry_PDDN/550nm\n",
      "/media/elea/ssd/NPP_dev/HT/550x600/2024-09-18_T_AUTOPSY-BF_FR_S5_1/polarimetry_PDDN/600nm\n",
      "/media/elea/ssd/NPP_dev/HT/550x600/2024-09-18_T_AUTOPSY-BF_FR_S5_1/polarimetry_PDDN/650nm\n",
      "/media/elea/ssd/NPP_dev/HT/550x600/2024-09-18_T_AUTOPSY-BF_FR_S5_1/polarimetry_PDDN/700nm\n"
     ]
    },
    {
     "name": "stderr",
     "output_type": "stream",
     "text": [
      "  2%|▉                                          | 3/147 [00:06<04:48,  2.00s/it]"
     ]
    },
    {
     "name": "stdout",
     "output_type": "stream",
     "text": [
      "Processing: /media/elea/ssd/NPP_dev/TU/550x600/2022-10-11_T_HORAO-55-BF_FR_S1_1\n",
      "/media/elea/ssd/NPP_dev/TU/550x600/2022-10-11_T_HORAO-55-BF_FR_S1_1/polarimetry/550nm\n",
      "/media/elea/ssd/NPP_dev/TU/550x600/2022-10-11_T_HORAO-55-BF_FR_S1_1/polarimetry/650nm\n",
      "/media/elea/ssd/NPP_dev/TU/550x600/2022-10-11_T_HORAO-55-BF_FR_S1_1/polarimetry/700nm\n",
      "/media/elea/ssd/NPP_dev/TU/550x600/2022-10-11_T_HORAO-55-BF_FR_S1_1/polarimetry/500nm\n",
      "/media/elea/ssd/NPP_dev/TU/550x600/2022-10-11_T_HORAO-55-BF_FR_S1_1/polarimetry/450nm\n",
      "/media/elea/ssd/NPP_dev/TU/550x600/2022-10-11_T_HORAO-55-BF_FR_S1_1/polarimetry/600nm\n",
      "/media/elea/ssd/NPP_dev/TU/550x600/2022-10-11_T_HORAO-55-BF_FR_S1_1/polarimetry/400nm\n",
      "/media/elea/ssd/NPP_dev/TU/550x600/2022-10-11_T_HORAO-55-BF_FR_S1_1/polarimetry_PDDN/550nm\n",
      "/media/elea/ssd/NPP_dev/TU/550x600/2022-10-11_T_HORAO-55-BF_FR_S1_1/polarimetry_PDDN/650nm\n",
      "/media/elea/ssd/NPP_dev/TU/550x600/2022-10-11_T_HORAO-55-BF_FR_S1_1/polarimetry_PDDN/700nm\n",
      "/media/elea/ssd/NPP_dev/TU/550x600/2022-10-11_T_HORAO-55-BF_FR_S1_1/polarimetry_PDDN/500nm\n",
      "/media/elea/ssd/NPP_dev/TU/550x600/2022-10-11_T_HORAO-55-BF_FR_S1_1/polarimetry_PDDN/450nm\n",
      "/media/elea/ssd/NPP_dev/TU/550x600/2022-10-11_T_HORAO-55-BF_FR_S1_1/polarimetry_PDDN/600nm\n",
      "/media/elea/ssd/NPP_dev/TU/550x600/2022-10-11_T_HORAO-55-BF_FR_S1_1/polarimetry_PDDN/400nm\n"
     ]
    },
    {
     "name": "stderr",
     "output_type": "stream",
     "text": [
      "  3%|█▏                                         | 4/147 [00:07<04:38,  1.95s/it]"
     ]
    },
    {
     "name": "stdout",
     "output_type": "stream",
     "text": [
      "Processing: /media/elea/ssd/NPP_dev/HT/550/2022-07-07_T_AUTOPSY-AF_FR_S3_1\n",
      "/media/elea/ssd/NPP_dev/HT/550/2022-07-07_T_AUTOPSY-AF_FR_S3_1/polarimetry/550nm\n",
      "/media/elea/ssd/NPP_dev/HT/550/2022-07-07_T_AUTOPSY-AF_FR_S3_1/polarimetry/650nm\n",
      "/media/elea/ssd/NPP_dev/HT/550/2022-07-07_T_AUTOPSY-AF_FR_S3_1/polarimetry/700nm\n",
      "/media/elea/ssd/NPP_dev/HT/550/2022-07-07_T_AUTOPSY-AF_FR_S3_1/polarimetry/500nm\n",
      "/media/elea/ssd/NPP_dev/HT/550/2022-07-07_T_AUTOPSY-AF_FR_S3_1/polarimetry/450nm\n",
      "/media/elea/ssd/NPP_dev/HT/550/2022-07-07_T_AUTOPSY-AF_FR_S3_1/polarimetry/600nm\n",
      "/media/elea/ssd/NPP_dev/HT/550/2022-07-07_T_AUTOPSY-AF_FR_S3_1/polarimetry/400nm\n",
      "/media/elea/ssd/NPP_dev/HT/550/2022-07-07_T_AUTOPSY-AF_FR_S3_1/polarimetry_PDDN/450nm\n",
      "/media/elea/ssd/NPP_dev/HT/550/2022-07-07_T_AUTOPSY-AF_FR_S3_1/polarimetry_PDDN/500nm\n",
      "/media/elea/ssd/NPP_dev/HT/550/2022-07-07_T_AUTOPSY-AF_FR_S3_1/polarimetry_PDDN/550nm\n",
      "/media/elea/ssd/NPP_dev/HT/550/2022-07-07_T_AUTOPSY-AF_FR_S3_1/polarimetry_PDDN/600nm\n",
      "/media/elea/ssd/NPP_dev/HT/550/2022-07-07_T_AUTOPSY-AF_FR_S3_1/polarimetry_PDDN/650nm\n",
      "/media/elea/ssd/NPP_dev/HT/550/2022-07-07_T_AUTOPSY-AF_FR_S3_1/polarimetry_PDDN/700nm\n"
     ]
    },
    {
     "name": "stderr",
     "output_type": "stream",
     "text": [
      "  3%|█▍                                         | 5/147 [00:09<04:31,  1.91s/it]"
     ]
    },
    {
     "name": "stdout",
     "output_type": "stream",
     "text": [
      "Processing: /media/elea/ssd/NPP_dev/HT/550/2022-07-06_T_AUTOPSY-BF_FR_S4_1\n",
      "/media/elea/ssd/NPP_dev/HT/550/2022-07-06_T_AUTOPSY-BF_FR_S4_1/polarimetry/550nm\n",
      "/media/elea/ssd/NPP_dev/HT/550/2022-07-06_T_AUTOPSY-BF_FR_S4_1/polarimetry/650nm\n",
      "/media/elea/ssd/NPP_dev/HT/550/2022-07-06_T_AUTOPSY-BF_FR_S4_1/polarimetry/700nm\n",
      "/media/elea/ssd/NPP_dev/HT/550/2022-07-06_T_AUTOPSY-BF_FR_S4_1/polarimetry/500nm\n",
      "/media/elea/ssd/NPP_dev/HT/550/2022-07-06_T_AUTOPSY-BF_FR_S4_1/polarimetry/450nm\n",
      "/media/elea/ssd/NPP_dev/HT/550/2022-07-06_T_AUTOPSY-BF_FR_S4_1/polarimetry/600nm\n",
      "/media/elea/ssd/NPP_dev/HT/550/2022-07-06_T_AUTOPSY-BF_FR_S4_1/polarimetry/400nm\n",
      "/media/elea/ssd/NPP_dev/HT/550/2022-07-06_T_AUTOPSY-BF_FR_S4_1/polarimetry_PDDN/450nm\n",
      "/media/elea/ssd/NPP_dev/HT/550/2022-07-06_T_AUTOPSY-BF_FR_S4_1/polarimetry_PDDN/500nm\n",
      "/media/elea/ssd/NPP_dev/HT/550/2022-07-06_T_AUTOPSY-BF_FR_S4_1/polarimetry_PDDN/550nm\n",
      "/media/elea/ssd/NPP_dev/HT/550/2022-07-06_T_AUTOPSY-BF_FR_S4_1/polarimetry_PDDN/600nm\n",
      "/media/elea/ssd/NPP_dev/HT/550/2022-07-06_T_AUTOPSY-BF_FR_S4_1/polarimetry_PDDN/650nm\n",
      "/media/elea/ssd/NPP_dev/HT/550/2022-07-06_T_AUTOPSY-BF_FR_S4_1/polarimetry_PDDN/700nm\n"
     ]
    },
    {
     "name": "stderr",
     "output_type": "stream",
     "text": [
      "  4%|█▊                                         | 6/147 [00:11<04:28,  1.90s/it]"
     ]
    },
    {
     "name": "stdout",
     "output_type": "stream",
     "text": [
      "Processing: /media/elea/ssd/NPP_dev/HT/550/2022-07-07_T_AUTOPSY-AF_FR_S4_1\n",
      "/media/elea/ssd/NPP_dev/HT/550/2022-07-07_T_AUTOPSY-AF_FR_S4_1/polarimetry/550nm\n",
      "/media/elea/ssd/NPP_dev/HT/550/2022-07-07_T_AUTOPSY-AF_FR_S4_1/polarimetry/650nm\n",
      "/media/elea/ssd/NPP_dev/HT/550/2022-07-07_T_AUTOPSY-AF_FR_S4_1/polarimetry/700nm\n",
      "/media/elea/ssd/NPP_dev/HT/550/2022-07-07_T_AUTOPSY-AF_FR_S4_1/polarimetry/500nm\n",
      "/media/elea/ssd/NPP_dev/HT/550/2022-07-07_T_AUTOPSY-AF_FR_S4_1/polarimetry/450nm\n",
      "/media/elea/ssd/NPP_dev/HT/550/2022-07-07_T_AUTOPSY-AF_FR_S4_1/polarimetry/600nm\n",
      "/media/elea/ssd/NPP_dev/HT/550/2022-07-07_T_AUTOPSY-AF_FR_S4_1/polarimetry/400nm\n",
      "/media/elea/ssd/NPP_dev/HT/550/2022-07-07_T_AUTOPSY-AF_FR_S4_1/polarimetry_PDDN/450nm\n",
      "/media/elea/ssd/NPP_dev/HT/550/2022-07-07_T_AUTOPSY-AF_FR_S4_1/polarimetry_PDDN/500nm\n",
      "/media/elea/ssd/NPP_dev/HT/550/2022-07-07_T_AUTOPSY-AF_FR_S4_1/polarimetry_PDDN/550nm\n",
      "/media/elea/ssd/NPP_dev/HT/550/2022-07-07_T_AUTOPSY-AF_FR_S4_1/polarimetry_PDDN/600nm\n",
      "/media/elea/ssd/NPP_dev/HT/550/2022-07-07_T_AUTOPSY-AF_FR_S4_1/polarimetry_PDDN/650nm\n",
      "/media/elea/ssd/NPP_dev/HT/550/2022-07-07_T_AUTOPSY-AF_FR_S4_1/polarimetry_PDDN/700nm\n"
     ]
    },
    {
     "name": "stderr",
     "output_type": "stream",
     "text": [
      "  5%|██                                         | 7/147 [00:13<04:19,  1.85s/it]"
     ]
    },
    {
     "name": "stdout",
     "output_type": "stream",
     "text": [
      "Processing: /media/elea/ssd/NPP_dev/TU/550x600xIrregular/2023-09-21_T_HORAO-107-AF_FR_S5_1\n",
      "/media/elea/ssd/NPP_dev/TU/550x600xIrregular/2023-09-21_T_HORAO-107-AF_FR_S5_1/polarimetry/550nm\n",
      "/media/elea/ssd/NPP_dev/TU/550x600xIrregular/2023-09-21_T_HORAO-107-AF_FR_S5_1/polarimetry/650nm\n",
      "/media/elea/ssd/NPP_dev/TU/550x600xIrregular/2023-09-21_T_HORAO-107-AF_FR_S5_1/polarimetry/700nm\n",
      "/media/elea/ssd/NPP_dev/TU/550x600xIrregular/2023-09-21_T_HORAO-107-AF_FR_S5_1/polarimetry/500nm\n",
      "/media/elea/ssd/NPP_dev/TU/550x600xIrregular/2023-09-21_T_HORAO-107-AF_FR_S5_1/polarimetry/450nm\n",
      "/media/elea/ssd/NPP_dev/TU/550x600xIrregular/2023-09-21_T_HORAO-107-AF_FR_S5_1/polarimetry/600nm\n",
      "/media/elea/ssd/NPP_dev/TU/550x600xIrregular/2023-09-21_T_HORAO-107-AF_FR_S5_1/polarimetry/400nm\n",
      "/media/elea/ssd/NPP_dev/TU/550x600xIrregular/2023-09-21_T_HORAO-107-AF_FR_S5_1/polarimetry_PDDN/450nm\n",
      "/media/elea/ssd/NPP_dev/TU/550x600xIrregular/2023-09-21_T_HORAO-107-AF_FR_S5_1/polarimetry_PDDN/500nm\n",
      "/media/elea/ssd/NPP_dev/TU/550x600xIrregular/2023-09-21_T_HORAO-107-AF_FR_S5_1/polarimetry_PDDN/550nm\n",
      "/media/elea/ssd/NPP_dev/TU/550x600xIrregular/2023-09-21_T_HORAO-107-AF_FR_S5_1/polarimetry_PDDN/600nm\n",
      "/media/elea/ssd/NPP_dev/TU/550x600xIrregular/2023-09-21_T_HORAO-107-AF_FR_S5_1/polarimetry_PDDN/650nm\n",
      "/media/elea/ssd/NPP_dev/TU/550x600xIrregular/2023-09-21_T_HORAO-107-AF_FR_S5_1/polarimetry_PDDN/700nm\n"
     ]
    }
   ],
   "source": [
    "%%time\n",
    "times = processingmm.batch_process_master(parameters)\n",
    "times"
   ]
  },
  {
   "cell_type": "code",
   "execution_count": null,
   "id": "be765fbe-7b77-4a2b-919b-04a08510916c",
   "metadata": {},
   "outputs": [],
   "source": []
  },
  {
   "cell_type": "code",
   "execution_count": 129,
   "id": "61611c16-067f-47a0-8fbc-076472169d33",
   "metadata": {},
   "outputs": [
    {
     "name": "stdout",
     "output_type": "stream",
     "text": [
      "CPU times: user 280 μs, sys: 1.02 ms, total: 1.3 ms\n",
      "Wall time: 1.08 ms\n"
     ]
    },
    {
     "data": {
      "text/plain": [
       "0.0005217790603637695"
      ]
     },
     "execution_count": 129,
     "metadata": {},
     "output_type": "execute_result"
    }
   ],
   "source": [
    "%%time\n",
    "from processingmm.addons import visualization_lines\n",
    "\n",
    "# Approximate time to process the line visualization save_pdf_figs True : 3.85s\n",
    "# Approximate time to process the line visualization save_pdf_figs False : 4.92s\n",
    "run_all = False\n",
    "times = visualization_lines.batch_visualization(parameters, run_all)\n",
    "times"
   ]
  },
  {
   "cell_type": "code",
   "execution_count": null,
   "id": "d24101bc-bdbf-4494-8596-efe0b1ba04fb",
   "metadata": {},
   "outputs": [],
   "source": []
  },
  {
   "cell_type": "code",
   "execution_count": 131,
   "id": "7290a266",
   "metadata": {},
   "outputs": [
    {
     "name": "stdout",
     "output_type": "stream",
     "text": [
      "Aligning wavelength: 600 nm...\n"
     ]
    },
    {
     "name": "stderr",
     "output_type": "stream",
     "text": [
      "100%|██████████████████████████████████████████| 2/2 [00:00<00:00, 11554.56it/s]"
     ]
    },
    {
     "name": "stdout",
     "output_type": "stream",
     "text": [
      "Aligning wavelengths done.\n",
      "\n"
     ]
    },
    {
     "name": "stderr",
     "output_type": "stream",
     "text": [
      "\n"
     ]
    }
   ],
   "source": [
    "# align the measurements captured at different wavelengths - could cause issue when using masks obtained\n",
    "# at 550nm as the images are slightly shifted \n",
    "from processingmm.addons import align_wavelengths\n",
    "directories = ['/media/elea/ssd/NPP_dev/test']\n",
    "\n",
    "PDDN_mode = 'both'\n",
    "run_all = False\n",
    "align_wavelengths.align_wavelengths(directories, PDDN_mode, run_all, [600])"
   ]
  },
  {
   "cell_type": "code",
   "execution_count": null,
   "id": "15e52f61-7cbd-442b-812f-0371510e7f18",
   "metadata": {},
   "outputs": [],
   "source": []
  }
 ],
 "metadata": {
  "kernelspec": {
   "display_name": "Python 3 (ipykernel)",
   "language": "python",
   "name": "python3"
  },
  "language_info": {
   "codemirror_mode": {
    "name": "ipython",
    "version": 3
   },
   "file_extension": ".py",
   "mimetype": "text/x-python",
   "name": "python",
   "nbconvert_exporter": "python",
   "pygments_lexer": "ipython3",
   "version": "3.12.8"
  }
 },
 "nbformat": 4,
 "nbformat_minor": 5
}
