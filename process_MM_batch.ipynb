{
 "cells": [
  {
   "cell_type": "markdown",
   "id": "5833fa74",
   "metadata": {},
   "source": [
    "# Process the data obtained from polarimetry and reorganize the data into the correct folders"
   ]
  },
  {
   "cell_type": "code",
   "execution_count": 84,
   "id": "a9006a18",
   "metadata": {},
   "outputs": [
    {
     "name": "stdout",
     "output_type": "stream",
     "text": [
      "The autoreload extension is already loaded. To reload it, use:\n",
      "  %reload_ext autoreload\n"
     ]
    }
   ],
   "source": [
    "%load_ext autoreload\n",
    "%autoreload 2\n",
    "\n",
    "import os\n",
    "from processingmm import processingmm"
   ]
  },
  {
   "cell_type": "code",
   "execution_count": null,
   "id": "bf65a2ee-b8c4-4eaa-bef1-7c4c4800a0d0",
   "metadata": {},
   "outputs": [],
   "source": []
  },
  {
   "cell_type": "code",
   "execution_count": 91,
   "id": "35f24a20",
   "metadata": {},
   "outputs": [],
   "source": [
    "# set the parameters to run the script\n",
    "directories = ['/media/elea/ssd/NPP_dev/test']\n",
    "calib_directory = '/media/elea/ssd/NPP_dev/calib'\n",
    "    \n",
    "# set the parameters to be used for the line visualisation\n",
    "# NB: parameter file accessible in ./src/processingmm/data/parameters_visualisations.json\n",
    "parameter_set = 'default'\n",
    "\n",
    "# set run_all to true in order to run the pipeline on all the folders (even the ones already processed)\n",
    "run_all = False\n",
    "\n",
    "# PDDN_mode can be set to:\n",
    "# 1. 'no': processes without using the PDDN\n",
    "# 2. 'pddn': processes with PDDN when available (for 550nm and 650nm)\n",
    "# 3. 'both': processes both with PDDN when available and without PDDN\n",
    "PDDN_mode = 'no'\n",
    "\n",
    "# do not specify unless you want to use a custom path for the PDDN models\n",
    "PDDN_models_path = None\n",
    "\n",
    "# Set the wavelengths to be processed\n",
    "# 1. 'all': processes all the available wavelenght\n",
    "# 2. [xxx, yyy]: processes only the wavelenghts 'xxx' and 'yyy'\n",
    "wavelengths = [550]\n",
    "\n",
    "# Processing mode\n",
    "# 1. 'no_viz': processes only the MM - no visualization at all. useful for fast computation\n",
    "# 2. 'default': processes the MM and plots the polarimetric parameters maps (i.e. depolarization, azimuth, \n",
    "# retardance, diattenuation, azimuth local variability)\n",
    "# 3. 'full': do like default, and additionally plot the MM components, as well as the line\n",
    "# visualization\n",
    "\n",
    "# define if pdf figures should be saved (takes a lot of time) - no impact when processing_mode is set to no_viz\n",
    "\n",
    "# NB: processing time without PDDN (with the data on a SSD drive)\n",
    "# 'no_viz': 0.39s\n",
    "# 'default', save_pdf_figs False: 1.65s\n",
    "# 'default', save_pdf_figs True: 2.67s\n",
    "# 'full', save_pdf_figs False: 3.24s\n",
    "# 'full', save_pdf_figs True: 5.94s\n",
    "processing_mode = 'full'\n",
    "save_pdf_figs = False\n",
    "\n",
    "# define if the wavelenghts should be aligned before processing - and used for the computation\n",
    "align_wls = True\n",
    "\n",
    "parameters = processingmm.get_parameters(directories, calib_directory, wavelengths, parameter_set = parameter_set, \n",
    "                                PDDN_mode = PDDN_mode, PDDN_models_path = PDDN_models_path, \n",
    "                                processing_mode = processing_mode, run_all = run_all, \n",
    "                                save_pdf_figs = save_pdf_figs, align_wls = align_wls)"
   ]
  },
  {
   "cell_type": "code",
   "execution_count": null,
   "id": "3e2ea1d8-4794-49c2-9a16-9ae7874fe36c",
   "metadata": {},
   "outputs": [],
   "source": []
  },
  {
   "cell_type": "code",
   "execution_count": 92,
   "id": "017cdd19",
   "metadata": {},
   "outputs": [
    {
     "name": "stdout",
     "output_type": "stream",
     "text": [
      "processing without PDDN...\n"
     ]
    },
    {
     "name": "stderr",
     "output_type": "stream",
     "text": [
      "0it [00:00, ?it/s]"
     ]
    },
    {
     "name": "stdout",
     "output_type": "stream",
     "text": [
      "processing without PDDN done.\n",
      "CPU times: user 3.39 ms, sys: 23 μs, total: 3.41 ms\n",
      "Wall time: 3.09 ms\n"
     ]
    },
    {
     "name": "stderr",
     "output_type": "stream",
     "text": [
      "\n"
     ]
    },
    {
     "data": {
      "text/plain": [
       "{'total': 0}"
      ]
     },
     "execution_count": 92,
     "metadata": {},
     "output_type": "execute_result"
    }
   ],
   "source": [
    "%%time\n",
    "times = processingmm.batch_process_master(parameters)\n",
    "times"
   ]
  },
  {
   "cell_type": "code",
   "execution_count": null,
   "id": "4b0d02f6-7993-4b04-94c3-437932aa97b3",
   "metadata": {},
   "outputs": [],
   "source": []
  },
  {
   "cell_type": "code",
   "execution_count": 129,
   "id": "61611c16-067f-47a0-8fbc-076472169d33",
   "metadata": {},
   "outputs": [
    {
     "name": "stdout",
     "output_type": "stream",
     "text": [
      "CPU times: user 280 μs, sys: 1.02 ms, total: 1.3 ms\n",
      "Wall time: 1.08 ms\n"
     ]
    },
    {
     "data": {
      "text/plain": [
       "0.0005217790603637695"
      ]
     },
     "execution_count": 129,
     "metadata": {},
     "output_type": "execute_result"
    }
   ],
   "source": [
    "%%time\n",
    "from processingmm.addons import visualization_lines\n",
    "\n",
    "# Approximate time to process the line visualization save_pdf_figs True : 3.85s\n",
    "# Approximate time to process the line visualization save_pdf_figs False : 4.92s\n",
    "run_all = False\n",
    "times = visualization_lines.batch_visualization(parameters, run_all)\n",
    "times"
   ]
  },
  {
   "cell_type": "code",
   "execution_count": null,
   "id": "d24101bc-bdbf-4494-8596-efe0b1ba04fb",
   "metadata": {},
   "outputs": [],
   "source": []
  },
  {
   "cell_type": "code",
   "execution_count": 131,
   "id": "7290a266",
   "metadata": {},
   "outputs": [
    {
     "name": "stdout",
     "output_type": "stream",
     "text": [
      "Aligning wavelength: 600 nm...\n"
     ]
    },
    {
     "name": "stderr",
     "output_type": "stream",
     "text": [
      "100%|██████████████████████████████████████████| 2/2 [00:00<00:00, 11554.56it/s]"
     ]
    },
    {
     "name": "stdout",
     "output_type": "stream",
     "text": [
      "Aligning wavelengths done.\n",
      "\n"
     ]
    },
    {
     "name": "stderr",
     "output_type": "stream",
     "text": [
      "\n"
     ]
    }
   ],
   "source": [
    "# align the measurements captured at different wavelengths - could cause issue when using masks obtained\n",
    "# at 550nm as the images are slightly shifted \n",
    "from processingmm.addons import align_wavelengths\n",
    "directories = ['/media/elea/ssd/NPP_dev/test']\n",
    "\n",
    "PDDN_mode = 'both'\n",
    "run_all = False\n",
    "align_wavelengths.align_wavelengths(directories, PDDN_mode, run_all, [600])"
   ]
  },
  {
   "cell_type": "code",
   "execution_count": null,
   "id": "15e52f61-7cbd-442b-812f-0371510e7f18",
   "metadata": {},
   "outputs": [],
   "source": []
  }
 ],
 "metadata": {
  "kernelspec": {
   "display_name": "Python 3 (ipykernel)",
   "language": "python",
   "name": "python3"
  },
  "language_info": {
   "codemirror_mode": {
    "name": "ipython",
    "version": 3
   },
   "file_extension": ".py",
   "mimetype": "text/x-python",
   "name": "python",
   "nbconvert_exporter": "python",
   "pygments_lexer": "ipython3",
   "version": "3.12.8"
  }
 },
 "nbformat": 4,
 "nbformat_minor": 5
}
