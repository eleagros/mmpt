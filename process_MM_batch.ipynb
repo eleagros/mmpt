{
 "cells": [
  {
   "cell_type": "markdown",
   "id": "5833fa74",
   "metadata": {},
   "source": [
    "# Process the data obtained from polarimetry and reorganize the data into the correct folders"
   ]
  },
  {
   "cell_type": "code",
   "execution_count": 1,
   "id": "a9006a18",
   "metadata": {},
   "outputs": [
    {
     "name": "stdout",
     "output_type": "stream",
     "text": [
      " Could not import win32api and/or win32con\n"
     ]
    }
   ],
   "source": [
    "%load_ext autoreload\n",
    "%autoreload 2\n",
    "\n",
    "import os\n",
    "from processingmm import batch_processing"
   ]
  },
  {
   "cell_type": "code",
   "execution_count": null,
   "id": "2557a87f-5bec-4e0a-983b-9fd5cd7d04de",
   "metadata": {},
   "outputs": [],
   "source": []
  },
  {
   "cell_type": "code",
   "execution_count": 3,
   "id": "35f24a20",
   "metadata": {},
   "outputs": [],
   "source": [
    "# set the parameters to run the script\n",
    "directories = ['/media/elea/ssd/bernDB']\n",
    "calib_directory = '/media/elea/ssd/bernDB/calib'\n",
    "    \n",
    "# set the parameters to be used for the line visualisation\n",
    "# NB: parameter file accessible in ./src/processingmm/data/parameters_visualisations.json\n",
    "parameter_set = 'default'\n",
    "\n",
    "# set run_all to true in order to run the pipeline on all the folders (even the ones already processed)\n",
    "run_all = True\n",
    "\n",
    "# PDDN_mode can be set to:\n",
    "# 1. 'no': processes without using the PDDN\n",
    "# 2. 'pddn': processes with PDDN when available (for 550nm and 650nm)\n",
    "# 3. 'both': processes both with PDDN when available and without PDDN\n",
    "PDDN_mode = 'no'\n",
    "\n",
    "# Set the wavelengths to be processed\n",
    "# 1. 'all': processes all the available wavelenght\n",
    "# 2. [xxx, yyy]: processes only the wavelenghts 'xxx' and 'yyy'\n",
    "wavelengths = [550]\n",
    "\n",
    "# Processing mode\n",
    "# 1. 'no_viz': processes only the MM - no visualization at all. useful for fast computation\n",
    "# 2. 'default': processes the MM and plots the polarimetric parameters maps (i.e. depolarization, azimuth, \n",
    "# retardance, diattenuation, azimuth local variability)\n",
    "# 3. 'full': do like default, and additionally plot the MM components, as well as the line\n",
    "# visualization\n",
    "\n",
    "# define if pdf figures should be saved (takes a lot of time) - no impact when processing_mode is set to no_viz\n",
    "\n",
    "# NB: processing time without PDDN\n",
    "# 'no_viz': 0.71s\n",
    "# 'default', save_pdf_figs False: 2.25s\n",
    "# 'default', save_pdf_figs True: 3.60s\n",
    "# 'full', save_pdf_figs False: 3.95s\n",
    "# 'full', save_pdf_figs True: 8.07s\n",
    "processing_mode = 'no_viz'\n",
    "save_pdf_figs = True\n",
    "\n",
    "\n",
    "parameters = batch_processing.get_parameters(directories, calib_directory, wavelengths, parameter_set = parameter_set, \n",
    "                                PDDN_mode = PDDN_mode, processing_mode = processing_mode, run_all = run_all, \n",
    "                                save_pdf_figs = save_pdf_figs)"
   ]
  },
  {
   "cell_type": "code",
   "execution_count": null,
   "id": "3e2ea1d8-4794-49c2-9a16-9ae7874fe36c",
   "metadata": {},
   "outputs": [],
   "source": []
  },
  {
   "cell_type": "code",
   "execution_count": 4,
   "id": "017cdd19",
   "metadata": {},
   "outputs": [
    {
     "name": "stdout",
     "output_type": "stream",
     "text": [
      "processing without PDDN...\n"
     ]
    },
    {
     "name": "stderr",
     "output_type": "stream",
     "text": [
      "  0%|                                                   | 0/147 [00:00<?, ?it/s]"
     ]
    },
    {
     "name": "stdout",
     "output_type": "stream",
     "text": [
      "Processing: /media/elea/ssd/bernDB/TU/2023-06-08_T_HORAO-71-AF_FR_S3_1\n"
     ]
    },
    {
     "name": "stderr",
     "output_type": "stream",
     "text": [
      "  1%|▎                                          | 1/147 [00:00<02:11,  1.11it/s]"
     ]
    },
    {
     "name": "stdout",
     "output_type": "stream",
     "text": [
      "Processing: /media/elea/ssd/bernDB/OR/2023-10-19_T_HORAO-98-AF_FR_S1_1\n"
     ]
    },
    {
     "name": "stderr",
     "output_type": "stream",
     "text": [
      "  1%|▌                                          | 2/147 [00:01<01:50,  1.31it/s]"
     ]
    },
    {
     "name": "stdout",
     "output_type": "stream",
     "text": [
      "Processing: /media/elea/ssd/bernDB/TU/2023-05-04_T_HORAO-100-BF_FR_S1_1\n"
     ]
    },
    {
     "name": "stderr",
     "output_type": "stream",
     "text": [
      "  2%|▉                                          | 3/147 [00:02<01:48,  1.33it/s]"
     ]
    },
    {
     "name": "stdout",
     "output_type": "stream",
     "text": [
      "Processing: /media/elea/ssd/bernDB/TU/2023-03-31_T_HORAO-93-AF_FR_S2_1\n"
     ]
    },
    {
     "name": "stderr",
     "output_type": "stream",
     "text": [
      "/home/elea/Documents/HORAO/repositories/processingMM/src/processingmm/multi_img/multi_img_processing.py:277: UserWarning: No calibration was found for the exact date, the one used was 1 day(s) ago.\n",
      "  incorrect_date(min_duration_distance)\n",
      "  3%|█▏                                         | 4/147 [00:03<01:48,  1.32it/s]"
     ]
    },
    {
     "name": "stdout",
     "output_type": "stream",
     "text": [
      "Processing: /media/elea/ssd/bernDB/TU/2022-09-14_T_HORAO-38-AF_FR_S1_1\n"
     ]
    },
    {
     "name": "stderr",
     "output_type": "stream",
     "text": [
      "  3%|█▍                                         | 5/147 [00:03<01:41,  1.39it/s]"
     ]
    },
    {
     "name": "stdout",
     "output_type": "stream",
     "text": [
      "Processing: /media/elea/ssd/bernDB/TU/2023-05-12_T_HORAO-91-AF_FR_S2_1\n"
     ]
    },
    {
     "name": "stderr",
     "output_type": "stream",
     "text": [
      "  4%|█▊                                         | 6/147 [00:04<01:42,  1.38it/s]"
     ]
    },
    {
     "name": "stdout",
     "output_type": "stream",
     "text": [
      "Processing: /media/elea/ssd/bernDB/TU/2022-12-01_T_HORAO-45-AF_FR_S1_1\n"
     ]
    },
    {
     "name": "stderr",
     "output_type": "stream",
     "text": [
      "  5%|██                                         | 7/147 [00:05<01:50,  1.27it/s]"
     ]
    },
    {
     "name": "stdout",
     "output_type": "stream",
     "text": [
      "Processing: /media/elea/ssd/bernDB/TU/2023-10-23_T_HORAO-91-AF_FR_S1_1\n"
     ]
    },
    {
     "name": "stderr",
     "output_type": "stream",
     "text": [
      "  5%|██▎                                        | 8/147 [00:06<01:51,  1.25it/s]"
     ]
    },
    {
     "name": "stdout",
     "output_type": "stream",
     "text": [
      "Processing: /media/elea/ssd/bernDB/OR/2023-04-27_T_HORAO-98-BF_FR_S1_1\n"
     ]
    },
    {
     "name": "stderr",
     "output_type": "stream",
     "text": [
      "  6%|██▋                                        | 9/147 [00:07<01:52,  1.23it/s]"
     ]
    },
    {
     "name": "stdout",
     "output_type": "stream",
     "text": [
      "Processing: /media/elea/ssd/bernDB/HT/2024-09-18_T_AUTOPSY-BF_FR_S5_1\n"
     ]
    },
    {
     "name": "stderr",
     "output_type": "stream",
     "text": [
      "  7%|██▊                                       | 10/147 [00:07<01:41,  1.35it/s]"
     ]
    },
    {
     "name": "stdout",
     "output_type": "stream",
     "text": [
      "Processing: /media/elea/ssd/bernDB/TU/2023-06-08_T_HORAO-77-AF_FR_S2_1\n"
     ]
    },
    {
     "name": "stderr",
     "output_type": "stream",
     "text": [
      "  7%|███▏                                      | 11/147 [00:08<01:41,  1.34it/s]"
     ]
    },
    {
     "name": "stdout",
     "output_type": "stream",
     "text": [
      "Processing: /media/elea/ssd/bernDB/TU/2023-09-22_T_HORAO-99-AF_FR_S1_1\n"
     ]
    },
    {
     "name": "stderr",
     "output_type": "stream",
     "text": [
      "  8%|███▍                                      | 12/147 [00:09<01:44,  1.29it/s]"
     ]
    },
    {
     "name": "stdout",
     "output_type": "stream",
     "text": [
      "Processing: /media/elea/ssd/bernDB/TU/2023-04-27_T_HORAO-98-BF_FR_S3_1\n"
     ]
    },
    {
     "name": "stderr",
     "output_type": "stream",
     "text": [
      "  9%|███▋                                      | 13/147 [00:10<01:45,  1.27it/s]"
     ]
    },
    {
     "name": "stdout",
     "output_type": "stream",
     "text": [
      "Processing: /media/elea/ssd/bernDB/TU/2023-04-05_T_HORAO-94-BF_FR_S1_1\n"
     ]
    },
    {
     "name": "stderr",
     "output_type": "stream",
     "text": [
      " 10%|████                                      | 14/147 [00:10<01:46,  1.25it/s]"
     ]
    },
    {
     "name": "stdout",
     "output_type": "stream",
     "text": [
      "Processing: /media/elea/ssd/bernDB/HT/2022-07-06_T_AUTOPSY-BF_FR_S6_1\n"
     ]
    },
    {
     "name": "stderr",
     "output_type": "stream",
     "text": [
      " 10%|████▎                                     | 15/147 [00:11<01:41,  1.30it/s]"
     ]
    },
    {
     "name": "stdout",
     "output_type": "stream",
     "text": [
      "Processing: /media/elea/ssd/bernDB/TU/2023-03-22_T_HORAO-91-BF_FR_S2_1\n"
     ]
    },
    {
     "name": "stderr",
     "output_type": "stream",
     "text": [
      " 11%|████▌                                     | 16/147 [00:12<01:43,  1.27it/s]"
     ]
    },
    {
     "name": "stdout",
     "output_type": "stream",
     "text": [
      "Processing: /media/elea/ssd/bernDB/TU/2022-11-28_T_HORAO-63-AF_FR_S1_1\n"
     ]
    },
    {
     "name": "stderr",
     "output_type": "stream",
     "text": [
      " 12%|████▊                                     | 17/147 [00:13<01:36,  1.34it/s]"
     ]
    },
    {
     "name": "stdout",
     "output_type": "stream",
     "text": [
      "Processing: /media/elea/ssd/bernDB/TU/2022-11-08_T_HORAO-63-BF_FR_S2_1\n"
     ]
    },
    {
     "name": "stderr",
     "output_type": "stream",
     "text": [
      " 12%|█████▏                                    | 18/147 [00:14<01:45,  1.22it/s]"
     ]
    },
    {
     "name": "stdout",
     "output_type": "stream",
     "text": [
      "Processing: /media/elea/ssd/bernDB/TU/2022-10-11_T_HORAO-55-BF_FR_S1_1\n"
     ]
    },
    {
     "name": "stderr",
     "output_type": "stream",
     "text": [
      " 13%|█████▍                                    | 19/147 [00:15<02:02,  1.05it/s]"
     ]
    },
    {
     "name": "stdout",
     "output_type": "stream",
     "text": [
      "Processing: /media/elea/ssd/bernDB/OR/2023-03-23_T_HORAO-92-BF_FR_S4_1\n"
     ]
    },
    {
     "name": "stderr",
     "output_type": "stream",
     "text": [
      " 14%|█████▋                                    | 20/147 [00:16<01:57,  1.08it/s]"
     ]
    },
    {
     "name": "stdout",
     "output_type": "stream",
     "text": [
      "Processing: /media/elea/ssd/bernDB/TU/2023-06-08_T_HORAO-77-AF_FR_S3_1\n"
     ]
    },
    {
     "name": "stderr",
     "output_type": "stream",
     "text": [
      " 14%|██████                                    | 21/147 [00:17<02:00,  1.05it/s]"
     ]
    },
    {
     "name": "stdout",
     "output_type": "stream",
     "text": [
      "Processing: /media/elea/ssd/bernDB/TU/2023-01-04_T_HORAO-77-BF_FR_S1_1\n"
     ]
    },
    {
     "name": "stderr",
     "output_type": "stream",
     "text": [
      " 15%|██████▎                                   | 22/147 [00:18<01:56,  1.07it/s]"
     ]
    },
    {
     "name": "stdout",
     "output_type": "stream",
     "text": [
      "Processing: /media/elea/ssd/bernDB/OR/2022-12-01_T_HORAO-53-AF_FR_S1_1\n"
     ]
    },
    {
     "name": "stderr",
     "output_type": "stream",
     "text": [
      " 16%|██████▌                                   | 23/147 [00:18<01:50,  1.12it/s]"
     ]
    },
    {
     "name": "stdout",
     "output_type": "stream",
     "text": [
      "Processing: /media/elea/ssd/bernDB/TU/2022-09-01_T_HORAO-38-BF_FR_S1_1\n"
     ]
    },
    {
     "name": "stderr",
     "output_type": "stream",
     "text": [
      " 16%|██████▊                                   | 24/147 [00:19<01:48,  1.14it/s]"
     ]
    },
    {
     "name": "stdout",
     "output_type": "stream",
     "text": [
      "Processing: /media/elea/ssd/bernDB/TU/2022-11-22_T_HORAO-68-BF_FR_S1_1\n"
     ]
    },
    {
     "name": "stderr",
     "output_type": "stream",
     "text": [
      " 17%|███████▏                                  | 25/147 [00:21<02:04,  1.02s/it]"
     ]
    },
    {
     "name": "stdout",
     "output_type": "stream",
     "text": [
      "Processing: /media/elea/ssd/bernDB/TU/2023-01-05_T_HORAO-78-BF_FR_S4_1\n"
     ]
    },
    {
     "name": "stderr",
     "output_type": "stream",
     "text": [
      " 18%|███████▍                                  | 26/147 [00:22<02:00,  1.00it/s]"
     ]
    },
    {
     "name": "stdout",
     "output_type": "stream",
     "text": [
      "Processing: /media/elea/ssd/bernDB/TU/2023-09-21_T_HORAO-104-AF_FR_S4_1\n"
     ]
    },
    {
     "name": "stderr",
     "output_type": "stream",
     "text": [
      " 18%|███████▋                                  | 27/147 [00:23<02:01,  1.01s/it]"
     ]
    },
    {
     "name": "stdout",
     "output_type": "stream",
     "text": [
      "Processing: /media/elea/ssd/bernDB/OR/2023-08-02_T_HORAO-107-BF_FR_S6_1\n"
     ]
    },
    {
     "name": "stderr",
     "output_type": "stream",
     "text": [
      " 19%|████████                                  | 28/147 [00:24<02:07,  1.07s/it]"
     ]
    },
    {
     "name": "stdout",
     "output_type": "stream",
     "text": [
      "Processing: /media/elea/ssd/bernDB/HT/2022-07-07_T_AUTOPSY-AF_FR_S2_1\n"
     ]
    },
    {
     "name": "stderr",
     "output_type": "stream",
     "text": [
      " 20%|████████▎                                 | 29/147 [00:25<02:06,  1.07s/it]"
     ]
    },
    {
     "name": "stdout",
     "output_type": "stream",
     "text": [
      "Processing: /media/elea/ssd/bernDB/OR/2023-02-08_T_HORAO-84-BF_FR_S2_1\n"
     ]
    },
    {
     "name": "stderr",
     "output_type": "stream",
     "text": [
      " 20%|████████▌                                 | 30/147 [00:26<02:13,  1.14s/it]"
     ]
    },
    {
     "name": "stdout",
     "output_type": "stream",
     "text": [
      "Processing: /media/elea/ssd/bernDB/TU/2022-09-21_T_HORAO-45-BF_FR_S3_1\n"
     ]
    },
    {
     "name": "stderr",
     "output_type": "stream",
     "text": [
      " 21%|████████▊                                 | 31/147 [00:27<02:13,  1.15s/it]"
     ]
    },
    {
     "name": "stdout",
     "output_type": "stream",
     "text": [
      "Processing: /media/elea/ssd/bernDB/TU/2023-11-01_T_HORAO-88-AF_FR_S1_1\n"
     ]
    },
    {
     "name": "stderr",
     "output_type": "stream",
     "text": [
      " 22%|█████████▏                                | 32/147 [00:28<02:10,  1.14s/it]"
     ]
    },
    {
     "name": "stdout",
     "output_type": "stream",
     "text": [
      "Processing: /media/elea/ssd/bernDB/TU/2022-06-29_T_HORAO-21-BF_FR_S2_1\n"
     ]
    },
    {
     "name": "stderr",
     "output_type": "stream",
     "text": [
      " 22%|█████████▍                                | 33/147 [00:31<02:42,  1.43s/it]"
     ]
    },
    {
     "name": "stdout",
     "output_type": "stream",
     "text": [
      "Processing: /media/elea/ssd/bernDB/TU/2022-11-08_T_HORAO-64-BF_FR_S1_1\n"
     ]
    },
    {
     "name": "stderr",
     "output_type": "stream",
     "text": [
      " 23%|█████████▋                                | 34/147 [00:33<03:07,  1.66s/it]"
     ]
    },
    {
     "name": "stdout",
     "output_type": "stream",
     "text": [
      "Processing: /media/elea/ssd/bernDB/TU/2022-09-01_T_HORAO-37-BF_FR_S2_1\n"
     ]
    },
    {
     "name": "stderr",
     "output_type": "stream",
     "text": [
      " 24%|██████████                                | 35/147 [00:35<03:28,  1.86s/it]"
     ]
    },
    {
     "name": "stdout",
     "output_type": "stream",
     "text": [
      "Processing: /media/elea/ssd/bernDB/OR/2023-08-02_T_HORAO-107-BF_FR_S5_1\n"
     ]
    },
    {
     "name": "stderr",
     "output_type": "stream",
     "text": [
      "/home/elea/Documents/HORAO/repositories/processingMM/src/processingmm/multi_img/multi_img_processing.py:277: UserWarning: No calibration was found for the exact date, the one used was 15 day(s) ago.\n",
      "  incorrect_date(min_duration_distance)\n"
     ]
    },
    {
     "name": "stdout",
     "output_type": "stream",
     "text": [
      "Processing: /media/elea/ssd/bernDB/HT/2024-10-03_T_AUTOPSY-AF_FR_S4_1\n"
     ]
    },
    {
     "name": "stderr",
     "output_type": "stream",
     "text": [
      " 25%|██████████▌                               | 37/147 [00:40<03:46,  2.06s/it]"
     ]
    },
    {
     "name": "stdout",
     "output_type": "stream",
     "text": [
      "Processing: /media/elea/ssd/bernDB/TU/2023-03-30_T_HORAO-93-BF_FR_S1_1\n"
     ]
    },
    {
     "name": "stderr",
     "output_type": "stream",
     "text": [
      " 26%|██████████▊                               | 38/147 [00:42<03:47,  2.09s/it]"
     ]
    },
    {
     "name": "stdout",
     "output_type": "stream",
     "text": [
      "Processing: /media/elea/ssd/bernDB/TU/2022-09-20_T_HORAO-44-BF_FR_S1_1\n"
     ]
    },
    {
     "name": "stderr",
     "output_type": "stream",
     "text": [
      " 27%|███████████▏                              | 39/147 [00:44<03:47,  2.11s/it]"
     ]
    },
    {
     "name": "stdout",
     "output_type": "stream",
     "text": [
      "Processing: /media/elea/ssd/bernDB/OR/2023-11-01_T_HORAO-107-AF_FR_S6_1\n"
     ]
    },
    {
     "name": "stderr",
     "output_type": "stream",
     "text": [
      " 27%|███████████▍                              | 40/147 [00:46<03:51,  2.16s/it]"
     ]
    },
    {
     "name": "stdout",
     "output_type": "stream",
     "text": [
      "Processing: /media/elea/ssd/bernDB/TU/2023-01-04_T_HORAO-77-BF_FR_S3_1\n"
     ]
    },
    {
     "name": "stderr",
     "output_type": "stream",
     "text": [
      " 28%|███████████▋                              | 41/147 [00:48<03:55,  2.22s/it]"
     ]
    },
    {
     "name": "stdout",
     "output_type": "stream",
     "text": [
      "Processing: /media/elea/ssd/bernDB/TU/2023-05-26_T_HORAO-103-BF_FR_S1_1\n"
     ]
    },
    {
     "name": "stderr",
     "output_type": "stream",
     "text": [
      "/home/elea/Documents/HORAO/repositories/processingMM/src/processingmm/multi_img/multi_img_processing.py:277: UserWarning: No calibration was found for the exact date, the one used was 2 day(s) ago.\n",
      "  incorrect_date(min_duration_distance)\n",
      " 29%|████████████                              | 42/147 [00:51<03:56,  2.26s/it]"
     ]
    },
    {
     "name": "stdout",
     "output_type": "stream",
     "text": [
      "Processing: /media/elea/ssd/bernDB/TU/2023-08-02_T_HORAO-107-BF_FR_S3_1\n"
     ]
    },
    {
     "name": "stderr",
     "output_type": "stream",
     "text": [
      " 29%|████████████▎                             | 43/147 [00:53<04:07,  2.38s/it]"
     ]
    },
    {
     "name": "stdout",
     "output_type": "stream",
     "text": [
      "Processing: /media/elea/ssd/bernDB/TU/2022-11-29_T_HORAO-68-AF_FR_S2_1\n"
     ]
    },
    {
     "name": "stderr",
     "output_type": "stream",
     "text": [
      " 30%|████████████▌                             | 44/147 [00:56<04:04,  2.37s/it]"
     ]
    },
    {
     "name": "stdout",
     "output_type": "stream",
     "text": [
      "Processing: /media/elea/ssd/bernDB/TU/2022-11-28_T_HORAO-67-AF_FR_S1_1\n"
     ]
    },
    {
     "name": "stderr",
     "output_type": "stream",
     "text": [
      " 31%|████████████▊                             | 45/147 [00:59<04:18,  2.54s/it]"
     ]
    },
    {
     "name": "stdout",
     "output_type": "stream",
     "text": [
      "Processing: /media/elea/ssd/bernDB/OR/2023-03-31_T_HORAO-93-AF_FR_S3_1\n"
     ]
    },
    {
     "name": "stderr",
     "output_type": "stream",
     "text": [
      " 31%|█████████████▏                            | 46/147 [01:02<04:27,  2.65s/it]"
     ]
    },
    {
     "name": "stdout",
     "output_type": "stream",
     "text": [
      "Processing: /media/elea/ssd/bernDB/TU/2023-02-08_T_HORAO-84-BF_FR_S4_1\n"
     ]
    },
    {
     "name": "stderr",
     "output_type": "stream",
     "text": [
      " 32%|█████████████▍                            | 47/147 [01:04<04:18,  2.58s/it]"
     ]
    },
    {
     "name": "stdout",
     "output_type": "stream",
     "text": [
      "Processing: /media/elea/ssd/bernDB/OR/2023-02-14_T_HORAO-85-BF_FR_S1_1\n"
     ]
    },
    {
     "name": "stderr",
     "output_type": "stream",
     "text": [
      " 33%|█████████████▋                            | 48/147 [01:07<04:14,  2.57s/it]"
     ]
    },
    {
     "name": "stdout",
     "output_type": "stream",
     "text": [
      "Processing: /media/elea/ssd/bernDB/TU/2022-12-07_T_HORAO-71-BF_FR_S3_1\n"
     ]
    },
    {
     "name": "stderr",
     "output_type": "stream",
     "text": [
      " 33%|██████████████                            | 49/147 [01:09<04:19,  2.65s/it]"
     ]
    },
    {
     "name": "stdout",
     "output_type": "stream",
     "text": [
      "Processing: /media/elea/ssd/bernDB/TU/2022-11-28_T_HORAO-63-AF_FR_S2_1\n"
     ]
    },
    {
     "name": "stderr",
     "output_type": "stream",
     "text": [
      " 34%|██████████████▎                           | 50/147 [01:12<04:04,  2.52s/it]"
     ]
    },
    {
     "name": "stdout",
     "output_type": "stream",
     "text": [
      "Processing: /media/elea/ssd/bernDB/TU/2022-11-08_T_HORAO-63-BF_FR_S1_1\n"
     ]
    },
    {
     "name": "stderr",
     "output_type": "stream",
     "text": [
      " 35%|██████████████▌                           | 51/147 [01:14<03:51,  2.41s/it]"
     ]
    },
    {
     "name": "stdout",
     "output_type": "stream",
     "text": [
      "Processing: /media/elea/ssd/bernDB/TU/2023-06-08_T_HORAO-78-AF_FR_S7_1\n"
     ]
    },
    {
     "name": "stderr",
     "output_type": "stream",
     "text": [
      " 35%|██████████████▊                           | 52/147 [01:16<03:47,  2.39s/it]"
     ]
    },
    {
     "name": "stdout",
     "output_type": "stream",
     "text": [
      "Processing: /media/elea/ssd/bernDB/TU/2023-03-22_T_HORAO-91-BF_FR_S1_1\n"
     ]
    },
    {
     "name": "stderr",
     "output_type": "stream",
     "text": [
      " 36%|███████████████▏                          | 53/147 [01:19<03:43,  2.38s/it]"
     ]
    },
    {
     "name": "stdout",
     "output_type": "stream",
     "text": [
      "Processing: /media/elea/ssd/bernDB/HT/2022-07-06_T_AUTOPSY-BF_FR_S7_1\n"
     ]
    },
    {
     "name": "stderr",
     "output_type": "stream",
     "text": [
      " 37%|███████████████▍                          | 54/147 [01:21<03:33,  2.30s/it]"
     ]
    },
    {
     "name": "stdout",
     "output_type": "stream",
     "text": [
      "Processing: /media/elea/ssd/bernDB/TU/2022-11-28_T_HORAO-63-AF_FR_S3_1\n"
     ]
    },
    {
     "name": "stderr",
     "output_type": "stream",
     "text": [
      " 37%|███████████████▋                          | 55/147 [01:23<03:36,  2.36s/it]"
     ]
    },
    {
     "name": "stdout",
     "output_type": "stream",
     "text": [
      "Processing: /media/elea/ssd/bernDB/TU/2023-06-13_T_HORAO-104-BF_FR_S6_1\n"
     ]
    },
    {
     "name": "stderr",
     "output_type": "stream",
     "text": [
      " 38%|████████████████                          | 56/147 [01:26<03:42,  2.44s/it]"
     ]
    },
    {
     "name": "stdout",
     "output_type": "stream",
     "text": [
      "Processing: /media/elea/ssd/bernDB/TU/2022-08-16_T_HORAO-29-BF_FR_S1_1\n"
     ]
    },
    {
     "name": "stderr",
     "output_type": "stream",
     "text": [
      " 39%|████████████████▎                         | 57/147 [01:28<03:30,  2.33s/it]"
     ]
    },
    {
     "name": "stdout",
     "output_type": "stream",
     "text": [
      "Processing: /media/elea/ssd/bernDB/TU/2023-10-23_T_HORAO-78-AF_FR_S4_1\n"
     ]
    },
    {
     "name": "stderr",
     "output_type": "stream",
     "text": [
      " 39%|████████████████▌                         | 58/147 [01:31<03:39,  2.47s/it]"
     ]
    },
    {
     "name": "stdout",
     "output_type": "stream",
     "text": [
      "Processing: /media/elea/ssd/bernDB/TU/2023-09-22_T_HORAO-104-AF_FR_S3_1\n"
     ]
    },
    {
     "name": "stderr",
     "output_type": "stream",
     "text": [
      " 40%|████████████████▊                         | 59/147 [01:33<03:30,  2.39s/it]"
     ]
    },
    {
     "name": "stdout",
     "output_type": "stream",
     "text": [
      "Processing: /media/elea/ssd/bernDB/TU/2023-10-19_T_HORAO-98-AF_FR_S2_1\n"
     ]
    },
    {
     "name": "stderr",
     "output_type": "stream",
     "text": [
      " 41%|█████████████████▏                        | 60/147 [01:35<03:33,  2.45s/it]"
     ]
    },
    {
     "name": "stdout",
     "output_type": "stream",
     "text": [
      "Processing: /media/elea/ssd/bernDB/TU/2023-09-21_T_HORAO-105-AF_FR_S1_1\n"
     ]
    },
    {
     "name": "stderr",
     "output_type": "stream",
     "text": [
      " 41%|█████████████████▍                        | 61/147 [01:38<03:30,  2.45s/it]"
     ]
    },
    {
     "name": "stdout",
     "output_type": "stream",
     "text": [
      "Processing: /media/elea/ssd/bernDB/TU/2023-06-20_T_HORAO-105-BF_FR_S1_1\n"
     ]
    },
    {
     "name": "stderr",
     "output_type": "stream",
     "text": [
      " 42%|█████████████████▋                        | 62/147 [01:41<03:33,  2.51s/it]"
     ]
    },
    {
     "name": "stdout",
     "output_type": "stream",
     "text": [
      "Processing: /media/elea/ssd/bernDB/OR/2022-11-02_T_HORAO-59-AF_FR_S1_1\n"
     ]
    },
    {
     "name": "stderr",
     "output_type": "stream",
     "text": [
      " 43%|██████████████████                        | 63/147 [01:43<03:35,  2.56s/it]"
     ]
    },
    {
     "name": "stdout",
     "output_type": "stream",
     "text": [
      "Processing: /media/elea/ssd/bernDB/HT/2022-07-06_T_AUTOPSY-BF_FR_S4_1\n"
     ]
    },
    {
     "name": "stderr",
     "output_type": "stream",
     "text": [
      " 44%|██████████████████▎                       | 64/147 [01:46<03:29,  2.52s/it]"
     ]
    },
    {
     "name": "stdout",
     "output_type": "stream",
     "text": [
      "Processing: /media/elea/ssd/bernDB/TU/2022-09-27_T_HORAO-44-AF_FR_S1_1\n"
     ]
    },
    {
     "name": "stderr",
     "output_type": "stream",
     "text": [
      " 44%|██████████████████▌                       | 65/147 [01:48<03:25,  2.50s/it]"
     ]
    },
    {
     "name": "stdout",
     "output_type": "stream",
     "text": [
      "Processing: /media/elea/ssd/bernDB/TU/2022-10-14_T_HORAO-45-AF_FR_S2_1\n"
     ]
    },
    {
     "name": "stderr",
     "output_type": "stream",
     "text": [
      " 45%|██████████████████▊                       | 66/147 [01:50<03:15,  2.41s/it]"
     ]
    },
    {
     "name": "stdout",
     "output_type": "stream",
     "text": [
      "Processing: /media/elea/ssd/bernDB/TU/2022-09-21_T_HORAO-45-BF_FR_S2_1\n"
     ]
    },
    {
     "name": "stderr",
     "output_type": "stream",
     "text": [
      " 46%|███████████████████▏                      | 67/147 [01:53<03:09,  2.36s/it]"
     ]
    },
    {
     "name": "stdout",
     "output_type": "stream",
     "text": [
      "Processing: /media/elea/ssd/bernDB/TU/2023-02-23_T_HORAO-84-AF_FR_S4_1\n"
     ]
    },
    {
     "name": "stderr",
     "output_type": "stream",
     "text": [
      " 46%|███████████████████▍                      | 68/147 [01:55<03:08,  2.39s/it]"
     ]
    },
    {
     "name": "stdout",
     "output_type": "stream",
     "text": [
      "Processing: /media/elea/ssd/bernDB/TU/2022-09-14_T_HORAO-39-AF_FR_S2_1\n"
     ]
    },
    {
     "name": "stderr",
     "output_type": "stream",
     "text": [
      " 47%|███████████████████▋                      | 69/147 [01:57<03:06,  2.40s/it]"
     ]
    },
    {
     "name": "stdout",
     "output_type": "stream",
     "text": [
      "Processing: /media/elea/ssd/bernDB/HT/2022-07-06_T_AUTOPSY-BF_FR_S5_1\n"
     ]
    },
    {
     "name": "stderr",
     "output_type": "stream",
     "text": [
      " 48%|████████████████████                      | 70/147 [01:59<02:56,  2.30s/it]"
     ]
    },
    {
     "name": "stdout",
     "output_type": "stream",
     "text": [
      "Processing: /media/elea/ssd/bernDB/HT/2024-10-03_T_AUTOPSY-AF_FR_S1_1\n"
     ]
    },
    {
     "name": "stderr",
     "output_type": "stream",
     "text": [
      " 48%|████████████████████▎                     | 71/147 [02:02<02:58,  2.34s/it]"
     ]
    },
    {
     "name": "stdout",
     "output_type": "stream",
     "text": [
      "Processing: /media/elea/ssd/bernDB/OR/2023-11-01_T_HORAO-92-AF_FR_S4_1\n"
     ]
    },
    {
     "name": "stderr",
     "output_type": "stream",
     "text": [
      " 49%|████████████████████▌                     | 72/147 [02:05<03:16,  2.62s/it]"
     ]
    },
    {
     "name": "stdout",
     "output_type": "stream",
     "text": [
      "Processing: /media/elea/ssd/bernDB/TU/2023-10-19_T_HORAO-98-AF_FR_S3_1\n"
     ]
    },
    {
     "name": "stderr",
     "output_type": "stream",
     "text": [
      " 50%|████████████████████▊                     | 73/147 [02:08<03:12,  2.60s/it]"
     ]
    },
    {
     "name": "stdout",
     "output_type": "stream",
     "text": [
      "Processing: /media/elea/ssd/bernDB/TU/2023-03-30_T_HORAO-93-BF_FR_S2_1\n"
     ]
    },
    {
     "name": "stderr",
     "output_type": "stream",
     "text": [
      " 50%|█████████████████████▏                    | 74/147 [02:10<03:06,  2.55s/it]"
     ]
    },
    {
     "name": "stdout",
     "output_type": "stream",
     "text": [
      "Processing: /media/elea/ssd/bernDB/OR/2023-03-30_T_HORAO-93-BF_FR_S3_1\n"
     ]
    },
    {
     "name": "stderr",
     "output_type": "stream",
     "text": [
      " 51%|█████████████████████▍                    | 75/147 [02:13<03:10,  2.64s/it]"
     ]
    },
    {
     "name": "stdout",
     "output_type": "stream",
     "text": [
      "Processing: /media/elea/ssd/bernDB/HT/2024-09-18_T_AUTOPSY-BF_FR_S7_1\n"
     ]
    },
    {
     "name": "stderr",
     "output_type": "stream",
     "text": [
      " 52%|█████████████████████▋                    | 76/147 [02:16<03:18,  2.80s/it]"
     ]
    },
    {
     "name": "stdout",
     "output_type": "stream",
     "text": [
      "Processing: /media/elea/ssd/bernDB/TU/2023-02-08_T_HORAO-84-BF_FR_S3_1\n"
     ]
    },
    {
     "name": "stderr",
     "output_type": "stream",
     "text": [
      " 52%|██████████████████████                    | 77/147 [02:19<03:15,  2.79s/it]"
     ]
    },
    {
     "name": "stdout",
     "output_type": "stream",
     "text": [
      "Processing: /media/elea/ssd/bernDB/HT/2022-07-07_T_AUTOPSY-AF_FR_S3_1\n"
     ]
    },
    {
     "name": "stderr",
     "output_type": "stream",
     "text": [
      " 53%|██████████████████████▎                   | 78/147 [02:21<03:00,  2.62s/it]"
     ]
    },
    {
     "name": "stdout",
     "output_type": "stream",
     "text": [
      "Processing: /media/elea/ssd/bernDB/HT/2022-07-06_T_AUTOPSY-BF_FR_S2_1\n"
     ]
    },
    {
     "name": "stderr",
     "output_type": "stream",
     "text": [
      " 54%|██████████████████████▌                   | 79/147 [02:24<02:55,  2.58s/it]"
     ]
    },
    {
     "name": "stdout",
     "output_type": "stream",
     "text": [
      "Processing: /media/elea/ssd/bernDB/TU/2023-01-04_T_HORAO-77-BF_FR_S2_1\n"
     ]
    },
    {
     "name": "stderr",
     "output_type": "stream",
     "text": [
      " 54%|██████████████████████▊                   | 80/147 [02:26<02:54,  2.60s/it]"
     ]
    },
    {
     "name": "stdout",
     "output_type": "stream",
     "text": [
      "Processing: /media/elea/ssd/bernDB/TU/2023-10-23_T_HORAO-103-AF_FR_S1_1\n"
     ]
    },
    {
     "name": "stderr",
     "output_type": "stream",
     "text": [
      " 55%|███████████████████████▏                  | 81/147 [02:29<02:51,  2.60s/it]"
     ]
    },
    {
     "name": "stdout",
     "output_type": "stream",
     "text": [
      "Processing: /media/elea/ssd/bernDB/OR/2023-03-14_T_HORAO-90-BF_FR_S2_1\n"
     ]
    },
    {
     "name": "stderr",
     "output_type": "stream",
     "text": [
      " 56%|███████████████████████▍                  | 82/147 [02:31<02:43,  2.52s/it]"
     ]
    },
    {
     "name": "stdout",
     "output_type": "stream",
     "text": [
      "Processing: /media/elea/ssd/bernDB/HT/2024-10-03_T_AUTOPSY-AF_FR_S2_1\n"
     ]
    },
    {
     "name": "stderr",
     "output_type": "stream",
     "text": [
      " 56%|███████████████████████▋                  | 83/147 [02:34<02:42,  2.53s/it]"
     ]
    },
    {
     "name": "stdout",
     "output_type": "stream",
     "text": [
      "Processing: /media/elea/ssd/bernDB/TU/2023-06-07_T_HORAO-94-AF_FR_S2_1\n"
     ]
    },
    {
     "name": "stderr",
     "output_type": "stream",
     "text": [
      " 57%|████████████████████████                  | 84/147 [02:37<02:46,  2.64s/it]"
     ]
    },
    {
     "name": "stdout",
     "output_type": "stream",
     "text": [
      "Processing: /media/elea/ssd/bernDB/TU/2023-02-08_T_HORAO-84-BF_FR_S1_1\n"
     ]
    },
    {
     "name": "stderr",
     "output_type": "stream",
     "text": [
      " 58%|████████████████████████▎                 | 85/147 [02:40<02:49,  2.73s/it]"
     ]
    },
    {
     "name": "stdout",
     "output_type": "stream",
     "text": [
      "Processing: /media/elea/ssd/bernDB/TU/2023-01-05_T_HORAO-78-BF_FR_S6_1\n"
     ]
    },
    {
     "name": "stderr",
     "output_type": "stream",
     "text": [
      " 59%|████████████████████████▌                 | 86/147 [02:43<02:52,  2.84s/it]"
     ]
    },
    {
     "name": "stdout",
     "output_type": "stream",
     "text": [
      "Processing: /media/elea/ssd/bernDB/TU/2023-04-18_T_HORAO-95-BF_FR_S1_1\n"
     ]
    },
    {
     "name": "stderr",
     "output_type": "stream",
     "text": [
      " 59%|████████████████████████▊                 | 87/147 [02:45<02:44,  2.74s/it]"
     ]
    },
    {
     "name": "stdout",
     "output_type": "stream",
     "text": [
      "Processing: /media/elea/ssd/bernDB/TU/2022-11-02_T_HORAO-59-AF_FR_S3_1\n"
     ]
    },
    {
     "name": "stderr",
     "output_type": "stream",
     "text": [
      " 60%|█████████████████████████▏                | 88/147 [02:48<02:45,  2.81s/it]"
     ]
    },
    {
     "name": "stdout",
     "output_type": "stream",
     "text": [
      "Processing: /media/elea/ssd/bernDB/OR/2023-06-08_T_HORAO-71-AF_FR_S2_1\n"
     ]
    },
    {
     "name": "stderr",
     "output_type": "stream",
     "text": [
      " 61%|█████████████████████████▍                | 89/147 [02:50<02:30,  2.59s/it]"
     ]
    },
    {
     "name": "stdout",
     "output_type": "stream",
     "text": [
      "Processing: /media/elea/ssd/bernDB/TU/2023-09-21_T_HORAO-104-AF_FR_S5_1\n"
     ]
    },
    {
     "name": "stderr",
     "output_type": "stream",
     "text": [
      " 61%|█████████████████████████▋                | 90/147 [02:53<02:21,  2.49s/it]"
     ]
    },
    {
     "name": "stdout",
     "output_type": "stream",
     "text": [
      "Processing: /media/elea/ssd/bernDB/TU/2022-06-29_T_HORAO-21-AF_FR_S2_1\n"
     ]
    },
    {
     "name": "stderr",
     "output_type": "stream",
     "text": [
      " 62%|██████████████████████████                | 91/147 [02:55<02:13,  2.38s/it]"
     ]
    },
    {
     "name": "stdout",
     "output_type": "stream",
     "text": [
      "Processing: /media/elea/ssd/bernDB/TU/2022-12-01_T_HORAO-45-AF_FR_S4_1\n"
     ]
    },
    {
     "name": "stderr",
     "output_type": "stream",
     "text": [
      " 63%|██████████████████████████▎               | 92/147 [02:57<02:07,  2.32s/it]"
     ]
    },
    {
     "name": "stdout",
     "output_type": "stream",
     "text": [
      "Processing: /media/elea/ssd/bernDB/OR/2022-12-06_T_HORAO-64-AF_FR_S1_1\n"
     ]
    },
    {
     "name": "stderr",
     "output_type": "stream",
     "text": [
      " 63%|██████████████████████████▌               | 93/147 [03:00<02:15,  2.51s/it]"
     ]
    },
    {
     "name": "stdout",
     "output_type": "stream",
     "text": [
      "Processing: /media/elea/ssd/bernDB/TU/2022-09-01_T_HORAO-37-BF_FR_S1_1\n"
     ]
    },
    {
     "name": "stderr",
     "output_type": "stream",
     "text": [
      " 64%|██████████████████████████▊               | 94/147 [03:02<02:07,  2.41s/it]"
     ]
    },
    {
     "name": "stdout",
     "output_type": "stream",
     "text": [
      "Processing: /media/elea/ssd/bernDB/TU/2022-10-14_T_HORAO-45-AF_FR_S3_1\n"
     ]
    },
    {
     "name": "stderr",
     "output_type": "stream",
     "text": [
      " 65%|███████████████████████████▏              | 95/147 [03:04<02:05,  2.41s/it]"
     ]
    },
    {
     "name": "stdout",
     "output_type": "stream",
     "text": [
      "Processing: /media/elea/ssd/bernDB/TU/2023-04-27_T_HORAO-98-BF_FR_S2_1\n"
     ]
    },
    {
     "name": "stderr",
     "output_type": "stream",
     "text": [
      " 65%|███████████████████████████▍              | 96/147 [03:07<02:01,  2.38s/it]"
     ]
    },
    {
     "name": "stdout",
     "output_type": "stream",
     "text": [
      "Processing: /media/elea/ssd/bernDB/OR/2023-04-18_T_HORAO-95-BF_FR_S2_1\n"
     ]
    },
    {
     "name": "stderr",
     "output_type": "stream",
     "text": [
      " 66%|███████████████████████████▋              | 97/147 [03:09<02:00,  2.42s/it]"
     ]
    },
    {
     "name": "stdout",
     "output_type": "stream",
     "text": [
      "Processing: /media/elea/ssd/bernDB/TU/2023-10-23_T_HORAO-101-AF_FR_S2_1\n"
     ]
    },
    {
     "name": "stderr",
     "output_type": "stream",
     "text": [
      " 67%|████████████████████████████              | 98/147 [03:12<01:58,  2.41s/it]"
     ]
    },
    {
     "name": "stdout",
     "output_type": "stream",
     "text": [
      "Processing: /media/elea/ssd/bernDB/TU/2023-02-22_T_HORAO-78-AF_FR_S2_1\n"
     ]
    },
    {
     "name": "stderr",
     "output_type": "stream",
     "text": [
      " 67%|████████████████████████████▎             | 99/147 [03:14<01:53,  2.36s/it]"
     ]
    },
    {
     "name": "stdout",
     "output_type": "stream",
     "text": [
      "Processing: /media/elea/ssd/bernDB/OR/2022-12-01_T_HORAO-55-AF_FR_S1_1\n"
     ]
    },
    {
     "name": "stderr",
     "output_type": "stream",
     "text": [
      " 68%|███████████████████████████▉             | 100/147 [03:16<01:52,  2.40s/it]"
     ]
    },
    {
     "name": "stdout",
     "output_type": "stream",
     "text": [
      "Processing: /media/elea/ssd/bernDB/TU/2023-01-05_T_HORAO-78-BF_FR_S3_1\n"
     ]
    },
    {
     "name": "stderr",
     "output_type": "stream",
     "text": [
      " 69%|████████████████████████████▏            | 101/147 [03:20<02:01,  2.65s/it]"
     ]
    },
    {
     "name": "stdout",
     "output_type": "stream",
     "text": [
      "Processing: /media/elea/ssd/bernDB/TU/2023-06-13_T_HORAO-104-BF_FR_S5_1\n"
     ]
    },
    {
     "name": "stderr",
     "output_type": "stream",
     "text": [
      " 69%|████████████████████████████▍            | 102/147 [03:23<02:09,  2.89s/it]"
     ]
    },
    {
     "name": "stdout",
     "output_type": "stream",
     "text": [
      "Processing: /media/elea/ssd/bernDB/OR/2022-09-27_T_HORAO-47-BF_FR_S1_1\n"
     ]
    },
    {
     "name": "stderr",
     "output_type": "stream",
     "text": [
      " 70%|████████████████████████████▋            | 103/147 [03:26<02:05,  2.85s/it]"
     ]
    },
    {
     "name": "stdout",
     "output_type": "stream",
     "text": [
      "Processing: /media/elea/ssd/bernDB/TU/2023-01-05_T_HORAO-78-BF_FR_S2_1\n"
     ]
    },
    {
     "name": "stderr",
     "output_type": "stream",
     "text": [
      " 71%|█████████████████████████████            | 104/147 [03:29<02:06,  2.93s/it]"
     ]
    },
    {
     "name": "stdout",
     "output_type": "stream",
     "text": [
      "Processing: /media/elea/ssd/bernDB/TU/2022-09-01_T_HORAO-39-BF_FR_S2_1\n"
     ]
    },
    {
     "name": "stderr",
     "output_type": "stream",
     "text": [
      " 71%|█████████████████████████████▎           | 105/147 [03:31<01:58,  2.83s/it]"
     ]
    },
    {
     "name": "stdout",
     "output_type": "stream",
     "text": [
      "Processing: /media/elea/ssd/bernDB/TU/2023-09-21_T_HORAO-104-AF_FR_S6_1\n"
     ]
    },
    {
     "name": "stderr",
     "output_type": "stream",
     "text": [
      " 72%|█████████████████████████████▌           | 106/147 [03:34<01:54,  2.78s/it]"
     ]
    },
    {
     "name": "stdout",
     "output_type": "stream",
     "text": [
      "Processing: /media/elea/ssd/bernDB/TU/2023-01-05_T_HORAO-78-BF_FR_S1_1\n"
     ]
    },
    {
     "name": "stderr",
     "output_type": "stream",
     "text": [
      " 73%|█████████████████████████████▊           | 107/147 [03:38<01:58,  2.96s/it]"
     ]
    },
    {
     "name": "stdout",
     "output_type": "stream",
     "text": [
      "Processing: /media/elea/ssd/bernDB/TU/2022-12-07_T_HORAO-71-BF_FR_S2_1\n"
     ]
    },
    {
     "name": "stderr",
     "output_type": "stream",
     "text": [
      " 73%|██████████████████████████████           | 108/147 [03:40<01:54,  2.93s/it]"
     ]
    },
    {
     "name": "stdout",
     "output_type": "stream",
     "text": [
      "Processing: /media/elea/ssd/bernDB/TU/2023-03-31_T_HORAO-93-AF_FR_S1_1\n"
     ]
    },
    {
     "name": "stderr",
     "output_type": "stream",
     "text": [
      " 74%|██████████████████████████████▍          | 109/147 [03:43<01:49,  2.88s/it]"
     ]
    },
    {
     "name": "stdout",
     "output_type": "stream",
     "text": [
      "Processing: /media/elea/ssd/bernDB/HT/2024-09-18_T_AUTOPSY-BF_FR_S4_1\n"
     ]
    },
    {
     "name": "stderr",
     "output_type": "stream",
     "text": [
      " 75%|██████████████████████████████▋          | 110/147 [03:46<01:45,  2.86s/it]"
     ]
    },
    {
     "name": "stdout",
     "output_type": "stream",
     "text": [
      "Processing: /media/elea/ssd/bernDB/TU/2022-09-21_T_HORAO-45-BF_FR_S1_1\n"
     ]
    },
    {
     "name": "stderr",
     "output_type": "stream",
     "text": [
      " 76%|██████████████████████████████▉          | 111/147 [03:49<01:39,  2.78s/it]"
     ]
    },
    {
     "name": "stdout",
     "output_type": "stream",
     "text": [
      "Processing: /media/elea/ssd/bernDB/OR/2023-09-21_T_HORAO-107-AF_FR_S5_1\n"
     ]
    },
    {
     "name": "stderr",
     "output_type": "stream",
     "text": [
      " 76%|███████████████████████████████▏         | 112/147 [03:51<01:35,  2.73s/it]"
     ]
    },
    {
     "name": "stdout",
     "output_type": "stream",
     "text": [
      "Processing: /media/elea/ssd/bernDB/TU/2023-10-23_T_HORAO-101-AF_FR_S1_1\n"
     ]
    },
    {
     "name": "stderr",
     "output_type": "stream",
     "text": [
      " 77%|███████████████████████████████▌         | 113/147 [03:54<01:34,  2.78s/it]"
     ]
    },
    {
     "name": "stdout",
     "output_type": "stream",
     "text": [
      "Processing: /media/elea/ssd/bernDB/TU/2023-06-07_T_HORAO-100-AF_FR_S2_1\n"
     ]
    },
    {
     "name": "stderr",
     "output_type": "stream",
     "text": [
      " 78%|███████████████████████████████▊         | 114/147 [03:57<01:32,  2.81s/it]"
     ]
    },
    {
     "name": "stdout",
     "output_type": "stream",
     "text": [
      "Processing: /media/elea/ssd/bernDB/TU/2023-02-22_T_HORAO-84-AF_FR_S3_1\n"
     ]
    },
    {
     "name": "stderr",
     "output_type": "stream",
     "text": [
      " 78%|████████████████████████████████         | 115/147 [04:00<01:28,  2.77s/it]"
     ]
    },
    {
     "name": "stdout",
     "output_type": "stream",
     "text": [
      "Processing: /media/elea/ssd/bernDB/TU/2023-06-08_T_HORAO-77-AF_FR_S1_1\n"
     ]
    },
    {
     "name": "stderr",
     "output_type": "stream",
     "text": [
      " 79%|████████████████████████████████▎        | 116/147 [04:03<01:29,  2.89s/it]"
     ]
    },
    {
     "name": "stdout",
     "output_type": "stream",
     "text": [
      "Processing: /media/elea/ssd/bernDB/TU/2023-05-02_T_HORAO-99-BF_FR_S1_1\n"
     ]
    },
    {
     "name": "stderr",
     "output_type": "stream",
     "text": [
      " 80%|████████████████████████████████▋        | 117/147 [04:06<01:25,  2.85s/it]"
     ]
    },
    {
     "name": "stdout",
     "output_type": "stream",
     "text": [
      "Processing: /media/elea/ssd/bernDB/OR/2023-09-22_T_HORAO-90-AF_FR_S2_1\n"
     ]
    },
    {
     "name": "stderr",
     "output_type": "stream",
     "text": [
      " 80%|████████████████████████████████▉        | 118/147 [04:09<01:24,  2.90s/it]"
     ]
    },
    {
     "name": "stdout",
     "output_type": "stream",
     "text": [
      "Processing: /media/elea/ssd/bernDB/TU/2022-09-14_T_HORAO-42-BF_FR_S3_1\n"
     ]
    },
    {
     "name": "stderr",
     "output_type": "stream",
     "text": [
      " 81%|█████████████████████████████████▏       | 119/147 [04:11<01:19,  2.83s/it]"
     ]
    },
    {
     "name": "stdout",
     "output_type": "stream",
     "text": [
      "Processing: /media/elea/ssd/bernDB/TU/2022-09-21_T_HORAO-45-BF_FR_S4_1\n"
     ]
    },
    {
     "name": "stderr",
     "output_type": "stream",
     "text": [
      " 82%|█████████████████████████████████▍       | 120/147 [04:14<01:16,  2.83s/it]"
     ]
    },
    {
     "name": "stdout",
     "output_type": "stream",
     "text": [
      "Processing: /media/elea/ssd/bernDB/HT/2024-10-03_T_AUTOPSY-AF_FR_S3_1\n"
     ]
    },
    {
     "name": "stderr",
     "output_type": "stream",
     "text": [
      " 82%|█████████████████████████████████▋       | 121/147 [04:17<01:11,  2.74s/it]"
     ]
    },
    {
     "name": "stdout",
     "output_type": "stream",
     "text": [
      "Processing: /media/elea/ssd/bernDB/TU/2023-06-08_T_HORAO-78-AF_FR_S6_1\n"
     ]
    },
    {
     "name": "stderr",
     "output_type": "stream",
     "text": [
      " 83%|██████████████████████████████████       | 122/147 [04:19<01:09,  2.78s/it]"
     ]
    },
    {
     "name": "stdout",
     "output_type": "stream",
     "text": [
      "Processing: /media/elea/ssd/bernDB/TU/2022-11-28_T_HORAO-68-AF_FR_S1_1\n"
     ]
    },
    {
     "name": "stderr",
     "output_type": "stream",
     "text": [
      " 84%|██████████████████████████████████▎      | 123/147 [04:22<01:05,  2.72s/it]"
     ]
    },
    {
     "name": "stdout",
     "output_type": "stream",
     "text": [
      "Processing: /media/elea/ssd/bernDB/TU/2022-10-25_T_HORAO-42-AF_FR_S3_1\n"
     ]
    },
    {
     "name": "stderr",
     "output_type": "stream",
     "text": [
      " 84%|██████████████████████████████████▌      | 124/147 [04:25<01:04,  2.81s/it]"
     ]
    },
    {
     "name": "stdout",
     "output_type": "stream",
     "text": [
      "Processing: /media/elea/ssd/bernDB/TU/2022-11-22_T_HORAO-68-BF_FR_S2_1\n"
     ]
    },
    {
     "name": "stderr",
     "output_type": "stream",
     "text": [
      " 85%|██████████████████████████████████▊      | 125/147 [04:28<01:03,  2.88s/it]"
     ]
    },
    {
     "name": "stdout",
     "output_type": "stream",
     "text": [
      "Processing: /media/elea/ssd/bernDB/TU/2022-09-14_T_HORAO-39-AF_FR_S1_1\n"
     ]
    },
    {
     "name": "stderr",
     "output_type": "stream",
     "text": [
      " 86%|███████████████████████████████████▏     | 126/147 [04:31<00:58,  2.80s/it]"
     ]
    },
    {
     "name": "stdout",
     "output_type": "stream",
     "text": [
      "Processing: /media/elea/ssd/bernDB/HT/2022-07-06_T_AUTOPSY-BF_FR_S8_1\n"
     ]
    },
    {
     "name": "stderr",
     "output_type": "stream",
     "text": [
      " 86%|███████████████████████████████████▍     | 127/147 [04:33<00:54,  2.71s/it]"
     ]
    },
    {
     "name": "stdout",
     "output_type": "stream",
     "text": [
      "Processing: /media/elea/ssd/bernDB/TU/2023-05-16_T_HORAO-101-BF_FR_S1_1\n"
     ]
    },
    {
     "name": "stderr",
     "output_type": "stream",
     "text": [
      " 87%|███████████████████████████████████▋     | 128/147 [04:36<00:52,  2.79s/it]"
     ]
    },
    {
     "name": "stdout",
     "output_type": "stream",
     "text": [
      "Processing: /media/elea/ssd/bernDB/TU/2022-11-22_T_HORAO-67-BF_FR_S1_1\n"
     ]
    },
    {
     "name": "stderr",
     "output_type": "stream",
     "text": [
      " 88%|███████████████████████████████████▉     | 129/147 [04:39<00:50,  2.78s/it]"
     ]
    },
    {
     "name": "stdout",
     "output_type": "stream",
     "text": [
      "Processing: /media/elea/ssd/bernDB/TU/2023-09-21_T_HORAO-104-AF_FR_S2_1\n"
     ]
    },
    {
     "name": "stderr",
     "output_type": "stream",
     "text": [
      " 88%|████████████████████████████████████▎    | 130/147 [04:42<00:46,  2.72s/it]"
     ]
    },
    {
     "name": "stdout",
     "output_type": "stream",
     "text": [
      "Processing: /media/elea/ssd/bernDB/OR/2023-09-22_T_HORAO-84-AF_FR_S2_1\n"
     ]
    },
    {
     "name": "stderr",
     "output_type": "stream",
     "text": [
      " 89%|████████████████████████████████████▌    | 131/147 [04:44<00:43,  2.75s/it]"
     ]
    },
    {
     "name": "stdout",
     "output_type": "stream",
     "text": [
      "Processing: /media/elea/ssd/bernDB/TU/2023-04-05_T_HORAO-94-BF_FR_S2_1\n"
     ]
    },
    {
     "name": "stderr",
     "output_type": "stream",
     "text": [
      " 90%|████████████████████████████████████▊    | 132/147 [04:47<00:41,  2.79s/it]"
     ]
    },
    {
     "name": "stdout",
     "output_type": "stream",
     "text": [
      "Processing: /media/elea/ssd/bernDB/TU/2023-05-12_T_HORAO-100-AF_FR_S1_1\n"
     ]
    },
    {
     "name": "stderr",
     "output_type": "stream",
     "text": [
      " 90%|█████████████████████████████████████    | 133/147 [04:50<00:39,  2.85s/it]"
     ]
    },
    {
     "name": "stdout",
     "output_type": "stream",
     "text": [
      "Processing: /media/elea/ssd/bernDB/TU/2022-11-02_T_HORAO-59-AF_FR_S2_1\n"
     ]
    },
    {
     "name": "stderr",
     "output_type": "stream",
     "text": [
      " 91%|█████████████████████████████████████▎   | 134/147 [04:53<00:37,  2.85s/it]"
     ]
    },
    {
     "name": "stdout",
     "output_type": "stream",
     "text": [
      "Processing: /media/elea/ssd/bernDB/TU/2023-06-13_T_HORAO-104-BF_FR_S2_1\n"
     ]
    },
    {
     "name": "stderr",
     "output_type": "stream",
     "text": [
      " 92%|█████████████████████████████████████▋   | 135/147 [04:56<00:34,  2.87s/it]"
     ]
    },
    {
     "name": "stdout",
     "output_type": "stream",
     "text": [
      "Processing: /media/elea/ssd/bernDB/TU/2023-10-19_T_HORAO-107-AF_FR_S3_1\n"
     ]
    },
    {
     "name": "stderr",
     "output_type": "stream",
     "text": [
      " 93%|█████████████████████████████████████▉   | 136/147 [04:59<00:31,  2.85s/it]"
     ]
    },
    {
     "name": "stdout",
     "output_type": "stream",
     "text": [
      "Processing: /media/elea/ssd/bernDB/TU/2023-11-02_T_HORAO-84-AF_FR_S1_1\n"
     ]
    },
    {
     "name": "stderr",
     "output_type": "stream",
     "text": [
      " 93%|██████████████████████████████████████▏  | 137/147 [05:02<00:29,  2.93s/it]"
     ]
    },
    {
     "name": "stdout",
     "output_type": "stream",
     "text": [
      "Processing: /media/elea/ssd/bernDB/TU/2022-11-01_T_HORAO-59-BF_FR_S2_1\n"
     ]
    },
    {
     "name": "stderr",
     "output_type": "stream",
     "text": [
      " 94%|██████████████████████████████████████▍  | 138/147 [05:05<00:26,  2.97s/it]"
     ]
    },
    {
     "name": "stdout",
     "output_type": "stream",
     "text": [
      "Processing: /media/elea/ssd/bernDB/OR/2023-05-12_T_HORAO-95-AF_FR_S2_1\n"
     ]
    },
    {
     "name": "stderr",
     "output_type": "stream",
     "text": [
      " 95%|██████████████████████████████████████▊  | 139/147 [05:08<00:23,  2.95s/it]"
     ]
    },
    {
     "name": "stdout",
     "output_type": "stream",
     "text": [
      "Processing: /media/elea/ssd/bernDB/TU/2023-02-22_T_HORAO-78-AF_FR_S1_1\n"
     ]
    },
    {
     "name": "stderr",
     "output_type": "stream",
     "text": [
      " 95%|███████████████████████████████████████  | 140/147 [05:11<00:20,  2.94s/it]"
     ]
    },
    {
     "name": "stdout",
     "output_type": "stream",
     "text": [
      "Processing: /media/elea/ssd/bernDB/TU/2023-06-13_T_HORAO-104-BF_FR_S3_1\n"
     ]
    },
    {
     "name": "stderr",
     "output_type": "stream",
     "text": [
      " 96%|███████████████████████████████████████▎ | 141/147 [05:15<00:20,  3.43s/it]"
     ]
    },
    {
     "name": "stdout",
     "output_type": "stream",
     "text": [
      "Processing: /media/elea/ssd/bernDB/TU/2023-05-12_T_HORAO-95-AF_FR_S1_1\n"
     ]
    },
    {
     "name": "stderr",
     "output_type": "stream",
     "text": [
      " 97%|███████████████████████████████████████▌ | 142/147 [05:18<00:16,  3.30s/it]"
     ]
    },
    {
     "name": "stdout",
     "output_type": "stream",
     "text": [
      "Processing: /media/elea/ssd/bernDB/HT/2024-09-18_T_AUTOPSY-BF_FR_S3_1\n"
     ]
    },
    {
     "name": "stderr",
     "output_type": "stream",
     "text": [
      " 97%|███████████████████████████████████████▉ | 143/147 [05:21<00:12,  3.21s/it]"
     ]
    },
    {
     "name": "stdout",
     "output_type": "stream",
     "text": [
      "Processing: /media/elea/ssd/bernDB/HT/2024-10-03_T_AUTOPSY-AF_FR_S8_1\n"
     ]
    },
    {
     "name": "stderr",
     "output_type": "stream",
     "text": [
      " 98%|████████████████████████████████████████▏| 144/147 [05:24<00:09,  3.05s/it]"
     ]
    },
    {
     "name": "stdout",
     "output_type": "stream",
     "text": [
      "Processing: /media/elea/ssd/bernDB/HT/2022-07-07_T_AUTOPSY-AF_FR_S4_1\n"
     ]
    },
    {
     "name": "stderr",
     "output_type": "stream",
     "text": [
      " 99%|████████████████████████████████████████▍| 145/147 [05:27<00:05,  2.91s/it]"
     ]
    },
    {
     "name": "stdout",
     "output_type": "stream",
     "text": [
      "Processing: /media/elea/ssd/bernDB/TU/2022-09-14_T_HORAO-37-AF_FR_S1_1\n"
     ]
    },
    {
     "name": "stderr",
     "output_type": "stream",
     "text": [
      " 99%|████████████████████████████████████████▋| 146/147 [05:29<00:02,  2.84s/it]"
     ]
    },
    {
     "name": "stdout",
     "output_type": "stream",
     "text": [
      "Processing: /media/elea/ssd/bernDB/HT/2022-07-06_T_AUTOPSY-BF_FR_S1_1\n"
     ]
    },
    {
     "name": "stderr",
     "output_type": "stream",
     "text": [
      "100%|█████████████████████████████████████████| 147/147 [05:32<00:00,  2.26s/it]"
     ]
    },
    {
     "name": "stdout",
     "output_type": "stream",
     "text": [
      "processing without PDDN done.\n",
      "CPU times: user 26min 28s, sys: 53.3 s, total: 27min 21s\n",
      "Wall time: 5min 32s\n"
     ]
    },
    {
     "name": "stderr",
     "output_type": "stream",
     "text": [
      "\n"
     ]
    },
    {
     "data": {
      "text/plain": [
       "{'MM_processing': 2.0142648220062256,\n",
       " 'azimuth_std_processing': 0.011485576629638672,\n",
       " 'denoising': 0,\n",
       " 'save_npz': 0.019183635711669922,\n",
       " 'full_processing': 2.0727572441101074,\n",
       " 'plotting': 1.430511474609375e-06,\n",
       " 'total': 2.261007495477897}"
      ]
     },
     "execution_count": 4,
     "metadata": {},
     "output_type": "execute_result"
    }
   ],
   "source": [
    "%%time\n",
    "times = batch_processing.batch_process_master(parameters)\n",
    "times"
   ]
  },
  {
   "cell_type": "code",
   "execution_count": null,
   "id": "7bb3f806-5e87-4228-b562-a2aa91c6fad2",
   "metadata": {},
   "outputs": [],
   "source": []
  },
  {
   "cell_type": "code",
   "execution_count": 24,
   "id": "61611c16-067f-47a0-8fbc-076472169d33",
   "metadata": {},
   "outputs": [
    {
     "name": "stdout",
     "output_type": "stream",
     "text": [
      "CPU times: user 5.45 s, sys: 434 ms, total: 5.89 s\n",
      "Wall time: 5.29 s\n"
     ]
    },
    {
     "data": {
      "text/plain": [
       "5.287709474563599"
      ]
     },
     "execution_count": 24,
     "metadata": {},
     "output_type": "execute_result"
    }
   ],
   "source": [
    "%%time\n",
    "\n",
    "# Approximate time to process the line visualization save_pdf_figs True : 3.85s\n",
    "# Approximate time to process the line visualization save_pdf_figs False : 4.92s\n",
    "times = batch_processing.batch_visualization(parameters)\n",
    "times"
   ]
  },
  {
   "cell_type": "code",
   "execution_count": null,
   "id": "d24101bc-bdbf-4494-8596-efe0b1ba04fb",
   "metadata": {},
   "outputs": [],
   "source": []
  },
  {
   "cell_type": "code",
   "execution_count": 26,
   "id": "7290a266",
   "metadata": {},
   "outputs": [
    {
     "name": "stdout",
     "output_type": "stream",
     "text": [
      "Aligning wavelenght: 600nm\n"
     ]
    },
    {
     "name": "stderr",
     "output_type": "stream",
     "text": [
      "100%|███████████████████████████████████████████| 1/1 [00:00<00:00, 5555.37it/s]\n"
     ]
    },
    {
     "name": "stdout",
     "output_type": "stream",
     "text": [
      "Aligning wavelenght: 650nm\n"
     ]
    },
    {
     "name": "stderr",
     "output_type": "stream",
     "text": [
      "  0%|                                                     | 0/1 [00:00<?, ?it/s]"
     ]
    },
    {
     "name": "stdout",
     "output_type": "stream",
     "text": [
      " \n",
      " >> Exported X3D .cod file as: /media/elea/ssd/test/2022-07-06_T_AUTOPSY-BF_FR_S8_1/raw_data/650nm/650_Intensite_aligned.cod\n"
     ]
    },
    {
     "name": "stderr",
     "output_type": "stream",
     "text": [
      "100%|█████████████████████████████████████████████| 1/1 [00:08<00:00,  8.44s/it]\n"
     ]
    }
   ],
   "source": [
    "# align the measurements captured at different wavelengths - could cause issue when using masks obtained\n",
    "# at 550nm as the images are slightly shifted \n",
    "from processingmm.addons import align_wavelengths\n",
    "PDDN_mode = 'both'\n",
    "run_all = False\n",
    "align_wavelengths.align_wavelenghts(directories, PDDN_mode, run_all)"
   ]
  },
  {
   "cell_type": "code",
   "execution_count": null,
   "id": "15e52f61-7cbd-442b-812f-0371510e7f18",
   "metadata": {},
   "outputs": [],
   "source": []
  },
  {
   "cell_type": "code",
   "execution_count": 39,
   "id": "be0174b7",
   "metadata": {},
   "outputs": [
    {
     "name": "stderr",
     "output_type": "stream",
     "text": [
      "100%|█████████████████████████████████████████████| 2/2 [00:00<00:00, 15.59it/s]"
     ]
    },
    {
     "name": "stdout",
     "output_type": "stream",
     "text": [
      "No calibration files in 600nm\n"
     ]
    },
    {
     "name": "stderr",
     "output_type": "stream",
     "text": [
      "\n"
     ]
    }
   ],
   "source": [
    "# add the calibration matrices (A.cod and W.cod) to the folder for processing\n",
    "# needed by Christopher\n",
    "from processingmm.addons import add_calibration\n",
    "add_calibration.add_calibration(directories)"
   ]
  },
  {
   "cell_type": "code",
   "execution_count": null,
   "id": "cc87c952",
   "metadata": {},
   "outputs": [],
   "source": []
  }
 ],
 "metadata": {
  "kernelspec": {
   "display_name": "Python 3 (ipykernel)",
   "language": "python",
   "name": "python3"
  },
  "language_info": {
   "codemirror_mode": {
    "name": "ipython",
    "version": 3
   },
   "file_extension": ".py",
   "mimetype": "text/x-python",
   "name": "python",
   "nbconvert_exporter": "python",
   "pygments_lexer": "ipython3",
   "version": "3.12.8"
  }
 },
 "nbformat": 4,
 "nbformat_minor": 5
}
