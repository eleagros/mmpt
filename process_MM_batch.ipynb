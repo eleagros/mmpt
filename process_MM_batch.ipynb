{
 "cells": [
  {
   "cell_type": "markdown",
   "id": "5833fa74",
   "metadata": {},
   "source": [
    "# Process the data obtained from polarimetry and reorganize the data into the correct folders"
   ]
  },
  {
   "cell_type": "code",
   "execution_count": null,
   "id": "a9006a18",
   "metadata": {},
   "outputs": [],
   "source": [
    "%load_ext autoreload\n",
    "%autoreload 2\n",
    "\n",
    "import os\n",
    "from processingmm import processingmm"
   ]
  },
  {
   "cell_type": "code",
   "execution_count": null,
   "id": "bf65a2ee-b8c4-4eaa-bef1-7c4c4800a0d0",
   "metadata": {},
   "outputs": [],
   "source": []
  },
  {
   "cell_type": "code",
   "execution_count": 5,
   "id": "35f24a20",
   "metadata": {},
   "outputs": [],
   "source": [
    "# set the parameters to run the script\n",
    "directories = [r'C:\\Users\\omarq\\Escritorio\\measurements']\n",
    "calib_directory = r'C:\\Users\\omarq\\Escritorio\\Calibration'\n",
    "    \n",
    "# set the parameters to be used for the line visualisation\n",
    "# NB: parameter file accessible in ./src/processingmm/data/parameters_visualisations.json\n",
    "parameter_set = 'default'\n",
    "\n",
    "# set run_all to true in order to run the pipeline on all the folders (even the ones already processed)\n",
    "run_all = True\n",
    "\n",
    "# PDDN_mode can be set to:\n",
    "# 1. 'no': processes without using the PDDN\n",
    "# 2. 'pddn': processes with PDDN when available (for 550nm and 650nm)\n",
    "# 3. 'both': processes both with PDDN when available and without PDDN\n",
    "PDDN_mode = 'pddn'\n",
    "\n",
    "# do not specify unless you want to use a custom path for the PDDN models\n",
    "PDDN_models_path = None\n",
    "\n",
    "# Set the wavelengths to be processed\n",
    "# 1. 'all': processes all the available wavelenght\n",
    "# 2. [xxx, yyy]: processes only the wavelenghts 'xxx' and 'yyy'\n",
    "wavelengths = [550]\n",
    "\n",
    "# Processing mode\n",
    "# 1. 'no_viz': processes only the MM - no visualization at all. useful for fast computation\n",
    "# 2. 'default': processes the MM and plots the polarimetric parameters maps (i.e. depolarization, azimuth, \n",
    "# retardance, diattenuation, azimuth local variability)\n",
    "# 3. 'full': do like default, and additionally plot the MM components, as well as the line\n",
    "# visualization\n",
    "\n",
    "# define if pdf figures should be saved (takes a lot of time) - no impact when processing_mode is set to no_viz\n",
    "\n",
    "# NB: processing time without PDDN (with the data on a SSD drive)\n",
    "# 'no_viz': 0.39s\n",
    "# 'default', save_pdf_figs False: 1.65s\n",
    "# 'default', save_pdf_figs True: 2.67s\n",
    "# 'full', save_pdf_figs False: 3.24s\n",
    "# 'full', save_pdf_figs True: 5.94s\n",
    "processing_mode = 'default'\n",
    "save_pdf_figs = False\n",
    "\n",
    "# define if the wavelenghts should be aligned before processing - and used for the computation\n",
    "align_wls = True\n",
    "\n",
    "parameters = processingmm.get_parameters(directories, calib_directory, wavelengths, parameter_set = parameter_set, \n",
    "                                PDDN_mode = PDDN_mode, PDDN_models_path = PDDN_models_path, \n",
    "                                processing_mode = processing_mode, run_all = run_all, \n",
    "                                save_pdf_figs = save_pdf_figs, align_wls = align_wls)"
   ]
  },
  {
   "cell_type": "code",
   "execution_count": null,
   "id": "3e2ea1d8-4794-49c2-9a16-9ae7874fe36c",
   "metadata": {},
   "outputs": [],
   "source": []
  },
  {
   "cell_type": "code",
   "execution_count": 13,
   "id": "017cdd19",
   "metadata": {},
   "outputs": [
    {
     "name": "stdout",
     "output_type": "stream",
     "text": [
      "Processing with PDDN...\n",
      "\n",
      "Loading PDDN models...\n",
      " >> PDDN Loading Model: C:\\Users\\omarq\\Escritorio\\Prototype2\\processingMM\\src\\vizMM\\PDDN_model\\PDDN_model_550_Fresh_HB.pt -- ...\n",
      " >> PDDN Loading Model: C:\\Users\\omarq\\Escritorio\\Prototype2\\processingMM\\src\\vizMM\\PDDN_model\\PDDN_model_550_Fresh_HB.pt -- Complete\n",
      "Loading PDDN models done.\n",
      "\n",
      "\n",
      "Denoising inference...\n"
     ]
    },
    {
     "name": "stderr",
     "output_type": "stream",
     "text": [
      "  0%|                                                                                            | 0/1 [00:00<?, ?it/s]"
     ]
    },
    {
     "name": "stdout",
     "output_type": "stream",
     "text": [
      "C:\\Users\\omarq\\Escritorio\\measurements\\2022-07-06_T_autopsy-cryo-BF_FR_S1_1\\raw_data\\550nm\\550_Intensite_PDDN.cod\n"
     ]
    },
    {
     "name": "stderr",
     "output_type": "stream",
     "text": [
      "\n"
     ]
    },
    {
     "ename": "FileNotFoundError",
     "evalue": "[Errno 2] No such file or directory: 'C:\\\\Users\\\\omarq\\\\Escritorio\\\\measurements\\\\2022-07-06_T_autopsy-cryo-BF_FR_S1_1\\\\raw_data\\\\raw_data\\\\550\\\\550_Intensite.cod'",
     "output_type": "error",
     "traceback": [
      "\u001b[1;31m---------------------------------------------------------------------------\u001b[0m",
      "\u001b[1;31mFileNotFoundError\u001b[0m                         Traceback (most recent call last)",
      "File \u001b[1;32m~\\Escritorio\\Prototype2\\processingMM\\src\\vizMM\\utils.py:571\u001b[0m, in \u001b[0;36mget_intensity\u001b[1;34m(path, wavelength, align_wls, PDDN)\u001b[0m\n\u001b[0;32m    570\u001b[0m \u001b[38;5;28;01mtry\u001b[39;00m:\n\u001b[1;32m--> 571\u001b[0m     I \u001b[38;5;241m=\u001b[39m \u001b[43mlibmpMuelMat\u001b[49m\u001b[38;5;241;43m.\u001b[39;49m\u001b[43mread_cod_data_X3D\u001b[49m\u001b[43m(\u001b[49m\u001b[43mpathCod\u001b[49m\u001b[43m,\u001b[49m\u001b[43m \u001b[49m\u001b[43misRawFlag\u001b[49m\u001b[38;5;241;43m=\u001b[39;49m\u001b[38;5;241;43m0\u001b[39;49m\u001b[43m)\u001b[49m\n\u001b[0;32m    572\u001b[0m \u001b[38;5;28;01mexcept\u001b[39;00m \u001b[38;5;167;01mException\u001b[39;00m:\n",
      "File \u001b[1;32m~\\Escritorio\\Prototype2\\processingMM\\src\\vizMM\\libmpMuelMat.py:404\u001b[0m, in \u001b[0;36mread_cod_data_X3D\u001b[1;34m(input_cod_Filename, CamType, isRawFlag, VerboseFlag)\u001b[0m\n\u001b[0;32m    403\u001b[0m \u001b[38;5;66;03m# Reading the Data (loading) NB: binary data is float, but the output array is *cast* to double\u001b[39;00m\n\u001b[1;32m--> 404\u001b[0m \u001b[38;5;28;01mwith\u001b[39;00m \u001b[38;5;28;43mopen\u001b[39;49m\u001b[43m(\u001b[49m\u001b[43minput_cod_Filename\u001b[49m\u001b[43m,\u001b[49m\u001b[43m \u001b[49m\u001b[38;5;124;43m\"\u001b[39;49m\u001b[38;5;124;43mrb\u001b[39;49m\u001b[38;5;124;43m\"\u001b[39;49m\u001b[43m)\u001b[49m \u001b[38;5;28;01mas\u001b[39;00m f:\n\u001b[0;32m    405\u001b[0m     X3D \u001b[38;5;241m=\u001b[39m np\u001b[38;5;241m.\u001b[39mfromfile(f, dtype\u001b[38;5;241m=\u001b[39mnp\u001b[38;5;241m.\u001b[39msingle)\n",
      "\u001b[1;31mFileNotFoundError\u001b[0m: [Errno 2] No such file or directory: 'C:\\\\Users\\\\omarq\\\\Escritorio\\\\measurements\\\\2022-07-06_T_autopsy-cryo-BF_FR_S1_1\\\\raw_data\\\\raw_data\\\\550\\\\550_Intensite.cod'",
      "\nDuring handling of the above exception, another exception occurred:\n",
      "\u001b[1;31mFileNotFoundError\u001b[0m                         Traceback (most recent call last)",
      "File \u001b[1;32m<timed exec>:1\u001b[0m\n",
      "File \u001b[1;32m~\\Escritorio\\Prototype2\\processingMM\\src\\vizMM\\processingmm.py:150\u001b[0m, in \u001b[0;36mbatch_process_master\u001b[1;34m(parameters, folder_eu_time)\u001b[0m\n\u001b[0;32m    147\u001b[0m     \u001b[38;5;28;01massert\u001b[39;00m Version(vizMM\u001b[38;5;241m.\u001b[39m__version__) \u001b[38;5;241m>\u001b[39m\u001b[38;5;241m=\u001b[39m Version(\u001b[38;5;124m'\u001b[39m\u001b[38;5;124m1.1\u001b[39m\u001b[38;5;124m'\u001b[39m), (\u001b[38;5;124m\"\u001b[39m\u001b[38;5;124mPlease update the vizMM package to version 1.1 or higher to use PDDN.\u001b[39m\u001b[38;5;124m\"\u001b[39m)\n\u001b[0;32m    149\u001b[0m     \u001b[38;5;28mprint\u001b[39m(\u001b[38;5;124m'\u001b[39m\u001b[38;5;124mProcessing with PDDN...\u001b[39m\u001b[38;5;124m'\u001b[39m)\n\u001b[1;32m--> 150\u001b[0m     times, time_complete \u001b[38;5;241m=\u001b[39m \u001b[43mbatch_process\u001b[49m\u001b[43m(\u001b[49m\u001b[43mparameters\u001b[49m\u001b[43m,\u001b[49m\u001b[43m \u001b[49m\u001b[43mPDDN\u001b[49m\u001b[43m \u001b[49m\u001b[38;5;241;43m=\u001b[39;49m\u001b[43m \u001b[49m\u001b[38;5;28;43;01mTrue\u001b[39;49;00m\u001b[43m,\u001b[49m\u001b[43m \u001b[49m\u001b[43mfolder_eu_time\u001b[49m\u001b[43m \u001b[49m\u001b[38;5;241;43m=\u001b[39;49m\u001b[43m \u001b[49m\u001b[43mfolder_eu_time\u001b[49m\u001b[43m)\u001b[49m\n\u001b[0;32m    151\u001b[0m     \u001b[38;5;28mprint\u001b[39m(\u001b[38;5;124m'\u001b[39m\u001b[38;5;124mProcessing with PDDN done.\u001b[39m\u001b[38;5;124m'\u001b[39m)\n\u001b[0;32m    153\u001b[0m times[\u001b[38;5;124m'\u001b[39m\u001b[38;5;124mtotal\u001b[39m\u001b[38;5;124m'\u001b[39m] \u001b[38;5;241m=\u001b[39m time_complete \n",
      "File \u001b[1;32m~\\Escritorio\\Prototype2\\processingMM\\src\\vizMM\\processingmm.py:189\u001b[0m, in \u001b[0;36mbatch_process\u001b[1;34m(parameters, PDDN, folder_eu_time)\u001b[0m\n\u001b[0;32m    186\u001b[0m to_process, wavelengths \u001b[38;5;241m=\u001b[39m utils\u001b[38;5;241m.\u001b[39mget_measurements_to_process(parameters, PDDN\u001b[38;5;241m=\u001b[39mPDDN)\n\u001b[0;32m    188\u001b[0m \u001b[38;5;28;01mif\u001b[39;00m PDDN:\n\u001b[1;32m--> 189\u001b[0m     \u001b[43mdenoise_intensities\u001b[49m\u001b[38;5;241;43m.\u001b[39;49m\u001b[43mdenoise_intensities\u001b[49m\u001b[43m(\u001b[49m\u001b[43mparameters\u001b[49m\u001b[43m,\u001b[49m\u001b[43m \u001b[49m\u001b[43mto_process\u001b[49m\u001b[43m)\u001b[49m\n\u001b[0;32m    191\u001b[0m \u001b[38;5;28;01mif\u001b[39;00m parameters[\u001b[38;5;124m'\u001b[39m\u001b[38;5;124malign_wls\u001b[39m\u001b[38;5;124m'\u001b[39m]:\n\u001b[0;32m    192\u001b[0m     align_wavelengths\u001b[38;5;241m.\u001b[39malign_wavelengths(parameters[\u001b[38;5;124m'\u001b[39m\u001b[38;5;124mdirectories\u001b[39m\u001b[38;5;124m'\u001b[39m], parameters[\u001b[38;5;124m'\u001b[39m\u001b[38;5;124mPDDN\u001b[39m\u001b[38;5;124m'\u001b[39m], \u001b[38;5;28;01mFalse\u001b[39;00m, parameters[\u001b[38;5;124m'\u001b[39m\u001b[38;5;124mwavelengths\u001b[39m\u001b[38;5;124m'\u001b[39m])\n",
      "File \u001b[1;32m~\\Escritorio\\Prototype2\\processingMM\\src\\vizMM\\addons\\denoise_intensities.py:43\u001b[0m, in \u001b[0;36mdenoise_intensities\u001b[1;34m(parameters, to_process)\u001b[0m\n\u001b[0;32m     41\u001b[0m \u001b[38;5;28;01mif\u001b[39;00m os\u001b[38;5;241m.\u001b[39mpath\u001b[38;5;241m.\u001b[39mexists(os\u001b[38;5;241m.\u001b[39mpath\u001b[38;5;241m.\u001b[39mjoin(\u001b[38;5;124mf\u001b[39m\u001b[38;5;124m\"\u001b[39m\u001b[38;5;132;01m{\u001b[39;00mfolder[\u001b[38;5;124m'\u001b[39m\u001b[38;5;124mfolder_name\u001b[39m\u001b[38;5;124m'\u001b[39m]\u001b[38;5;132;01m}\u001b[39;00m\u001b[38;5;124m\"\u001b[39m, \u001b[38;5;124m\"\u001b[39m\u001b[38;5;124mraw_data\u001b[39m\u001b[38;5;124m\"\u001b[39m, \u001b[38;5;124mf\u001b[39m\u001b[38;5;124m\"\u001b[39m\u001b[38;5;132;01m{\u001b[39;00mwavelength\u001b[38;5;132;01m}\u001b[39;00m\u001b[38;5;124mnm\u001b[39m\u001b[38;5;124m\"\u001b[39m)):\n\u001b[0;32m     42\u001b[0m     \u001b[38;5;28;01mif\u001b[39;00m \u001b[38;5;28mlen\u001b[39m(os\u001b[38;5;241m.\u001b[39mlistdir(os\u001b[38;5;241m.\u001b[39mpath\u001b[38;5;241m.\u001b[39mjoin(\u001b[38;5;124mf\u001b[39m\u001b[38;5;124m\"\u001b[39m\u001b[38;5;132;01m{\u001b[39;00mfolder[\u001b[38;5;124m'\u001b[39m\u001b[38;5;124mfolder_name\u001b[39m\u001b[38;5;124m'\u001b[39m]\u001b[38;5;132;01m}\u001b[39;00m\u001b[38;5;124m\"\u001b[39m, \u001b[38;5;124m\"\u001b[39m\u001b[38;5;124mraw_data\u001b[39m\u001b[38;5;124m\"\u001b[39m, \u001b[38;5;124mf\u001b[39m\u001b[38;5;124m\"\u001b[39m\u001b[38;5;132;01m{\u001b[39;00mwavelength\u001b[38;5;132;01m}\u001b[39;00m\u001b[38;5;124mnm\u001b[39m\u001b[38;5;124m\"\u001b[39m))) \u001b[38;5;241m>\u001b[39m \u001b[38;5;241m0\u001b[39m:\n\u001b[1;32m---> 43\u001b[0m         I, _ \u001b[38;5;241m=\u001b[39m \u001b[43mget_intensity\u001b[49m\u001b[43m(\u001b[49m\u001b[43mos\u001b[49m\u001b[38;5;241;43m.\u001b[39;49m\u001b[43mpath\u001b[49m\u001b[38;5;241;43m.\u001b[39;49m\u001b[43mjoin\u001b[49m\u001b[43m(\u001b[49m\u001b[38;5;124;43mf\u001b[39;49m\u001b[38;5;124;43m\"\u001b[39;49m\u001b[38;5;132;43;01m{\u001b[39;49;00m\u001b[43mfolder\u001b[49m\u001b[43m[\u001b[49m\u001b[38;5;124;43m'\u001b[39;49m\u001b[38;5;124;43mfolder_name\u001b[39;49m\u001b[38;5;124;43m'\u001b[39;49m\u001b[43m]\u001b[49m\u001b[38;5;132;43;01m}\u001b[39;49;00m\u001b[38;5;124;43m\"\u001b[39;49m\u001b[43m,\u001b[49m\u001b[43m \u001b[49m\u001b[38;5;124;43m\"\u001b[39;49m\u001b[38;5;124;43mraw_data\u001b[39;49m\u001b[38;5;124;43m\"\u001b[39;49m\u001b[43m)\u001b[49m\u001b[43m,\u001b[49m\u001b[43m \u001b[49m\u001b[38;5;28;43mstr\u001b[39;49m\u001b[43m(\u001b[49m\u001b[43mwavelength\u001b[49m\u001b[43m)\u001b[49m\u001b[43m,\u001b[49m\u001b[43m \u001b[49m\u001b[38;5;28;43;01mFalse\u001b[39;49;00m\u001b[43m,\u001b[49m\u001b[43m \u001b[49m\u001b[38;5;28;43;01mFalse\u001b[39;49;00m\u001b[43m)\u001b[49m\n\u001b[0;32m     44\u001b[0m         I, _ \u001b[38;5;241m=\u001b[39m model\u001b[38;5;241m.\u001b[39mDenoise(I)\n\u001b[0;32m     45\u001b[0m         \u001b[38;5;28mprint\u001b[39m(\u001b[38;5;124m'\u001b[39m\u001b[38;5;124mhere\u001b[39m\u001b[38;5;124m'\u001b[39m)\n",
      "File \u001b[1;32m~\\Escritorio\\Prototype2\\processingMM\\src\\vizMM\\utils.py:573\u001b[0m, in \u001b[0;36mget_intensity\u001b[1;34m(path, wavelength, align_wls, PDDN)\u001b[0m\n\u001b[0;32m    571\u001b[0m     I \u001b[38;5;241m=\u001b[39m libmpMuelMat\u001b[38;5;241m.\u001b[39mread_cod_data_X3D(pathCod, isRawFlag\u001b[38;5;241m=\u001b[39m\u001b[38;5;241m0\u001b[39m)\n\u001b[0;32m    572\u001b[0m \u001b[38;5;28;01mexcept\u001b[39;00m \u001b[38;5;167;01mException\u001b[39;00m:\n\u001b[1;32m--> 573\u001b[0m     I \u001b[38;5;241m=\u001b[39m \u001b[43mlibmpMuelMat\u001b[49m\u001b[38;5;241;43m.\u001b[39;49m\u001b[43mread_cod_data_X3D\u001b[49m\u001b[43m(\u001b[49m\u001b[43mpathCod\u001b[49m\u001b[43m,\u001b[49m\u001b[43m \u001b[49m\u001b[43misRawFlag\u001b[49m\u001b[38;5;241;43m=\u001b[39;49m\u001b[38;5;241;43m1\u001b[39;49m\u001b[43m)\u001b[49m\n\u001b[0;32m    575\u001b[0m \u001b[38;5;28;01mreturn\u001b[39;00m I, polarimetry_fname\n",
      "File \u001b[1;32m~\\Escritorio\\Prototype2\\processingMM\\src\\vizMM\\libmpMuelMat.py:404\u001b[0m, in \u001b[0;36mread_cod_data_X3D\u001b[1;34m(input_cod_Filename, CamType, isRawFlag, VerboseFlag)\u001b[0m\n\u001b[0;32m    401\u001b[0m m \u001b[38;5;241m=\u001b[39m \u001b[38;5;241m16\u001b[39m  \u001b[38;5;66;03m# components of the polarimetric data in the '.cod' file\u001b[39;00m\n\u001b[0;32m    403\u001b[0m \u001b[38;5;66;03m# Reading the Data (loading) NB: binary data is float, but the output array is *cast* to double\u001b[39;00m\n\u001b[1;32m--> 404\u001b[0m \u001b[38;5;28;01mwith\u001b[39;00m \u001b[38;5;28;43mopen\u001b[39;49m\u001b[43m(\u001b[49m\u001b[43minput_cod_Filename\u001b[49m\u001b[43m,\u001b[49m\u001b[43m \u001b[49m\u001b[38;5;124;43m\"\u001b[39;49m\u001b[38;5;124;43mrb\u001b[39;49m\u001b[38;5;124;43m\"\u001b[39;49m\u001b[43m)\u001b[49m \u001b[38;5;28;01mas\u001b[39;00m f:\n\u001b[0;32m    405\u001b[0m     X3D \u001b[38;5;241m=\u001b[39m np\u001b[38;5;241m.\u001b[39mfromfile(f, dtype\u001b[38;5;241m=\u001b[39mnp\u001b[38;5;241m.\u001b[39msingle)\n\u001b[0;32m    406\u001b[0m     X3D \u001b[38;5;241m=\u001b[39m X3D\u001b[38;5;241m.\u001b[39mastype(np\u001b[38;5;241m.\u001b[39mdouble)\n",
      "\u001b[1;31mFileNotFoundError\u001b[0m: [Errno 2] No such file or directory: 'C:\\\\Users\\\\omarq\\\\Escritorio\\\\measurements\\\\2022-07-06_T_autopsy-cryo-BF_FR_S1_1\\\\raw_data\\\\raw_data\\\\550\\\\550_Intensite.cod'"
     ]
    }
   ],
   "source": [
    "%%time\n",
    "times = processingmm.batch_process_master(parameters)\n",
    "times"
   ]
  },
  {
   "cell_type": "code",
   "execution_count": null,
   "id": "be765fbe-7b77-4a2b-919b-04a08510916c",
   "metadata": {},
   "outputs": [],
   "source": []
  },
  {
   "cell_type": "code",
   "execution_count": 129,
   "id": "61611c16-067f-47a0-8fbc-076472169d33",
   "metadata": {},
   "outputs": [
    {
     "name": "stdout",
     "output_type": "stream",
     "text": [
      "CPU times: user 280 μs, sys: 1.02 ms, total: 1.3 ms\n",
      "Wall time: 1.08 ms\n"
     ]
    },
    {
     "data": {
      "text/plain": [
       "0.0005217790603637695"
      ]
     },
     "execution_count": 129,
     "metadata": {},
     "output_type": "execute_result"
    }
   ],
   "source": [
    "%%time\n",
    "from processingmm.addons import visualization_lines\n",
    "\n",
    "# Approximate time to process the line visualization save_pdf_figs True : 3.85s\n",
    "# Approximate time to process the line visualization save_pdf_figs False : 4.92s\n",
    "run_all = False\n",
    "times = visualization_lines.batch_visualization(parameters, run_all)\n",
    "times"
   ]
  },
  {
   "cell_type": "code",
   "execution_count": null,
   "id": "d24101bc-bdbf-4494-8596-efe0b1ba04fb",
   "metadata": {},
   "outputs": [],
   "source": []
  },
  {
   "cell_type": "code",
   "execution_count": 131,
   "id": "7290a266",
   "metadata": {},
   "outputs": [
    {
     "name": "stdout",
     "output_type": "stream",
     "text": [
      "Aligning wavelength: 600 nm...\n"
     ]
    },
    {
     "name": "stderr",
     "output_type": "stream",
     "text": [
      "100%|██████████████████████████████████████████| 2/2 [00:00<00:00, 11554.56it/s]"
     ]
    },
    {
     "name": "stdout",
     "output_type": "stream",
     "text": [
      "Aligning wavelengths done.\n",
      "\n"
     ]
    },
    {
     "name": "stderr",
     "output_type": "stream",
     "text": [
      "\n"
     ]
    }
   ],
   "source": [
    "# align the measurements captured at different wavelengths - could cause issue when using masks obtained\n",
    "# at 550nm as the images are slightly shifted \n",
    "from processingmm.addons import align_wavelengths\n",
    "directories = ['/media/elea/ssd/NPP_dev/test']\n",
    "\n",
    "PDDN_mode = 'both'\n",
    "run_all = False\n",
    "align_wavelengths.align_wavelengths(directories, PDDN_mode, run_all, [600])"
   ]
  },
  {
   "cell_type": "code",
   "execution_count": null,
   "id": "15e52f61-7cbd-442b-812f-0371510e7f18",
   "metadata": {},
   "outputs": [],
   "source": []
  }
 ],
 "metadata": {
  "kernelspec": {
   "display_name": "Python 3 (ipykernel)",
   "language": "python",
   "name": "python3"
  },
  "language_info": {
   "codemirror_mode": {
    "name": "ipython",
    "version": 3
   },
   "file_extension": ".py",
   "mimetype": "text/x-python",
   "name": "python",
   "nbconvert_exporter": "python",
   "pygments_lexer": "ipython3",
   "version": "3.10.16"
  }
 },
 "nbformat": 4,
 "nbformat_minor": 5
}
