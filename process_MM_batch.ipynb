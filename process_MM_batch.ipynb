{
 "cells": [
  {
   "cell_type": "markdown",
   "id": "5833fa74",
   "metadata": {},
   "source": [
    "# Process the data obtained from polarimetry and reorganize the data into the correct folders"
   ]
  },
  {
   "cell_type": "code",
   "execution_count": 5,
   "id": "a9006a18",
   "metadata": {},
   "outputs": [
    {
     "name": "stdout",
     "output_type": "stream",
     "text": [
      "The autoreload extension is already loaded. To reload it, use:\n",
      "  %reload_ext autoreload\n"
     ]
    }
   ],
   "source": [
    "%load_ext autoreload\n",
    "%autoreload 2\n",
    "\n",
    "import os\n",
    "from processingmm import batch_processing"
   ]
  },
  {
   "cell_type": "code",
   "execution_count": null,
   "id": "bf65a2ee-b8c4-4eaa-bef1-7c4c4800a0d0",
   "metadata": {},
   "outputs": [],
   "source": []
  },
  {
   "cell_type": "code",
   "execution_count": 19,
   "id": "35f24a20",
   "metadata": {},
   "outputs": [],
   "source": [
    "# set the parameters to run the script\n",
    "directories = ['/media/elea/ssd/NPP/TU/550']\n",
    "calib_directory = '/media/elea/ssd/NPP/calib'\n",
    "    \n",
    "# set the parameters to be used for the line visualisation\n",
    "# NB: parameter file accessible in ./src/processingmm/data/parameters_visualisations.json\n",
    "parameter_set = 'default'\n",
    "\n",
    "# set run_all to true in order to run the pipeline on all the folders (even the ones already processed)\n",
    "run_all = True\n",
    "\n",
    "# PDDN_mode can be set to:\n",
    "# 1. 'no': processes without using the PDDN\n",
    "# 2. 'pddn': processes with PDDN when available (for 550nm and 650nm)\n",
    "# 3. 'both': processes both with PDDN when available and without PDDN\n",
    "PDDN_mode = 'no'\n",
    "\n",
    "# Set the wavelengths to be processed\n",
    "# 1. 'all': processes all the available wavelenght\n",
    "# 2. [xxx, yyy]: processes only the wavelenghts 'xxx' and 'yyy'\n",
    "wavelengths = 'all'\n",
    "\n",
    "# Processing mode\n",
    "# 1. 'no_viz': processes only the MM - no visualization at all. useful for fast computation\n",
    "# 2. 'default': processes the MM and plots the polarimetric parameters maps (i.e. depolarization, azimuth, \n",
    "# retardance, diattenuation, azimuth local variability)\n",
    "# 3. 'full': do like default, and additionally plot the MM components, as well as the line\n",
    "# visualization\n",
    "\n",
    "# define if pdf figures should be saved (takes a lot of time) - no impact when processing_mode is set to no_viz\n",
    "\n",
    "# NB: processing time without PDDN\n",
    "# 'no_viz': 0.71s\n",
    "# 'default', save_pdf_figs False: 2.25s\n",
    "# 'default', save_pdf_figs True: 3.60s\n",
    "# 'full', save_pdf_figs False: 3.95s\n",
    "# 'full', save_pdf_figs True: 8.07s\n",
    "processing_mode = 'default'\n",
    "save_pdf_figs = False\n",
    "\n",
    "# define if the wavelenghts should be aligned before processing - and used for the computation\n",
    "align_wls = False\n",
    "\n",
    "parameters = batch_processing.get_parameters(directories, calib_directory, wavelengths, parameter_set = parameter_set, \n",
    "                                PDDN_mode = PDDN_mode, processing_mode = processing_mode, run_all = run_all, \n",
    "                                save_pdf_figs = save_pdf_figs, align_wls = align_wls)"
   ]
  },
  {
   "cell_type": "code",
   "execution_count": null,
   "id": "3e2ea1d8-4794-49c2-9a16-9ae7874fe36c",
   "metadata": {},
   "outputs": [],
   "source": []
  },
  {
   "cell_type": "code",
   "execution_count": 20,
   "id": "017cdd19",
   "metadata": {},
   "outputs": [
    {
     "name": "stdout",
     "output_type": "stream",
     "text": [
      "processing without PDDN...\n"
     ]
    },
    {
     "name": "stderr",
     "output_type": "stream",
     "text": [
      "  0%|                                                     | 0/1 [00:00<?, ?it/s]"
     ]
    },
    {
     "name": "stdout",
     "output_type": "stream",
     "text": [
      "Processing: /media/elea/ssd/NPP/TU/550/2022-09-01_T_HORAO-37-BF_FR_S2_1\n"
     ]
    },
    {
     "name": "stderr",
     "output_type": "stream",
     "text": [
      "100%|█████████████████████████████████████████████| 1/1 [00:03<00:00,  3.81s/it]"
     ]
    },
    {
     "name": "stdout",
     "output_type": "stream",
     "text": [
      "processing without PDDN done.\n",
      "CPU times: user 7.75 s, sys: 547 ms, total: 8.29 s\n",
      "Wall time: 3.81 s\n"
     ]
    },
    {
     "name": "stderr",
     "output_type": "stream",
     "text": [
      "\n"
     ]
    },
    {
     "data": {
      "text/plain": [
       "{'MM_processing': 0.30785202980041504,\n",
       " 'azimuth_std_processing': 0.01401519775390625,\n",
       " 'denoising': 0,\n",
       " 'save_npz': 0.09975314140319824,\n",
       " 'full_processing': 0.7157979011535645,\n",
       " 'plotting': 1.9401719570159912,\n",
       " 'moving': 0.019231319427490234,\n",
       " 'total': 3.8122122287750244}"
      ]
     },
     "execution_count": 20,
     "metadata": {},
     "output_type": "execute_result"
    }
   ],
   "source": [
    "%%time\n",
    "times = batch_processing.batch_process_master(parameters)\n",
    "times"
   ]
  },
  {
   "cell_type": "code",
   "execution_count": null,
   "id": "e69067f7-3087-46e3-8283-075c8d68bf92",
   "metadata": {},
   "outputs": [],
   "source": []
  },
  {
   "cell_type": "code",
   "execution_count": null,
   "id": "4b0d02f6-7993-4b04-94c3-437932aa97b3",
   "metadata": {},
   "outputs": [],
   "source": []
  },
  {
   "cell_type": "code",
   "execution_count": null,
   "id": "61611c16-067f-47a0-8fbc-076472169d33",
   "metadata": {},
   "outputs": [],
   "source": [
    "%%time\n",
    "\n",
    "# Approximate time to process the line visualization save_pdf_figs True : 3.85s\n",
    "# Approximate time to process the line visualization save_pdf_figs False : 4.92s\n",
    "times = batch_processing.batch_visualization(parameters)\n",
    "times"
   ]
  },
  {
   "cell_type": "code",
   "execution_count": null,
   "id": "d24101bc-bdbf-4494-8596-efe0b1ba04fb",
   "metadata": {},
   "outputs": [],
   "source": []
  },
  {
   "cell_type": "code",
   "execution_count": null,
   "id": "7290a266",
   "metadata": {},
   "outputs": [
    {
     "name": "stdout",
     "output_type": "stream",
     "text": [
      "Aligning wavelenght: 600nm\n"
     ]
    },
    {
     "name": "stderr",
     "output_type": "stream",
     "text": [
      "  0%|                                                    | 0/53 [00:00<?, ?it/s]"
     ]
    },
    {
     "name": "stdout",
     "output_type": "stream",
     "text": [
      " \n",
      " >> Exported X3D .cod file as: /media/elea/ssd/NPP/TU/checked/2023-11-02_T_HORAO-84-AF_FR_S1_1/raw_data/600nm/600_Intensite_aligned.cod\n",
      " \n",
      " >> Exported X3D .cod file as: /media/elea/ssd/NPP/TU/checked/2023-11-02_T_HORAO-84-AF_FR_S1_1/raw_data/600nm/600_Intensite_PDDN_aligned.cod\n"
     ]
    },
    {
     "name": "stderr",
     "output_type": "stream",
     "text": [
      "  2%|▊                                           | 1/53 [00:16<13:55, 16.07s/it]"
     ]
    },
    {
     "name": "stdout",
     "output_type": "stream",
     "text": [
      " \n",
      " >> Exported X3D .cod file as: /media/elea/ssd/NPP/TU/checked/2023-09-21_T_HORAO-104-AF_FR_S4_1/raw_data/600nm/600_Intensite_aligned.cod\n"
     ]
    },
    {
     "name": "stderr",
     "output_type": "stream",
     "text": [
      "  4%|█▋                                          | 2/53 [00:24<09:45, 11.47s/it]"
     ]
    },
    {
     "name": "stdout",
     "output_type": "stream",
     "text": [
      " \n",
      " >> Exported X3D .cod file as: /media/elea/ssd/NPP/TU/checked/2023-04-27_T_HORAO-98-BF_FR_S3_1/raw_data/600nm/600_Intensite_aligned.cod\n"
     ]
    },
    {
     "name": "stderr",
     "output_type": "stream",
     "text": [
      "  6%|██▍                                         | 3/53 [00:32<08:22, 10.04s/it]"
     ]
    },
    {
     "name": "stdout",
     "output_type": "stream",
     "text": [
      " \n",
      " >> Exported X3D .cod file as: /media/elea/ssd/NPP/TU/checked/2023-09-22_T_HORAO-104-AF_FR_S3_1/raw_data/600nm/600_Intensite_aligned.cod\n"
     ]
    },
    {
     "name": "stderr",
     "output_type": "stream",
     "text": [
      "  8%|███▎                                        | 4/53 [00:41<07:58,  9.76s/it]"
     ]
    },
    {
     "name": "stdout",
     "output_type": "stream",
     "text": [
      " \n",
      " >> Exported X3D .cod file as: /media/elea/ssd/NPP/TU/checked/2022-11-02_T_HORAO-59-AF_FR_S3_1/raw_data/600nm/600_Intensite_aligned.cod\n",
      " \n",
      " >> Exported X3D .cod file as: /media/elea/ssd/NPP/TU/checked/2022-11-02_T_HORAO-59-AF_FR_S3_1/raw_data/600nm/600_Intensite_PDDN_aligned.cod\n"
     ]
    },
    {
     "name": "stderr",
     "output_type": "stream",
     "text": [
      "  9%|████▏                                       | 5/53 [00:51<07:42,  9.63s/it]"
     ]
    },
    {
     "name": "stdout",
     "output_type": "stream",
     "text": [
      " \n",
      " >> Exported X3D .cod file as: /media/elea/ssd/NPP/TU/checked/2023-06-13_T_HORAO-104-BF_FR_S5_1/raw_data/600nm/600_Intensite_aligned.cod\n"
     ]
    },
    {
     "name": "stderr",
     "output_type": "stream",
     "text": [
      " 11%|████▉                                       | 6/53 [00:59<07:15,  9.26s/it]"
     ]
    },
    {
     "name": "stdout",
     "output_type": "stream",
     "text": [
      " \n",
      " >> Exported X3D .cod file as: /media/elea/ssd/NPP/TU/checked/2023-05-12_T_HORAO-91-AF_FR_S2_1/raw_data/600nm/600_Intensite_aligned.cod\n"
     ]
    },
    {
     "name": "stderr",
     "output_type": "stream",
     "text": [
      " 13%|█████▊                                      | 7/53 [01:16<08:50, 11.54s/it]"
     ]
    },
    {
     "name": "stdout",
     "output_type": "stream",
     "text": [
      " \n",
      " >> Exported X3D .cod file as: /media/elea/ssd/NPP/TU/checked/2023-06-20_T_HORAO-105-BF_FR_S1_1/raw_data/600nm/600_Intensite_aligned.cod\n"
     ]
    },
    {
     "name": "stderr",
     "output_type": "stream",
     "text": [
      " 15%|██████▋                                     | 8/53 [01:36<10:41, 14.25s/it]"
     ]
    },
    {
     "name": "stdout",
     "output_type": "stream",
     "text": [
      " \n",
      " >> Exported X3D .cod file as: /media/elea/ssd/NPP/TU/checked/2023-06-08_T_HORAO-77-AF_FR_S2_1/raw_data/600nm/600_Intensite_aligned.cod\n"
     ]
    },
    {
     "name": "stderr",
     "output_type": "stream",
     "text": [
      " 17%|███████▍                                    | 9/53 [01:48<09:58, 13.61s/it]"
     ]
    },
    {
     "name": "stdout",
     "output_type": "stream",
     "text": [
      " \n",
      " >> Exported X3D .cod file as: /media/elea/ssd/NPP/TU/checked/2022-10-11_T_HORAO-55-BF_FR_S1_1/raw_data/600nm/600_Intensite_aligned.cod\n",
      " \n",
      " >> Exported X3D .cod file as: /media/elea/ssd/NPP/TU/checked/2022-10-11_T_HORAO-55-BF_FR_S1_1/raw_data/600nm/600_Intensite_PDDN_aligned.cod\n"
     ]
    },
    {
     "name": "stderr",
     "output_type": "stream",
     "text": [
      " 19%|████████                                   | 10/53 [01:56<08:36, 12.01s/it]"
     ]
    },
    {
     "name": "stdout",
     "output_type": "stream",
     "text": [
      " \n",
      " >> Exported X3D .cod file as: /media/elea/ssd/NPP/TU/checked/2023-10-19_T_HORAO-98-AF_FR_S2_1/raw_data/600nm/600_Intensite_aligned.cod\n"
     ]
    },
    {
     "name": "stderr",
     "output_type": "stream",
     "text": [
      " 21%|████████▉                                  | 11/53 [02:05<07:43, 11.03s/it]"
     ]
    },
    {
     "name": "stdout",
     "output_type": "stream",
     "text": [
      " \n",
      " >> Exported X3D .cod file as: /media/elea/ssd/NPP/TU/checked/2023-05-02_T_HORAO-99-BF_FR_S1_1/raw_data/600nm/600_Intensite_aligned.cod\n"
     ]
    },
    {
     "name": "stderr",
     "output_type": "stream",
     "text": [
      " 23%|█████████▋                                 | 12/53 [02:13<06:50, 10.01s/it]"
     ]
    },
    {
     "name": "stdout",
     "output_type": "stream",
     "text": [
      " \n",
      " >> Exported X3D .cod file as: /media/elea/ssd/NPP/TU/checked/2023-10-23_T_HORAO-101-AF_FR_S2_1/raw_data/600nm/600_Intensite_aligned.cod\n",
      " \n",
      " >> Exported X3D .cod file as: /media/elea/ssd/NPP/TU/checked/2023-10-23_T_HORAO-101-AF_FR_S2_1/raw_data/600nm/600_Intensite_PDDN_aligned.cod\n"
     ]
    },
    {
     "name": "stderr",
     "output_type": "stream",
     "text": [
      " 25%|██████████▌                                | 13/53 [02:22<06:25,  9.63s/it]"
     ]
    },
    {
     "name": "stdout",
     "output_type": "stream",
     "text": [
      " \n",
      " >> Exported X3D .cod file as: /media/elea/ssd/NPP/TU/checked/2023-06-08_T_HORAO-78-AF_FR_S6_1/raw_data/600nm/600_Intensite_aligned.cod\n"
     ]
    },
    {
     "name": "stderr",
     "output_type": "stream",
     "text": [
      " 26%|███████████▎                               | 14/53 [02:30<05:59,  9.21s/it]"
     ]
    },
    {
     "name": "stdout",
     "output_type": "stream",
     "text": [
      " \n",
      " >> Exported X3D .cod file as: /media/elea/ssd/NPP/TU/checked/2023-10-19_T_HORAO-107-AF_FR_S3_1/raw_data/600nm/600_Intensite_aligned.cod\n",
      " \n",
      " >> Exported X3D .cod file as: /media/elea/ssd/NPP/TU/checked/2023-10-19_T_HORAO-107-AF_FR_S3_1/raw_data/600nm/600_Intensite_PDDN_aligned.cod\n"
     ]
    },
    {
     "name": "stderr",
     "output_type": "stream",
     "text": [
      " 28%|████████████▏                              | 15/53 [02:40<06:02,  9.53s/it]"
     ]
    },
    {
     "name": "stdout",
     "output_type": "stream",
     "text": [
      " \n",
      " >> Exported X3D .cod file as: /media/elea/ssd/NPP/TU/checked/2023-09-22_T_HORAO-99-AF_FR_S1_1/raw_data/600nm/600_Intensite_aligned.cod\n"
     ]
    },
    {
     "name": "stderr",
     "output_type": "stream",
     "text": [
      " 30%|████████████▉                              | 16/53 [02:59<07:34, 12.27s/it]"
     ]
    },
    {
     "name": "stdout",
     "output_type": "stream",
     "text": [
      " \n",
      " >> Exported X3D .cod file as: /media/elea/ssd/NPP/TU/checked/2023-06-08_T_HORAO-71-AF_FR_S3_1/raw_data/600nm/600_Intensite_aligned.cod\n"
     ]
    },
    {
     "name": "stderr",
     "output_type": "stream",
     "text": [
      " 32%|█████████████▊                             | 17/53 [03:17<08:27, 14.11s/it]"
     ]
    },
    {
     "name": "stdout",
     "output_type": "stream",
     "text": [
      " \n",
      " >> Exported X3D .cod file as: /media/elea/ssd/NPP/TU/checked/2023-01-04_T_HORAO-77-BF_FR_S1_1/raw_data/600nm/600_Intensite_aligned.cod\n",
      " \n",
      " >> Exported X3D .cod file as: /media/elea/ssd/NPP/TU/checked/2023-01-04_T_HORAO-77-BF_FR_S1_1/raw_data/600nm/600_Intensite_PDDN_aligned.cod\n"
     ]
    },
    {
     "name": "stderr",
     "output_type": "stream",
     "text": [
      " 34%|██████████████▌                            | 18/53 [03:26<07:20, 12.58s/it]"
     ]
    },
    {
     "name": "stdout",
     "output_type": "stream",
     "text": [
      " \n",
      " >> Exported X3D .cod file as: /media/elea/ssd/NPP/TU/checked/2022-11-08_T_HORAO-64-BF_FR_S1_1/raw_data/600nm/600_Intensite_aligned.cod\n",
      " \n",
      " >> Exported X3D .cod file as: /media/elea/ssd/NPP/TU/checked/2022-11-08_T_HORAO-64-BF_FR_S1_1/raw_data/600nm/600_Intensite_PDDN_aligned.cod\n"
     ]
    },
    {
     "name": "stderr",
     "output_type": "stream",
     "text": [
      " 36%|███████████████▍                           | 19/53 [03:35<06:30, 11.49s/it]"
     ]
    },
    {
     "name": "stdout",
     "output_type": "stream",
     "text": [
      " \n",
      " >> Exported X3D .cod file as: /media/elea/ssd/NPP/TU/checked/2022-11-02_T_HORAO-59-AF_FR_S2_1/raw_data/600nm/600_Intensite_aligned.cod\n",
      " \n",
      " >> Exported X3D .cod file as: /media/elea/ssd/NPP/TU/checked/2022-11-02_T_HORAO-59-AF_FR_S2_1/raw_data/600nm/600_Intensite_PDDN_aligned.cod\n"
     ]
    },
    {
     "name": "stderr",
     "output_type": "stream",
     "text": [
      " 38%|████████████████▏                          | 20/53 [03:44<05:54, 10.73s/it]"
     ]
    },
    {
     "name": "stdout",
     "output_type": "stream",
     "text": [
      " \n",
      " >> Exported X3D .cod file as: /media/elea/ssd/NPP/TU/checked/2023-04-27_T_HORAO-98-BF_FR_S2_1/raw_data/600nm/600_Intensite_aligned.cod\n"
     ]
    },
    {
     "name": "stderr",
     "output_type": "stream",
     "text": [
      " 40%|█████████████████                          | 21/53 [03:52<05:20, 10.02s/it]"
     ]
    },
    {
     "name": "stdout",
     "output_type": "stream",
     "text": [
      " \n",
      " >> Exported X3D .cod file as: /media/elea/ssd/NPP/TU/checked/2023-10-23_T_HORAO-91-AF_FR_S1_1/raw_data/600nm/600_Intensite_aligned.cod\n"
     ]
    },
    {
     "name": "stderr",
     "output_type": "stream",
     "text": [
      " 42%|█████████████████▊                         | 22/53 [04:01<04:56,  9.55s/it]"
     ]
    },
    {
     "name": "stdout",
     "output_type": "stream",
     "text": [
      " \n",
      " >> Exported X3D .cod file as: /media/elea/ssd/NPP/TU/checked/2022-11-22_T_HORAO-68-BF_FR_S2_1/raw_data/600nm/600_Intensite_aligned.cod\n",
      " \n",
      " >> Exported X3D .cod file as: /media/elea/ssd/NPP/TU/checked/2022-11-22_T_HORAO-68-BF_FR_S2_1/raw_data/600nm/600_Intensite_PDDN_aligned.cod\n"
     ]
    },
    {
     "name": "stderr",
     "output_type": "stream",
     "text": [
      " 43%|██████████████████▋                        | 23/53 [04:12<04:58,  9.95s/it]"
     ]
    },
    {
     "name": "stdout",
     "output_type": "stream",
     "text": [
      " \n",
      " >> Exported X3D .cod file as: /media/elea/ssd/NPP/TU/checked/2023-05-12_T_HORAO-95-AF_FR_S1_1/raw_data/600nm/600_Intensite_aligned.cod\n"
     ]
    },
    {
     "name": "stderr",
     "output_type": "stream",
     "text": [
      " 45%|███████████████████▍                       | 24/53 [04:31<06:11, 12.80s/it]"
     ]
    },
    {
     "name": "stdout",
     "output_type": "stream",
     "text": [
      " \n",
      " >> Exported X3D .cod file as: /media/elea/ssd/NPP/TU/checked/2023-08-02_T_HORAO-107-BF_FR_S3_1/raw_data/600nm/600_Intensite_aligned.cod\n"
     ]
    },
    {
     "name": "stderr",
     "output_type": "stream",
     "text": [
      " 47%|████████████████████▎                      | 25/53 [04:48<06:35, 14.14s/it]"
     ]
    },
    {
     "name": "stdout",
     "output_type": "stream",
     "text": [
      " \n",
      " >> Exported X3D .cod file as: /media/elea/ssd/NPP/TU/checked/2022-11-22_T_HORAO-68-BF_FR_S1_1/raw_data/600nm/600_Intensite_aligned.cod\n",
      " \n",
      " >> Exported X3D .cod file as: /media/elea/ssd/NPP/TU/checked/2022-11-22_T_HORAO-68-BF_FR_S1_1/raw_data/600nm/600_Intensite_PDDN_aligned.cod\n"
     ]
    },
    {
     "name": "stderr",
     "output_type": "stream",
     "text": [
      " 49%|█████████████████████                      | 26/53 [04:57<05:38, 12.55s/it]"
     ]
    },
    {
     "name": "stdout",
     "output_type": "stream",
     "text": [
      " \n",
      " >> Exported X3D .cod file as: /media/elea/ssd/NPP/TU/checked/2023-09-21_T_HORAO-104-AF_FR_S6_1/raw_data/600nm/600_Intensite_aligned.cod\n"
     ]
    },
    {
     "name": "stderr",
     "output_type": "stream",
     "text": [
      " 51%|█████████████████████▉                     | 27/53 [05:05<04:51, 11.22s/it]"
     ]
    },
    {
     "name": "stdout",
     "output_type": "stream",
     "text": [
      " \n",
      " >> Exported X3D .cod file as: /media/elea/ssd/NPP/TU/checked/2023-01-04_T_HORAO-77-BF_FR_S2_1/raw_data/600nm/600_Intensite_aligned.cod\n",
      " \n",
      " >> Exported X3D .cod file as: /media/elea/ssd/NPP/TU/checked/2023-01-04_T_HORAO-77-BF_FR_S2_1/raw_data/600nm/600_Intensite_PDDN_aligned.cod\n"
     ]
    },
    {
     "name": "stderr",
     "output_type": "stream",
     "text": [
      " 53%|██████████████████████▋                    | 28/53 [05:14<04:18, 10.34s/it]"
     ]
    },
    {
     "name": "stdout",
     "output_type": "stream",
     "text": [
      " \n",
      " >> Exported X3D .cod file as: /media/elea/ssd/NPP/TU/checked/2022-10-25_T_HORAO-42-AF_FR_S3_1/raw_data/600nm/600_Intensite_aligned.cod\n",
      " \n",
      " >> Exported X3D .cod file as: /media/elea/ssd/NPP/TU/checked/2022-10-25_T_HORAO-42-AF_FR_S3_1/raw_data/600nm/600_Intensite_PDDN_aligned.cod\n"
     ]
    },
    {
     "name": "stderr",
     "output_type": "stream",
     "text": [
      " 55%|███████████████████████▌                   | 29/53 [05:21<03:49,  9.56s/it]"
     ]
    },
    {
     "name": "stdout",
     "output_type": "stream",
     "text": [
      " \n",
      " >> Exported X3D .cod file as: /media/elea/ssd/NPP/TU/checked/2023-06-13_T_HORAO-104-BF_FR_S3_1/raw_data/600nm/600_Intensite_aligned.cod\n"
     ]
    },
    {
     "name": "stderr",
     "output_type": "stream",
     "text": [
      " 57%|████████████████████████▎                  | 30/53 [05:30<03:34,  9.34s/it]"
     ]
    },
    {
     "name": "stdout",
     "output_type": "stream",
     "text": [
      " \n",
      " >> Exported X3D .cod file as: /media/elea/ssd/NPP/TU/checked/2022-11-28_T_HORAO-67-AF_FR_S1_1/raw_data/600nm/600_Intensite_aligned.cod\n",
      " \n",
      " >> Exported X3D .cod file as: /media/elea/ssd/NPP/TU/checked/2022-11-28_T_HORAO-67-AF_FR_S1_1/raw_data/600nm/600_Intensite_PDDN_aligned.cod\n"
     ]
    },
    {
     "name": "stderr",
     "output_type": "stream",
     "text": [
      " 58%|█████████████████████████▏                 | 31/53 [05:41<03:37,  9.90s/it]"
     ]
    },
    {
     "name": "stdout",
     "output_type": "stream",
     "text": [
      " \n",
      " >> Exported X3D .cod file as: /media/elea/ssd/NPP/TU/checked/2023-11-01_T_HORAO-88-AF_FR_S1_1/raw_data/600nm/600_Intensite_aligned.cod\n",
      " \n",
      " >> Exported X3D .cod file as: /media/elea/ssd/NPP/TU/checked/2023-11-01_T_HORAO-88-AF_FR_S1_1/raw_data/600nm/600_Intensite_PDDN_aligned.cod\n"
     ]
    },
    {
     "name": "stderr",
     "output_type": "stream",
     "text": [
      " 60%|█████████████████████████▉                 | 32/53 [06:04<04:45, 13.59s/it]"
     ]
    },
    {
     "name": "stdout",
     "output_type": "stream",
     "text": [
      " \n",
      " >> Exported X3D .cod file as: /media/elea/ssd/NPP/TU/checked/2022-11-01_T_HORAO-59-BF_FR_S2_1/raw_data/600nm/600_Intensite_aligned.cod\n",
      " \n",
      " >> Exported X3D .cod file as: /media/elea/ssd/NPP/TU/checked/2022-11-01_T_HORAO-59-BF_FR_S2_1/raw_data/600nm/600_Intensite_PDDN_aligned.cod\n"
     ]
    },
    {
     "name": "stderr",
     "output_type": "stream",
     "text": [
      " 62%|██████████████████████████▊                | 33/53 [06:18<04:36, 13.84s/it]"
     ]
    },
    {
     "name": "stdout",
     "output_type": "stream",
     "text": [
      " \n",
      " >> Exported X3D .cod file as: /media/elea/ssd/NPP/TU/checked/2022-11-08_T_HORAO-63-BF_FR_S1_1/raw_data/600nm/600_Intensite_aligned.cod\n",
      " \n",
      " >> Exported X3D .cod file as: /media/elea/ssd/NPP/TU/checked/2022-11-08_T_HORAO-63-BF_FR_S1_1/raw_data/600nm/600_Intensite_PDDN_aligned.cod\n"
     ]
    },
    {
     "name": "stderr",
     "output_type": "stream",
     "text": [
      " 64%|███████████████████████████▌               | 34/53 [06:27<03:52, 12.22s/it]"
     ]
    },
    {
     "name": "stdout",
     "output_type": "stream",
     "text": [
      " \n",
      " >> Exported X3D .cod file as: /media/elea/ssd/NPP/TU/checked/2023-01-04_T_HORAO-77-BF_FR_S3_1/raw_data/600nm/600_Intensite_aligned.cod\n",
      " \n",
      " >> Exported X3D .cod file as: /media/elea/ssd/NPP/TU/checked/2023-01-04_T_HORAO-77-BF_FR_S3_1/raw_data/600nm/600_Intensite_PDDN_aligned.cod\n"
     ]
    },
    {
     "name": "stderr",
     "output_type": "stream",
     "text": [
      " 66%|████████████████████████████▍              | 35/53 [06:35<03:21, 11.19s/it]"
     ]
    },
    {
     "name": "stdout",
     "output_type": "stream",
     "text": [
      " \n",
      " >> Exported X3D .cod file as: /media/elea/ssd/NPP/TU/checked/2023-10-23_T_HORAO-103-AF_FR_S1_1/raw_data/600nm/600_Intensite_aligned.cod\n",
      " \n",
      " >> Exported X3D .cod file as: /media/elea/ssd/NPP/TU/checked/2023-10-23_T_HORAO-103-AF_FR_S1_1/raw_data/600nm/600_Intensite_PDDN_aligned.cod\n"
     ]
    },
    {
     "name": "stderr",
     "output_type": "stream",
     "text": [
      " 68%|█████████████████████████████▏             | 36/53 [06:45<03:00, 10.64s/it]"
     ]
    },
    {
     "name": "stdout",
     "output_type": "stream",
     "text": [
      " \n",
      " >> Exported X3D .cod file as: /media/elea/ssd/NPP/TU/checked/2023-06-13_T_HORAO-104-BF_FR_S2_1/raw_data/600nm/600_Intensite_aligned.cod\n"
     ]
    },
    {
     "name": "stderr",
     "output_type": "stream",
     "text": [
      " 70%|██████████████████████████████             | 37/53 [06:53<02:40, 10.03s/it]"
     ]
    },
    {
     "name": "stdout",
     "output_type": "stream",
     "text": [
      " \n",
      " >> Exported X3D .cod file as: /media/elea/ssd/NPP/TU/checked/2022-11-08_T_HORAO-63-BF_FR_S2_1/raw_data/600nm/600_Intensite_aligned.cod\n",
      " \n",
      " >> Exported X3D .cod file as: /media/elea/ssd/NPP/TU/checked/2022-11-08_T_HORAO-63-BF_FR_S2_1/raw_data/600nm/600_Intensite_PDDN_aligned.cod\n"
     ]
    },
    {
     "name": "stderr",
     "output_type": "stream",
     "text": [
      " 72%|██████████████████████████████▊            | 38/53 [07:03<02:28,  9.90s/it]"
     ]
    },
    {
     "name": "stdout",
     "output_type": "stream",
     "text": [
      " \n",
      " >> Exported X3D .cod file as: /media/elea/ssd/NPP/TU/checked/2023-10-23_T_HORAO-101-AF_FR_S1_1/raw_data/600nm/600_Intensite_aligned.cod\n"
     ]
    },
    {
     "name": "stderr",
     "output_type": "stream",
     "text": [
      " 74%|███████████████████████████████▋           | 39/53 [07:19<02:42, 11.63s/it]"
     ]
    },
    {
     "name": "stdout",
     "output_type": "stream",
     "text": [
      " \n",
      " >> Exported X3D .cod file as: /media/elea/ssd/NPP/TU/checked/2022-10-14_T_HORAO-45-AF_FR_S3_1/raw_data/600nm/600_Intensite_aligned.cod\n",
      " \n",
      " >> Exported X3D .cod file as: /media/elea/ssd/NPP/TU/checked/2022-10-14_T_HORAO-45-AF_FR_S3_1/raw_data/600nm/600_Intensite_PDDN_aligned.cod\n"
     ]
    },
    {
     "name": "stderr",
     "output_type": "stream",
     "text": [
      " 75%|████████████████████████████████▍          | 40/53 [07:36<02:55, 13.52s/it]"
     ]
    },
    {
     "name": "stdout",
     "output_type": "stream",
     "text": [
      " \n",
      " >> Exported X3D .cod file as: /media/elea/ssd/NPP/TU/checked/2023-05-12_T_HORAO-100-AF_FR_S1_1/raw_data/600nm/600_Intensite_aligned.cod\n"
     ]
    },
    {
     "name": "stderr",
     "output_type": "stream",
     "text": [
      " 77%|█████████████████████████████████▎         | 41/53 [07:45<02:24, 12.08s/it]"
     ]
    },
    {
     "name": "stdout",
     "output_type": "stream",
     "text": [
      " \n",
      " >> Exported X3D .cod file as: /media/elea/ssd/NPP/TU/checked/2023-05-26_T_HORAO-103-BF_FR_S1_1/raw_data/600nm/600_Intensite_aligned.cod\n"
     ]
    },
    {
     "name": "stderr",
     "output_type": "stream",
     "text": [
      " 79%|██████████████████████████████████         | 42/53 [07:53<01:59, 10.89s/it]"
     ]
    },
    {
     "name": "stdout",
     "output_type": "stream",
     "text": [
      " \n",
      " >> Exported X3D .cod file as: /media/elea/ssd/NPP/TU/checked/2023-10-23_T_HORAO-78-AF_FR_S4_1/raw_data/600nm/600_Intensite_aligned.cod\n",
      " \n",
      " >> Exported X3D .cod file as: /media/elea/ssd/NPP/TU/checked/2023-10-23_T_HORAO-78-AF_FR_S4_1/raw_data/600nm/600_Intensite_PDDN_aligned.cod\n"
     ]
    },
    {
     "name": "stderr",
     "output_type": "stream",
     "text": [
      " 81%|██████████████████████████████████▉        | 43/53 [08:03<01:44, 10.46s/it]"
     ]
    },
    {
     "name": "stdout",
     "output_type": "stream",
     "text": [
      " \n",
      " >> Exported X3D .cod file as: /media/elea/ssd/NPP/TU/checked/2023-06-07_T_HORAO-94-AF_FR_S2_1/raw_data/600nm/600_Intensite_aligned.cod\n"
     ]
    },
    {
     "name": "stderr",
     "output_type": "stream",
     "text": [
      " 83%|███████████████████████████████████▋       | 44/53 [08:11<01:27,  9.68s/it]"
     ]
    },
    {
     "name": "stdout",
     "output_type": "stream",
     "text": [
      " \n",
      " >> Exported X3D .cod file as: /media/elea/ssd/NPP/TU/checked/2023-09-21_T_HORAO-105-AF_FR_S1_1/raw_data/600nm/600_Intensite_aligned.cod\n"
     ]
    },
    {
     "name": "stderr",
     "output_type": "stream",
     "text": [
      " 85%|████████████████████████████████████▌      | 45/53 [08:19<01:15,  9.39s/it]"
     ]
    },
    {
     "name": "stdout",
     "output_type": "stream",
     "text": [
      " \n",
      " >> Exported X3D .cod file as: /media/elea/ssd/NPP/TU/checked/2023-06-08_T_HORAO-77-AF_FR_S1_1/raw_data/600nm/600_Intensite_aligned.cod\n"
     ]
    },
    {
     "name": "stderr",
     "output_type": "stream",
     "text": [
      " 87%|█████████████████████████████████████▎     | 46/53 [08:29<01:06,  9.44s/it]"
     ]
    },
    {
     "name": "stdout",
     "output_type": "stream",
     "text": [
      " \n",
      " >> Exported X3D .cod file as: /media/elea/ssd/NPP/TU/checked/2023-05-04_T_HORAO-100-BF_FR_S1_1/raw_data/600nm/600_Intensite_aligned.cod\n"
     ]
    },
    {
     "name": "stderr",
     "output_type": "stream",
     "text": [
      " 89%|██████████████████████████████████████▏    | 47/53 [08:46<01:10, 11.79s/it]"
     ]
    },
    {
     "name": "stdout",
     "output_type": "stream",
     "text": [
      " \n",
      " >> Exported X3D .cod file as: /media/elea/ssd/NPP/TU/checked/2023-06-08_T_HORAO-77-AF_FR_S3_1/raw_data/600nm/600_Intensite_aligned.cod\n"
     ]
    },
    {
     "name": "stderr",
     "output_type": "stream",
     "text": [
      " 91%|██████████████████████████████████████▉    | 48/53 [08:58<00:59, 11.95s/it]"
     ]
    },
    {
     "name": "stdout",
     "output_type": "stream",
     "text": [
      " \n",
      " >> Exported X3D .cod file as: /media/elea/ssd/NPP/TU/checked/2023-06-07_T_HORAO-100-AF_FR_S2_1/raw_data/600nm/600_Intensite_aligned.cod\n"
     ]
    },
    {
     "name": "stderr",
     "output_type": "stream",
     "text": [
      " 92%|███████████████████████████████████████▊   | 49/53 [09:07<00:43, 10.90s/it]"
     ]
    },
    {
     "name": "stdout",
     "output_type": "stream",
     "text": [
      " \n",
      " >> Exported X3D .cod file as: /media/elea/ssd/NPP/TU/checked/2023-06-08_T_HORAO-78-AF_FR_S7_1/raw_data/600nm/600_Intensite_aligned.cod\n"
     ]
    },
    {
     "name": "stderr",
     "output_type": "stream",
     "text": [
      " 94%|████████████████████████████████████████▌  | 50/53 [09:15<00:30, 10.13s/it]"
     ]
    },
    {
     "name": "stdout",
     "output_type": "stream",
     "text": [
      " \n",
      " >> Exported X3D .cod file as: /media/elea/ssd/NPP/TU/checked/2023-10-19_T_HORAO-98-AF_FR_S3_1/raw_data/600nm/600_Intensite_aligned.cod\n"
     ]
    },
    {
     "name": "stderr",
     "output_type": "stream",
     "text": [
      " 96%|█████████████████████████████████████████▍ | 51/53 [09:24<00:19,  9.78s/it]"
     ]
    },
    {
     "name": "stdout",
     "output_type": "stream",
     "text": [
      " \n",
      " >> Exported X3D .cod file as: /media/elea/ssd/NPP/TU/checked/2022-11-22_T_HORAO-67-BF_FR_S1_1/raw_data/600nm/600_Intensite_aligned.cod\n",
      " \n",
      " >> Exported X3D .cod file as: /media/elea/ssd/NPP/TU/checked/2022-11-22_T_HORAO-67-BF_FR_S1_1/raw_data/600nm/600_Intensite_PDDN_aligned.cod\n"
     ]
    },
    {
     "name": "stderr",
     "output_type": "stream",
     "text": [
      " 98%|██████████████████████████████████████████▏| 52/53 [09:33<00:09,  9.43s/it]"
     ]
    },
    {
     "name": "stdout",
     "output_type": "stream",
     "text": [
      " \n",
      " >> Exported X3D .cod file as: /media/elea/ssd/NPP/TU/checked/2023-09-21_T_HORAO-104-AF_FR_S5_1/raw_data/600nm/600_Intensite_aligned.cod\n"
     ]
    },
    {
     "name": "stderr",
     "output_type": "stream",
     "text": [
      "100%|███████████████████████████████████████████| 53/53 [09:41<00:00, 10.97s/it]\n"
     ]
    },
    {
     "name": "stdout",
     "output_type": "stream",
     "text": [
      "Aligning wavelenght: 650nm\n"
     ]
    },
    {
     "name": "stderr",
     "output_type": "stream",
     "text": [
      "  0%|                                                    | 0/54 [00:00<?, ?it/s]"
     ]
    },
    {
     "name": "stdout",
     "output_type": "stream",
     "text": [
      " \n",
      " >> Exported X3D .cod file as: /media/elea/ssd/NPP/TU/checked/2023-11-02_T_HORAO-84-AF_FR_S1_1/raw_data/650nm/650_Intensite_aligned.cod\n"
     ]
    },
    {
     "name": "stderr",
     "output_type": "stream",
     "text": [
      "  2%|▊                                           | 1/54 [00:08<07:10,  8.12s/it]"
     ]
    },
    {
     "name": "stdout",
     "output_type": "stream",
     "text": [
      " \n",
      " >> Exported X3D .cod file as: /media/elea/ssd/NPP/TU/checked/2023-09-21_T_HORAO-104-AF_FR_S4_1/raw_data/650nm/650_Intensite_aligned.cod\n"
     ]
    },
    {
     "name": "stderr",
     "output_type": "stream",
     "text": [
      "  4%|█▋                                          | 2/54 [00:16<07:19,  8.45s/it]"
     ]
    },
    {
     "name": "stdout",
     "output_type": "stream",
     "text": [
      " \n",
      " >> Exported X3D .cod file as: /media/elea/ssd/NPP/TU/checked/2023-04-27_T_HORAO-98-BF_FR_S3_1/raw_data/650nm/650_Intensite_aligned.cod\n"
     ]
    },
    {
     "name": "stderr",
     "output_type": "stream",
     "text": [
      "  6%|██▍                                         | 3/54 [00:26<07:42,  9.07s/it]"
     ]
    },
    {
     "name": "stdout",
     "output_type": "stream",
     "text": [
      " \n",
      " >> Exported X3D .cod file as: /media/elea/ssd/NPP/TU/checked/2023-09-22_T_HORAO-104-AF_FR_S3_1/raw_data/650nm/650_Intensite_aligned.cod\n"
     ]
    },
    {
     "name": "stderr",
     "output_type": "stream",
     "text": [
      "  7%|███▎                                        | 4/54 [00:45<10:37, 12.76s/it]"
     ]
    },
    {
     "name": "stdout",
     "output_type": "stream",
     "text": [
      " \n",
      " >> Exported X3D .cod file as: /media/elea/ssd/NPP/TU/checked/2022-11-02_T_HORAO-59-AF_FR_S3_1/raw_data/650nm/650_Intensite_aligned.cod\n"
     ]
    },
    {
     "name": "stderr",
     "output_type": "stream",
     "text": [
      "  9%|████                                        | 5/54 [00:56<10:02, 12.30s/it]"
     ]
    },
    {
     "name": "stdout",
     "output_type": "stream",
     "text": [
      " \n",
      " >> Exported X3D .cod file as: /media/elea/ssd/NPP/TU/checked/2023-06-13_T_HORAO-104-BF_FR_S5_1/raw_data/650nm/650_Intensite_aligned.cod\n"
     ]
    },
    {
     "name": "stderr",
     "output_type": "stream",
     "text": [
      " 11%|████▉                                       | 6/54 [01:04<08:34, 10.73s/it]"
     ]
    },
    {
     "name": "stdout",
     "output_type": "stream",
     "text": [
      " \n",
      " >> Exported X3D .cod file as: /media/elea/ssd/NPP/TU/checked/2023-05-12_T_HORAO-91-AF_FR_S2_1/raw_data/650nm/650_Intensite_aligned.cod\n"
     ]
    },
    {
     "name": "stderr",
     "output_type": "stream",
     "text": [
      " 13%|█████▋                                      | 7/54 [01:12<07:48,  9.98s/it]"
     ]
    },
    {
     "name": "stdout",
     "output_type": "stream",
     "text": [
      " \n",
      " >> Exported X3D .cod file as: /media/elea/ssd/NPP/TU/checked/2023-06-20_T_HORAO-105-BF_FR_S1_1/raw_data/650nm/650_Intensite_aligned.cod\n"
     ]
    },
    {
     "name": "stderr",
     "output_type": "stream",
     "text": [
      " 15%|██████▌                                     | 8/54 [01:21<07:17,  9.52s/it]"
     ]
    },
    {
     "name": "stdout",
     "output_type": "stream",
     "text": [
      " \n",
      " >> Exported X3D .cod file as: /media/elea/ssd/NPP/TU/checked/2023-06-08_T_HORAO-77-AF_FR_S2_1/raw_data/650nm/650_Intensite_aligned.cod\n"
     ]
    },
    {
     "name": "stderr",
     "output_type": "stream",
     "text": [
      " 17%|███████▎                                    | 9/54 [01:29<06:48,  9.08s/it]"
     ]
    },
    {
     "name": "stdout",
     "output_type": "stream",
     "text": [
      " \n",
      " >> Exported X3D .cod file as: /media/elea/ssd/NPP/TU/checked/2022-10-11_T_HORAO-55-BF_FR_S1_1/raw_data/650nm/650_Intensite_aligned.cod\n"
     ]
    },
    {
     "name": "stderr",
     "output_type": "stream",
     "text": [
      " 19%|███████▉                                   | 10/54 [01:36<06:19,  8.62s/it]"
     ]
    },
    {
     "name": "stdout",
     "output_type": "stream",
     "text": [
      " \n",
      " >> Exported X3D .cod file as: /media/elea/ssd/NPP/TU/checked/2023-10-19_T_HORAO-98-AF_FR_S2_1/raw_data/650nm/650_Intensite_aligned.cod\n"
     ]
    },
    {
     "name": "stderr",
     "output_type": "stream",
     "text": [
      " 20%|████████▊                                  | 11/54 [01:44<06:03,  8.45s/it]"
     ]
    },
    {
     "name": "stdout",
     "output_type": "stream",
     "text": [
      " \n",
      " >> Exported X3D .cod file as: /media/elea/ssd/NPP/TU/checked/2023-09-21_T_HORAO-104-AF_FR_S2_1/raw_data/650nm/650_Intensite_aligned.cod\n"
     ]
    },
    {
     "name": "stderr",
     "output_type": "stream",
     "text": [
      " 22%|█████████▌                                 | 12/54 [01:53<05:57,  8.51s/it]"
     ]
    },
    {
     "name": "stdout",
     "output_type": "stream",
     "text": [
      " \n",
      " >> Exported X3D .cod file as: /media/elea/ssd/NPP/TU/checked/2023-05-02_T_HORAO-99-BF_FR_S1_1/raw_data/650nm/650_Intensite_aligned.cod\n"
     ]
    },
    {
     "name": "stderr",
     "output_type": "stream",
     "text": [
      " 24%|██████████▎                                | 13/54 [02:01<05:41,  8.32s/it]"
     ]
    },
    {
     "name": "stdout",
     "output_type": "stream",
     "text": [
      " \n",
      " >> Exported X3D .cod file as: /media/elea/ssd/NPP/TU/checked/2023-10-23_T_HORAO-101-AF_FR_S2_1/raw_data/650nm/650_Intensite_aligned.cod\n"
     ]
    },
    {
     "name": "stderr",
     "output_type": "stream",
     "text": [
      " 26%|███████████▏                               | 14/54 [02:10<05:38,  8.47s/it]"
     ]
    },
    {
     "name": "stdout",
     "output_type": "stream",
     "text": [
      " \n",
      " >> Exported X3D .cod file as: /media/elea/ssd/NPP/TU/checked/2023-06-08_T_HORAO-78-AF_FR_S6_1/raw_data/650nm/650_Intensite_aligned.cod\n"
     ]
    },
    {
     "name": "stderr",
     "output_type": "stream",
     "text": [
      " 28%|███████████▉                               | 15/54 [02:27<07:18, 11.25s/it]"
     ]
    },
    {
     "name": "stdout",
     "output_type": "stream",
     "text": [
      " \n",
      " >> Exported X3D .cod file as: /media/elea/ssd/NPP/TU/checked/2023-10-19_T_HORAO-107-AF_FR_S3_1/raw_data/650nm/650_Intensite_aligned.cod\n"
     ]
    },
    {
     "name": "stderr",
     "output_type": "stream",
     "text": [
      " 30%|████████████▋                              | 16/54 [02:37<06:42, 10.59s/it]"
     ]
    },
    {
     "name": "stdout",
     "output_type": "stream",
     "text": [
      " \n",
      " >> Exported X3D .cod file as: /media/elea/ssd/NPP/TU/checked/2023-09-22_T_HORAO-99-AF_FR_S1_1/raw_data/650nm/650_Intensite_aligned.cod\n"
     ]
    },
    {
     "name": "stderr",
     "output_type": "stream",
     "text": [
      " 31%|█████████████▌                             | 17/54 [02:44<06:01,  9.77s/it]"
     ]
    },
    {
     "name": "stdout",
     "output_type": "stream",
     "text": [
      " \n",
      " >> Exported X3D .cod file as: /media/elea/ssd/NPP/TU/checked/2023-06-08_T_HORAO-71-AF_FR_S3_1/raw_data/650nm/650_Intensite_aligned.cod\n"
     ]
    },
    {
     "name": "stderr",
     "output_type": "stream",
     "text": [
      " 33%|██████████████▎                            | 18/54 [02:53<05:34,  9.28s/it]"
     ]
    },
    {
     "name": "stdout",
     "output_type": "stream",
     "text": [
      " \n",
      " >> Exported X3D .cod file as: /media/elea/ssd/NPP/TU/checked/2023-01-04_T_HORAO-77-BF_FR_S1_1/raw_data/650nm/650_Intensite_aligned.cod\n"
     ]
    },
    {
     "name": "stderr",
     "output_type": "stream",
     "text": [
      " 35%|███████████████▏                           | 19/54 [03:01<05:16,  9.04s/it]"
     ]
    },
    {
     "name": "stdout",
     "output_type": "stream",
     "text": [
      " \n",
      " >> Exported X3D .cod file as: /media/elea/ssd/NPP/TU/checked/2022-11-08_T_HORAO-64-BF_FR_S1_1/raw_data/650nm/650_Intensite_aligned.cod\n"
     ]
    },
    {
     "name": "stderr",
     "output_type": "stream",
     "text": [
      " 37%|███████████████▉                           | 20/54 [03:10<05:02,  8.90s/it]"
     ]
    },
    {
     "name": "stdout",
     "output_type": "stream",
     "text": [
      " \n",
      " >> Exported X3D .cod file as: /media/elea/ssd/NPP/TU/checked/2022-11-02_T_HORAO-59-AF_FR_S2_1/raw_data/650nm/650_Intensite_aligned.cod\n"
     ]
    },
    {
     "name": "stderr",
     "output_type": "stream",
     "text": [
      " 39%|████████████████▋                          | 21/54 [03:18<04:44,  8.63s/it]"
     ]
    },
    {
     "name": "stdout",
     "output_type": "stream",
     "text": [
      " \n",
      " >> Exported X3D .cod file as: /media/elea/ssd/NPP/TU/checked/2023-04-27_T_HORAO-98-BF_FR_S2_1/raw_data/650nm/650_Intensite_aligned.cod\n"
     ]
    },
    {
     "name": "stderr",
     "output_type": "stream",
     "text": [
      " 41%|█████████████████▌                         | 22/54 [03:27<04:40,  8.77s/it]"
     ]
    },
    {
     "name": "stdout",
     "output_type": "stream",
     "text": [
      " \n",
      " >> Exported X3D .cod file as: /media/elea/ssd/NPP/TU/checked/2023-10-23_T_HORAO-91-AF_FR_S1_1/raw_data/650nm/650_Intensite_aligned.cod\n"
     ]
    },
    {
     "name": "stderr",
     "output_type": "stream",
     "text": [
      " 43%|██████████████████▎                        | 23/54 [03:35<04:25,  8.56s/it]"
     ]
    },
    {
     "name": "stdout",
     "output_type": "stream",
     "text": [
      " \n",
      " >> Exported X3D .cod file as: /media/elea/ssd/NPP/TU/checked/2022-11-22_T_HORAO-68-BF_FR_S2_1/raw_data/650nm/650_Intensite_aligned.cod\n"
     ]
    },
    {
     "name": "stderr",
     "output_type": "stream",
     "text": [
      " 44%|███████████████████                        | 24/54 [03:43<04:17,  8.58s/it]"
     ]
    },
    {
     "name": "stdout",
     "output_type": "stream",
     "text": [
      " \n",
      " >> Exported X3D .cod file as: /media/elea/ssd/NPP/TU/checked/2023-05-12_T_HORAO-95-AF_FR_S1_1/raw_data/650nm/650_Intensite_aligned.cod\n"
     ]
    },
    {
     "name": "stderr",
     "output_type": "stream",
     "text": [
      " 46%|███████████████████▉                       | 25/54 [03:53<04:21,  9.02s/it]"
     ]
    },
    {
     "name": "stdout",
     "output_type": "stream",
     "text": [
      " \n",
      " >> Exported X3D .cod file as: /media/elea/ssd/NPP/TU/checked/2023-08-02_T_HORAO-107-BF_FR_S3_1/raw_data/650nm/650_Intensite_aligned.cod\n"
     ]
    },
    {
     "name": "stderr",
     "output_type": "stream",
     "text": [
      " 48%|████████████████████▋                      | 26/54 [04:10<05:12, 11.15s/it]"
     ]
    },
    {
     "name": "stdout",
     "output_type": "stream",
     "text": [
      " \n",
      " >> Exported X3D .cod file as: /media/elea/ssd/NPP/TU/checked/2022-11-22_T_HORAO-68-BF_FR_S1_1/raw_data/650nm/650_Intensite_aligned.cod\n"
     ]
    },
    {
     "name": "stderr",
     "output_type": "stream",
     "text": [
      " 50%|█████████████████████▌                     | 27/54 [04:19<04:46, 10.62s/it]"
     ]
    },
    {
     "name": "stdout",
     "output_type": "stream",
     "text": [
      " \n",
      " >> Exported X3D .cod file as: /media/elea/ssd/NPP/TU/checked/2023-09-21_T_HORAO-104-AF_FR_S6_1/raw_data/650nm/650_Intensite_aligned.cod\n"
     ]
    },
    {
     "name": "stderr",
     "output_type": "stream",
     "text": [
      " 52%|██████████████████████▎                    | 28/54 [04:27<04:14,  9.79s/it]"
     ]
    },
    {
     "name": "stdout",
     "output_type": "stream",
     "text": [
      " \n",
      " >> Exported X3D .cod file as: /media/elea/ssd/NPP/TU/checked/2023-01-04_T_HORAO-77-BF_FR_S2_1/raw_data/650nm/650_Intensite_aligned.cod\n"
     ]
    },
    {
     "name": "stderr",
     "output_type": "stream",
     "text": [
      " 54%|███████████████████████                    | 29/54 [04:35<03:54,  9.39s/it]"
     ]
    },
    {
     "name": "stdout",
     "output_type": "stream",
     "text": [
      " \n",
      " >> Exported X3D .cod file as: /media/elea/ssd/NPP/TU/checked/2022-10-25_T_HORAO-42-AF_FR_S3_1/raw_data/650nm/650_Intensite_aligned.cod\n"
     ]
    },
    {
     "name": "stderr",
     "output_type": "stream",
     "text": [
      " 56%|███████████████████████▉                   | 30/54 [04:43<03:30,  8.77s/it]"
     ]
    },
    {
     "name": "stdout",
     "output_type": "stream",
     "text": [
      " \n",
      " >> Exported X3D .cod file as: /media/elea/ssd/NPP/TU/checked/2023-06-13_T_HORAO-104-BF_FR_S3_1/raw_data/650nm/650_Intensite_aligned.cod\n"
     ]
    },
    {
     "name": "stderr",
     "output_type": "stream",
     "text": [
      " 57%|████████████████████████▋                  | 31/54 [04:51<03:20,  8.74s/it]"
     ]
    },
    {
     "name": "stdout",
     "output_type": "stream",
     "text": [
      " \n",
      " >> Exported X3D .cod file as: /media/elea/ssd/NPP/TU/checked/2022-11-28_T_HORAO-67-AF_FR_S1_1/raw_data/650nm/650_Intensite_aligned.cod\n"
     ]
    },
    {
     "name": "stderr",
     "output_type": "stream",
     "text": [
      " 59%|█████████████████████████▍                 | 32/54 [04:59<03:07,  8.52s/it]"
     ]
    },
    {
     "name": "stdout",
     "output_type": "stream",
     "text": [
      " \n",
      " >> Exported X3D .cod file as: /media/elea/ssd/NPP/TU/checked/2023-11-01_T_HORAO-88-AF_FR_S1_1/raw_data/650nm/650_Intensite_aligned.cod\n"
     ]
    },
    {
     "name": "stderr",
     "output_type": "stream",
     "text": [
      " 61%|██████████████████████████▎                | 33/54 [05:07<02:56,  8.41s/it]"
     ]
    },
    {
     "name": "stdout",
     "output_type": "stream",
     "text": [
      " \n",
      " >> Exported X3D .cod file as: /media/elea/ssd/NPP/TU/checked/2022-11-01_T_HORAO-59-BF_FR_S2_1/raw_data/650nm/650_Intensite_aligned.cod\n"
     ]
    },
    {
     "name": "stderr",
     "output_type": "stream",
     "text": [
      " 63%|███████████████████████████                | 34/54 [05:16<02:47,  8.37s/it]"
     ]
    },
    {
     "name": "stdout",
     "output_type": "stream",
     "text": [
      " \n",
      " >> Exported X3D .cod file as: /media/elea/ssd/NPP/TU/checked/2022-11-08_T_HORAO-63-BF_FR_S1_1/raw_data/650nm/650_Intensite_aligned.cod\n"
     ]
    },
    {
     "name": "stderr",
     "output_type": "stream",
     "text": [
      " 65%|███████████████████████████▊               | 35/54 [05:24<02:39,  8.39s/it]"
     ]
    },
    {
     "name": "stdout",
     "output_type": "stream",
     "text": [
      " \n",
      " >> Exported X3D .cod file as: /media/elea/ssd/NPP/TU/checked/2023-01-04_T_HORAO-77-BF_FR_S3_1/raw_data/650nm/650_Intensite_aligned.cod\n"
     ]
    },
    {
     "name": "stderr",
     "output_type": "stream",
     "text": [
      " 67%|████████████████████████████▋              | 36/54 [05:34<02:38,  8.83s/it]"
     ]
    },
    {
     "name": "stdout",
     "output_type": "stream",
     "text": [
      " \n",
      " >> Exported X3D .cod file as: /media/elea/ssd/NPP/TU/checked/2023-10-23_T_HORAO-103-AF_FR_S1_1/raw_data/650nm/650_Intensite_aligned.cod\n"
     ]
    },
    {
     "name": "stderr",
     "output_type": "stream",
     "text": [
      " 69%|█████████████████████████████▍             | 37/54 [05:49<03:03, 10.81s/it]"
     ]
    },
    {
     "name": "stdout",
     "output_type": "stream",
     "text": [
      " \n",
      " >> Exported X3D .cod file as: /media/elea/ssd/NPP/TU/checked/2023-06-13_T_HORAO-104-BF_FR_S2_1/raw_data/650nm/650_Intensite_aligned.cod\n"
     ]
    },
    {
     "name": "stderr",
     "output_type": "stream",
     "text": [
      " 70%|██████████████████████████████▎            | 38/54 [05:58<02:42, 10.13s/it]"
     ]
    },
    {
     "name": "stdout",
     "output_type": "stream",
     "text": [
      " \n",
      " >> Exported X3D .cod file as: /media/elea/ssd/NPP/TU/checked/2022-11-08_T_HORAO-63-BF_FR_S2_1/raw_data/650nm/650_Intensite_aligned.cod\n"
     ]
    },
    {
     "name": "stderr",
     "output_type": "stream",
     "text": [
      " 72%|███████████████████████████████            | 39/54 [06:06<02:22,  9.50s/it]"
     ]
    },
    {
     "name": "stdout",
     "output_type": "stream",
     "text": [
      " \n",
      " >> Exported X3D .cod file as: /media/elea/ssd/NPP/TU/checked/2023-10-23_T_HORAO-101-AF_FR_S1_1/raw_data/650nm/650_Intensite_aligned.cod\n"
     ]
    },
    {
     "name": "stderr",
     "output_type": "stream",
     "text": [
      " 74%|███████████████████████████████▊           | 40/54 [06:15<02:09,  9.25s/it]"
     ]
    },
    {
     "name": "stdout",
     "output_type": "stream",
     "text": [
      " \n",
      " >> Exported X3D .cod file as: /media/elea/ssd/NPP/TU/checked/2022-10-14_T_HORAO-45-AF_FR_S3_1/raw_data/650nm/650_Intensite_aligned.cod\n"
     ]
    },
    {
     "name": "stderr",
     "output_type": "stream",
     "text": [
      " 76%|████████████████████████████████▋          | 41/54 [06:23<01:56,  8.96s/it]"
     ]
    },
    {
     "name": "stdout",
     "output_type": "stream",
     "text": [
      " \n",
      " >> Exported X3D .cod file as: /media/elea/ssd/NPP/TU/checked/2023-05-12_T_HORAO-100-AF_FR_S1_1/raw_data/650nm/650_Intensite_aligned.cod\n"
     ]
    },
    {
     "name": "stderr",
     "output_type": "stream",
     "text": [
      " 78%|█████████████████████████████████▍         | 42/54 [06:31<01:45,  8.75s/it]"
     ]
    },
    {
     "name": "stdout",
     "output_type": "stream",
     "text": [
      " \n",
      " >> Exported X3D .cod file as: /media/elea/ssd/NPP/TU/checked/2023-05-26_T_HORAO-103-BF_FR_S1_1/raw_data/650nm/650_Intensite_aligned.cod\n"
     ]
    },
    {
     "name": "stderr",
     "output_type": "stream",
     "text": [
      " 80%|██████████████████████████████████▏        | 43/54 [06:39<01:32,  8.38s/it]"
     ]
    },
    {
     "name": "stdout",
     "output_type": "stream",
     "text": [
      " \n",
      " >> Exported X3D .cod file as: /media/elea/ssd/NPP/TU/checked/2023-10-23_T_HORAO-78-AF_FR_S4_1/raw_data/650nm/650_Intensite_aligned.cod\n"
     ]
    },
    {
     "name": "stderr",
     "output_type": "stream",
     "text": [
      " 81%|███████████████████████████████████        | 44/54 [06:47<01:22,  8.30s/it]"
     ]
    },
    {
     "name": "stdout",
     "output_type": "stream",
     "text": [
      " \n",
      " >> Exported X3D .cod file as: /media/elea/ssd/NPP/TU/checked/2023-06-07_T_HORAO-94-AF_FR_S2_1/raw_data/650nm/650_Intensite_aligned.cod\n"
     ]
    },
    {
     "name": "stderr",
     "output_type": "stream",
     "text": [
      " 83%|███████████████████████████████████▊       | 45/54 [06:55<01:14,  8.29s/it]"
     ]
    },
    {
     "name": "stdout",
     "output_type": "stream",
     "text": [
      " \n",
      " >> Exported X3D .cod file as: /media/elea/ssd/NPP/TU/checked/2023-09-21_T_HORAO-105-AF_FR_S1_1/raw_data/650nm/650_Intensite_aligned.cod\n"
     ]
    },
    {
     "name": "stderr",
     "output_type": "stream",
     "text": [
      "WARNING: In /tmp/SimpleITK-build/ITK-prefix/include/ITK-5.4/itkLandmarkBasedTransformInitializer.hxx, line 735\n",
      "LandmarkBasedTransformInitializer (0x5ebf2a7289d0): Less than 2 landmarks available. Rotation is not computed\n",
      "\n"
     ]
    },
    {
     "name": "stdout",
     "output_type": "stream",
     "text": [
      " \n",
      " >> Exported X3D .cod file as: /media/elea/ssd/NPP/TU/checked/2023-06-08_T_HORAO-77-AF_FR_S1_1/raw_data/650nm/650_Intensite_aligned.cod\n"
     ]
    },
    {
     "name": "stderr",
     "output_type": "stream",
     "text": [
      " 87%|█████████████████████████████████████▍     | 47/54 [07:12<00:59,  8.48s/it]"
     ]
    },
    {
     "name": "stdout",
     "output_type": "stream",
     "text": [
      " \n",
      " >> Exported X3D .cod file as: /media/elea/ssd/NPP/TU/checked/2023-05-04_T_HORAO-100-BF_FR_S1_1/raw_data/650nm/650_Intensite_aligned.cod\n"
     ]
    },
    {
     "name": "stderr",
     "output_type": "stream",
     "text": [
      " 89%|██████████████████████████████████████▏    | 48/54 [07:28<01:03, 10.64s/it]"
     ]
    }
   ],
   "source": [
    "# align the measurements captured at different wavelengths - could cause issue when using masks obtained\n",
    "# at 550nm as the images are slightly shifted \n",
    "from processingmm.addons import align_wavelengths\n",
    "directories = ['/media/elea/ssd/NPP/TU/checked']\n",
    "\n",
    "PDDN_mode = 'both'\n",
    "run_all = True\n",
    "align_wavelengths.align_wavelenghts(directories, PDDN_mode, run_all)"
   ]
  },
  {
   "cell_type": "code",
   "execution_count": null,
   "id": "15e52f61-7cbd-442b-812f-0371510e7f18",
   "metadata": {},
   "outputs": [],
   "source": []
  },
  {
   "cell_type": "code",
   "execution_count": 39,
   "id": "be0174b7",
   "metadata": {},
   "outputs": [
    {
     "name": "stderr",
     "output_type": "stream",
     "text": [
      "100%|█████████████████████████████████████████████| 2/2 [00:00<00:00, 15.59it/s]"
     ]
    },
    {
     "name": "stdout",
     "output_type": "stream",
     "text": [
      "No calibration files in 600nm\n"
     ]
    },
    {
     "name": "stderr",
     "output_type": "stream",
     "text": [
      "\n"
     ]
    }
   ],
   "source": [
    "# add the calibration matrices (A.cod and W.cod) to the folder for processing\n",
    "# needed by Christopher\n",
    "from processingmm.addons import add_calibration\n",
    "add_calibration.add_calibration(directories)"
   ]
  },
  {
   "cell_type": "code",
   "execution_count": null,
   "id": "cc87c952",
   "metadata": {},
   "outputs": [],
   "source": []
  }
 ],
 "metadata": {
  "kernelspec": {
   "display_name": "Python 3 (ipykernel)",
   "language": "python",
   "name": "python3"
  },
  "language_info": {
   "codemirror_mode": {
    "name": "ipython",
    "version": 3
   },
   "file_extension": ".py",
   "mimetype": "text/x-python",
   "name": "python",
   "nbconvert_exporter": "python",
   "pygments_lexer": "ipython3",
   "version": "3.12.8"
  }
 },
 "nbformat": 4,
 "nbformat_minor": 5
}
