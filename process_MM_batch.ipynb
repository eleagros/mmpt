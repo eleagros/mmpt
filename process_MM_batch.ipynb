{
 "cells": [
  {
   "cell_type": "markdown",
   "id": "5833fa74",
   "metadata": {},
   "source": [
    "# Process the data obtained from polarimetry and reorganize the data into the correct folders"
   ]
  },
  {
   "cell_type": "code",
   "execution_count": 53,
   "id": "a9006a18",
   "metadata": {},
   "outputs": [
    {
     "name": "stdout",
     "output_type": "stream",
     "text": [
      "The autoreload extension is already loaded. To reload it, use:\n",
      "  %reload_ext autoreload\n"
     ]
    }
   ],
   "source": [
    "%load_ext autoreload\n",
    "%autoreload 2\n",
    "\n",
    "import os\n",
    "from processingmm import batch_processing"
   ]
  },
  {
   "cell_type": "code",
   "execution_count": 88,
   "id": "35f24a20",
   "metadata": {},
   "outputs": [],
   "source": [
    "# set the parameters to run the script\n",
    "directories = ['/media/elea/ssd/sdgasf']\n",
    "calib_directory = '/media/elea/ssd/calib'\n",
    "    \n",
    "# set the parameters to be used for the line visualisation\n",
    "# NB: parameter file accessible in ./src/processingmm/data/parameters_visualisations.json\n",
    "parameter_set = 'default'\n",
    "\n",
    "# set run_all to true in order to run the pipeline on all the folders (even the ones already processed)\n",
    "run_all = True\n",
    "\n",
    "# PDDN_mode can be set to:\n",
    "# 1. 'no': processes without using the PDDN\n",
    "# 2. 'pddn': processes with PDDN when available (for 550nm and 650nm)\n",
    "# 3. 'both': processes both with PDDN when available and without PDDN\n",
    "PDDN_mode = 'both'\n",
    "\n",
    "# Set the wavelengths to be processed\n",
    "# 1. 'all': processes all the available wavelenght\n",
    "# 2. [xxx, yyy]: processes only the wavelenghts 'xxx' and 'yyy'\n",
    "wavelengths = [550, 600, 650]\n",
    "\n",
    "# Processing mode\n",
    "# 1. 'no_viz': processes only the MM - no visualization at all. useful for fast computation\n",
    "# 2. 'default': processes the MM and plots the polarimetric parameters maps (i.e. depolarization, azimuth, \n",
    "# retardance, diattenuation, azimuth local variability)\n",
    "# 3. 'full': do like default, and additionally plot the MM components, as well as the line\n",
    "# visualization\n",
    "\n",
    "# define if pdf figures should be saved (takes a lot of time) - no impact when processing_mode is set to no_viz\n",
    "\n",
    "# NB: processing time without PDDN\n",
    "# 'no_viz': 0.71s\n",
    "# 'default', save_pdf_figs False: 2.25s\n",
    "# 'default', save_pdf_figs True: 3.60s\n",
    "# 'full', save_pdf_figs False: 3.95s\n",
    "# 'full', save_pdf_figs True: 8.07s\n",
    "processing_mode = 'no_viz'\n",
    "save_pdf_figs = False\n",
    "\n",
    "\n",
    "parameters = batch_processing.get_parameters(directories, calib_directory, wavelengths, parameter_set = parameter_set, \n",
    "                                PDDN_mode = PDDN_mode, processing_mode = processing_mode, run_all = run_all, \n",
    "                                save_pdf_figs = save_pdf_figs)"
   ]
  },
  {
   "cell_type": "code",
   "execution_count": null,
   "id": "3e2ea1d8-4794-49c2-9a16-9ae7874fe36c",
   "metadata": {},
   "outputs": [],
   "source": []
  },
  {
   "cell_type": "code",
   "execution_count": 89,
   "id": "017cdd19",
   "metadata": {},
   "outputs": [
    {
     "name": "stdout",
     "output_type": "stream",
     "text": [
      "processing without PDDN...\n"
     ]
    },
    {
     "name": "stderr",
     "output_type": "stream",
     "text": [
      "  0%|                                                     | 0/1 [00:00<?, ?it/s]"
     ]
    },
    {
     "name": "stdout",
     "output_type": "stream",
     "text": [
      "Processing: ['/media/elea/ssd/sdgasf/2024-09-26_T_CHB-2_FX_A1_1']\n"
     ]
    },
    {
     "name": "stderr",
     "output_type": "stream",
     "text": [
      "100%|█████████████████████████████████████████████| 1/1 [00:01<00:00,  1.36s/it]\n"
     ]
    },
    {
     "name": "stdout",
     "output_type": "stream",
     "text": [
      "processing without PDDN done.\n",
      "processing with PDDN...\n"
     ]
    },
    {
     "name": "stderr",
     "output_type": "stream",
     "text": [
      "  0%|                                                     | 0/1 [00:00<?, ?it/s]"
     ]
    },
    {
     "name": "stdout",
     "output_type": "stream",
     "text": [
      "Processing: ['/media/elea/ssd/sdgasf/2024-09-26_T_CHB-2_FX_A1_1']\n",
      " >> PDDN Loading Model: /home/elea/Documents/HORAO/repositories/processingMM/src/processingmm/PDDN_model/PDDN_model_550_Fresh_HB.pt -- ...\n",
      " [wrn] PDDN Model Summary NOT Available!\n",
      " >> PDDN Loading Model: /home/elea/Documents/HORAO/repositories/processingMM/src/processingmm/PDDN_model/PDDN_model_550_Fresh_HB.pt -- Complete\n",
      "*** PDDN DENOISING FILTER *** \n",
      " >> PDDN Denoising: total time-points: 1000\n",
      " >> PDDN Denoising: start time-point: 1\n",
      " >> PDDN Denoising: final time-point: 0\n",
      " >> PDDN Denoising: recursive filtering enabled (2 x cascade): False\n",
      " >> MPI Denoising PDDN Performance: Elapsed time = 1.372 s\n",
      " \n",
      " >> Exported X3D .cod file as: ./temp_processing/2024-09-26_T_CHB-2_FX_A1_1/raw_data/550nm/550_Intensite_PDDN.cod\n",
      " >> PDDN Loading Model: /home/elea/Documents/HORAO/repositories/processingMM/src/processingmm/PDDN_model/PDDN_model_600_Fresh_HB.pt -- ...\n",
      " [wrn] PDDN Model Summary NOT Available!\n",
      " >> PDDN Loading Model: /home/elea/Documents/HORAO/repositories/processingMM/src/processingmm/PDDN_model/PDDN_model_600_Fresh_HB.pt -- Complete\n",
      "*** PDDN DENOISING FILTER *** \n",
      " >> PDDN Denoising: total time-points: 1000\n",
      " >> PDDN Denoising: start time-point: 1\n",
      " >> PDDN Denoising: final time-point: 0\n",
      " >> PDDN Denoising: recursive filtering enabled (2 x cascade): False\n",
      " >> MPI Denoising PDDN Performance: Elapsed time = 1.375 s\n",
      " \n",
      " >> Exported X3D .cod file as: ./temp_processing/2024-09-26_T_CHB-2_FX_A1_1/raw_data/600nm/600_Intensite_PDDN.cod\n"
     ]
    },
    {
     "name": "stderr",
     "output_type": "stream",
     "text": [
      "100%|█████████████████████████████████████████████| 1/1 [00:04<00:00,  4.73s/it]"
     ]
    },
    {
     "name": "stdout",
     "output_type": "stream",
     "text": [
      "processing with PDDN done.\n",
      "CPU times: user 15.5 s, sys: 1.23 s, total: 16.7 s\n",
      "Wall time: 6.1 s\n"
     ]
    },
    {
     "name": "stderr",
     "output_type": "stream",
     "text": [
      "\n"
     ]
    },
    {
     "data": {
      "text/plain": [
       "{'MM_processing': 0.3247041702270508,\n",
       " 'azimuth_std_processing': 0.006949424743652344,\n",
       " 'denoising': 0.3100588321685791,\n",
       " 'save_npz': 0.1214146614074707,\n",
       " 'full_processing': 2.176048755645752,\n",
       " 'plotting': 7.152557373046875e-07,\n",
       " 'total': 4.729862213134766}"
      ]
     },
     "execution_count": 89,
     "metadata": {},
     "output_type": "execute_result"
    }
   ],
   "source": [
    "%%time\n",
    "times = batch_processing.batch_process_master(parameters)\n",
    "times"
   ]
  },
  {
   "cell_type": "code",
   "execution_count": null,
   "id": "7bb3f806-5e87-4228-b562-a2aa91c6fad2",
   "metadata": {},
   "outputs": [],
   "source": []
  },
  {
   "cell_type": "code",
   "execution_count": 90,
   "id": "61611c16-067f-47a0-8fbc-076472169d33",
   "metadata": {},
   "outputs": [
    {
     "name": "stdout",
     "output_type": "stream",
     "text": [
      "CPU times: user 16.1 s, sys: 1.55 s, total: 17.7 s\n",
      "Wall time: 15.3 s\n"
     ]
    },
    {
     "data": {
      "text/plain": [
       "15.30210828781128"
      ]
     },
     "execution_count": 90,
     "metadata": {},
     "output_type": "execute_result"
    }
   ],
   "source": [
    "%%time\n",
    "\n",
    "# Approximate time to process the line visualization save_pdf_figs True : 3.85s\n",
    "# Approximate time to process the line visualization save_pdf_figs False : 4.92s\n",
    "times = batch_processing.batch_visualization(parameters)\n",
    "times"
   ]
  },
  {
   "cell_type": "code",
   "execution_count": null,
   "id": "d24101bc-bdbf-4494-8596-efe0b1ba04fb",
   "metadata": {},
   "outputs": [],
   "source": []
  },
  {
   "cell_type": "code",
   "execution_count": 92,
   "id": "7290a266",
   "metadata": {},
   "outputs": [
    {
     "name": "stdout",
     "output_type": "stream",
     "text": [
      "Aligning wavelenght: 600nm\n"
     ]
    },
    {
     "name": "stderr",
     "output_type": "stream",
     "text": [
      "  0%|                                                     | 0/1 [00:00<?, ?it/s]"
     ]
    },
    {
     "name": "stdout",
     "output_type": "stream",
     "text": [
      " \n",
      " >> Exported X3D .cod file as: /media/elea/ssd/sdgasf/2024-09-26_T_CHB-2_FX_A1_1/raw_data/600nm/600_Intensite_aligned.cod\n",
      " \n",
      " >> Exported X3D .cod file as: /media/elea/ssd/sdgasf/2024-09-26_T_CHB-2_FX_A1_1/raw_data/600nm/600_Intensite_PDDN_aligned.cod\n"
     ]
    },
    {
     "name": "stderr",
     "output_type": "stream",
     "text": [
      "100%|█████████████████████████████████████████████| 1/1 [00:08<00:00,  8.05s/it]\n"
     ]
    },
    {
     "name": "stdout",
     "output_type": "stream",
     "text": [
      "Aligning wavelenght: 650nm\n"
     ]
    },
    {
     "name": "stderr",
     "output_type": "stream",
     "text": [
      "100%|███████████████████████████████████████████| 1/1 [00:00<00:00, 2562.19it/s]\n"
     ]
    }
   ],
   "source": [
    "# align the measurements captured at different wavelengths - could cause issue when using masks obtained\n",
    "# at 550nm as the images are slightly shifted \n",
    "from processingmm.addons import align_wavelengths\n",
    "PDDN_mode = 'both'\n",
    "run_all = False\n",
    "align_wavelengths.align_wavelenghts(directories, PDDN_mode, run_all)"
   ]
  },
  {
   "cell_type": "code",
   "execution_count": null,
   "id": "15e52f61-7cbd-442b-812f-0371510e7f18",
   "metadata": {},
   "outputs": [],
   "source": []
  },
  {
   "cell_type": "code",
   "execution_count": 94,
   "id": "be0174b7",
   "metadata": {},
   "outputs": [
    {
     "name": "stderr",
     "output_type": "stream",
     "text": [
      "  0%|                                                     | 0/1 [00:00<?, ?it/s]"
     ]
    },
    {
     "name": "stdout",
     "output_type": "stream",
     "text": [
      "{'processed': True, 'calibration_directories': '/media/elea/ssd/calib/2024-09-18_C_1', 'parameters': {'directories': ['/media/elea/ssd/sdgasf'], 'calib_directory': '/media/elea/ssd/calib', 'wavelengths': [550, 600, 650], 'parameter_set': 'default', 'PDDN': 'both', 'run_all': True, 'processing_mode': 'no_viz', 'time_mode': True, 'temp_folder': './temp_processing', 'save_pdf_figs': False}, 'libmpMuelMat': '1.0', 'processingmm': '1.2.0'}\n"
     ]
    },
    {
     "name": "stderr",
     "output_type": "stream",
     "text": [
      "\n"
     ]
    },
    {
     "ename": "AssertionError",
     "evalue": "Calibration directory does not exist",
     "output_type": "error",
     "traceback": [
      "\u001b[0;31m---------------------------------------------------------------------------\u001b[0m",
      "\u001b[0;31mAssertionError\u001b[0m                            Traceback (most recent call last)",
      "Cell \u001b[0;32mIn[94], line 4\u001b[0m\n\u001b[1;32m      1\u001b[0m \u001b[38;5;66;03m# add the calibration matrices (A.cod and W.cod) to the folder for processing\u001b[39;00m\n\u001b[1;32m      2\u001b[0m \u001b[38;5;66;03m# needed by Chris\u001b[39;00m\n\u001b[1;32m      3\u001b[0m \u001b[38;5;28;01mfrom\u001b[39;00m\u001b[38;5;250m \u001b[39m\u001b[38;5;21;01mprocessingmm\u001b[39;00m\u001b[38;5;21;01m.\u001b[39;00m\u001b[38;5;21;01maddons\u001b[39;00m\u001b[38;5;250m \u001b[39m\u001b[38;5;28;01mimport\u001b[39;00m add_calibration\n\u001b[0;32m----> 4\u001b[0m \u001b[43madd_calibration\u001b[49m\u001b[38;5;241;43m.\u001b[39;49m\u001b[43madd_calibration\u001b[49m\u001b[43m(\u001b[49m\u001b[43mdirectories\u001b[49m\u001b[43m)\u001b[49m\n",
      "File \u001b[0;32m~/Documents/HORAO/repositories/processingMM/src/processingmm/addons/add_calibration.py:19\u001b[0m, in \u001b[0;36madd_calibration\u001b[0;34m(directories)\u001b[0m\n\u001b[1;32m     16\u001b[0m     \u001b[38;5;28mprint\u001b[39m(d)\n\u001b[1;32m     18\u001b[0m calib_directory\u001b[38;5;241m=\u001b[39mfile\u001b[38;5;241m.\u001b[39mreadlines()[\u001b[38;5;241m1\u001b[39m]\u001b[38;5;241m.\u001b[39mreplace(\u001b[38;5;124m'\u001b[39m\u001b[38;5;130;01m\\n\u001b[39;00m\u001b[38;5;124m'\u001b[39m,\u001b[38;5;124m'\u001b[39m\u001b[38;5;124m'\u001b[39m)\n\u001b[0;32m---> 19\u001b[0m \u001b[38;5;28;01massert\u001b[39;00m os\u001b[38;5;241m.\u001b[39mpath\u001b[38;5;241m.\u001b[39mexists(calib_directory), \u001b[38;5;124m'\u001b[39m\u001b[38;5;124mCalibration directory does not exist\u001b[39m\u001b[38;5;124m'\u001b[39m\n\u001b[1;32m     20\u001b[0m file\u001b[38;5;241m.\u001b[39mclose()\n\u001b[1;32m     22\u001b[0m os\u001b[38;5;241m.\u001b[39mmakedirs(os\u001b[38;5;241m.\u001b[39mpath\u001b[38;5;241m.\u001b[39mjoin(folder, \u001b[38;5;124m'\u001b[39m\u001b[38;5;124mcalibration\u001b[39m\u001b[38;5;124m'\u001b[39m), exist_ok\u001b[38;5;241m=\u001b[39m\u001b[38;5;28;01mTrue\u001b[39;00m)\n",
      "\u001b[0;31mAssertionError\u001b[0m: Calibration directory does not exist"
     ]
    }
   ],
   "source": [
    "# add the calibration matrices (A.cod and W.cod) to the folder for processing\n",
    "# needed by Chris\n",
    "from processingmm.addons import add_calibration\n",
    "add_calibration.add_calibration(directories)"
   ]
  },
  {
   "cell_type": "code",
   "execution_count": null,
   "id": "cc87c952",
   "metadata": {},
   "outputs": [],
   "source": []
  }
 ],
 "metadata": {
  "kernelspec": {
   "display_name": "Python 3 (ipykernel)",
   "language": "python",
   "name": "python3"
  },
  "language_info": {
   "codemirror_mode": {
    "name": "ipython",
    "version": 3
   },
   "file_extension": ".py",
   "mimetype": "text/x-python",
   "name": "python",
   "nbconvert_exporter": "python",
   "pygments_lexer": "ipython3",
   "version": "3.12.8"
  }
 },
 "nbformat": 4,
 "nbformat_minor": 5
}
