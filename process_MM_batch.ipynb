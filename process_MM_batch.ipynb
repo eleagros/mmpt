{
 "cells": [
  {
   "cell_type": "markdown",
   "id": "5833fa74",
   "metadata": {},
   "source": [
    "# Process the data obtained from polarimetry and reorganize the data into the correct folders"
   ]
  },
  {
   "cell_type": "code",
   "execution_count": 1,
   "id": "a9006a18",
   "metadata": {},
   "outputs": [
    {
     "name": "stdout",
     "output_type": "stream",
     "text": [
      " Could not import win32api and/or win32con\n",
      " [wrn] torchsummary not available - training not possible\n",
      " [wrn] torchvision not available - denoising not possible\n",
      " [wrn] tensorboard not available - training not possible\n",
      " [wrn] tensorboard not available - training not possible\n"
     ]
    }
   ],
   "source": [
    "%load_ext autoreload\n",
    "%autoreload 2\n",
    "\n",
    "import os\n",
    "from processingmm import processingmm"
   ]
  },
  {
   "cell_type": "code",
   "execution_count": null,
   "id": "40d299fa-1270-4737-99a3-f2e7c75f87a1",
   "metadata": {},
   "outputs": [],
   "source": []
  },
  {
   "cell_type": "code",
   "execution_count": 5,
   "id": "35f24a20",
   "metadata": {},
   "outputs": [
    {
     "ename": "UnboundLocalError",
     "evalue": "cannot access local variable 'utils' where it is not associated with a value",
     "output_type": "error",
     "traceback": [
      "\u001b[31m---------------------------------------------------------------------------\u001b[39m",
      "\u001b[31mUnboundLocalError\u001b[39m                         Traceback (most recent call last)",
      "\u001b[36mCell\u001b[39m\u001b[36m \u001b[39m\u001b[32mIn[5]\u001b[39m\u001b[32m, line 47\u001b[39m\n\u001b[32m     44\u001b[39m \u001b[38;5;66;03m# define if the wavelenghts should be aligned before processing - and used for the computation\u001b[39;00m\n\u001b[32m     45\u001b[39m align_wls = \u001b[38;5;28;01mTrue\u001b[39;00m\n\u001b[32m---> \u001b[39m\u001b[32m47\u001b[39m parameters = \u001b[43mprocessingmm\u001b[49m\u001b[43m.\u001b[49m\u001b[43mget_parameters\u001b[49m\u001b[43m(\u001b[49m\u001b[43mdirectories\u001b[49m\u001b[43m,\u001b[49m\u001b[43m \u001b[49m\u001b[43mcalib_directory\u001b[49m\u001b[43m,\u001b[49m\u001b[43m \u001b[49m\u001b[43mwavelengths\u001b[49m\u001b[43m,\u001b[49m\u001b[43m \u001b[49m\u001b[43mparameter_set\u001b[49m\u001b[43m \u001b[49m\u001b[43m=\u001b[49m\u001b[43m \u001b[49m\u001b[43mparameter_set\u001b[49m\u001b[43m,\u001b[49m\u001b[43m \u001b[49m\n\u001b[32m     48\u001b[39m \u001b[43m                                \u001b[49m\u001b[43mPDDN_mode\u001b[49m\u001b[43m \u001b[49m\u001b[43m=\u001b[49m\u001b[43m \u001b[49m\u001b[43mPDDN_mode\u001b[49m\u001b[43m,\u001b[49m\u001b[43m \u001b[49m\u001b[43mPDDN_models_path\u001b[49m\u001b[43m \u001b[49m\u001b[43m=\u001b[49m\u001b[43m \u001b[49m\u001b[43mPDDN_models_path\u001b[49m\u001b[43m,\u001b[49m\u001b[43m \u001b[49m\n\u001b[32m     49\u001b[39m \u001b[43m                                \u001b[49m\u001b[43mprocessing_mode\u001b[49m\u001b[43m \u001b[49m\u001b[43m=\u001b[49m\u001b[43m \u001b[49m\u001b[43mprocessing_mode\u001b[49m\u001b[43m,\u001b[49m\u001b[43m \u001b[49m\u001b[43mrun_all\u001b[49m\u001b[43m \u001b[49m\u001b[43m=\u001b[49m\u001b[43m \u001b[49m\u001b[43mrun_all\u001b[49m\u001b[43m,\u001b[49m\u001b[43m \u001b[49m\n\u001b[32m     50\u001b[39m \u001b[43m                                \u001b[49m\u001b[43msave_pdf_figs\u001b[49m\u001b[43m \u001b[49m\u001b[43m=\u001b[49m\u001b[43m \u001b[49m\u001b[43msave_pdf_figs\u001b[49m\u001b[43m,\u001b[49m\u001b[43m \u001b[49m\u001b[43malign_wls\u001b[49m\u001b[43m \u001b[49m\u001b[43m=\u001b[49m\u001b[43m \u001b[49m\u001b[43malign_wls\u001b[49m\u001b[43m)\u001b[49m\n",
      "\u001b[36mFile \u001b[39m\u001b[32m<string>:47\u001b[39m, in \u001b[36mget_parameters\u001b[39m\u001b[34m(directories, calib_directory, wavelengths, parameter_set, PDDN_mode, PDDN_models_path, processing_mode, run_all, save_pdf_figs, align_wls)\u001b[39m\n",
      "\u001b[31mUnboundLocalError\u001b[39m: cannot access local variable 'utils' where it is not associated with a value"
     ]
    }
   ],
   "source": [
    "# set the parameters to run the script\n",
    "directories = [r'/media/elea/BackUP_File/NPP']\n",
    "calib_directory = r'/media/elea/BackUP_File/NPP/calib'\n",
    "    \n",
    "# set the parameters to be used for the line visualisation\n",
    "# NB: parameter file accessible in ./src/processingmm/data/parameters_visualisations.json\n",
    "parameter_set = 'default'\n",
    "\n",
    "# set run_all to true in order to run the pipeline on all the folders (even the ones already processed)\n",
    "run_all = True\n",
    "\n",
    "# PDDN_mode can be set to:\n",
    "# 1. 'no': processes without using the PDDN\n",
    "# 2. 'pddn': processes with PDDN when available (for 550nm and 650nm)\n",
    "# 3. 'both': processes both with PDDN when available and without PDDN\n",
    "PDDN_mode = 'pddn'\n",
    "\n",
    "# do not specify unless you want to use a custom path for the PDDN models\n",
    "PDDN_models_path = None\n",
    "\n",
    "# Set the wavelengths to be processed\n",
    "# 1. 'all': processes all the available wavelenght\n",
    "# 2. [xxx, yyy]: processes only the wavelenghts 'xxx' and 'yyy'\n",
    "wavelengths = [550, 600]\n",
    "\n",
    "# Processing mode\n",
    "# 1. 'no_viz': processes only the MM - no visualization at all. useful for fast computation\n",
    "# 2. 'default': processes the MM and plots the polarimetric parameters maps (i.e. depolarization, azimuth, \n",
    "# retardance, diattenuation, azimuth local variability)\n",
    "# 3. 'full': do like default, and additionally plot the MM components, as well as the line\n",
    "# visualization\n",
    "\n",
    "# define if pdf figures should be saved (takes a lot of time) - no impact when processing_mode is set to no_viz\n",
    "\n",
    "# NB: processing time without PDDN (with the data on a SSD drive)\n",
    "# 'no_viz': 0.39s\n",
    "# 'default', save_pdf_figs False: 1.65s\n",
    "# 'default', save_pdf_figs True: 2.67s\n",
    "# 'full', save_pdf_figs False: 3.24s\n",
    "# 'full', save_pdf_figs True: 5.94s\n",
    "processing_mode = 'default'\n",
    "save_pdf_figs = False\n",
    "\n",
    "# define if the wavelenghts should be aligned before processing - and used for the computation\n",
    "align_wls = True\n",
    "\n",
    "parameters = processingmm.get_parameters(directories, calib_directory, wavelengths, parameter_set = parameter_set, \n",
    "                                PDDN_mode = PDDN_mode, PDDN_models_path = PDDN_models_path, \n",
    "                                processing_mode = processing_mode, run_all = run_all, \n",
    "                                save_pdf_figs = save_pdf_figs, align_wls = align_wls)"
   ]
  },
  {
   "cell_type": "code",
   "execution_count": null,
   "id": "3e2ea1d8-4794-49c2-9a16-9ae7874fe36c",
   "metadata": {},
   "outputs": [],
   "source": []
  },
  {
   "cell_type": "code",
   "execution_count": 5,
   "id": "017cdd19",
   "metadata": {},
   "outputs": [
    {
     "name": "stdout",
     "output_type": "stream",
     "text": [
      "processing without PDDN...\n",
      "['/media/elea/BackUP_File/NPP/550/Irregular/2023-09-22_T_HORAO-90-AF_FR_S2_1', '/media/elea/BackUP_File/NPP/600/TU/2023-02-22_T_HORAO-78-AF_FR_S1_1', '/media/elea/BackUP_File/NPP/600/Irregular/2023-09-21_T_HORAO-107-AF_FR_S5_1', '/media/elea/BackUP_File/NPP/550/HT/2022-07-07_T_AUTOPSY-AF_FR_S4_1', '/media/elea/BackUP_File/NPP/600/TU/2023-05-12_T_HORAO-91-AF_FR_S2_1', '/media/elea/BackUP_File/NPP/600/Irregular/2023-02-08_T_HORAO-84-BF_FR_S2_1', '/media/elea/BackUP_File/NPP/600/TU/2022-11-08_T_HORAO-64-BF_FR_S1_1', '/media/elea/BackUP_File/NPP/550/TU/2022-09-14_T_HORAO-37-AF_FR_S1_1', '/media/elea/BackUP_File/NPP/550/TU/2022-11-28_T_HORAO-68-AF_FR_S1_1', '/media/elea/BackUP_File/NPP/600/TU/2022-11-22_T_HORAO-68-BF_FR_S1_1', '/media/elea/BackUP_File/NPP/550/TU/2023-06-07_T_HORAO-100-AF_FR_S2_1', '/media/elea/BackUP_File/NPP/550/TU/2023-10-23_T_HORAO-78-AF_FR_S4_1', '/media/elea/BackUP_File/NPP/600/TU/2022-11-08_T_HORAO-63-BF_FR_S2_1', '/media/elea/BackUP_File/NPP/550/TU/2023-10-23_T_HORAO-103-AF_FR_S1_1', '/media/elea/BackUP_File/NPP/550/HT/2024-10-03_T_AUTOPSY-AF_FR_S1_1', '/media/elea/BackUP_File/NPP/600/HT/2024-10-03_T_AUTOPSY-AF_FR_S4_1', '/media/elea/BackUP_File/NPP/550/TU/2023-01-05_T_HORAO-78-BF_FR_S3_1', '/media/elea/BackUP_File/NPP/550/TU/2022-11-28_T_HORAO-63-AF_FR_S2_1', '/media/elea/BackUP_File/NPP/550/HT/2022-07-06_T_AUTOPSY-BF_FR_S1_1', '/media/elea/BackUP_File/NPP/550/TU/2023-01-05_T_HORAO-78-BF_FR_S2_1', '/media/elea/BackUP_File/NPP/550/HT/2022-07-07_T_AUTOPSY-AF_FR_S2_1', '/media/elea/BackUP_File/NPP/550/TU/2023-09-21_T_HORAO-104-AF_FR_S6_1', '/media/elea/BackUP_File/NPP/550/TU/2022-10-11_T_HORAO-55-BF_FR_S1_1', '/media/elea/BackUP_File/NPP/550/TU/2023-06-08_T_HORAO-77-AF_FR_S1_1', '/media/elea/BackUP_File/NPP/600/Irregular/2023-03-22_T_HORAO-91-BF_FR_S1_1', '/media/elea/BackUP_File/NPP/600/TU/2023-02-23_T_HORAO-84-AF_FR_S4_1', '/media/elea/BackUP_File/NPP/550/Irregular/2022-12-07_T_HORAO-71-BF_FR_S2_1', '/media/elea/BackUP_File/NPP/550/TU/2023-06-20_T_HORAO-105-BF_FR_S1_1', '/media/elea/BackUP_File/NPP/600/Irregular/2022-11-02_T_HORAO-59-AF_FR_S1_1', '/media/elea/BackUP_File/NPP/550/TU/2023-09-22_T_HORAO-84-AF_FR_S2_1', '/media/elea/BackUP_File/NPP/600/HT/2024-10-03_T_AUTOPSY-AF_FR_S2_1', '/media/elea/BackUP_File/NPP/550/TU/2023-05-12_T_HORAO-91-AF_FR_S2_1', '/media/elea/BackUP_File/NPP/550/TU/2022-10-14_T_HORAO-45-AF_FR_S2_1', '/media/elea/BackUP_File/NPP/600/TU/2022-12-01_T_HORAO-45-AF_FR_S1_1', '/media/elea/BackUP_File/NPP/600/TU/2023-02-22_T_HORAO-78-AF_FR_S2_1', '/media/elea/BackUP_File/NPP/600/TU/2023-06-13_T_HORAO-104-BF_FR_S3_1', '/media/elea/BackUP_File/NPP/550/TU/2023-02-23_T_HORAO-84-AF_FR_S4_1', '/media/elea/BackUP_File/NPP/550/TU/2022-11-02_T_HORAO-59-AF_FR_S2_1', '/media/elea/BackUP_File/NPP/600/TU/2023-10-23_T_HORAO-103-AF_FR_S1_1', '/media/elea/BackUP_File/NPP/processingMM/tests/data/2022-11-02_T_HORAO-59-AF_FR_S1_1', '/media/elea/BackUP_File/NPP/550/TU/2023-05-26_T_HORAO-103-BF_FR_S1_1', '/media/elea/BackUP_File/NPP/600/TU/2023-06-13_T_HORAO-104-BF_FR_S5_1', '/media/elea/BackUP_File/NPP/550/TU/2023-02-22_T_HORAO-78-AF_FR_S2_1', '/media/elea/BackUP_File/NPP/550/Irregular/2022-12-06_T_HORAO-64-AF_FR_S1_1', '/media/elea/BackUP_File/NPP/600/TU/2023-01-05_T_HORAO-78-BF_FR_S6_1', '/media/elea/BackUP_File/NPP/550/TU/2022-09-14_T_HORAO-39-AF_FR_S2_1', '/media/elea/BackUP_File/NPP/550/TU/2022-11-29_T_HORAO-68-AF_FR_S2_1', '/media/elea/BackUP_File/NPP/600/TU/2023-01-05_T_HORAO-78-BF_FR_S1_1', '/media/elea/BackUP_File/NPP/550/Irregular/2023-03-14_T_HORAO-90-BF_FR_S2_1', '/media/elea/BackUP_File/NPP/550/Irregular/2023-04-27_T_HORAO-98-BF_FR_S1_1', '/media/elea/BackUP_File/NPP/600/TU/2022-10-25_T_HORAO-42-AF_FR_S3_1', '/media/elea/BackUP_File/NPP/600/TU/2023-01-05_T_HORAO-78-BF_FR_S4_1', '/media/elea/BackUP_File/NPP/600/TU/2023-06-13_T_HORAO-104-BF_FR_S6_1', '/media/elea/BackUP_File/NPP/550/TU/2023-10-19_T_HORAO-98-AF_FR_S3_1', '/media/elea/BackUP_File/NPP/600/TU/2023-10-19_T_HORAO-98-AF_FR_S3_1', '/media/elea/BackUP_File/NPP/600/HT/2024-09-18_T_AUTOPSY-BF_FR_S7_1', '/media/elea/BackUP_File/NPP/600/Irregular/2022-12-07_T_HORAO-71-BF_FR_S2_1', '/media/elea/BackUP_File/NPP/600/HT/2024-09-18_T_AUTOPSY-BF_FR_S4_1', '/media/elea/BackUP_File/NPP/550/Irregular/2023-03-22_T_HORAO-91-BF_FR_S1_1', '/media/elea/BackUP_File/NPP/600/HT/2024-10-03_T_AUTOPSY-AF_FR_S8_1', '/media/elea/BackUP_File/NPP/550/TU/2022-11-28_T_HORAO-63-AF_FR_S1_1', '/media/elea/BackUP_File/NPP/600/TU/2023-04-05_T_HORAO-94-BF_FR_S1_1', '/media/elea/BackUP_File/NPP/550/HT/2022-07-06_T_AUTOPSY-BF_FR_S8_1', '/media/elea/BackUP_File/NPP/550/Irregular/2023-08-02_T_HORAO-107-BF_FR_S5_1', '/media/elea/BackUP_File/NPP/550/TU/2023-01-05_T_HORAO-78-BF_FR_S6_1', '/media/elea/BackUP_File/NPP/550/HT/2024-10-03_T_AUTOPSY-AF_FR_S2_1', '/media/elea/BackUP_File/NPP/550/Irregular/2022-12-01_T_HORAO-53-AF_FR_S1_1', '/media/elea/BackUP_File/NPP/550/TU/2023-06-08_T_HORAO-78-AF_FR_S6_1', '/media/elea/BackUP_File/NPP/600/TU/2023-05-12_T_HORAO-100-AF_FR_S1_1', '/media/elea/BackUP_File/NPP/600/TU/2023-09-21_T_HORAO-104-AF_FR_S4_1', '/media/elea/BackUP_File/NPP/600/TU/2023-09-22_T_HORAO-104-AF_FR_S3_1', '/media/elea/BackUP_File/NPP/600/TU/2023-10-19_T_HORAO-107-AF_FR_S3_1', '/media/elea/BackUP_File/NPP/600/TU/2023-06-08_T_HORAO-77-AF_FR_S2_1', '/media/elea/BackUP_File/NPP/600/TU/2023-02-08_T_HORAO-84-BF_FR_S3_1', '/media/elea/BackUP_File/NPP/550/HT/2022-07-07_T_AUTOPSY-AF_FR_S3_1', '/media/elea/BackUP_File/NPP/550/TU/2023-11-01_T_HORAO-88-AF_FR_S1_1', '/media/elea/BackUP_File/NPP/550/TU/2023-06-07_T_HORAO-94-AF_FR_S2_1', '/media/elea/BackUP_File/NPP/550/TU/2022-12-01_T_HORAO-45-AF_FR_S4_1', '/media/elea/BackUP_File/NPP/600/TU/2023-04-27_T_HORAO-98-BF_FR_S2_1', '/media/elea/BackUP_File/NPP/550/TU/2022-11-08_T_HORAO-63-BF_FR_S1_1', '/media/elea/BackUP_File/NPP/550/TU/2023-02-22_T_HORAO-84-AF_FR_S3_1', '/media/elea/BackUP_File/NPP/600/TU/2023-10-23_T_HORAO-78-AF_FR_S4_1', '/media/elea/BackUP_File/NPP/550/TU/2022-11-02_T_HORAO-59-AF_FR_S3_1', '/media/elea/BackUP_File/NPP/600/Irregular/2023-03-22_T_HORAO-91-BF_FR_S2_1', '/media/elea/BackUP_File/NPP/550/HT/2024-09-18_T_AUTOPSY-BF_FR_S7_1', '/media/elea/BackUP_File/NPP/550/Irregular/2023-11-01_T_HORAO-107-AF_FR_S6_1', '/media/elea/BackUP_File/NPP/550/TU/2022-10-14_T_HORAO-45-AF_FR_S3_1', '/media/elea/BackUP_File/NPP/600/TU/2023-01-04_T_HORAO-77-BF_FR_S2_1', '/media/elea/BackUP_File/NPP/600/TU/2023-11-01_T_HORAO-88-AF_FR_S1_1', '/media/elea/BackUP_File/NPP/550/TU/2023-06-13_T_HORAO-104-BF_FR_S5_1', '/media/elea/BackUP_File/NPP/600/TU/2023-02-08_T_HORAO-84-BF_FR_S1_1', '/media/elea/BackUP_File/NPP/600/TU/2023-06-08_T_HORAO-78-AF_FR_S6_1', '/media/elea/BackUP_File/NPP/550/TU/2023-01-04_T_HORAO-77-BF_FR_S2_1', '/media/elea/BackUP_File/NPP/550/TU/2023-05-12_T_HORAO-95-AF_FR_S1_1', '/media/elea/BackUP_File/NPP/600/TU/2023-06-07_T_HORAO-100-AF_FR_S2_1', '/media/elea/BackUP_File/NPP/550/HT/2022-07-06_T_AUTOPSY-BF_FR_S7_1', '/media/elea/BackUP_File/NPP/600/TU/2022-11-22_T_HORAO-67-BF_FR_S1_1', '/media/elea/BackUP_File/NPP/550/HT/2022-07-06_T_AUTOPSY-BF_FR_S6_1', '/media/elea/BackUP_File/NPP/550/TU/2023-04-27_T_HORAO-98-BF_FR_S2_1', '/media/elea/BackUP_File/NPP/550/Irregular/2023-05-16_T_HORAO-101-BF_FR_S1_1', '/media/elea/BackUP_File/NPP/550/TU/2022-09-01_T_HORAO-37-BF_FR_S2_1', '/media/elea/BackUP_File/NPP/600/Irregular/2023-09-22_T_HORAO-90-AF_FR_S2_1', '/media/elea/BackUP_File/NPP/600/Irregular/2023-02-14_T_HORAO-85-BF_FR_S1_1', '/media/elea/BackUP_File/NPP/600/Irregular/2023-03-30_T_HORAO-93-BF_FR_S2_1', '/media/elea/BackUP_File/NPP/550/TU/2023-03-31_T_HORAO-93-AF_FR_S2_1', '/media/elea/BackUP_File/NPP/600/Irregular/2023-04-18_T_HORAO-95-BF_FR_S1_1', '/media/elea/BackUP_File/NPP/600/TU/2023-08-02_T_HORAO-107-BF_FR_S3_1', '/media/elea/BackUP_File/NPP/600/Irregular/2023-11-01_T_HORAO-107-AF_FR_S6_1', '/media/elea/BackUP_File/NPP/600/TU/2023-10-23_T_HORAO-91-AF_FR_S1_1', '/media/elea/BackUP_File/NPP/600/TU/2023-06-08_T_HORAO-71-AF_FR_S3_1', '/media/elea/BackUP_File/NPP/550/TU/2022-06-29_T_HORAO-21-BF_FR_S2_1', '/media/elea/BackUP_File/NPP/600/Irregular/2022-12-07_T_HORAO-71-BF_FR_S3_1', '/media/elea/BackUP_File/NPP/600/TU/2023-04-05_T_HORAO-94-BF_FR_S2_1', '/media/elea/BackUP_File/NPP/550/TU/2023-02-08_T_HORAO-84-BF_FR_S4_1', '/media/elea/BackUP_File/NPP/600/HT/2024-09-18_T_AUTOPSY-BF_FR_S5_1', '/media/elea/BackUP_File/NPP/600/TU/2022-11-22_T_HORAO-68-BF_FR_S2_1', '/media/elea/BackUP_File/NPP/550/TU/2022-09-01_T_HORAO-39-BF_FR_S2_1', '/media/elea/BackUP_File/NPP/550/Irregular/2023-04-18_T_HORAO-95-BF_FR_S2_1', '/media/elea/BackUP_File/NPP/600/Irregular/2023-03-31_T_HORAO-93-AF_FR_S3_1', '/media/elea/BackUP_File/NPP/600/TU/2023-05-04_T_HORAO-100-BF_FR_S1_1', '/media/elea/BackUP_File/NPP/600/TU/2022-11-28_T_HORAO-63-AF_FR_S2_1', '/media/elea/BackUP_File/NPP/550/TU/2023-05-04_T_HORAO-100-BF_FR_S1_1', '/media/elea/BackUP_File/NPP/550/TU/2022-09-14_T_HORAO-39-AF_FR_S1_1', '/media/elea/BackUP_File/NPP/550/Irregular/2023-09-21_T_HORAO-107-AF_FR_S5_1', '/media/elea/BackUP_File/NPP/600/TU/2023-01-04_T_HORAO-77-BF_FR_S1_1', '/media/elea/BackUP_File/NPP/550/TU/2023-01-05_T_HORAO-78-BF_FR_S4_1', '/media/elea/BackUP_File/NPP/550/HT/2024-09-18_T_AUTOPSY-BF_FR_S5_1', '/media/elea/BackUP_File/NPP/550/HT/2024-10-03_T_AUTOPSY-AF_FR_S3_1', '/media/elea/BackUP_File/NPP/550/Irregular/2023-03-30_T_HORAO-93-BF_FR_S2_1', '/media/elea/BackUP_File/NPP/600/Irregular/2023-03-23_T_HORAO-92-BF_FR_S4_1', '/media/elea/BackUP_File/NPP/550/Irregular/2023-03-30_T_HORAO-93-BF_FR_S1_1', '/media/elea/BackUP_File/NPP/550/TU/2023-02-22_T_HORAO-78-AF_FR_S1_1', '/media/elea/BackUP_File/NPP/550/TU/2023-10-23_T_HORAO-101-AF_FR_S1_1', '/media/elea/BackUP_File/NPP/600/Irregular/2023-08-02_T_HORAO-107-BF_FR_S5_1', '/media/elea/BackUP_File/NPP/600/TU/2022-12-01_T_HORAO-55-AF_FR_S1_1', '/media/elea/BackUP_File/NPP/550/TU/2022-11-22_T_HORAO-67-BF_FR_S1_1', '/media/elea/BackUP_File/NPP/550/TU/2022-09-21_T_HORAO-45-BF_FR_S3_1', '/media/elea/BackUP_File/NPP/600/TU/2022-11-28_T_HORAO-63-AF_FR_S1_1', '/media/elea/BackUP_File/NPP/600/TU/2023-05-02_T_HORAO-99-BF_FR_S1_1', '/media/elea/BackUP_File/NPP/550/TU/2023-09-21_T_HORAO-104-AF_FR_S2_1', '/media/elea/BackUP_File/NPP/600/Irregular/2023-08-02_T_HORAO-107-BF_FR_S6_1', '/media/elea/BackUP_File/NPP/600/TU/2023-10-23_T_HORAO-101-AF_FR_S2_1', '/media/elea/BackUP_File/NPP/550/TU/2023-06-13_T_HORAO-104-BF_FR_S6_1', '/media/elea/BackUP_File/NPP/600/Irregular/2022-12-06_T_HORAO-64-AF_FR_S1_1', '/media/elea/BackUP_File/NPP/550/TU/2023-06-08_T_HORAO-77-AF_FR_S2_1', '/media/elea/BackUP_File/NPP/600/Irregular/2023-05-12_T_HORAO-95-AF_FR_S2_1', '/media/elea/BackUP_File/NPP/550/TU/2022-11-28_T_HORAO-67-AF_FR_S1_1', '/media/elea/BackUP_File/NPP/550/TU/2023-02-08_T_HORAO-84-BF_FR_S3_1', '/media/elea/BackUP_File/NPP/550/TU/2022-09-01_T_HORAO-38-BF_FR_S1_1', '/media/elea/BackUP_File/NPP/550/TU/2023-04-05_T_HORAO-94-BF_FR_S2_1', '/media/elea/BackUP_File/NPP/600/Irregular/2023-05-16_T_HORAO-101-BF_FR_S1_1', '/media/elea/BackUP_File/NPP/550/Irregular/2023-03-31_T_HORAO-93-AF_FR_S3_1', '/media/elea/BackUP_File/NPP/600/TU/2023-09-22_T_HORAO-99-AF_FR_S1_1', '/media/elea/BackUP_File/NPP/550/Irregular/2023-05-12_T_HORAO-95-AF_FR_S2_1', '/media/elea/BackUP_File/NPP/600/TU/2023-10-19_T_HORAO-98-AF_FR_S2_1', '/media/elea/BackUP_File/NPP/550/TU/2022-10-25_T_HORAO-42-AF_FR_S3_1', '/media/elea/BackUP_File/NPP/550/TU/2022-11-28_T_HORAO-63-AF_FR_S3_1', '/media/elea/BackUP_File/NPP/600/TU/2022-11-08_T_HORAO-63-BF_FR_S1_1', '/media/elea/BackUP_File/NPP/550/TU/2023-06-13_T_HORAO-104-BF_FR_S3_1', '/media/elea/BackUP_File/NPP/550/HT/2022-07-06_T_AUTOPSY-BF_FR_S2_1', '/media/elea/BackUP_File/NPP/550/TU/2022-09-27_T_HORAO-44-AF_FR_S1_1', '/media/elea/BackUP_File/NPP/600/TU/2022-11-02_T_HORAO-59-AF_FR_S3_1', '/media/elea/BackUP_File/NPP/600/TU/2022-11-28_T_HORAO-68-AF_FR_S1_1', '/media/elea/BackUP_File/NPP/600/Irregular/2023-03-31_T_HORAO-93-AF_FR_S1_1', '/media/elea/BackUP_File/NPP/550/Irregular/2023-03-22_T_HORAO-91-BF_FR_S2_1', '/media/elea/BackUP_File/NPP/550/Irregular/2023-11-01_T_HORAO-92-AF_FR_S4_1', '/media/elea/BackUP_File/NPP/600/TU/2023-06-08_T_HORAO-77-AF_FR_S1_1', '/media/elea/BackUP_File/NPP/550/TU/2023-09-21_T_HORAO-104-AF_FR_S5_1', '/media/elea/BackUP_File/NPP/600/Irregular/2023-11-01_T_HORAO-92-AF_FR_S4_1', '/media/elea/BackUP_File/NPP/600/TU/2023-01-04_T_HORAO-77-BF_FR_S3_1', '/media/elea/BackUP_File/NPP/550/TU/2023-06-08_T_HORAO-77-AF_FR_S3_1', '/media/elea/BackUP_File/NPP/550/Irregular/2023-03-31_T_HORAO-93-AF_FR_S1_1', '/media/elea/BackUP_File/NPP/600/TU/2023-06-13_T_HORAO-104-BF_FR_S2_1', '/media/elea/BackUP_File/NPP/550/TU/2022-12-01_T_HORAO-45-AF_FR_S1_1', '/media/elea/BackUP_File/NPP/550/TU/2023-10-19_T_HORAO-98-AF_FR_S2_1', '/media/elea/BackUP_File/NPP/550/TU/2022-09-21_T_HORAO-45-BF_FR_S4_1', '/media/elea/BackUP_File/NPP/600/TU/2022-10-14_T_HORAO-45-AF_FR_S3_1', '/media/elea/BackUP_File/NPP/600/TU/2023-04-27_T_HORAO-98-BF_FR_S3_1', '/media/elea/BackUP_File/NPP/550/TU/2023-11-02_T_HORAO-84-AF_FR_S1_1', '/media/elea/BackUP_File/NPP/600/TU/2022-11-01_T_HORAO-59-BF_FR_S2_1', '/media/elea/BackUP_File/NPP/550/HT/2022-07-06_T_AUTOPSY-BF_FR_S5_1', '/media/elea/BackUP_File/NPP/600/TU/2022-10-11_T_HORAO-55-BF_FR_S1_1', '/media/elea/BackUP_File/NPP/550/TU/2022-11-22_T_HORAO-68-BF_FR_S1_1', '/media/elea/BackUP_File/NPP/550/Irregular/2023-06-08_T_HORAO-71-AF_FR_S2_1', '/media/elea/BackUP_File/NPP/550/HT/2024-10-03_T_AUTOPSY-AF_FR_S8_1', '/media/elea/BackUP_File/NPP/600/TU/2023-11-02_T_HORAO-84-AF_FR_S1_1', '/media/elea/BackUP_File/NPP/550/Irregular/2023-02-08_T_HORAO-84-BF_FR_S2_1', '/media/elea/BackUP_File/NPP/550/Irregular/2023-03-23_T_HORAO-92-BF_FR_S4_1', '/media/elea/BackUP_File/NPP/550/TU/2022-08-16_T_HORAO-29-BF_FR_S1_1', '/media/elea/BackUP_File/NPP/600/HT/2024-09-18_T_AUTOPSY-BF_FR_S3_1', '/media/elea/BackUP_File/NPP/600/TU/2023-05-26_T_HORAO-103-BF_FR_S1_1', '/media/elea/BackUP_File/NPP/550/TU/2023-10-23_T_HORAO-91-AF_FR_S1_1', '/media/elea/BackUP_File/NPP/550/TU/2023-01-04_T_HORAO-77-BF_FR_S3_1', '/media/elea/BackUP_File/NPP/550/TU/2023-10-23_T_HORAO-101-AF_FR_S2_1', '/media/elea/BackUP_File/NPP/600/TU/2023-06-08_T_HORAO-77-AF_FR_S3_1', '/media/elea/BackUP_File/NPP/600/TU/2023-06-20_T_HORAO-105-BF_FR_S1_1', '/media/elea/BackUP_File/NPP/550/Irregular/2023-10-19_T_HORAO-98-AF_FR_S1_1', '/media/elea/BackUP_File/NPP/600/Irregular/2023-03-30_T_HORAO-93-BF_FR_S3_1', '/media/elea/BackUP_File/NPP/600/TU/2022-11-28_T_HORAO-63-AF_FR_S3_1', '/media/elea/BackUP_File/NPP/600/TU/2023-09-21_T_HORAO-104-AF_FR_S6_1', '/media/elea/BackUP_File/NPP/600/TU/2023-05-12_T_HORAO-95-AF_FR_S1_1', '/media/elea/BackUP_File/NPP/550/Irregular/2022-12-07_T_HORAO-71-BF_FR_S3_1', '/media/elea/BackUP_File/NPP/600/TU/2023-09-22_T_HORAO-84-AF_FR_S2_1', '/media/elea/BackUP_File/NPP/550/TU/2022-09-21_T_HORAO-45-BF_FR_S1_1', '/media/elea/BackUP_File/NPP/550/HT/2024-09-18_T_AUTOPSY-BF_FR_S4_1', '/media/elea/BackUP_File/NPP/550/TU/2022-11-08_T_HORAO-63-BF_FR_S2_1', '/media/elea/BackUP_File/NPP/550/TU/2022-09-21_T_HORAO-45-BF_FR_S2_1', '/media/elea/BackUP_File/NPP/550/Irregular/2023-02-14_T_HORAO-85-BF_FR_S1_1', '/media/elea/BackUP_File/NPP/550/TU/2022-11-22_T_HORAO-68-BF_FR_S2_1', '/media/elea/BackUP_File/NPP/600/Irregular/2023-04-18_T_HORAO-95-BF_FR_S2_1', '/media/elea/BackUP_File/NPP/550/TU/2023-06-13_T_HORAO-104-BF_FR_S2_1', '/media/elea/BackUP_File/NPP/550/Irregular/2023-03-30_T_HORAO-93-BF_FR_S3_1', '/media/elea/BackUP_File/NPP/550/TU/2022-09-01_T_HORAO-37-BF_FR_S1_1', '/media/elea/BackUP_File/NPP/550/TU/2023-09-21_T_HORAO-105-AF_FR_S1_1', '/media/elea/BackUP_File/NPP/600/TU/2023-01-05_T_HORAO-78-BF_FR_S2_1', '/media/elea/BackUP_File/NPP/600/TU/2022-11-29_T_HORAO-68-AF_FR_S2_1', '/media/elea/BackUP_File/NPP/550/TU/2023-09-22_T_HORAO-104-AF_FR_S3_1', '/media/elea/BackUP_File/NPP/600/TU/2023-09-21_T_HORAO-105-AF_FR_S1_1', '/media/elea/BackUP_File/NPP/550/TU/2022-12-01_T_HORAO-55-AF_FR_S1_1', '/media/elea/BackUP_File/NPP/550/TU/2023-09-22_T_HORAO-99-AF_FR_S1_1', '/media/elea/BackUP_File/NPP/600/TU/2022-12-01_T_HORAO-45-AF_FR_S4_1', '/media/elea/BackUP_File/NPP/600/TU/2023-02-22_T_HORAO-84-AF_FR_S3_1', '/media/elea/BackUP_File/NPP/600/TU/2023-06-07_T_HORAO-94-AF_FR_S2_1', '/media/elea/BackUP_File/NPP/600/TU/2023-01-05_T_HORAO-78-BF_FR_S3_1', '/media/elea/BackUP_File/NPP/550/TU/2022-06-29_T_HORAO-21-AF_FR_S2_1', '/media/elea/BackUP_File/NPP/550/TU/2023-10-19_T_HORAO-107-AF_FR_S3_1', '/media/elea/BackUP_File/NPP/550/HT/2024-09-18_T_AUTOPSY-BF_FR_S3_1', '/media/elea/BackUP_File/NPP/550/TU/2023-06-08_T_HORAO-78-AF_FR_S7_1', '/media/elea/BackUP_File/NPP/550/Irregular/2022-11-02_T_HORAO-59-AF_FR_S1_1', '/media/elea/BackUP_File/NPP/600/TU/2022-11-28_T_HORAO-67-AF_FR_S1_1', '/media/elea/BackUP_File/NPP/550/Irregular/2023-04-18_T_HORAO-95-BF_FR_S1_1', '/media/elea/BackUP_File/NPP/550/TU/2023-02-08_T_HORAO-84-BF_FR_S1_1', '/media/elea/BackUP_File/NPP/600/Irregular/2023-10-19_T_HORAO-98-AF_FR_S1_1', '/media/elea/BackUP_File/NPP/600/Irregular/2023-04-27_T_HORAO-98-BF_FR_S1_1', '/media/elea/BackUP_File/NPP/600/TU/2023-10-23_T_HORAO-101-AF_FR_S1_1', '/media/elea/BackUP_File/NPP/600/TU/2023-09-21_T_HORAO-104-AF_FR_S2_1', '/media/elea/BackUP_File/NPP/600/HT/2024-10-03_T_AUTOPSY-AF_FR_S1_1', '/media/elea/BackUP_File/NPP/550/Irregular/2022-09-14_T_HORAO-42-BF_FR_S3_1', '/media/elea/BackUP_File/NPP/600/Irregular/2022-12-01_T_HORAO-53-AF_FR_S1_1', '/media/elea/BackUP_File/NPP/550/HT/2024-10-03_T_AUTOPSY-AF_FR_S4_1', '/media/elea/BackUP_File/NPP/600/HT/2024-10-03_T_AUTOPSY-AF_FR_S3_1', '/media/elea/BackUP_File/NPP/550/Irregular/2022-09-20_T_HORAO-44-BF_FR_S1_1', '/media/elea/BackUP_File/NPP/600/TU/2022-11-02_T_HORAO-59-AF_FR_S2_1', '/media/elea/BackUP_File/NPP/550/HT/2022-07-06_T_AUTOPSY-BF_FR_S4_1', '/media/elea/BackUP_File/NPP/600/TU/2023-09-21_T_HORAO-104-AF_FR_S5_1', '/media/elea/BackUP_File/NPP/600/TU/2023-03-31_T_HORAO-93-AF_FR_S2_1', '/media/elea/BackUP_File/NPP/550/TU/2023-04-27_T_HORAO-98-BF_FR_S3_1', '/media/elea/BackUP_File/NPP/600/TU/2023-06-08_T_HORAO-78-AF_FR_S7_1', '/media/elea/BackUP_File/NPP/550/TU/2023-05-02_T_HORAO-99-BF_FR_S1_1', '/media/elea/BackUP_File/NPP/550/TU/2023-08-02_T_HORAO-107-BF_FR_S3_1', '/media/elea/BackUP_File/NPP/600/TU/2023-02-08_T_HORAO-84-BF_FR_S4_1', '/media/elea/BackUP_File/NPP/550/TU/2022-09-14_T_HORAO-38-AF_FR_S1_1', '/media/elea/BackUP_File/NPP/550/TU/2023-04-05_T_HORAO-94-BF_FR_S1_1', '/media/elea/BackUP_File/NPP/600/Irregular/2023-03-14_T_HORAO-90-BF_FR_S2_1', '/media/elea/BackUP_File/NPP/550/Irregular/2023-08-02_T_HORAO-107-BF_FR_S6_1', '/media/elea/BackUP_File/NPP/600/Irregular/2023-06-08_T_HORAO-71-AF_FR_S2_1', '/media/elea/BackUP_File/NPP/550/TU/2022-11-08_T_HORAO-64-BF_FR_S1_1', '/media/elea/BackUP_File/NPP/550/TU/2023-06-08_T_HORAO-71-AF_FR_S3_1', '/media/elea/BackUP_File/NPP/550/TU/2023-01-04_T_HORAO-77-BF_FR_S1_1', '/media/elea/BackUP_File/NPP/550/TU/2023-05-12_T_HORAO-100-AF_FR_S1_1', '/media/elea/BackUP_File/NPP/600/Irregular/2023-03-30_T_HORAO-93-BF_FR_S1_1', '/media/elea/BackUP_File/NPP/550/TU/2023-01-05_T_HORAO-78-BF_FR_S1_1', '/media/elea/BackUP_File/NPP/550/TU/2023-09-21_T_HORAO-104-AF_FR_S4_1', '/media/elea/BackUP_File/NPP/550/TU/2022-11-01_T_HORAO-59-BF_FR_S2_1']\n"
     ]
    },
    {
     "ename": "ZeroDivisionError",
     "evalue": "division by zero",
     "output_type": "error",
     "traceback": [
      "\u001b[31m---------------------------------------------------------------------------\u001b[39m",
      "\u001b[31mZeroDivisionError\u001b[39m                         Traceback (most recent call last)",
      "\u001b[36mFile \u001b[39m\u001b[32m<timed exec>:1\u001b[39m\n",
      "\u001b[36mFile \u001b[39m\u001b[32m/media/elea/BackUP_File/NPP/processingMM/src/processingmm/processingmm.py:142\u001b[39m, in \u001b[36mbatch_process_master\u001b[39m\u001b[34m(parameters, folder_eu_time)\u001b[39m\n\u001b[32m    140\u001b[39m \u001b[38;5;28;01mif\u001b[39;00m parameters[\u001b[33m'\u001b[39m\u001b[33mPDDN\u001b[39m\u001b[33m'\u001b[39m] \u001b[38;5;129;01min\u001b[39;00m {\u001b[33m'\u001b[39m\u001b[33mno\u001b[39m\u001b[33m'\u001b[39m, \u001b[33m'\u001b[39m\u001b[33mboth\u001b[39m\u001b[33m'\u001b[39m}:\n\u001b[32m    141\u001b[39m     \u001b[38;5;28mprint\u001b[39m(\u001b[33m'\u001b[39m\u001b[33mprocessing without PDDN...\u001b[39m\u001b[33m'\u001b[39m)\n\u001b[32m--> \u001b[39m\u001b[32m142\u001b[39m     times, time_complete = \u001b[43mbatch_process\u001b[49m\u001b[43m(\u001b[49m\u001b[43mparameters\u001b[49m\u001b[43m,\u001b[49m\u001b[43m \u001b[49m\u001b[43mPDDN\u001b[49m\u001b[43m \u001b[49m\u001b[43m=\u001b[49m\u001b[43m \u001b[49m\u001b[38;5;28;43;01mFalse\u001b[39;49;00m\u001b[43m,\u001b[49m\u001b[43m \u001b[49m\n\u001b[32m    143\u001b[39m \u001b[43m                                         \u001b[49m\u001b[43mfolder_eu_time\u001b[49m\u001b[43m \u001b[49m\u001b[43m=\u001b[49m\u001b[43m \u001b[49m\u001b[43mfolder_eu_time\u001b[49m\u001b[43m)\u001b[49m\n\u001b[32m    144\u001b[39m     \u001b[38;5;28mprint\u001b[39m(\u001b[33m'\u001b[39m\u001b[33mprocessing without PDDN done.\u001b[39m\u001b[33m'\u001b[39m)\n\u001b[32m    146\u001b[39m \u001b[38;5;28;01mif\u001b[39;00m parameters[\u001b[33m'\u001b[39m\u001b[33mPDDN\u001b[39m\u001b[33m'\u001b[39m] \u001b[38;5;129;01min\u001b[39;00m {\u001b[33m'\u001b[39m\u001b[33mpddn\u001b[39m\u001b[33m'\u001b[39m, \u001b[33m'\u001b[39m\u001b[33mboth\u001b[39m\u001b[33m'\u001b[39m}:\n",
      "\u001b[36mFile \u001b[39m\u001b[32m/media/elea/BackUP_File/NPP/processingMM/src/processingmm/processingmm.py:186\u001b[39m, in \u001b[36mbatch_process\u001b[39m\u001b[34m(parameters, PDDN, folder_eu_time)\u001b[39m\n\u001b[32m    160\u001b[39m \u001b[38;5;250m\u001b[39m\u001b[33;03m\"\"\"\u001b[39;00m\n\u001b[32m    161\u001b[39m \u001b[33;03mapply the mueller matrix processing pipeline to all the measurement folders located in one or multiple directories.\u001b[39;00m\n\u001b[32m    162\u001b[39m \n\u001b[32m   (...)\u001b[39m\u001b[32m    183\u001b[39m \u001b[33;03mNone\u001b[39;00m\n\u001b[32m    184\u001b[39m \u001b[33;03m\"\"\"\u001b[39;00m        \n\u001b[32m    185\u001b[39m \u001b[38;5;66;03m# get all the names of the measurement folders\u001b[39;00m\n\u001b[32m--> \u001b[39m\u001b[32m186\u001b[39m to_process, wavelengths = \u001b[43mutils\u001b[49m\u001b[43m.\u001b[49m\u001b[43mget_measurements_to_process\u001b[49m\u001b[43m(\u001b[49m\u001b[43mparameters\u001b[49m\u001b[43m,\u001b[49m\u001b[43m \u001b[49m\u001b[43mPDDN\u001b[49m\u001b[43m=\u001b[49m\u001b[43mPDDN\u001b[49m\u001b[43m)\u001b[49m\n\u001b[32m    188\u001b[39m \u001b[38;5;28;01mif\u001b[39;00m PDDN:\n\u001b[32m    189\u001b[39m     denoise_intensities.denoise_intensities(parameters, to_process)\n",
      "\u001b[36mFile \u001b[39m\u001b[32m/media/elea/BackUP_File/NPP/processingMM/src/processingmm/utils.py:43\u001b[39m, in \u001b[36mget_measurements_to_process\u001b[39m\u001b[34m(parameters, PDDN)\u001b[39m\n\u001b[32m     41\u001b[39m data_folders, _ = get_all_folders(directories)\n\u001b[32m     42\u001b[39m \u001b[38;5;28mprint\u001b[39m(data_folders)\n\u001b[32m---> \u001b[39m\u001b[32m43\u001b[39m \u001b[32;43m0\u001b[39;49m\u001b[43m/\u001b[49m\u001b[32;43m0\u001b[39;49m\n\u001b[32m     45\u001b[39m \u001b[38;5;28;01mfor\u001b[39;00m folder \u001b[38;5;129;01min\u001b[39;00m data_folders:\n\u001b[32m     46\u001b[39m     move_folder_for_processing(parameters, folder)\n",
      "\u001b[31mZeroDivisionError\u001b[39m: division by zero"
     ]
    }
   ],
   "source": [
    "%%time\n",
    "times = processingmm.batch_process_master(parameters)\n",
    "times"
   ]
  },
  {
   "cell_type": "code",
   "execution_count": null,
   "id": "be765fbe-7b77-4a2b-919b-04a08510916c",
   "metadata": {},
   "outputs": [],
   "source": []
  },
  {
   "cell_type": "code",
   "execution_count": 129,
   "id": "61611c16-067f-47a0-8fbc-076472169d33",
   "metadata": {},
   "outputs": [
    {
     "name": "stdout",
     "output_type": "stream",
     "text": [
      "CPU times: user 280 μs, sys: 1.02 ms, total: 1.3 ms\n",
      "Wall time: 1.08 ms\n"
     ]
    },
    {
     "data": {
      "text/plain": [
       "0.0005217790603637695"
      ]
     },
     "execution_count": 129,
     "metadata": {},
     "output_type": "execute_result"
    }
   ],
   "source": [
    "%%time\n",
    "from processingmm.addons import visualization_lines\n",
    "\n",
    "# Approximate time to process the line visualization save_pdf_figs True : 3.85s\n",
    "# Approximate time to process the line visualization save_pdf_figs False : 4.92s\n",
    "run_all = False\n",
    "times = visualization_lines.batch_visualization(parameters, run_all)\n",
    "times"
   ]
  },
  {
   "cell_type": "code",
   "execution_count": null,
   "id": "d24101bc-bdbf-4494-8596-efe0b1ba04fb",
   "metadata": {},
   "outputs": [],
   "source": []
  },
  {
   "cell_type": "code",
   "execution_count": 131,
   "id": "7290a266",
   "metadata": {},
   "outputs": [
    {
     "name": "stdout",
     "output_type": "stream",
     "text": [
      "Aligning wavelength: 600 nm...\n"
     ]
    },
    {
     "name": "stderr",
     "output_type": "stream",
     "text": [
      "100%|██████████████████████████████████████████| 2/2 [00:00<00:00, 11554.56it/s]"
     ]
    },
    {
     "name": "stdout",
     "output_type": "stream",
     "text": [
      "Aligning wavelengths done.\n",
      "\n"
     ]
    },
    {
     "name": "stderr",
     "output_type": "stream",
     "text": [
      "\n"
     ]
    }
   ],
   "source": [
    "# align the measurements captured at different wavelengths - could cause issue when using masks obtained\n",
    "# at 550nm as the images are slightly shifted \n",
    "from processingmm.addons import align_wavelengths\n",
    "directories = ['/media/elea/ssd/NPP_dev/test']\n",
    "\n",
    "PDDN_mode = 'both'\n",
    "run_all = False\n",
    "align_wavelengths.align_wavelengths(directories, PDDN_mode, run_all, [600])"
   ]
  },
  {
   "cell_type": "code",
   "execution_count": null,
   "id": "15e52f61-7cbd-442b-812f-0371510e7f18",
   "metadata": {},
   "outputs": [],
   "source": []
  }
 ],
 "metadata": {
  "kernelspec": {
   "display_name": "Python 3 (ipykernel)",
   "language": "python",
   "name": "python3"
  },
  "language_info": {
   "codemirror_mode": {
    "name": "ipython",
    "version": 3
   },
   "file_extension": ".py",
   "mimetype": "text/x-python",
   "name": "python",
   "nbconvert_exporter": "python",
   "pygments_lexer": "ipython3",
   "version": "3.12.8"
  }
 },
 "nbformat": 4,
 "nbformat_minor": 5
}
