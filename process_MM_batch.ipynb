{
 "cells": [
  {
   "cell_type": "markdown",
   "id": "5833fa74",
   "metadata": {},
   "source": [
    "# Process the data obtained from polarimetry and reorganize the data into the correct folders"
   ]
  },
  {
   "cell_type": "code",
   "execution_count": 1,
   "id": "a9006a18",
   "metadata": {},
   "outputs": [
    {
     "name": "stdout",
     "output_type": "stream",
     "text": [
      " Could not import win32api and/or win32con\n",
      " [wrn] tensorboard not available - training not possible\n",
      " [wrn] tensorboard not available - training not possible\n"
     ]
    }
   ],
   "source": [
    "%matplotlib inline\n",
    "%load_ext autoreload\n",
    "%autoreload 2\n",
    "\n",
    "    \n",
    "import numpy as np\n",
    "from PIL import Image\n",
    "import matplotlib.pyplot as plt\n",
    "\n",
    "import os\n",
    "from mmpt import processingmm"
   ]
  },
  {
   "cell_type": "code",
   "execution_count": null,
   "id": "40d299fa-1270-4737-99a3-f2e7c75f87a1",
   "metadata": {},
   "outputs": [],
   "source": []
  },
  {
   "cell_type": "code",
   "execution_count": 13,
   "id": "35f24a20",
   "metadata": {},
   "outputs": [
    {
     "name": "stdout",
     "output_type": "stream",
     "text": [
      " [info] Switching denoise_patch to False.\n",
      " [info] Loading tumor prediction model...\n",
      " [info] Loading tumor prediction model done.\n",
      " [info] Loading lu-chipman prediction model...\n",
      " [info] Loading lu-chipman prediction model done.\n",
      "\n",
      "Processing parameters:\n",
      "data_source: online\n",
      "instrument: IMP\n",
      "input_dirs: ['/home/elea/Documents/HORAO/repositories/processingMM/tests/data_IMP']\n",
      "calib_dir: /media/elea/ssd/NPP/calib/\n",
      "wavelengths: [550]\n",
      "align_wls: False\n",
      "PDDN: no\n",
      "PDDN_models_path: /home/elea/Documents/HORAO/repositories/processingMM/src/mmpt/PDDN_model\n",
      "denoise_patch: False\n",
      "visualization_preset: default\n",
      "workflow_mode: default\n",
      "save_pdf_figs: False\n",
      "force_reprocess: True\n",
      "time_mode: True\n",
      "remove_reflection: False\n",
      "binning_factor: 4\n",
      "mm_computation_backend: c\n",
      "lu_chipman_backend: processing\n",
      "folder_eu_time: {}\n"
     ]
    }
   ],
   "source": [
    "# set the processing mode to 'online' or 'offline'\n",
    "# offline sets up processing when the data (input intensities) are stored on a drive\n",
    "# online sets up processing when the data is loaded in memory (i.e. when processing \"live\")\n",
    "data_source = 'online'\n",
    "\n",
    "# set the parameters to run the script\n",
    "input_dirs = [r'/home/elea/Documents/HORAO/repositories/processingMM/tests/data_IMP']\n",
    "calib_dir = r'/media/elea/ssd/NPP/calib/'\n",
    "    \n",
    "# set the parameters to be used for the line visualisation\n",
    "# NB: parameter file accessible in ./src/processingmm/data/parameters_visualisations.json\n",
    "visualization_preset = 'default'\n",
    "\n",
    "# set run_all to true in order to run the pipeline on all the folders (even the ones already processed)\n",
    "force_reprocess = True\n",
    "\n",
    "# PDDN_mode can be set to:\n",
    "# 1. 'no': processes without using the PDDN\n",
    "# 2. 'pddn': processes with PDDN when available (for 550nm and 650nm)\n",
    "# 3. 'both': processes both with PDDN when available and without PDDN\n",
    "PDDN_mode = 'no'\n",
    "\n",
    "# set lu_chipman_backend to 'processing' or 'prediction'\n",
    "lu_chipman_backend = 'processing'\n",
    "\n",
    "# Set the wavelengths to be processed\n",
    "# 1. 'all': processes all the available wavelenght\n",
    "# 2. [xxx, yyy]: processes only the wavelenghts 'xxx' and 'yyy'\n",
    "wavelengths = [550]\n",
    "\n",
    "# Processing mode\n",
    "# 1. 'no_viz': processes only the MM - no visualization at all. useful for fast computation\n",
    "# 2. 'default': processes the MM and plots the polarimetric parameters maps (i.e. depolarization, azimuth, \n",
    "# retardance, diattenuation, azimuth local variability)\n",
    "# 3. 'full': do like default, and additionally plot the MM components, as well as the line\n",
    "# visualization\n",
    "workflow_mode = 'default'\n",
    "\n",
    "# define if pdf figures should be saved (takes a lot of time) - no impact when processing_mode is set to no_viz\n",
    "save_pdf_figs = False\n",
    "# NB: processing time without PDDN (with the data on a SSD drive)\n",
    "# 'no_viz': 0.39s\n",
    "# 'default', save_pdf_figs False: 1.65s\n",
    "# 'default', save_pdf_figs True: 2.67s\n",
    "# 'full', save_pdf_figs False: 3.24s\n",
    "# 'full', save_pdf_figs True: 5.94s\n",
    "\n",
    "# define which intrument is being used (currently supported 'IMP', 'IMP_v2')\n",
    "instrument = 'IMP'\n",
    "\n",
    "# define if the MM and lu-chipman should be processed using 'torch' or the implementation from Stefano 'c'\n",
    "mm_computation_backend = 'c'\n",
    "\n",
    "# set to False if you have no issue with VRAM (usually more than 4Go is enough)\n",
    "denoise_patch = True\n",
    "\n",
    "# define if the wavelenghts should be aligned before processing - and used for the computation\n",
    "align_wls = False\n",
    "\n",
    "# define if the specular reflections should be removed\n",
    "remove_reflection = False\n",
    "\n",
    "binning_factor = 4\n",
    "\n",
    "mmProcessor = processingmm.MuellerMatrixProcessor(data_source = data_source, wavelengths = wavelengths, input_dirs = input_dirs,\n",
    "                                calib_dir = calib_dir, visualization_preset = visualization_preset, \n",
    "                                PDDN_mode = PDDN_mode, instrument = instrument, remove_reflection = remove_reflection,\n",
    "                                workflow_mode = workflow_mode, force_reprocess = force_reprocess, save_pdf_figs = save_pdf_figs, \n",
    "                                align_wls = align_wls, denoise_patch = denoise_patch, binning_factor = binning_factor,\n",
    "                                                  mm_computation_backend = mm_computation_backend,\n",
    "                                lu_chipman_backend = lu_chipman_backend)\n",
    "print(mmProcessor)"
   ]
  },
  {
   "cell_type": "code",
   "execution_count": null,
   "id": "50f3cd6d-60ca-4268-bd7a-19c4586988b3",
   "metadata": {},
   "outputs": [],
   "source": []
  },
  {
   "cell_type": "code",
   "execution_count": 14,
   "id": "27800101-82a7-4366-9b2b-4b0d26944ddc",
   "metadata": {
    "scrolled": true
   },
   "outputs": [
    {
     "ename": "ValueError",
     "evalue": "The data_source is set to \"online\". The function to process the data online is online_processing.",
     "output_type": "error",
     "traceback": [
      "\u001b[31m---------------------------------------------------------------------------\u001b[39m",
      "\u001b[31mValueError\u001b[39m                                Traceback (most recent call last)",
      "\u001b[36mCell\u001b[39m\u001b[36m \u001b[39m\u001b[32mIn[14]\u001b[39m\u001b[32m, line 2\u001b[39m\n\u001b[32m      1\u001b[39m \u001b[38;5;66;03m# functions as previously, from data stored on the drive ('offline' processing)\u001b[39;00m\n\u001b[32m----> \u001b[39m\u001b[32m2\u001b[39m \u001b[43mmmProcessor\u001b[49m\u001b[43m.\u001b[49m\u001b[43mbatch_process_master\u001b[49m\u001b[43m(\u001b[49m\u001b[43m)\u001b[49m\n",
      "\u001b[36mFile \u001b[39m\u001b[32m~/Documents/HORAO/repositories/processingMM/src/mmpt/processingmm.py:257\u001b[39m, in \u001b[36mMuellerMatrixProcessor.batch_process_master\u001b[39m\u001b[34m(self)\u001b[39m\n\u001b[32m    233\u001b[39m \u001b[38;5;250m\u001b[39m\u001b[33;03m\"\"\"\u001b[39;00m\n\u001b[32m    234\u001b[39m \u001b[33;03mMaster function allowing to apply the mueller matrix processing pipeline to all the measurement folders located in one or multiple directories.\u001b[39;00m\n\u001b[32m    235\u001b[39m \n\u001b[32m   (...)\u001b[39m\u001b[32m    254\u001b[39m \u001b[33;03mNone\u001b[39;00m\n\u001b[32m    255\u001b[39m \u001b[33;03m\"\"\"\u001b[39;00m\n\u001b[32m    256\u001b[39m \u001b[38;5;28;01mif\u001b[39;00m \u001b[38;5;28mself\u001b[39m.data_source == \u001b[33m'\u001b[39m\u001b[33monline\u001b[39m\u001b[33m'\u001b[39m:\n\u001b[32m--> \u001b[39m\u001b[32m257\u001b[39m     \u001b[38;5;28;01mraise\u001b[39;00m \u001b[38;5;167;01mValueError\u001b[39;00m(\u001b[33m'\u001b[39m\u001b[33mThe data_source is set to \u001b[39m\u001b[33m\"\u001b[39m\u001b[33monline\u001b[39m\u001b[33m\"\u001b[39m\u001b[33m. The function to process the data online is online_processing.\u001b[39m\u001b[33m'\u001b[39m)\n\u001b[32m    259\u001b[39m \u001b[38;5;28;01mif\u001b[39;00m \u001b[38;5;28mself\u001b[39m.PDDN_mode \u001b[38;5;129;01min\u001b[39;00m {\u001b[33m'\u001b[39m\u001b[33mno\u001b[39m\u001b[33m'\u001b[39m, \u001b[33m'\u001b[39m\u001b[33mboth\u001b[39m\u001b[33m'\u001b[39m}:\n\u001b[32m    260\u001b[39m     \u001b[38;5;28mprint\u001b[39m(\u001b[33m'\u001b[39m\u001b[33mprocessing without PDDN...\u001b[39m\u001b[33m'\u001b[39m)\n",
      "\u001b[31mValueError\u001b[39m: The data_source is set to \"online\". The function to process the data online is online_processing."
     ]
    }
   ],
   "source": [
    "# functions as previously, from data stored on the drive ('offline' processing)\n",
    "mmProcessor.batch_process_master()"
   ]
  },
  {
   "cell_type": "code",
   "execution_count": null,
   "id": "33fd2f42-1e04-4df8-9771-64053da6a78a",
   "metadata": {},
   "outputs": [],
   "source": []
  },
  {
   "cell_type": "code",
   "execution_count": 15,
   "id": "d50e7263-2b74-4cfb-912e-9b75ff4ad43f",
   "metadata": {},
   "outputs": [],
   "source": [
    "from mmpt import libmpMuelMat\n",
    "\n",
    "# example with a test case\n",
    "\"\"\"I = libmpMuelMat.read_cod_data_X3D('tests/data/2022-11-02_T_HORAO-59-AF_FR_S1_1/raw_data/550nm/550_Intensite.cod', isRawFlag=1)\n",
    "A = libmpMuelMat.read_cod_data_X3D('/media/elea/ssd/NPP/calib/2022-11-02_C_1/550nm/550_A.cod', isRawFlag=0)\n",
    "W = libmpMuelMat.read_cod_data_X3D('/media/elea/ssd/NPP/calib/2022-11-02_C_1/550nm/550_W.cod', isRawFlag=0)\"\"\"\n",
    "\n",
    "I = np.load('/media/elea/ssd/new_instrument/testing_data/2025-03-24_152306_F_FF_HORAO_0005_003/to_process/630_Image_Number_1.npy')\n",
    "A = np.load('/media/elea/ssd/new_instrument/testing_data/2025-03-24_152306_F_FF_HORAO_0005_003/to_process/A.npy')\n",
    "W = np.load('/media/elea/ssd/new_instrument/testing_data/2025-03-24_152306_F_FF_HORAO_0005_003/to_process/W.npy')"
   ]
  },
  {
   "cell_type": "code",
   "execution_count": 54,
   "id": "7e7b55bc-ac1f-4afb-883e-411d76120cae",
   "metadata": {},
   "outputs": [
    {
     "name": "stdout",
     "output_type": "stream",
     "text": [
      " [info] Processing without PDDN\n",
      "processing\n",
      "Generating the images for visualization:  0.01304173469543457\n",
      "{'time_processing': {'time_data_loading_GPU': 0, 'time_MM_processing': {'remove_reflection': 0.00177001953125, 'MM_computation': 0.007611274719238281, 'lu_chipman': 0.09312176704406738, 'total': 0.10680389404296875}}, 'time_binning': 0.0875546932220459, 'time_denoising': 2.384185791015625e-07, 'visualization': 0.013142585754394531}\n",
      "total time: 0.20768189430236816\n",
      "CPU times: user 1.13 s, sys: 4.46 ms, total: 1.13 s\n",
      "Wall time: 208 ms\n"
     ]
    }
   ],
   "source": [
    "%%time \n",
    "from mmpt.addons import plot_polarimetry\n",
    "\n",
    "# set up the parameters to get the visualization for\n",
    "parameters_to_visualize = ['M11', 'linR', 'azimuth', 'totP', 'totD']\n",
    "\n",
    "# define if the prediction algorithm should be ran\n",
    "prediction = False\n",
    "\n",
    "# functions for online processing\n",
    "import time\n",
    "start = time.time()\n",
    "MM, times = mmProcessor.online_processing(I, A, W, binning_factor=4)\n",
    "if prediction:\n",
    "    start_prediction = time.time()\n",
    "    preds, _, _ = mmProcessor.prediction(MM['nM'], MM['Intensity'])\n",
    "    times['prediction'] = time.time() - start_prediction\n",
    "start_visualization = time.time()\n",
    "images = plot_polarimetry.plot_polarimetry_online(mmProcessor, MM, parameters_to_visualize)\n",
    "times['visualization'] = time.time() - start_visualization\n",
    "print(times)\n",
    "\n",
    "print('total time:', time.time() - start)"
   ]
  },
  {
   "cell_type": "code",
   "execution_count": 10,
   "id": "20dc8dd9-0749-4f0f-b6ef-5621a78126b7",
   "metadata": {},
   "outputs": [
    {
     "name": "stdout",
     "output_type": "stream",
     "text": [
      " [wrn] The processed /media/elea/ssd/polarimetry/550nm does not exist, skipping overlays.\n"
     ]
    }
   ],
   "source": [
    "from mmpt.addons.polarpred import save_results\n",
    "save_results.save_predictions(preds, MM['M11']/np.max(MM['M11']), '/media/elea/ssd', mode = 'normal', model_path = '', path_intensite = None)"
   ]
  },
  {
   "cell_type": "code",
   "execution_count": null,
   "id": "1c5380aa-bee4-4d3c-8c4d-da488bf89551",
   "metadata": {},
   "outputs": [],
   "source": []
  },
  {
   "cell_type": "code",
   "execution_count": 21,
   "id": "bde167f8-3978-43fb-a373-bd3f2f16bb0d",
   "metadata": {
    "scrolled": true
   },
   "outputs": [
    {
     "name": "stdout",
     "output_type": "stream",
     "text": [
      " [info] Loading MM model...\n",
      " [info] Loading MM model done.\n",
      "\n",
      "mm_computation_backend: c, lu_chipman_backend: processing\n",
      "processing without PDDN...\n",
      " [wrn] IMPv2 processing of only unprocessed files not implemented yet.\n"
     ]
    },
    {
     "name": "stderr",
     "output_type": "stream",
     "text": [
      "  0%|                                                     | 0/2 [00:00<?, ?it/s]"
     ]
    },
    {
     "name": "stdout",
     "output_type": "stream",
     "text": [
      "Processing: /home/elea/Documents/HORAO/repositories/processingMM/tests/data_IMPv2/2025-03-24_152306_F_FF_HORAO_0005_003\n",
      " [wrn] clean_up_old_files not implemented yet for IMPv2.\n",
      " [info] Test mode: saving to /home/elea/Documents/HORAO/repositories/processingMM/tests/data_IMPv2/2025-03-24_152306_F_FF_HORAO_0005_003/test_backends/630_Image_Number_1/630nm/c_processing\n"
     ]
    },
    {
     "name": "stderr",
     "output_type": "stream",
     "text": [
      " 50%|██████████████████████▌                      | 1/2 [00:00<00:00,  3.12it/s]"
     ]
    },
    {
     "name": "stdout",
     "output_type": "stream",
     "text": [
      "processing\n",
      " [wrn] No Gaussian fit found for normalization. Returning unnormalized M11.\n",
      "Processing: /home/elea/Documents/HORAO/repositories/processingMM/tests/data_IMPv2/2025-03-24_152306_F_FF_HORAO_0005_003\n",
      " [wrn] clean_up_old_files not implemented yet for IMPv2.\n"
     ]
    },
    {
     "name": "stderr",
     "output_type": "stream",
     "text": [
      "100%|█████████████████████████████████████████████| 2/2 [00:00<00:00,  3.14it/s]\n"
     ]
    },
    {
     "name": "stdout",
     "output_type": "stream",
     "text": [
      " [info] Test mode: saving to /home/elea/Documents/HORAO/repositories/processingMM/tests/data_IMPv2/2025-03-24_152306_F_FF_HORAO_0005_003/test_backends/630_Image_Number_2/630nm/c_processing\n",
      "processing\n",
      " [wrn] No Gaussian fit found for normalization. Returning unnormalized M11.\n",
      "processing without PDDN done.\n",
      "Done.\n",
      "\n",
      "mm_computation_backend: c, lu_chipman_backend: prediction\n",
      "processing without PDDN...\n",
      " [wrn] IMPv2 processing of only unprocessed files not implemented yet.\n"
     ]
    },
    {
     "name": "stderr",
     "output_type": "stream",
     "text": [
      "  0%|                                                     | 0/2 [00:00<?, ?it/s]"
     ]
    },
    {
     "name": "stdout",
     "output_type": "stream",
     "text": [
      "Processing: /home/elea/Documents/HORAO/repositories/processingMM/tests/data_IMPv2/2025-03-24_152306_F_FF_HORAO_0005_003\n",
      " [wrn] clean_up_old_files not implemented yet for IMPv2.\n",
      " [info] Test mode: saving to /home/elea/Documents/HORAO/repositories/processingMM/tests/data_IMPv2/2025-03-24_152306_F_FF_HORAO_0005_003/test_backends/630_Image_Number_1/630nm/c_prediction\n",
      "prediction\n"
     ]
    },
    {
     "name": "stderr",
     "output_type": "stream",
     "text": [
      " 50%|██████████████████████▌                      | 1/2 [00:00<00:00,  4.27it/s]"
     ]
    },
    {
     "name": "stdout",
     "output_type": "stream",
     "text": [
      " [wrn] No Gaussian fit found for normalization. Returning unnormalized M11.\n",
      "Processing: /home/elea/Documents/HORAO/repositories/processingMM/tests/data_IMPv2/2025-03-24_152306_F_FF_HORAO_0005_003\n",
      " [wrn] clean_up_old_files not implemented yet for IMPv2.\n",
      " [info] Test mode: saving to /home/elea/Documents/HORAO/repositories/processingMM/tests/data_IMPv2/2025-03-24_152306_F_FF_HORAO_0005_003/test_backends/630_Image_Number_2/630nm/c_prediction\n"
     ]
    },
    {
     "name": "stderr",
     "output_type": "stream",
     "text": [
      "100%|█████████████████████████████████████████████| 2/2 [00:00<00:00,  4.41it/s]\n"
     ]
    },
    {
     "name": "stdout",
     "output_type": "stream",
     "text": [
      "prediction\n",
      " [wrn] No Gaussian fit found for normalization. Returning unnormalized M11.\n",
      "processing without PDDN done.\n",
      "Done.\n",
      "\n",
      "mm_computation_backend: torch, lu_chipman_backend: processing\n",
      "processing without PDDN...\n",
      " [wrn] IMPv2 processing of only unprocessed files not implemented yet.\n"
     ]
    },
    {
     "name": "stderr",
     "output_type": "stream",
     "text": [
      "  0%|                                                     | 0/2 [00:00<?, ?it/s]"
     ]
    },
    {
     "name": "stdout",
     "output_type": "stream",
     "text": [
      "Processing: /home/elea/Documents/HORAO/repositories/processingMM/tests/data_IMPv2/2025-03-24_152306_F_FF_HORAO_0005_003\n",
      " [wrn] clean_up_old_files not implemented yet for IMPv2.\n",
      " [info] Test mode: saving to /home/elea/Documents/HORAO/repositories/processingMM/tests/data_IMPv2/2025-03-24_152306_F_FF_HORAO_0005_003/test_backends/630_Image_Number_1/630nm/torch_processing\n"
     ]
    },
    {
     "name": "stderr",
     "output_type": "stream",
     "text": [
      " 50%|██████████████████████▌                      | 1/2 [00:00<00:00,  2.53it/s]"
     ]
    },
    {
     "name": "stdout",
     "output_type": "stream",
     "text": [
      " [wrn] No Gaussian fit found for normalization. Returning unnormalized M11.\n",
      "Processing: /home/elea/Documents/HORAO/repositories/processingMM/tests/data_IMPv2/2025-03-24_152306_F_FF_HORAO_0005_003\n",
      " [wrn] clean_up_old_files not implemented yet for IMPv2.\n",
      " [info] Test mode: saving to /home/elea/Documents/HORAO/repositories/processingMM/tests/data_IMPv2/2025-03-24_152306_F_FF_HORAO_0005_003/test_backends/630_Image_Number_2/630nm/torch_processing\n"
     ]
    },
    {
     "name": "stderr",
     "output_type": "stream",
     "text": [
      "100%|█████████████████████████████████████████████| 2/2 [00:00<00:00,  2.43it/s]\n"
     ]
    },
    {
     "name": "stdout",
     "output_type": "stream",
     "text": [
      " [wrn] No Gaussian fit found for normalization. Returning unnormalized M11.\n",
      "processing without PDDN done.\n",
      "Done.\n",
      "\n",
      "mm_computation_backend: torch, lu_chipman_backend: prediction\n",
      "processing without PDDN...\n",
      " [wrn] IMPv2 processing of only unprocessed files not implemented yet.\n"
     ]
    },
    {
     "name": "stderr",
     "output_type": "stream",
     "text": [
      "  0%|                                                     | 0/2 [00:00<?, ?it/s]"
     ]
    },
    {
     "name": "stdout",
     "output_type": "stream",
     "text": [
      "Processing: /home/elea/Documents/HORAO/repositories/processingMM/tests/data_IMPv2/2025-03-24_152306_F_FF_HORAO_0005_003\n",
      " [wrn] clean_up_old_files not implemented yet for IMPv2.\n",
      " [info] Test mode: saving to /home/elea/Documents/HORAO/repositories/processingMM/tests/data_IMPv2/2025-03-24_152306_F_FF_HORAO_0005_003/test_backends/630_Image_Number_1/630nm/torch_prediction\n"
     ]
    },
    {
     "name": "stderr",
     "output_type": "stream",
     "text": [
      " 50%|██████████████████████▌                      | 1/2 [00:00<00:00,  4.40it/s]"
     ]
    },
    {
     "name": "stdout",
     "output_type": "stream",
     "text": [
      " [wrn] No Gaussian fit found for normalization. Returning unnormalized M11.\n",
      "Processing: /home/elea/Documents/HORAO/repositories/processingMM/tests/data_IMPv2/2025-03-24_152306_F_FF_HORAO_0005_003\n",
      " [wrn] clean_up_old_files not implemented yet for IMPv2.\n"
     ]
    },
    {
     "name": "stderr",
     "output_type": "stream",
     "text": [
      "100%|█████████████████████████████████████████████| 2/2 [00:00<00:00,  4.20it/s]"
     ]
    },
    {
     "name": "stdout",
     "output_type": "stream",
     "text": [
      " [info] Test mode: saving to /home/elea/Documents/HORAO/repositories/processingMM/tests/data_IMPv2/2025-03-24_152306_F_FF_HORAO_0005_003/test_backends/630_Image_Number_2/630nm/torch_prediction\n",
      " [wrn] No Gaussian fit found for normalization. Returning unnormalized M11.\n",
      "processing without PDDN done.\n",
      "Done.\n",
      " [wrn] IMPv2 processing of only unprocessed files not implemented yet.\n"
     ]
    },
    {
     "name": "stderr",
     "output_type": "stream",
     "text": [
      "\n"
     ]
    }
   ],
   "source": [
    "# compare the results of different backends ('c', 'processing'), ('c', 'prediction'), ('torch', 'processing'), ('torch', 'prediction')\n",
    "mm_computation_backends = ['c', 'torch']\n",
    "lu_chipman_backends = ['processing', 'prediction']\n",
    "\n",
    "mmProcessor.compare_backends(mm_computation_backends, lu_chipman_backends)"
   ]
  },
  {
   "cell_type": "code",
   "execution_count": null,
   "id": "16102944-72a4-41fb-904e-21000c3b9d6c",
   "metadata": {},
   "outputs": [],
   "source": []
  },
  {
   "cell_type": "code",
   "execution_count": null,
   "id": "fa4a8d1d-32d2-4737-b4d8-477afc437bef",
   "metadata": {},
   "outputs": [],
   "source": []
  },
  {
   "cell_type": "code",
   "execution_count": null,
   "id": "7c821c4c-97d3-48de-9da7-76a896efc9b6",
   "metadata": {},
   "outputs": [],
   "source": []
  },
  {
   "cell_type": "code",
   "execution_count": null,
   "id": "6fd1e823-9348-4d6c-a4a9-ae6376d7d59b",
   "metadata": {},
   "outputs": [],
   "source": []
  },
  {
   "cell_type": "code",
   "execution_count": null,
   "id": "e8023b6c-9e7b-4618-8b15-aa9bade7650e",
   "metadata": {},
   "outputs": [],
   "source": []
  },
  {
   "cell_type": "code",
   "execution_count": null,
   "id": "d83867ad-4a84-437b-b5f5-12c9b4c63093",
   "metadata": {},
   "outputs": [],
   "source": []
  },
  {
   "cell_type": "code",
   "execution_count": null,
   "id": "dc4fae62-e034-4c0f-bf28-69d706fc0920",
   "metadata": {},
   "outputs": [],
   "source": []
  },
  {
   "cell_type": "code",
   "execution_count": 17,
   "id": "392ae4df-62fb-4182-9ef2-eeac3e250b2a",
   "metadata": {},
   "outputs": [
    {
     "name": "stderr",
     "output_type": "stream",
     "text": [
      "100%|█████████████████████████████████████████████| 1/1 [00:00<00:00,  2.76it/s]"
     ]
    },
    {
     "name": "stdout",
     "output_type": "stream",
     "text": [
      "torch.Size([1, 11, 388, 516])\n",
      "/media/elea/ssd/NPP/test/2022-07-06_T_AUTOPSY-BF_FR_S1_1/raw_data/550_Intensite.cod\n",
      "{\n",
      "    \"preparation\": {\n",
      "        \"load_config\": 0.006548166275024414,\n",
      "        \"load_models\": 0.10728096961975098\n",
      "    },\n",
      "    \"pre_process\": {\n",
      "        \"load_cod\": 0.01946234703063965,\n",
      "        \"load_calib\": 0.03697371482849121,\n",
      "        \"switch_cuda\": 0.00969076156616211,\n",
      "        \"get_tensor\": 0.11146759986877441,\n",
      "        \"total\": 0.17759990692138672\n",
      "    },\n",
      "    \"predict\": 0.0029888153076171875,\n",
      "    \"save\": 0.17706036567687988,\n",
      "    \"total\": 0.36295342445373535,\n",
      "    \"per_sample\": 0.36295342445373535\n",
      "}\n",
      "CPU times: user 1.52 s, sys: 89.8 ms, total: 1.61 s\n",
      "Wall time: 478 ms\n"
     ]
    },
    {
     "name": "stderr",
     "output_type": "stream",
     "text": [
      "\n"
     ]
    }
   ],
   "source": [
    "%%time\n",
    "from processingmm.addons import predict\n",
    "mode = 'fast' # mode should be one of 'normal', 'fast' or 'very fast'\n",
    "times, samples = predict.batch_prediction(mmProcessor.get_parameters(), MM = True, mode = mode)"
   ]
  },
  {
   "cell_type": "code",
   "execution_count": 6,
   "id": "c8bf7d82-8521-4345-903d-54cce2c750b1",
   "metadata": {},
   "outputs": [
    {
     "ename": "TypeError",
     "evalue": "expected str, bytes or os.PathLike object, not tuple",
     "output_type": "error",
     "traceback": [
      "\u001b[31m---------------------------------------------------------------------------\u001b[39m",
      "\u001b[31mTypeError\u001b[39m                                 Traceback (most recent call last)",
      "\u001b[36mCell\u001b[39m\u001b[36m \u001b[39m\u001b[32mIn[6]\u001b[39m\u001b[32m, line 63\u001b[39m\n\u001b[32m     59\u001b[39m         accuracies[sample] = accuracy\n\u001b[32m     61\u001b[39m     \u001b[38;5;28;01mreturn\u001b[39;00m accuracies\n\u001b[32m---> \u001b[39m\u001b[32m63\u001b[39m \u001b[43mrun_analysis_predictions\u001b[49m\u001b[43m(\u001b[49m\u001b[43msamples\u001b[49m\u001b[43m)\u001b[49m\n",
      "\u001b[36mCell\u001b[39m\u001b[36m \u001b[39m\u001b[32mIn[6]\u001b[39m\u001b[32m, line 9\u001b[39m, in \u001b[36mrun_analysis_predictions\u001b[39m\u001b[34m(samples)\u001b[39m\n\u001b[32m      6\u001b[39m \u001b[38;5;28;01mdef\u001b[39;00m\u001b[38;5;250m \u001b[39m\u001b[34mrun_analysis_predictions\u001b[39m(samples):\n\u001b[32m      8\u001b[39m     \u001b[38;5;28;01mfor\u001b[39;00m sample \u001b[38;5;129;01min\u001b[39;00m samples:\n\u001b[32m----> \u001b[39m\u001b[32m9\u001b[39m         signal = np.array(Image.open(\u001b[43mos\u001b[49m\u001b[43m.\u001b[49m\u001b[43mpath\u001b[49m\u001b[43m.\u001b[49m\u001b[43mjoin\u001b[49m\u001b[43m(\u001b[49m\u001b[43msample\u001b[49m\u001b[43m,\u001b[49m\u001b[43m \u001b[49m\u001b[33;43m'\u001b[39;49m\u001b[33;43mannotation\u001b[39;49m\u001b[33;43m'\u001b[39;49m\u001b[43m,\u001b[49m\u001b[43m \u001b[49m\u001b[33;43m'\u001b[39;49m\u001b[33;43msignal.tif\u001b[39;49m\u001b[33;43m'\u001b[39;49m\u001b[43m)\u001b[49m))\n\u001b[32m     10\u001b[39m         blood = np.array(Image.open(os.path.join(sample, \u001b[33m'\u001b[39m\u001b[33mannotation\u001b[39m\u001b[33m'\u001b[39m, \u001b[33m'\u001b[39m\u001b[33mblood.tif\u001b[39m\u001b[33m'\u001b[39m)))\n\u001b[32m     11\u001b[39m         signal = np.logical_and(signal, ~blood)\n",
      "\u001b[36mFile \u001b[39m\u001b[32m<frozen posixpath>:76\u001b[39m, in \u001b[36mjoin\u001b[39m\u001b[34m(a, *p)\u001b[39m\n",
      "\u001b[31mTypeError\u001b[39m: expected str, bytes or os.PathLike object, not tuple"
     ]
    }
   ],
   "source": [
    "map_gt = {'GM': 1, 'HT': 2, 'IZ': 3, 'TC': 3}\n",
    "map_pred = {2: 'GM', 0: 'HT', 1: 'TC'}\n",
    "\n",
    "accuracies = {}\n",
    "\n",
    "def run_analysis_predictions(samples):\n",
    "\n",
    "    for sample in samples:\n",
    "        signal = np.array(Image.open(os.path.join(sample, 'annotation', 'signal.tif')))\n",
    "        blood = np.array(Image.open(os.path.join(sample, 'annotation', 'blood.tif')))\n",
    "        signal = np.logical_and(signal, ~blood)\n",
    "\n",
    "        GT = np.zeros_like(signal, dtype=np.uint8)\n",
    "        \n",
    "        GM_WM = np.array(Image.open(os.path.join(sample, 'histology', 'GM_WM.png')))\n",
    "        signal = np.logical_and(np.sum(GM_WM, axis = 2) !=0, signal)\n",
    "        GM = np.logical_and(GM_WM[:,:,0] == 153, GM_WM[:,:,1] == 77)\n",
    "        WM = np.logical_and(GM_WM[:,:,0] == 153, GM_WM[:,:,1] == 153)\n",
    "\n",
    "        TCC = np.array(Image.open(os.path.join(sample, 'histology', 'TCC.png')))\n",
    "        HT = np.logical_and(np.logical_and(TCC[:,:,1] == 255, TCC[:,:,2] == 0), WM)\n",
    "        IZ = np.logical_and(np.logical_and(TCC[:,:,2] == 255, TCC[:,:,1] == 255), WM)\n",
    "        TC = np.logical_and(TCC[:,:,0] == 255, WM) \n",
    "        GT[GM] = 1\n",
    "        GT[HT] = 2\n",
    "        GT[np.logical_or(IZ, TC)] = 3\n",
    "        # GT[TC] = 4\n",
    "\n",
    "        accuracy = {}\n",
    "        \n",
    "        path_predictions = os.path.join(sample, 'predictions')\n",
    "        for model in os.listdir(path_predictions):\n",
    "            if os.path.isdir(os.path.join(sample, 'predictions', model)):\n",
    "                \n",
    "                preds = np.load(os.path.join(sample, 'predictions', model, 'preds.npy'))\n",
    "                preds_simplified = preds.argmax(1).squeeze(0)\n",
    "        \n",
    "                converted_preds = np.zeros_like(preds_simplified)\n",
    "                for idx, x in enumerate(preds_simplified):\n",
    "                    for idy, y in enumerate(x):\n",
    "                        if signal[idx, idy]:\n",
    "                            converted_preds[idx, idy] = map_gt[map_pred[y]]\n",
    "        \n",
    "                accuracy[model] = np.sum(np.logical_and(converted_preds == GT, signal)) / np.sum(signal)\n",
    "\n",
    "                TP = np.logical_and(converted_preds == 3, GT == 3)\n",
    "                Image.fromarray(TP.astype(np.uint8) * 255).save(os.path.join(sample, 'predictions', model, 'TP.png'))\n",
    "\n",
    "                TN = np.logical_and(converted_preds == 2, GT == 2)\n",
    "                Image.fromarray(TN.astype(np.uint8) * 255).save(os.path.join(sample, 'predictions', model, 'TN.png'))\n",
    "\n",
    "                FP = np.logical_and(converted_preds == 3, GT == 2)\n",
    "                Image.fromarray(FP.astype(np.uint8) * 255).save(os.path.join(sample, 'predictions', model, 'FP.png'))\n",
    "\n",
    "                FN = np.logical_and(converted_preds == 2, GT == 3)\n",
    "                Image.fromarray(FN.astype(np.uint8) * 255).save(os.path.join(sample, 'predictions', model, 'FN.png'))\n",
    "\n",
    "                print(accuracy[model], (np.sum(TP) + np.sum(TN)) / (np.sum(TP) + np.sum(TN) + np.sum(FP) + np.sum(FN)))\n",
    "        accuracies[sample] = accuracy\n",
    "        \n",
    "    return accuracies\n",
    "    \n",
    "run_analysis_predictions(samples)"
   ]
  },
  {
   "cell_type": "code",
   "execution_count": null,
   "id": "50626e45-00d1-4975-9592-81f5c57aac84",
   "metadata": {},
   "outputs": [],
   "source": []
  },
  {
   "cell_type": "code",
   "execution_count": null,
   "id": "61611c16-067f-47a0-8fbc-076472169d33",
   "metadata": {},
   "outputs": [],
   "source": [
    "from processingmm.addons import visualization_lines\n",
    "\n",
    "# Approximate time to process the line visualization save_pdf_figs True : 3.85s\n",
    "# Approximate time to process the line visualization save_pdf_figs False : 4.92s\n",
    "run_all = False\n",
    "times = visualization_lines.batch_visualization(parameters, run_all)\n",
    "times"
   ]
  },
  {
   "cell_type": "code",
   "execution_count": null,
   "id": "d24101bc-bdbf-4494-8596-efe0b1ba04fb",
   "metadata": {},
   "outputs": [],
   "source": []
  },
  {
   "cell_type": "code",
   "execution_count": 26,
   "id": "7290a266",
   "metadata": {},
   "outputs": [
    {
     "ename": "NotImplementedError",
     "evalue": "The alignment of wavelengths is not implemented for IMPv2.",
     "output_type": "error",
     "traceback": [
      "\u001b[31m---------------------------------------------------------------------------\u001b[39m",
      "\u001b[31mNotImplementedError\u001b[39m                       Traceback (most recent call last)",
      "\u001b[36mCell\u001b[39m\u001b[36m \u001b[39m\u001b[32mIn[26]\u001b[39m\u001b[32m, line 5\u001b[39m\n\u001b[32m      3\u001b[39m \u001b[38;5;28;01mfrom\u001b[39;00m\u001b[38;5;250m \u001b[39m\u001b[34;01mprocessingmm\u001b[39;00m\u001b[34;01m.\u001b[39;00m\u001b[34;01maddons\u001b[39;00m\u001b[38;5;250m \u001b[39m\u001b[38;5;28;01mimport\u001b[39;00m align_wavelengths\n\u001b[32m      4\u001b[39m run_all = \u001b[38;5;28;01mFalse\u001b[39;00m\n\u001b[32m----> \u001b[39m\u001b[32m5\u001b[39m \u001b[43malign_wavelengths\u001b[49m\u001b[43m.\u001b[49m\u001b[43malign_wavelengths\u001b[49m\u001b[43m(\u001b[49m\u001b[43mparameters\u001b[49m\u001b[43m[\u001b[49m\u001b[33;43m'\u001b[39;49m\u001b[33;43mdirectories\u001b[39;49m\u001b[33;43m'\u001b[39;49m\u001b[43m]\u001b[49m\u001b[43m,\u001b[49m\u001b[43m \u001b[49m\u001b[43mparameters\u001b[49m\u001b[43m[\u001b[49m\u001b[33;43m'\u001b[39;49m\u001b[33;43mPDDN\u001b[39;49m\u001b[33;43m'\u001b[39;49m\u001b[43m]\u001b[49m\u001b[43m,\u001b[49m\u001b[43m \u001b[49m\u001b[43mrun_all\u001b[49m\u001b[43m,\u001b[49m\u001b[43m \u001b[49m\u001b[43m[\u001b[49m\u001b[32;43m600\u001b[39;49m\u001b[43m]\u001b[49m\u001b[43m,\u001b[49m\u001b[43m \u001b[49m\u001b[43mparameters\u001b[49m\u001b[43m[\u001b[49m\u001b[33;43m'\u001b[39;49m\u001b[33;43minstrument\u001b[39;49m\u001b[33;43m'\u001b[39;49m\u001b[43m]\u001b[49m\u001b[43m)\u001b[49m\n",
      "\u001b[36mFile \u001b[39m\u001b[32m<string>:21\u001b[39m, in \u001b[36malign_wavelengths\u001b[39m\u001b[34m(directories, PDDN, run_all, wlen_to_align, instrument)\u001b[39m\n",
      "\u001b[31mNotImplementedError\u001b[39m: The alignment of wavelengths is not implemented for IMPv2."
     ]
    }
   ],
   "source": [
    "# align the measurements captured at different wavelengths - could cause issue when using masks obtained\n",
    "# at 550nm as the images are slightly shifted \n",
    "from processingmm.addons import align_wavelengths\n",
    "run_all = False\n",
    "align_wavelengths.align_wavelengths(parameters['directories'], parameters['PDDN'], run_all, [600], parameters['instrument'])"
   ]
  },
  {
   "cell_type": "code",
   "execution_count": null,
   "id": "15e52f61-7cbd-442b-812f-0371510e7f18",
   "metadata": {},
   "outputs": [],
   "source": []
  }
 ],
 "metadata": {
  "kernelspec": {
   "display_name": "Python 3 (ipykernel)",
   "language": "python",
   "name": "python3"
  },
  "language_info": {
   "codemirror_mode": {
    "name": "ipython",
    "version": 3
   },
   "file_extension": ".py",
   "mimetype": "text/x-python",
   "name": "python",
   "nbconvert_exporter": "python",
   "pygments_lexer": "ipython3",
   "version": "3.12.9"
  }
 },
 "nbformat": 4,
 "nbformat_minor": 5
}
