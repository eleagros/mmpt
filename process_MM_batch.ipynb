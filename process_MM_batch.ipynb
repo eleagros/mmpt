{
 "cells": [
  {
   "cell_type": "markdown",
   "id": "5833fa74",
   "metadata": {},
   "source": [
    "# Process the data obtained from polarimetry and reorganize the data into the correct folders"
   ]
  },
  {
   "cell_type": "code",
   "execution_count": 2,
   "id": "a9006a18",
   "metadata": {},
   "outputs": [
    {
     "name": "stdout",
     "output_type": "stream",
     "text": [
      " Could not import win32api and/or win32con\n",
      " [wrn] torchsummary not available - training not possible\n",
      " [wrn] tensorboard not available - training not possible\n",
      " [wrn] tensorboard not available - training not possible\n"
     ]
    }
   ],
   "source": [
    "%matplotlib inline\n",
    "%load_ext autoreload\n",
    "%autoreload 2\n",
    "\n",
    "    \n",
    "import numpy as np\n",
    "from PIL import Image\n",
    "import matplotlib.pyplot as plt\n",
    "\n",
    "import os\n",
    "from mmpt import processingmm"
   ]
  },
  {
   "cell_type": "markdown",
   "id": "c3b2d82e-3c2b-40a6-be4e-bf995bd852e1",
   "metadata": {},
   "source": [
    "## 1. Set up the parameters for the Mueller matrix processor object"
   ]
  },
  {
   "cell_type": "code",
   "execution_count": 3,
   "id": "486b0e38-bf35-4cdc-83d9-c5c55fb34e96",
   "metadata": {},
   "outputs": [
    {
     "name": "stdout",
     "output_type": "stream",
     "text": [
      " [info] Calibration directory does not exist. Using browsing calibration directory selection.\n",
      " [info] Switching align_wls to False.\n",
      " [info] Loading tumor prediction model...\n",
      " [info] Loading tumor prediction model done.\n",
      "\n",
      "Processing parameters:\n",
      "data_source: offline\n",
      "instrument: IMPv2\n",
      "input_dirs: ['/media/elea/ssd/new_instrument/testing_data']\n",
      "calib_dir: \n",
      "wavelengths: [630]\n",
      "align_wls: False\n",
      "PDDN: no\n",
      "PDDN_models_path: /home/elea/Documents/HORAO/repositories/MMPT/src/mmpt/PDDN_model\n",
      "denoise_patch: False\n",
      "visualization_preset: default\n",
      "workflow_mode: full\n",
      "save_pdf_figs: False\n",
      "force_reprocess: True\n",
      "time_mode: True\n",
      "remove_reflection: False\n",
      "binning_factor: 2\n",
      "mm_computation_backend: c\n",
      "lu_chipman_backend: processing\n",
      "folder_eu_time: {}\n"
     ]
    }
   ],
   "source": [
    "# set the processing mode to 'online' or 'offline'\n",
    "# offline sets up processing when the data (input intensities) are stored on a drive (i.e. not in the RAM)\n",
    "# online sets up processing when the data is already loaded in memory (i.e. when processing \"live\")\n",
    "data_source = 'offline'\n",
    "\n",
    "# define which intrument is being used (currently supported 'IMP', 'IMPv2')\n",
    "instrument = 'IMPv2'\n",
    "\n",
    "# set the directory in which the data is stored (no impact when processing \"online\")\n",
    "input_dirs = [r'/media/elea/ssd/new_instrument/testing_data']\n",
    "# calib_dir = r'/media/elea/ssd/new_instrument/calib'\n",
    "calib_dir = None\n",
    "    \n",
    "# set run_all to true in order to run the pipeline on all the folders (even the ones already processed, no impact when processing \"online\")\n",
    "force_reprocess = True\n",
    "\n",
    "# PDDN_mode can be set to:\n",
    "# 1. 'no': processes without using the PDDN\n",
    "# 2. 'pddn': processes with PDDN when available (for 550nm, 600nm and 630nm)\n",
    "# 3. 'both': processes both with PDDN when available and without PDDN\n",
    "PDDN_mode = 'no'\n",
    "\n",
    "# define if the MM and lu-chipman should be processed using 'torch' or the implementation from Stefano 'c' and \n",
    "# lu_chipman_backend to 'processing' or 'prediction'\n",
    "mm_computation_backend = 'c'\n",
    "lu_chipman_backend = 'processing'\n",
    "prediction_mode = 'MM'\n",
    "\n",
    "# Set the wavelengths to be processed\n",
    "# 1. 'all': processes all the available wavelenght\n",
    "# 2. [xxx, yyy]: processes only the wavelenghts 'xxx' and 'yyy'\n",
    "wavelengths = [630]\n",
    "\n",
    "# Processing mode (no impact when processed \"online\")\n",
    "# 1. 'no_viz': processes only the MM - no visualization at all. useful for fast computation\n",
    "# 2. 'default': processes the MM and plots the polarimetric parameters maps (i.e. depolarization, azimuth, \n",
    "# retardance, diattenuation, azimuth local variability)\n",
    "# 3. 'full': do like default, and additionally plot the MM components, as well as the line\n",
    "# visualization\n",
    "workflow_mode = 'full'\n",
    "\n",
    "# define if pdf figures should be saved (takes a lot of time) - no impact when processing_mode is set to no_viz\n",
    "save_pdf_figs = False\n",
    "# NB: processing time without PDDN (with the data on a SSD drive)\n",
    "# 'no_viz': 0.39s\n",
    "# 'default', save_pdf_figs False: 1.65s\n",
    "# 'default', save_pdf_figs True: 2.67s\n",
    "# 'full', save_pdf_figs False: 3.24s\n",
    "# 'full', save_pdf_figs True: 5.94s\n",
    "\n",
    "# set to False if you have no issue with VRAM (usually more than 4Go is enough)\n",
    "denoise_patch = False\n",
    "\n",
    "# define if the wavelenghts should be aligned before processing - and used for the computation\n",
    "align_wls = True\n",
    "\n",
    "# define if the specular reflections should be removed\n",
    "remove_reflection = False\n",
    "\n",
    "# define the binning factor (no impact if instrument is set to \"IMP\")\n",
    "binning_factor = 2\n",
    "\n",
    "mmProcessor = processingmm.MuellerMatrixProcessor(data_source = data_source, wavelengths = wavelengths, input_dirs = input_dirs,\n",
    "                                calib_dir = calib_dir, PDDN_mode = PDDN_mode, instrument = instrument,\n",
    "                                remove_reflection = remove_reflection, workflow_mode = workflow_mode,\n",
    "                                force_reprocess = force_reprocess, save_pdf_figs = save_pdf_figs, \n",
    "                                align_wls = align_wls, denoise_patch = denoise_patch, binning_factor = binning_factor,\n",
    "                                mm_computation_backend = mm_computation_backend, lu_chipman_backend = lu_chipman_backend,\n",
    "                                prediction_mode = prediction_mode)\n",
    "print(mmProcessor)"
   ]
  },
  {
   "cell_type": "markdown",
   "id": "446f8ba2-04a2-46b0-b950-c6a675c9a6d1",
   "metadata": {},
   "source": [
    "## 2. \"Offline\" processing"
   ]
  },
  {
   "cell_type": "code",
   "execution_count": 4,
   "id": "27800101-82a7-4366-9b2b-4b0d26944ddc",
   "metadata": {},
   "outputs": [
    {
     "name": "stdout",
     "output_type": "stream",
     "text": [
      "processing without PDDN...\n",
      " [wrn] Missing calibration files in folder:  /media/elea/ssd/new_instrument/testing_data/2025-03-24_152505_F_FF_HORAO_0005_004/to_process\n",
      " [wrn] Missing calibration files in folder:  /media/elea/ssd/new_instrument/testing_data/2025-03-24_143006_F_FF_HORAO_0005_003/to_process\n"
     ]
    },
    {
     "name": "stderr",
     "output_type": "stream",
     "text": [
      "  0%|                                                     | 0/2 [00:00<?, ?it/s]"
     ]
    },
    {
     "name": "stdout",
     "output_type": "stream",
     "text": [
      "Processing: /media/elea/ssd/new_instrument/testing_data/2025-03-24_152505_F_FF_HORAO_0005_004\n",
      " [wrn] clean_up_old_files not implemented yet for IMPv2.\n",
      " [info] Loading calibration data for /media/elea/ssd/new_instrument/calib/2025-03-24_142005\n",
      " [wrn] No Gaussian fit found for normalization. Returning unnormalized M11.\n"
     ]
    },
    {
     "name": "stderr",
     "output_type": "stream",
     "text": [
      " 50%|██████████████████████▌                      | 1/2 [00:11<00:11, 11.06s/it]"
     ]
    },
    {
     "name": "stdout",
     "output_type": "stream",
     "text": [
      "Processing: /media/elea/ssd/new_instrument/testing_data/2025-03-24_143006_F_FF_HORAO_0005_003\n",
      " [wrn] clean_up_old_files not implemented yet for IMPv2.\n",
      " [info] Loading calibration data for /media/elea/ssd/new_instrument/calib/2025-03-24_151006\n",
      " [wrn] No Gaussian fit found for normalization. Returning unnormalized M11.\n"
     ]
    },
    {
     "name": "stderr",
     "output_type": "stream",
     "text": [
      "100%|█████████████████████████████████████████████| 2/2 [00:18<00:00,  9.32s/it]"
     ]
    },
    {
     "name": "stdout",
     "output_type": "stream",
     "text": [
      "processing without PDDN done.\n"
     ]
    },
    {
     "name": "stderr",
     "output_type": "stream",
     "text": [
      "\n"
     ]
    },
    {
     "data": {
      "text/plain": [
       "{'data_loading': 0.11753368377685547,\n",
       " 'times_denoising': {},\n",
       " 'processing_and_curation': {'mm_processing': {'time_data_loading_GPU': 0,\n",
       "   'time_MM_processing': {'remove_reflection': 0.00603485107421875,\n",
       "    'MM_computation': 0.028435230255126953,\n",
       "    'lu_chipman': 0.3495950698852539,\n",
       "    'total': 0.41362905502319336}},\n",
       "  'mm_curation': {'azimuth_curation': 0.03860640525817871,\n",
       "   'azimuth_std_processing': 0.06203413009643555,\n",
       "   'time_save_nM': 0.00015664100646972656,\n",
       "   'time_rotation': 0.0}},\n",
       " 'save_npz_file': 0.07582283020019531,\n",
       " 'visualization': 3.699458122253418,\n",
       " 'total': 9.321776032447815}"
      ]
     },
     "execution_count": 4,
     "metadata": {},
     "output_type": "execute_result"
    }
   ],
   "source": [
    "# functions as previously, from data stored on the drive ('offline' processing)\n",
    "mmProcessor.batch_process_master()"
   ]
  },
  {
   "cell_type": "markdown",
   "id": "de098e59-5d78-48d5-9a81-f3aa16e03a95",
   "metadata": {},
   "source": [
    "## 3. Example of \"online\" processing"
   ]
  },
  {
   "cell_type": "code",
   "execution_count": null,
   "id": "7e7b55bc-ac1f-4afb-883e-411d76120cae",
   "metadata": {},
   "outputs": [],
   "source": [
    "%%time \n",
    "from mmpt.addons import plot_polarimetry\n",
    "\n",
    "# set up the parameters to get the visualization for\n",
    "parameters_to_visualize = ['M11', 'linR', 'azimuth', 'totP', 'totD']\n",
    "\n",
    "# define if the prediction algorithm should be ran\n",
    "prediction = True\n",
    "\n",
    "# load the intensities (already loaded if processed online)\n",
    "I, A, W = mmProcessor.get_online_test_data()\n",
    "\n",
    "# functions for online processing\n",
    "import time\n",
    "start = time.time()\n",
    "MM, times = mmProcessor.online_processing(I, A, W, binning_factor=4)\n",
    "if prediction:\n",
    "    start_prediction = time.time()\n",
    "    preds, _, _ = mmProcessor.prediction(MM['nM'], MM['Intensity'])\n",
    "    times['prediction'] = time.time() - start_prediction\n",
    "start_visualization = time.time()\n",
    "images = plot_polarimetry.plot_polarimetry_online(mmProcessor, MM, parameters_to_visualize)\n",
    "times['visualization'] = time.time() - start_visualization\n",
    "print(times)\n",
    "\n",
    "print('total time:', time.time() - start)\n",
    "\n",
    "# from mmpt.addons.polarpred import save_results\n",
    "# save_results.save_predictions(preds, MM['M11']/np.max(MM['M11']), '/media/elea/ssd', mode = 'normal', model_path = '', path_intensite = None)"
   ]
  },
  {
   "cell_type": "markdown",
   "id": "c19b70ba-81fc-4e14-beca-71fea874fcc9",
   "metadata": {},
   "source": [
    " "
   ]
  },
  {
   "cell_type": "markdown",
   "id": "fd393f06-3832-4c98-a54b-c6722a5857ca",
   "metadata": {},
   "source": [
    "## 4. Test the different backends"
   ]
  },
  {
   "cell_type": "code",
   "execution_count": 11,
   "id": "bde167f8-3978-43fb-a373-bd3f2f16bb0d",
   "metadata": {
    "scrolled": true
   },
   "outputs": [
    {
     "name": "stdout",
     "output_type": "stream",
     "text": [
      " [info] Loading MM model...\n",
      " [info] Loading MM model done.\n",
      "\n",
      "mm_computation_backend: c, lu_chipman_backend: processing\n",
      "Processing with PDDN...\n",
      "Denoising inference...\n"
     ]
    },
    {
     "name": "stderr",
     "output_type": "stream",
     "text": [
      "100%|██████████████████████████████████████████| 2/2 [00:00<00:00, 13797.05it/s]\n"
     ]
    },
    {
     "name": "stdout",
     "output_type": "stream",
     "text": [
      "Denoising inference done.\n",
      "\n"
     ]
    },
    {
     "name": "stderr",
     "output_type": "stream",
     "text": [
      "  0%|                                                     | 0/2 [00:00<?, ?it/s]"
     ]
    },
    {
     "name": "stdout",
     "output_type": "stream",
     "text": [
      "Processing: /home/elea/Documents/HORAO/repositories/processingMM/tests/data_IMPv2/2025-03-24_152306_F_FF_HORAO_0005_003\n",
      " [wrn] clean_up_old_files not implemented yet for IMPv2.\n"
     ]
    },
    {
     "name": "stderr",
     "output_type": "stream",
     "text": [
      " 50%|██████████████████████▌                      | 1/2 [00:00<00:00,  2.79it/s]"
     ]
    },
    {
     "name": "stdout",
     "output_type": "stream",
     "text": [
      " [info] Test mode: saving to /home/elea/Documents/HORAO/repositories/processingMM/tests/data_IMPv2/2025-03-24_152306_F_FF_HORAO_0005_003/test_backends/630_Image_Number_1/630nm/c_processing\n",
      "processing\n",
      " [wrn] No Gaussian fit found for normalization. Returning unnormalized M11.\n",
      "Processing: /home/elea/Documents/HORAO/repositories/processingMM/tests/data_IMPv2/2025-03-24_152306_F_FF_HORAO_0005_003\n",
      " [wrn] clean_up_old_files not implemented yet for IMPv2.\n"
     ]
    },
    {
     "name": "stderr",
     "output_type": "stream",
     "text": [
      "100%|█████████████████████████████████████████████| 2/2 [00:00<00:00,  2.70it/s]\n"
     ]
    },
    {
     "name": "stdout",
     "output_type": "stream",
     "text": [
      " [info] Test mode: saving to /home/elea/Documents/HORAO/repositories/processingMM/tests/data_IMPv2/2025-03-24_152306_F_FF_HORAO_0005_003/test_backends/630_Image_Number_2/630nm/c_processing\n",
      "processing\n",
      " [wrn] No Gaussian fit found for normalization. Returning unnormalized M11.\n",
      "Processing with PDDN done.\n",
      "Done.\n",
      "\n",
      "mm_computation_backend: c, lu_chipman_backend: prediction\n",
      "Processing with PDDN...\n",
      "Denoising inference...\n"
     ]
    },
    {
     "name": "stderr",
     "output_type": "stream",
     "text": [
      "100%|██████████████████████████████████████████| 2/2 [00:00<00:00, 37786.52it/s]\n"
     ]
    },
    {
     "name": "stdout",
     "output_type": "stream",
     "text": [
      "Denoising inference done.\n",
      "\n"
     ]
    },
    {
     "name": "stderr",
     "output_type": "stream",
     "text": [
      "  0%|                                                     | 0/2 [00:00<?, ?it/s]"
     ]
    },
    {
     "name": "stdout",
     "output_type": "stream",
     "text": [
      "Processing: /home/elea/Documents/HORAO/repositories/processingMM/tests/data_IMPv2/2025-03-24_152306_F_FF_HORAO_0005_003\n",
      " [wrn] clean_up_old_files not implemented yet for IMPv2.\n"
     ]
    },
    {
     "name": "stderr",
     "output_type": "stream",
     "text": [
      " 50%|██████████████████████▌                      | 1/2 [00:00<00:00,  3.79it/s]"
     ]
    },
    {
     "name": "stdout",
     "output_type": "stream",
     "text": [
      " [info] Test mode: saving to /home/elea/Documents/HORAO/repositories/processingMM/tests/data_IMPv2/2025-03-24_152306_F_FF_HORAO_0005_003/test_backends/630_Image_Number_1/630nm/c_prediction\n",
      "prediction\n",
      " [wrn] No Gaussian fit found for normalization. Returning unnormalized M11.\n",
      "Processing: /home/elea/Documents/HORAO/repositories/processingMM/tests/data_IMPv2/2025-03-24_152306_F_FF_HORAO_0005_003\n",
      " [wrn] clean_up_old_files not implemented yet for IMPv2.\n"
     ]
    },
    {
     "name": "stderr",
     "output_type": "stream",
     "text": [
      "100%|█████████████████████████████████████████████| 2/2 [00:00<00:00,  3.77it/s]\n"
     ]
    },
    {
     "name": "stdout",
     "output_type": "stream",
     "text": [
      " [info] Test mode: saving to /home/elea/Documents/HORAO/repositories/processingMM/tests/data_IMPv2/2025-03-24_152306_F_FF_HORAO_0005_003/test_backends/630_Image_Number_2/630nm/c_prediction\n",
      "prediction\n",
      " [wrn] No Gaussian fit found for normalization. Returning unnormalized M11.\n",
      "Processing with PDDN done.\n",
      "Done.\n",
      "\n",
      "mm_computation_backend: torch, lu_chipman_backend: processing\n",
      "Processing with PDDN...\n",
      "Denoising inference...\n"
     ]
    },
    {
     "name": "stderr",
     "output_type": "stream",
     "text": [
      "100%|██████████████████████████████████████████| 2/2 [00:00<00:00, 27235.74it/s]\n"
     ]
    },
    {
     "name": "stdout",
     "output_type": "stream",
     "text": [
      "Denoising inference done.\n",
      "\n"
     ]
    },
    {
     "name": "stderr",
     "output_type": "stream",
     "text": [
      "  0%|                                                     | 0/2 [00:00<?, ?it/s]"
     ]
    },
    {
     "name": "stdout",
     "output_type": "stream",
     "text": [
      "Processing: /home/elea/Documents/HORAO/repositories/processingMM/tests/data_IMPv2/2025-03-24_152306_F_FF_HORAO_0005_003\n",
      " [wrn] clean_up_old_files not implemented yet for IMPv2.\n",
      " [info] Test mode: saving to /home/elea/Documents/HORAO/repositories/processingMM/tests/data_IMPv2/2025-03-24_152306_F_FF_HORAO_0005_003/test_backends/630_Image_Number_1/630nm/torch_processing\n"
     ]
    },
    {
     "name": "stderr",
     "output_type": "stream",
     "text": [
      " 50%|██████████████████████▌                      | 1/2 [00:00<00:00,  2.08it/s]"
     ]
    },
    {
     "name": "stdout",
     "output_type": "stream",
     "text": [
      " [wrn] No Gaussian fit found for normalization. Returning unnormalized M11.\n",
      "Processing: /home/elea/Documents/HORAO/repositories/processingMM/tests/data_IMPv2/2025-03-24_152306_F_FF_HORAO_0005_003\n",
      " [wrn] clean_up_old_files not implemented yet for IMPv2.\n",
      " [info] Test mode: saving to /home/elea/Documents/HORAO/repositories/processingMM/tests/data_IMPv2/2025-03-24_152306_F_FF_HORAO_0005_003/test_backends/630_Image_Number_2/630nm/torch_processing\n"
     ]
    },
    {
     "name": "stderr",
     "output_type": "stream",
     "text": [
      "100%|█████████████████████████████████████████████| 2/2 [00:00<00:00,  2.10it/s]\n"
     ]
    },
    {
     "name": "stdout",
     "output_type": "stream",
     "text": [
      " [wrn] No Gaussian fit found for normalization. Returning unnormalized M11.\n",
      "Processing with PDDN done.\n",
      "Done.\n",
      "\n",
      "mm_computation_backend: torch, lu_chipman_backend: prediction\n",
      "Processing with PDDN...\n",
      "Denoising inference...\n"
     ]
    },
    {
     "name": "stderr",
     "output_type": "stream",
     "text": [
      "100%|██████████████████████████████████████████| 2/2 [00:00<00:00, 23045.63it/s]\n"
     ]
    },
    {
     "name": "stdout",
     "output_type": "stream",
     "text": [
      "Denoising inference done.\n",
      "\n"
     ]
    },
    {
     "name": "stderr",
     "output_type": "stream",
     "text": [
      "  0%|                                                     | 0/2 [00:00<?, ?it/s]"
     ]
    },
    {
     "name": "stdout",
     "output_type": "stream",
     "text": [
      "Processing: /home/elea/Documents/HORAO/repositories/processingMM/tests/data_IMPv2/2025-03-24_152306_F_FF_HORAO_0005_003\n",
      " [wrn] clean_up_old_files not implemented yet for IMPv2.\n"
     ]
    },
    {
     "name": "stderr",
     "output_type": "stream",
     "text": [
      " 50%|██████████████████████▌                      | 1/2 [00:00<00:00,  3.94it/s]"
     ]
    },
    {
     "name": "stdout",
     "output_type": "stream",
     "text": [
      " [info] Test mode: saving to /home/elea/Documents/HORAO/repositories/processingMM/tests/data_IMPv2/2025-03-24_152306_F_FF_HORAO_0005_003/test_backends/630_Image_Number_1/630nm/torch_prediction\n",
      " [wrn] No Gaussian fit found for normalization. Returning unnormalized M11.\n",
      "Processing: /home/elea/Documents/HORAO/repositories/processingMM/tests/data_IMPv2/2025-03-24_152306_F_FF_HORAO_0005_003\n",
      " [wrn] clean_up_old_files not implemented yet for IMPv2.\n"
     ]
    },
    {
     "name": "stderr",
     "output_type": "stream",
     "text": [
      "100%|█████████████████████████████████████████████| 2/2 [00:00<00:00,  3.89it/s]"
     ]
    },
    {
     "name": "stdout",
     "output_type": "stream",
     "text": [
      " [info] Test mode: saving to /home/elea/Documents/HORAO/repositories/processingMM/tests/data_IMPv2/2025-03-24_152306_F_FF_HORAO_0005_003/test_backends/630_Image_Number_2/630nm/torch_prediction\n",
      " [wrn] No Gaussian fit found for normalization. Returning unnormalized M11.\n",
      "Processing with PDDN done.\n",
      "Done.\n"
     ]
    },
    {
     "name": "stderr",
     "output_type": "stream",
     "text": [
      "\n"
     ]
    }
   ],
   "source": [
    "# compare the results of different backends ('c', 'processing'), ('c', 'prediction'), ('torch', 'processing'), ('torch', 'prediction')\n",
    "mm_computation_backends = ['c', 'torch']\n",
    "lu_chipman_backends = ['processing', 'prediction']\n",
    "\n",
    "mmProcessor.compare_backends(mm_computation_backends, lu_chipman_backends)"
   ]
  },
  {
   "cell_type": "markdown",
   "id": "10fe6a56-0196-45d4-8a88-ce3ae9f7a851",
   "metadata": {},
   "source": [
    " "
   ]
  },
  {
   "cell_type": "markdown",
   "id": "322a3e84-787d-46db-9b7e-8c9f40ff9abb",
   "metadata": {},
   "source": [
    "## 5. Line visualization"
   ]
  },
  {
   "cell_type": "code",
   "execution_count": null,
   "id": "6ec33b85-55df-4ff6-8e0f-926fdf8fe106",
   "metadata": {},
   "outputs": [],
   "source": [
    "from mmpt.addons import visualization_lines\n",
    "\n",
    "# set the parameters to be used for the line visualisation\n",
    "# NB: parameter file accessible in ./src/processingmm/data/parameters_visualisations.json\n",
    "visualization_preset = 'default'\n",
    "mmProcessor.visualization_preset = visualization_preset\n",
    "\n",
    "times = visualization_lines.batch_visualization(mmProcessor)\n",
    "times"
   ]
  },
  {
   "cell_type": "markdown",
   "id": "bc9c7c32-629e-46d5-b5e9-b31fbdf5a49f",
   "metadata": {},
   "source": [
    " "
   ]
  },
  {
   "cell_type": "markdown",
   "id": "7cbfe8a8-098d-4d46-99ff-b224bc85c1f2",
   "metadata": {},
   "source": [
    "## 6. Test predictions"
   ]
  },
  {
   "cell_type": "code",
   "execution_count": 11,
   "id": "392ae4df-62fb-4182-9ef2-eeac3e250b2a",
   "metadata": {},
   "outputs": [
    {
     "name": "stdout",
     "output_type": "stream",
     "text": [
      " [inf] Running test mode with the different models.\n"
     ]
    },
    {
     "name": "stderr",
     "output_type": "stream",
     "text": [
      "  0%|                                                                                                                                               | 0/8 [00:00<?, ?it/s]\n"
     ]
    },
    {
     "ename": "FileNotFoundError",
     "evalue": "[Errno 2] No such file or directory: '/media/elea/ssd/600nmDta/data/2025-05-21_T_AUTOPSY-CALF_FR_M21_1/raw_data/550_Intensite.cod'",
     "output_type": "error",
     "traceback": [
      "\u001b[31m---------------------------------------------------------------------------\u001b[39m",
      "\u001b[31mFileNotFoundError\u001b[39m                         Traceback (most recent call last)",
      "\u001b[36mFile \u001b[39m\u001b[32m<timed exec>:4\u001b[39m\n",
      "\u001b[36mFile \u001b[39m\u001b[32m~/Documents/HORAO/repositories/processingMM/src/mmpt/addons/predict.py:30\u001b[39m, in \u001b[36mprediction\u001b[39m\u001b[34m(parameters, MM, mode)\u001b[39m\n\u001b[32m     28\u001b[39m     \u001b[38;5;28;01mfor\u001b[39;00m mm \u001b[38;5;129;01min\u001b[39;00m [\u001b[38;5;28;01mTrue\u001b[39;00m, \u001b[38;5;28;01mFalse\u001b[39;00m]:\n\u001b[32m     29\u001b[39m         \u001b[38;5;28;01mfor\u001b[39;00m id_model \u001b[38;5;129;01min\u001b[39;00m \u001b[38;5;28mrange\u001b[39m(\u001b[32m0\u001b[39m,\u001b[32m3\u001b[39m):\n\u001b[32m---> \u001b[39m\u001b[32m30\u001b[39m             times, samples = \u001b[43mbatch_prediction\u001b[49m\u001b[43m(\u001b[49m\u001b[43mparameters\u001b[49m\u001b[43m,\u001b[49m\u001b[43m \u001b[49m\u001b[43mMM\u001b[49m\u001b[43m \u001b[49m\u001b[43m=\u001b[49m\u001b[43m \u001b[49m\u001b[43mmm\u001b[49m\u001b[43m,\u001b[49m\u001b[43m \u001b[49m\u001b[43mmode\u001b[49m\u001b[43m \u001b[49m\u001b[43m=\u001b[49m\u001b[43m \u001b[49m\u001b[33;43m'\u001b[39;49m\u001b[33;43mfast\u001b[39;49m\u001b[33;43m'\u001b[39;49m\u001b[43m,\u001b[49m\u001b[43m \u001b[49m\u001b[43mid_model\u001b[49m\u001b[43m \u001b[49m\u001b[43m=\u001b[49m\u001b[43m \u001b[49m\u001b[43mid_model\u001b[49m\u001b[43m)\u001b[49m\n\u001b[32m     32\u001b[39m \u001b[38;5;28;01mreturn\u001b[39;00m times, samples\n",
      "\u001b[36mFile \u001b[39m\u001b[32m~/Documents/HORAO/repositories/processingMM/src/mmpt/addons/predict.py:72\u001b[39m, in \u001b[36mbatch_prediction\u001b[39m\u001b[34m(parameters, MM, mode, id_model)\u001b[39m\n\u001b[32m     69\u001b[39m path_output = os.path.join(sample, \u001b[33m'\u001b[39m\u001b[33mpredictions\u001b[39m\u001b[33m'\u001b[39m)\n\u001b[32m     70\u001b[39m os.makedirs(path_output, exist_ok=\u001b[38;5;28;01mTrue\u001b[39;00m)\n\u001b[32m---> \u001b[39m\u001b[32m72\u001b[39m \u001b[38;5;28minput\u001b[39m, times[\u001b[33m'\u001b[39m\u001b[33mpre_process\u001b[39m\u001b[33m'\u001b[39m] = \u001b[43mutils\u001b[49m\u001b[43m.\u001b[49m\u001b[43mpreprocess_intensities\u001b[49m\u001b[43m(\u001b[49m\u001b[43mparameters\u001b[49m\u001b[43m,\u001b[49m\u001b[43m \u001b[49m\u001b[43mmm_model\u001b[49m\u001b[43m,\u001b[49m\u001b[43m \u001b[49m\u001b[43mtimes\u001b[49m\u001b[43m[\u001b[49m\u001b[33;43m'\u001b[39;49m\u001b[33;43mpre_process\u001b[39;49m\u001b[33;43m'\u001b[39;49m\u001b[43m]\u001b[49m\u001b[43m,\u001b[49m\u001b[43m \u001b[49m\u001b[43msample\u001b[49m\u001b[43m \u001b[49m\u001b[43m=\u001b[49m\u001b[43m \u001b[49m\u001b[43msample\u001b[49m\u001b[43m,\u001b[49m\u001b[43m \u001b[49m\n\u001b[32m     73\u001b[39m \u001b[43m                                                           \u001b[49m\u001b[43mpredict\u001b[49m\u001b[43m \u001b[49m\u001b[43m=\u001b[49m\u001b[43m \u001b[49m\u001b[38;5;28;43;01mTrue\u001b[39;49;00m\u001b[43m,\u001b[49m\u001b[43m \u001b[49m\u001b[43mpath_intensite\u001b[49m\u001b[43m \u001b[49m\u001b[43m=\u001b[49m\u001b[43m \u001b[49m\u001b[43mpath_intensite\u001b[49m\u001b[43m)\u001b[49m\n\u001b[32m     75\u001b[39m start_predict = time.time()\n\u001b[32m     76\u001b[39m preds = predict(model, \u001b[38;5;28minput\u001b[39m)\n",
      "\u001b[36mFile \u001b[39m\u001b[32m~/Documents/HORAO/repositories/processingMM/src/mmpt/utils.py:1004\u001b[39m, in \u001b[36mpreprocess_intensities\u001b[39m\u001b[34m(parameters, mm_model, times, sample, predict, amat, wmat, frame, lu_chipman_backend, lu_chipman_model, path_intensite)\u001b[39m\n\u001b[32m   1002\u001b[39m \u001b[38;5;28;01mif\u001b[39;00m predict:\n\u001b[32m   1003\u001b[39m     \u001b[38;5;28;01mif\u001b[39;00m path_intensite \u001b[38;5;129;01mis\u001b[39;00m \u001b[38;5;28;01mNone\u001b[39;00m \u001b[38;5;129;01mor\u001b[39;00m \u001b[33m'\u001b[39m\u001b[33m.cod\u001b[39m\u001b[33m'\u001b[39m \u001b[38;5;129;01min\u001b[39;00m path_intensite:\n\u001b[32m-> \u001b[39m\u001b[32m1004\u001b[39m         intensity = \u001b[43mlibmpMuelMat\u001b[49m\u001b[43m.\u001b[49m\u001b[43mread_cod_data_X3D\u001b[49m\u001b[43m(\u001b[49m\u001b[43mos\u001b[49m\u001b[43m.\u001b[49m\u001b[43mpath\u001b[49m\u001b[43m.\u001b[49m\u001b[43mjoin\u001b[49m\u001b[43m(\u001b[49m\u001b[43msample\u001b[49m\u001b[43m,\u001b[49m\u001b[43m \u001b[49m\u001b[33;43m'\u001b[39;49m\u001b[33;43mraw_data/550_Intensite.cod\u001b[39;49m\u001b[33;43m'\u001b[39;49m\u001b[43m)\u001b[49m\u001b[43m,\u001b[49m\u001b[43m \u001b[49m\u001b[43misRawFlag\u001b[49m\u001b[43m=\u001b[49m\u001b[32;43m1\u001b[39;49m\u001b[43m)\u001b[49m\n\u001b[32m   1005\u001b[39m         bruit = libmpMuelMat.read_cod_data_X3D(os.path.join(sample, \u001b[33m'\u001b[39m\u001b[33mraw_data/550_Bruit.cod\u001b[39m\u001b[33m'\u001b[39m), isRawFlag=\u001b[32m1\u001b[39m)\n\u001b[32m   1006\u001b[39m         frame = intensity - bruit\n",
      "\u001b[36mFile \u001b[39m\u001b[32m~/Documents/HORAO/repositories/processingMM/src/mmpt/libmpMuelMat.py:404\u001b[39m, in \u001b[36mread_cod_data_X3D\u001b[39m\u001b[34m(input_cod_Filename, CamType, isRawFlag, VerboseFlag)\u001b[39m\n\u001b[32m    401\u001b[39m m = \u001b[32m16\u001b[39m  \u001b[38;5;66;03m# components of the polarimetric data in the '.cod' file\u001b[39;00m\n\u001b[32m    403\u001b[39m \u001b[38;5;66;03m# Reading the Data (loading) NB: binary data is float, but the output array is *cast* to double\u001b[39;00m\n\u001b[32m--> \u001b[39m\u001b[32m404\u001b[39m \u001b[38;5;28;01mwith\u001b[39;00m \u001b[38;5;28;43mopen\u001b[39;49m\u001b[43m(\u001b[49m\u001b[43minput_cod_Filename\u001b[49m\u001b[43m,\u001b[49m\u001b[43m \u001b[49m\u001b[33;43m\"\u001b[39;49m\u001b[33;43mrb\u001b[39;49m\u001b[33;43m\"\u001b[39;49m\u001b[43m)\u001b[49m \u001b[38;5;28;01mas\u001b[39;00m f:\n\u001b[32m    405\u001b[39m     X3D = np.fromfile(f, dtype=np.single)\n\u001b[32m    406\u001b[39m     X3D = X3D.astype(np.double)\n",
      "\u001b[31mFileNotFoundError\u001b[39m: [Errno 2] No such file or directory: '/media/elea/ssd/600nmDta/data/2025-05-21_T_AUTOPSY-CALF_FR_M21_1/raw_data/550_Intensite.cod'"
     ]
    }
   ],
   "source": [
    "%%time\n",
    "from mmpt.addons import predict\n",
    "mode = 'fast' # mode should be one of 'normal', 'fast' or 'very fast'\n",
    "mode = 'test' # keep the line to compare the predictions from different models\n",
    "times, samples = predict.prediction(mmProcessor.get_parameters(), MM = True, mode = mode)"
   ]
  },
  {
   "cell_type": "code",
   "execution_count": 55,
   "id": "50d9b64d-1046-48fc-8b28-60839d2eeeed",
   "metadata": {},
   "outputs": [],
   "source": [
    "def reconstruct_GT(sample):\n",
    "    signal = np.array(Image.open(os.path.join(sample, 'annotation', 'signal.tif')))\n",
    "    GM_WM = np.array(Image.open(os.path.join(sample, 'histology', 'GM_WM_full.png')))\n",
    "    signal = np.logical_and(np.sum(GM_WM, axis = 2) !=0, signal)\n",
    "    GM = np.logical_and(GM_WM[:,:,0] == 153, GM_WM[:,:,1] == 77)\n",
    "    WM = np.logical_and(GM_WM[:,:,0] == 153, GM_WM[:,:,1] == 153)\n",
    "\n",
    "    TCC = np.array(Image.open(os.path.join(sample, 'histology', 'TCC_full.png')))\n",
    "    HT = np.logical_and(np.logical_and(TCC[:,:,1] == 255, TCC[:,:,2] == 0), WM)\n",
    "    IZ = np.logical_and(np.logical_and(TCC[:,:,2] == 255, TCC[:,:,1] == 255), WM)\n",
    "    TC = np.logical_and(TCC[:,:,0] == 255, WM) \n",
    "\n",
    "    converted_GT = np.zeros_like(signal).astype(np.uint8)\n",
    "    for idx, x in enumerate(converted_GT):\n",
    "        for idy, y in enumerate(x):\n",
    "            if signal[idx, idy]:\n",
    "                if GM[idx, idy]:\n",
    "                    converted_GT[idx, idy] = 3\n",
    "                    \n",
    "                elif WM[idx, idy]:\n",
    "                    if HT[idx, idy]:\n",
    "                        converted_GT[idx, idy] = 1\n",
    "                    elif IZ[idx, idy] or TC[idx, idy]:\n",
    "                        converted_GT[idx, idy] = 2\n",
    "    return save_results.gs_RGB(converted_GT)\n",
    "\n",
    "def get_accuracy_stacked(stack, GT, GT_splitted, signal, map_gt_splitted):\n",
    "    stacked = np.stack(stack, axis=0)  \n",
    "    average = np.mean(stacked, axis=0)\n",
    "    preds_simplified = average.argmax(1).squeeze(0)\n",
    "        \n",
    "    converted_preds = np.zeros_like(preds_simplified)\n",
    "    for idx, x in enumerate(preds_simplified):\n",
    "        for idy, y in enumerate(x):\n",
    "            if signal[idx, idy]:\n",
    "                converted_preds[idx, idy] = map_gt[map_pred[y]]\n",
    "        \n",
    "    return preds_simplified, np.sum(np.logical_and(converted_preds == GT, signal)) / np.sum(signal), get_accuracy_per_class(converted_preds, GT, GT_splitted, map_gt_splitted)"
   ]
  },
  {
   "cell_type": "code",
   "execution_count": 56,
   "id": "558941fa-dc61-4f4d-8bfc-3027c001b39c",
   "metadata": {},
   "outputs": [],
   "source": [
    "def get_accuracy_per_class(converted_preds, GT, GT_splitted, map_gt_splitted):\n",
    "    acc_model = {}\n",
    "    for param, key in map_gt_splitted.items():\n",
    "        if np.sum(GT_splitted == key) == 0:\n",
    "            acc_model[param] = np.nan\n",
    "        else:\n",
    "            acc_model[param] = np.sum(np.logical_and(converted_preds == GT, GT_splitted == key)) / np.sum(GT_splitted == key)\n",
    "    return acc_model"
   ]
  },
  {
   "cell_type": "code",
   "execution_count": 57,
   "id": "db786b53-4c7f-461a-ba0e-044670ac9019",
   "metadata": {},
   "outputs": [],
   "source": [
    "def get_GT(sample, splitted = False):\n",
    "    sample = sample[0]\n",
    "    signal = np.array(Image.open(os.path.join(sample, 'annotation', 'signal.tif')))\n",
    "    blood = np.array(Image.open(os.path.join(sample, 'annotation', 'blood.tif')))\n",
    "    signal = np.logical_and(signal, ~blood)\n",
    "\n",
    "    GT = np.zeros_like(signal, dtype=np.uint8)\n",
    "        \n",
    "    GM_WM = np.array(Image.open(os.path.join(sample, 'histology', 'GM_WM.png')))\n",
    "    signal = np.logical_and(np.sum(GM_WM, axis = 2) !=0, signal)\n",
    "    GM = np.logical_and(GM_WM[:,:,0] == 153, GM_WM[:,:,1] == 77)\n",
    "    WM = np.logical_and(GM_WM[:,:,0] == 153, GM_WM[:,:,1] == 153)\n",
    "\n",
    "    TCC = np.array(Image.open(os.path.join(sample, 'histology', 'TCC.png')))\n",
    "    HT = np.logical_and(np.logical_and(TCC[:,:,1] == 255, TCC[:,:,2] == 0), WM)\n",
    "    IZ = np.logical_and(np.logical_and(TCC[:,:,2] == 255, TCC[:,:,1] == 255), WM)\n",
    "    TC = np.logical_and(TCC[:,:,0] == 255, WM) \n",
    "    GT[GM] = 1\n",
    "    GT[HT] = 2\n",
    "    if splitted:\n",
    "        GT[IZ] = 3\n",
    "        GT[TC] = 4\n",
    "    else:\n",
    "        GT[np.logical_or(IZ, TC)] = 3\n",
    "    return GT, signal"
   ]
  },
  {
   "cell_type": "code",
   "execution_count": 63,
   "id": "c8bf7d82-8521-4345-903d-54cce2c750b1",
   "metadata": {},
   "outputs": [
    {
     "name": "stderr",
     "output_type": "stream",
     "text": [
      "100%|█████████████████████████████████████████| 146/146 [00:53<00:00,  2.71it/s]\n"
     ]
    }
   ],
   "source": [
    "from tqdm import tqdm\n",
    "from mmpt.addons.polarpred import save_results\n",
    "\n",
    "\n",
    "map_gt = {'GM': 1, 'HT': 2, 'IZ': 3, 'TC': 3}\n",
    "map_gt_splitted = {'GM': 1, 'HT': 2, 'IZ': 3, 'TC': 4}\n",
    "map_pred = {2: 'GM', 0: 'HT', 1: 'TC'}\n",
    "\n",
    "all_models = {'atomic-donkey': 'MM',\n",
    "              'peachy-mountain': 'MM',\n",
    "              'atomic-firebrand': 'MM',\n",
    "              'solar-bee': 'LC',\n",
    "              'leafy-paper': 'LC',\n",
    "              'curious-sunset': 'LC',\n",
    "}\n",
    "\n",
    "accuracies = {}\n",
    "accuracies_per_class = {}\n",
    "pixel_number = {}\n",
    "pixel_number_per_class = {}\n",
    "predictions = {}\n",
    "                            \n",
    "def run_analysis_predictions(samples):\n",
    "\n",
    "    for sample in tqdm(samples):\n",
    "        GT, signal = get_GT(sample)\n",
    "        GT_splitted, _ = get_GT(sample, splitted = True)\n",
    "\n",
    "        sample = sample[0]\n",
    "        RGB_GT = reconstruct_GT(sample)\n",
    "        Image.fromarray(RGB_GT).save(os.path.join(sample, 'predictions', 'GT.png'))\n",
    "        save_results.overlay_imgs(os.path.join(sample, 'predictions', 'GT.png'), os.path.join(sample, 'thumbnail.png'),\n",
    "                         os.path.join(sample, 'predictions', 'overlay_GT.png'), alpha = 0.8)\n",
    "        \n",
    "        accuracy = {}\n",
    "        pred_sample = {}\n",
    "        accuracy_class = {}\n",
    "        \n",
    "        path_predictions = os.path.join(sample, 'predictions')\n",
    "\n",
    "        preds_combined = []\n",
    "        preds_combined_LC = []\n",
    "        preds_combined_MM = []\n",
    "        \n",
    "        for model in os.listdir(path_predictions):\n",
    "            if not 'combined' in model:\n",
    "                if os.path.isdir(os.path.join(sample, 'predictions', model)):\n",
    "                    \n",
    "                    preds = np.load(os.path.join(sample, 'predictions', model, 'preds.npy'))\n",
    "                    preds_combined.append(preds)\n",
    "                    if all_models[model] == 'MM':\n",
    "                        preds_combined_MM.append(preds)\n",
    "                    else:\n",
    "                        preds_combined_LC.append(preds)\n",
    "                        \n",
    "                    preds_simplified = preds.argmax(1).squeeze(0)\n",
    "            \n",
    "                    converted_preds = np.zeros_like(preds_simplified)\n",
    "                    for idx, x in enumerate(preds_simplified):\n",
    "                        for idy, y in enumerate(x):\n",
    "                            if signal[idx, idy]:\n",
    "                                converted_preds[idx, idy] = map_gt[map_pred[y]]\n",
    "    \n",
    "                    pred_sample[model] = preds_simplified\n",
    "                    accuracy[model] = np.sum(np.logical_and(converted_preds == GT, signal)) / np.sum(signal)\n",
    "\n",
    "                    accuracy_class[model] = get_accuracy_per_class(converted_preds, GT, GT_splitted, map_gt_splitted)\n",
    "                    \n",
    "                    TP = np.logical_and(converted_preds == 3, GT == 3)\n",
    "                    Image.fromarray(TP.astype(np.uint8) * 255).save(os.path.join(sample, 'predictions', model, 'TP.png'))\n",
    "    \n",
    "                    TN = np.logical_and(converted_preds == 2, GT == 2)\n",
    "                    Image.fromarray(TN.astype(np.uint8) * 255).save(os.path.join(sample, 'predictions', model, 'TN.png'))\n",
    "    \n",
    "                    FP = np.logical_and(converted_preds == 3, GT == 2)\n",
    "                    Image.fromarray(FP.astype(np.uint8) * 255).save(os.path.join(sample, 'predictions', model, 'FP.png'))\n",
    "    \n",
    "                    FN = np.logical_and(converted_preds == 2, GT == 3)\n",
    "                    Image.fromarray(FN.astype(np.uint8) * 255).save(os.path.join(sample, 'predictions', model, 'FN.png'))\n",
    "\n",
    "        pred_sample['combined'], accuracy['combined'], accuracy_class['combined'] = get_accuracy_stacked(preds_combined, GT, GT_splitted, signal, map_gt_splitted)\n",
    "        pred_sample['combined_MM'], accuracy['combined_MM'], accuracy_class['combined_MM'] = get_accuracy_stacked(preds_combined_MM, GT, GT_splitted, signal, map_gt_splitted)\n",
    "        pred_sample['combined_LC'], accuracy['combined_LC'], accuracy_class['combined_LC'] = get_accuracy_stacked(preds_combined_LC, GT, GT_splitted, signal, map_gt_splitted)\n",
    "        \n",
    "        accuracies[sample] = accuracy\n",
    "        accuracies_per_class[sample] = accuracy_class\n",
    "        pixel_number[sample] = np.sum(signal)\n",
    "\n",
    "        pixel_number_class = {}\n",
    "        for param, key in map_gt_splitted.items():\n",
    "            pixel_number_class[param] = np.sum(GT_splitted == key)\n",
    "        pixel_number_per_class[sample] = pixel_number_class    \n",
    "        \n",
    "        predictions[sample] = pred_sample\n",
    "\n",
    "    return accuracies, accuracies_per_class, pixel_number, pixel_number_per_class, predictions\n",
    "    \n",
    "accuracies, accuracies_per_class, pixel_number, pixel_number_per_class, predictions = run_analysis_predictions(samples)"
   ]
  },
  {
   "cell_type": "code",
   "execution_count": null,
   "id": "893d48a1-86a1-4db4-987f-658d218198fd",
   "metadata": {},
   "outputs": [],
   "source": []
  },
  {
   "cell_type": "code",
   "execution_count": 66,
   "id": "7dc3002f-96b8-4ccb-9fac-9d6bae4f7d09",
   "metadata": {},
   "outputs": [
    {
     "data": {
      "text/plain": [
       "{'atomic-donkey': np.float64(0.8568640349334328),\n",
       " 'peachy-mountain': np.float64(0.8459087258871973),\n",
       " 'atomic-firebrand': np.float64(0.8540484247759623),\n",
       " 'solar-bee': np.float64(0.8186008167170707),\n",
       " 'leafy-paper': np.float64(0.8666354593505863),\n",
       " 'curious-sunset': np.float64(0.8528667177910514),\n",
       " 'combined': np.float64(0.8998140459389113),\n",
       " 'combined_MM': np.float64(0.8740103026020838),\n",
       " 'combined_LC': np.float64(0.8891990356721566)}"
      ]
     },
     "execution_count": 66,
     "metadata": {},
     "output_type": "execute_result"
    }
   ],
   "source": [
    "combined_accuracy = {}\n",
    "\n",
    "for model in ['atomic-donkey', 'peachy-mountain', 'atomic-firebrand', 'solar-bee', 'leafy-paper', 'curious-sunset', 'combined',\n",
    "             'combined_MM', 'combined_LC']:\n",
    "    combined_accuracy[model] = 0\n",
    "    for sample in samples:\n",
    "        combined_accuracy[model] += accuracies[sample[0]][model] * pixel_number[sample[0]]\n",
    "    combined_accuracy[model] /= np.sum(list(pixel_number.values()))\n",
    "\n",
    "combined_accuracy"
   ]
  },
  {
   "cell_type": "code",
   "execution_count": 78,
   "id": "574e3550-588e-45ff-b088-bf907abad724",
   "metadata": {},
   "outputs": [
    {
     "data": {
      "text/plain": [
       "{'atomic-donkey': {'HT': np.float64(0.9246861144631405),\n",
       "  'GM': np.float64(0.8695792595104075),\n",
       "  'TC': np.float64(0.8799198586366863),\n",
       "  'IZ': np.float64(0.8542991883197496)},\n",
       " 'peachy-mountain': {'HT': np.float64(0.9671437094084309),\n",
       "  'GM': np.float64(0.8357616852535623),\n",
       "  'TC': np.float64(0.8761817337550202),\n",
       "  'IZ': np.float64(0.8442902577014683)},\n",
       " 'atomic-firebrand': {'HT': np.float64(0.9373500061014467),\n",
       "  'GM': np.float64(0.8106615867212944),\n",
       "  'TC': np.float64(0.8855823754368869),\n",
       "  'IZ': np.float64(0.8827335976755177)},\n",
       " 'solar-bee': {'HT': np.float64(0.9249793228750017),\n",
       "  'GM': np.float64(0.7758727610376409),\n",
       "  'TC': np.float64(0.8774391369908842),\n",
       "  'IZ': np.float64(0.8114098361330603)},\n",
       " 'leafy-paper': {'HT': np.float64(0.7206808536601901),\n",
       "  'GM': np.float64(0.8577610828699592),\n",
       "  'TC': np.float64(0.9264970067219479),\n",
       "  'IZ': np.float64(0.8730298158121086)},\n",
       " 'curious-sunset': {'HT': np.float64(0.9420633736932735),\n",
       "  'GM': np.float64(0.8410575015017712),\n",
       "  'TC': np.float64(0.9051353926326816),\n",
       "  'IZ': np.float64(0.8334955561747726)},\n",
       " 'combined': {'HT': np.float64(0.9640133282713923),\n",
       "  'GM': np.float64(0.8697129364056461),\n",
       "  'TC': np.float64(0.9427223176934565),\n",
       "  'IZ': np.float64(0.9109521387299894)},\n",
       " 'combined_MM': {'HT': np.float64(0.9630048947161471),\n",
       "  'GM': np.float64(0.8516082603610482),\n",
       "  'TC': np.float64(0.9058135872855195),\n",
       "  'IZ': np.float64(0.8864182817552178)},\n",
       " 'combined_LC': {'HT': np.float64(0.9256131953954415),\n",
       "  'GM': np.float64(0.8557234315495564),\n",
       "  'TC': np.float64(0.9479702135974643),\n",
       "  'IZ': np.float64(0.8891327162947634)}}"
      ]
     },
     "execution_count": 78,
     "metadata": {},
     "output_type": "execute_result"
    }
   ],
   "source": [
    "combined_accuracy_per_class = {}\n",
    "\n",
    "# Initialize a dictionary to hold class totals\n",
    "totals = {}\n",
    "\n",
    "# Sum up each class\n",
    "for path_data in pixel_number_per_class.values():\n",
    "    for cls, count in path_data.items():\n",
    "        totals[cls] = totals.get(cls, 0) + count\n",
    "    \n",
    "for model in ['atomic-donkey', 'peachy-mountain', 'atomic-firebrand', 'solar-bee', 'leafy-paper', 'curious-sunset', 'combined',\n",
    "             'combined_MM', 'combined_LC']:\n",
    "    combined_accuracy_per_class[model] = {'HT': 0, 'GM': 0, 'TC': 0, 'IZ': 0}\n",
    "    for sample in samples:\n",
    "        for param, key in map_gt_splitted.items():\n",
    "            if np.isnan(accuracies_per_class[sample[0]][model][param]) or np.isnan(pixel_number_per_class[sample[0]][param]):\n",
    "                pass\n",
    "            else:\n",
    "                combined_accuracy_per_class[model][param] += accuracies_per_class[sample[0]][model][param] * pixel_number_per_class[sample[0]][param]\n",
    "            # combined_accuracy_per_class[model] += accuracies[sample[0]][model] * pixel_number[sample[0]]\n",
    "    for param, key in map_gt_splitted.items():\n",
    "        combined_accuracy_per_class[model][param] /= totals[param]\n",
    "\n",
    "combined_accuracy_per_class"
   ]
  },
  {
   "cell_type": "code",
   "execution_count": null,
   "id": "044e0e10-d8a7-41c8-a391-d053fa35a620",
   "metadata": {},
   "outputs": [],
   "source": []
  },
  {
   "cell_type": "code",
   "execution_count": null,
   "id": "d0e326e8-7dce-4f67-8f08-c41962623487",
   "metadata": {},
   "outputs": [],
   "source": []
  },
  {
   "cell_type": "code",
   "execution_count": 79,
   "id": "b7a6c40d-37d2-45e8-a380-694dfef278fd",
   "metadata": {},
   "outputs": [],
   "source": [
    "from mmpt.addons.polarpred import save_results\n",
    "for sample, prediction in predictions.items():\n",
    "    save_results.save_predictions(prediction['combined'], None, sample, mode = 'fast', model_path = 'combined', combined = True)\n",
    "    save_results.save_predictions(prediction['combined_MM'], None, sample, mode = 'fast', model_path = 'combined_MM', combined = True)\n",
    "    save_results.save_predictions(prediction['combined_LC'], None, sample, mode = 'fast', model_path = 'combined_LC', combined = True)"
   ]
  },
  {
   "cell_type": "code",
   "execution_count": null,
   "id": "4e954baf-523e-402a-b269-300f378ae20c",
   "metadata": {},
   "outputs": [],
   "source": []
  },
  {
   "cell_type": "code",
   "execution_count": 80,
   "id": "1011a3d1-e476-4994-acae-c3dc8589b4f6",
   "metadata": {},
   "outputs": [
    {
     "name": "stderr",
     "output_type": "stream",
     "text": [
      "100%|█████████████████████████████████████████| 146/146 [01:16<00:00,  1.90it/s]\n"
     ]
    }
   ],
   "source": [
    "for sample, _ in tqdm(predictions.items(), total = len(predictions)):\n",
    "    import matplotlib.pyplot as plt\n",
    "    import matplotlib.image as mpimg\n",
    "    \n",
    "    # Example list of 8 image file paths\n",
    "    image_paths = [\n",
    "        'predictions/atomic-donkey/overlay_prediction.png', 'predictions/peachy-mountain/overlay_prediction.png',\n",
    "        'predictions/atomic-firebrand/overlay_prediction.png', 'predictions/combined_MM/overlay_prediction.png',\n",
    "        'predictions/solar-bee/overlay_prediction.png', 'predictions/leafy-paper/overlay_prediction.png', \n",
    "        'predictions/curious-sunset/overlay_prediction.png', 'predictions/combined_LC/overlay_prediction.png',\n",
    "        'predictions/combined/overlay_prediction.png', 'predictions/overlay_GT.png'\n",
    "    ]\n",
    "\n",
    "    titles = ['MM: atomic-donkey',\n",
    "                 'MM: peachy-mountain',\n",
    "                 'MM: atomic-firebrand',\n",
    "                 'MM: combined',\n",
    "                 'LC: solar-bee',\n",
    "                 'LC: leafy-paper',\n",
    "                 'LC: curious-sunset',\n",
    "                 'LC: combined',\n",
    "                 'combined',\n",
    "                 'GT']\n",
    "              \n",
    "    # Create a 2x4 grid\n",
    "    fig, axes = plt.subplots(2, 5, figsize=(17, 8))  # Adjust figsize as needed\n",
    "    \n",
    "    # Flatten the axes array for easy iteration\n",
    "    axes = axes.flatten()\n",
    "    \n",
    "    # Plot each image\n",
    "    for i, path in enumerate(image_paths):\n",
    "        img = mpimg.imread(os.path.join(sample, path))\n",
    "        axes[i].imshow(img)\n",
    "        axes[i].set_title(titles[i])\n",
    "        axes[i].axis('off')  # Hide axes\n",
    "    \n",
    "    plt.tight_layout()\n",
    "    plt.savefig(os.path.join(sample, 'predictions', 'results.png'))\n",
    "    plt.close()"
   ]
  },
  {
   "cell_type": "code",
   "execution_count": null,
   "id": "add1754a-e167-49bf-8e8f-ee2fe5cec76b",
   "metadata": {},
   "outputs": [],
   "source": []
  },
  {
   "cell_type": "code",
   "execution_count": 81,
   "id": "7290a266",
   "metadata": {},
   "outputs": [
    {
     "data": {
      "text/plain": [
       "{'/media/elea/ssd/NPP/550/TU/2023-06-08_T_HORAO-78-AF_FR_S7_1': np.float64(0.8065246493742195),\n",
       " '/media/elea/ssd/NPP/550/TU/2022-09-21_T_HORAO-45-BF_FR_S4_1': np.float64(0.7167375132837407),\n",
       " '/media/elea/ssd/NPP/550/TU/2023-06-08_T_HORAO-77-AF_FR_S1_1': np.float64(0.4561050789363725),\n",
       " '/media/elea/ssd/NPP/550/TU/2023-05-12_T_HORAO-91-AF_FR_S2_1': np.float64(0.368530714297387),\n",
       " '/media/elea/ssd/NPP/550/Irregular/2023-06-08_T_HORAO-71-AF_FR_S2_1': np.float64(0.3479777618232359),\n",
       " '/media/elea/ssd/NPP/550/TU/2023-10-23_T_HORAO-91-AF_FR_S1_1': np.float64(0.3447857229573873),\n",
       " '/media/elea/ssd/NPP/550/TU/2023-10-23_T_HORAO-101-AF_FR_S1_1': np.float64(0.2578171579993376),\n",
       " '/media/elea/ssd/NPP/550/Irregular/2023-11-01_T_HORAO-107-AF_FR_S6_1': np.float64(0.25726136643041175),\n",
       " '/media/elea/ssd/NPP/550/Irregular/2023-03-30_T_HORAO-93-BF_FR_S3_1': np.float64(0.24285799690833465),\n",
       " '/media/elea/ssd/NPP/550/Irregular/2023-05-12_T_HORAO-95-AF_FR_S2_1': np.float64(0.1873238662678881),\n",
       " '/media/elea/ssd/NPP/550/Irregular/2022-12-06_T_HORAO-64-AF_FR_S1_1': np.float64(0.17155914923536641),\n",
       " '/media/elea/ssd/NPP/550/Irregular/2023-05-16_T_HORAO-101-BF_FR_S1_1': np.float64(0.17010987232148272),\n",
       " '/media/elea/ssd/NPP/550/TU/2023-01-05_T_HORAO-78-BF_FR_S6_1': np.float64(0.1468936572678371),\n",
       " '/media/elea/ssd/NPP/550/TU/2022-11-01_T_HORAO-59-BF_FR_S2_1': np.float64(0.14268325669461723),\n",
       " '/media/elea/ssd/NPP/550/Irregular/2023-10-19_T_HORAO-98-AF_FR_S1_1': np.float64(0.13732100653413049),\n",
       " '/media/elea/ssd/NPP/550/TU/2023-01-04_T_HORAO-77-BF_FR_S1_1': np.float64(0.13636241013259243),\n",
       " '/media/elea/ssd/NPP/550/HT/2024-09-18_T_AUTOPSY-BF_FR_S7_1': np.float64(0.13578462456637697),\n",
       " '/media/elea/ssd/NPP/550/TU/2023-01-05_T_HORAO-78-BF_FR_S3_1': np.float64(0.1333476768224806),\n",
       " '/media/elea/ssd/NPP/550/TU/2022-11-28_T_HORAO-67-AF_FR_S1_1': np.float64(0.1297397687324504),\n",
       " '/media/elea/ssd/NPP/550/TU/2023-04-05_T_HORAO-94-BF_FR_S1_1': np.float64(0.12445051494599346),\n",
       " '/media/elea/ssd/NPP/550/TU/2022-11-22_T_HORAO-68-BF_FR_S2_1': np.float64(0.12136410882513082),\n",
       " '/media/elea/ssd/NPP/550/TU/2022-09-21_T_HORAO-45-BF_FR_S3_1': np.float64(0.11640117188730559),\n",
       " '/media/elea/ssd/NPP/550/TU/2023-02-08_T_HORAO-84-BF_FR_S3_1': np.float64(0.1072125808570169),\n",
       " '/media/elea/ssd/NPP/550/Irregular/2023-04-27_T_HORAO-98-BF_FR_S1_1': np.float64(0.1036572642601058),\n",
       " '/media/elea/ssd/NPP/550/Irregular/2023-03-30_T_HORAO-93-BF_FR_S2_1': np.float64(0.09998846952110074),\n",
       " '/media/elea/ssd/NPP/550/Irregular/2023-09-22_T_HORAO-90-AF_FR_S2_1': np.float64(0.09739000745712156),\n",
       " '/media/elea/ssd/NPP/550/TU/2023-01-04_T_HORAO-77-BF_FR_S3_1': np.float64(0.09686287363735369),\n",
       " '/media/elea/ssd/NPP/550/TU/2023-06-13_T_HORAO-104-BF_FR_S3_1': np.float64(0.09049959559509735),\n",
       " '/media/elea/ssd/NPP/550/TU/2022-10-14_T_HORAO-45-AF_FR_S2_1': np.float64(0.08910722143889938),\n",
       " '/media/elea/ssd/NPP/550/Irregular/2023-09-21_T_HORAO-107-AF_FR_S5_1': np.float64(0.08539252577669709),\n",
       " '/media/elea/ssd/NPP/550/TU/2022-08-16_T_HORAO-29-BF_FR_S1_1': np.float64(0.08216127162339437),\n",
       " '/media/elea/ssd/NPP/550/TU/2022-10-11_T_HORAO-55-BF_FR_S1_1': np.float64(0.07940797940797939),\n",
       " '/media/elea/ssd/NPP/550/Irregular/2023-03-31_T_HORAO-93-AF_FR_S3_1': np.float64(0.07702105978260876),\n",
       " '/media/elea/ssd/NPP/550/TU/2023-04-05_T_HORAO-94-BF_FR_S2_1': np.float64(0.07294788746011793),\n",
       " '/media/elea/ssd/NPP/550/TU/2023-08-02_T_HORAO-107-BF_FR_S3_1': np.float64(0.07114236927082451),\n",
       " '/media/elea/ssd/NPP/550/TU/2022-11-08_T_HORAO-63-BF_FR_S2_1': np.float64(0.06928680816957455),\n",
       " '/media/elea/ssd/NPP/550/TU/2022-09-01_T_HORAO-39-BF_FR_S2_1': np.float64(0.06862562767342395),\n",
       " '/media/elea/ssd/NPP/550/Irregular/2023-03-31_T_HORAO-93-AF_FR_S1_1': np.float64(0.06738025260147751),\n",
       " '/media/elea/ssd/NPP/550/TU/2023-05-12_T_HORAO-95-AF_FR_S1_1': np.float64(0.0660673472497334),\n",
       " '/media/elea/ssd/NPP/550/TU/2022-09-21_T_HORAO-45-BF_FR_S1_1': np.float64(0.06416228981430094),\n",
       " '/media/elea/ssd/NPP/550/TU/2022-10-25_T_HORAO-42-AF_FR_S3_1': np.float64(0.06071366202922168),\n",
       " '/media/elea/ssd/NPP/550/TU/2023-05-12_T_HORAO-100-AF_FR_S1_1': np.float64(0.059947336515874805),\n",
       " '/media/elea/ssd/NPP/550/Irregular/2022-12-07_T_HORAO-71-BF_FR_S2_1': np.float64(0.05945526533335266),\n",
       " '/media/elea/ssd/NPP/550/TU/2023-06-08_T_HORAO-78-AF_FR_S6_1': np.float64(0.058329076301490757),\n",
       " '/media/elea/ssd/NPP/550/TU/2022-12-01_T_HORAO-45-AF_FR_S4_1': np.float64(0.05774742362339158),\n",
       " '/media/elea/ssd/NPP/550/TU/2023-06-07_T_HORAO-94-AF_FR_S2_1': np.float64(0.05675210734560476),\n",
       " '/media/elea/ssd/NPP/550/HT/2022-07-06_T_AUTOPSY-BF_FR_S6_1': np.float64(0.05543438206499551),\n",
       " '/media/elea/ssd/NPP/550/TU/2023-02-22_T_HORAO-84-AF_FR_S3_1': np.float64(0.055145314878402796),\n",
       " '/media/elea/ssd/NPP/550/Irregular/2023-11-01_T_HORAO-92-AF_FR_S4_1': np.float64(0.055115998390773746),\n",
       " '/media/elea/ssd/NPP/550/HT/2024-10-03_T_AUTOPSY-AF_FR_S2_1': np.float64(0.05412626347551519),\n",
       " '/media/elea/ssd/NPP/550/TU/2023-10-19_T_HORAO-98-AF_FR_S2_1': np.float64(0.05384758216398311),\n",
       " '/media/elea/ssd/NPP/550/TU/2022-09-21_T_HORAO-45-BF_FR_S2_1': np.float64(0.05226733921815896),\n",
       " '/media/elea/ssd/NPP/550/TU/2023-06-08_T_HORAO-71-AF_FR_S3_1': np.float64(0.052038499575167485),\n",
       " '/media/elea/ssd/NPP/550/TU/2023-06-07_T_HORAO-100-AF_FR_S2_1': np.float64(0.051914559164258356),\n",
       " '/media/elea/ssd/NPP/550/TU/2023-09-22_T_HORAO-99-AF_FR_S1_1': np.float64(0.05152216963716305),\n",
       " '/media/elea/ssd/NPP/550/TU/2022-09-14_T_HORAO-37-AF_FR_S1_1': np.float64(0.05131398363238948),\n",
       " '/media/elea/ssd/NPP/550/Irregular/2023-03-23_T_HORAO-92-BF_FR_S4_1': np.float64(0.05126574488163138),\n",
       " '/media/elea/ssd/NPP/550/HT/2024-10-03_T_AUTOPSY-AF_FR_S3_1': np.float64(0.0475706661818337),\n",
       " '/media/elea/ssd/NPP/550/TU/2023-09-21_T_HORAO-104-AF_FR_S6_1': np.float64(0.04584101702106824),\n",
       " '/media/elea/ssd/NPP/550/TU/2022-11-28_T_HORAO-63-AF_FR_S2_1': np.float64(0.04579244721974429),\n",
       " '/media/elea/ssd/NPP/550/Irregular/2023-02-14_T_HORAO-85-BF_FR_S1_1': np.float64(0.04530786110752549),\n",
       " '/media/elea/ssd/NPP/550/TU/2023-05-04_T_HORAO-100-BF_FR_S1_1': np.float64(0.04364640301794542),\n",
       " '/media/elea/ssd/NPP/550/TU/2023-06-13_T_HORAO-104-BF_FR_S2_1': np.float64(0.043300066150881555),\n",
       " '/media/elea/ssd/NPP/550/TU/2023-09-21_T_HORAO-104-AF_FR_S5_1': np.float64(0.04328149132574255),\n",
       " '/media/elea/ssd/NPP/550/Irregular/2022-09-20_T_HORAO-44-BF_FR_S1_1': np.float64(0.04246231547442758),\n",
       " '/media/elea/ssd/NPP/550/TU/2023-01-05_T_HORAO-78-BF_FR_S2_1': np.float64(0.042073643410852735),\n",
       " '/media/elea/ssd/NPP/550/TU/2022-11-02_T_HORAO-59-AF_FR_S3_1': np.float64(0.04085675374520237),\n",
       " '/media/elea/ssd/NPP/550/HT/2024-10-03_T_AUTOPSY-AF_FR_S4_1': np.float64(0.04037751587142224),\n",
       " '/media/elea/ssd/NPP/550/TU/2023-01-04_T_HORAO-77-BF_FR_S2_1': np.float64(0.038826193954487054),\n",
       " '/media/elea/ssd/NPP/550/TU/2023-02-22_T_HORAO-78-AF_FR_S1_1': np.float64(0.036961719200857446),\n",
       " '/media/elea/ssd/NPP/550/TU/2022-09-01_T_HORAO-38-BF_FR_S1_1': np.float64(0.03648886884506586),\n",
       " '/media/elea/ssd/NPP/550/TU/2022-11-28_T_HORAO-63-AF_FR_S3_1': np.float64(0.03502453948626427),\n",
       " '/media/elea/ssd/NPP/550/TU/2023-10-19_T_HORAO-98-AF_FR_S3_1': np.float64(0.034367523639539765),\n",
       " '/media/elea/ssd/NPP/550/TU/2022-09-01_T_HORAO-37-BF_FR_S1_1': np.float64(0.03301622831561274),\n",
       " '/media/elea/ssd/NPP/550/Irregular/2023-08-02_T_HORAO-107-BF_FR_S6_1': np.float64(0.032992767514813504),\n",
       " '/media/elea/ssd/NPP/550/TU/2023-06-13_T_HORAO-104-BF_FR_S6_1': np.float64(0.03105909333544221),\n",
       " '/media/elea/ssd/NPP/550/TU/2023-02-22_T_HORAO-78-AF_FR_S2_1': np.float64(0.03090492862914085),\n",
       " '/media/elea/ssd/NPP/550/TU/2022-09-01_T_HORAO-37-BF_FR_S2_1': np.float64(0.030350695313337894),\n",
       " '/media/elea/ssd/NPP/550/HT/2024-09-18_T_AUTOPSY-BF_FR_S5_1': np.float64(0.029537921622148633),\n",
       " '/media/elea/ssd/NPP/550/TU/2022-06-29_T_HORAO-21-AF_FR_S2_1': np.float64(0.0294261479570328),\n",
       " '/media/elea/ssd/NPP/550/TU/2023-09-22_T_HORAO-104-AF_FR_S3_1': np.float64(0.02936516709037984),\n",
       " '/media/elea/ssd/NPP/550/TU/2022-11-08_T_HORAO-63-BF_FR_S1_1': np.float64(0.028511114502263624),\n",
       " '/media/elea/ssd/NPP/550/TU/2022-12-01_T_HORAO-45-AF_FR_S1_1': np.float64(0.02614431662778538),\n",
       " '/media/elea/ssd/NPP/550/HT/2024-09-18_T_AUTOPSY-BF_FR_S4_1': np.float64(0.025333947489636133),\n",
       " '/media/elea/ssd/NPP/550/TU/2022-11-08_T_HORAO-64-BF_FR_S1_1': np.float64(0.025282798475347423),\n",
       " '/media/elea/ssd/NPP/550/TU/2023-04-27_T_HORAO-98-BF_FR_S3_1': np.float64(0.024424273126655738),\n",
       " '/media/elea/ssd/NPP/550/Irregular/2023-04-18_T_HORAO-95-BF_FR_S2_1': np.float64(0.023919283291293447),\n",
       " '/media/elea/ssd/NPP/550/TU/2023-11-01_T_HORAO-88-AF_FR_S1_1': np.float64(0.02329003649491823),\n",
       " '/media/elea/ssd/NPP/550/TU/2022-11-28_T_HORAO-63-AF_FR_S1_1': np.float64(0.023231608865641018),\n",
       " '/media/elea/ssd/NPP/550/TU/2023-05-02_T_HORAO-99-BF_FR_S1_1': np.float64(0.02209018890920178),\n",
       " '/media/elea/ssd/NPP/550/TU/2022-09-14_T_HORAO-39-AF_FR_S1_1': np.float64(0.020673880531362654),\n",
       " '/media/elea/ssd/NPP/550/Irregular/2022-12-01_T_HORAO-53-AF_FR_S1_1': np.float64(0.020613839413386348),\n",
       " '/media/elea/ssd/NPP/550/TU/2023-06-20_T_HORAO-105-BF_FR_S1_1': np.float64(0.020605023576588),\n",
       " '/media/elea/ssd/NPP/550/TU/2023-02-23_T_HORAO-84-AF_FR_S4_1': np.float64(0.019165934663487705),\n",
       " '/media/elea/ssd/NPP/550/TU/2023-02-08_T_HORAO-84-BF_FR_S1_1': np.float64(0.018602047517035647),\n",
       " '/media/elea/ssd/NPP/550/Irregular/2022-09-14_T_HORAO-42-BF_FR_S3_1': np.float64(0.016793168880455456),\n",
       " '/media/elea/ssd/NPP/550/HT/2024-09-18_T_AUTOPSY-BF_FR_S3_1': np.float64(0.016595145890753504),\n",
       " '/media/elea/ssd/NPP/550/TU/2022-06-29_T_HORAO-21-BF_FR_S2_1': np.float64(0.01441468155909198),\n",
       " '/media/elea/ssd/NPP/550/HT/2024-10-03_T_AUTOPSY-AF_FR_S1_1': np.float64(0.014148154959736203),\n",
       " '/media/elea/ssd/NPP/550/TU/2023-06-13_T_HORAO-104-BF_FR_S5_1': np.float64(0.013821076187569892),\n",
       " '/media/elea/ssd/NPP/550/Irregular/2023-03-22_T_HORAO-91-BF_FR_S1_1': np.float64(0.013203975753117048),\n",
       " '/media/elea/ssd/NPP/550/TU/2023-03-31_T_HORAO-93-AF_FR_S2_1': np.float64(0.013149183883118365),\n",
       " '/media/elea/ssd/NPP/550/Irregular/2022-12-07_T_HORAO-71-BF_FR_S3_1': np.float64(0.013043040595924649),\n",
       " '/media/elea/ssd/NPP/550/TU/2022-11-02_T_HORAO-59-AF_FR_S2_1': np.float64(0.01270568304810904),\n",
       " '/media/elea/ssd/NPP/550/TU/2023-09-21_T_HORAO-104-AF_FR_S4_1': np.float64(0.01249967828556231),\n",
       " '/media/elea/ssd/NPP/550/TU/2023-06-08_T_HORAO-77-AF_FR_S2_1': np.float64(0.012386912080450618),\n",
       " '/media/elea/ssd/NPP/550/Irregular/2023-04-18_T_HORAO-95-BF_FR_S1_1': np.float64(0.012145264760247909),\n",
       " '/media/elea/ssd/NPP/550/Irregular/2023-03-22_T_HORAO-91-BF_FR_S2_1': np.float64(0.01072881099623535),\n",
       " '/media/elea/ssd/NPP/550/HT/2022-07-06_T_AUTOPSY-BF_FR_S8_1': np.float64(0.010631394614967427),\n",
       " '/media/elea/ssd/NPP/550/TU/2022-11-28_T_HORAO-68-AF_FR_S1_1': np.float64(0.010565812124398222),\n",
       " '/media/elea/ssd/NPP/550/Irregular/2023-02-08_T_HORAO-84-BF_FR_S2_1': np.float64(0.009894614026713877),\n",
       " '/media/elea/ssd/NPP/550/TU/2022-11-29_T_HORAO-68-AF_FR_S2_1': np.float64(0.00944639172694961),\n",
       " '/media/elea/ssd/NPP/550/HT/2022-07-07_T_AUTOPSY-AF_FR_S3_1': np.float64(0.009016224627565905),\n",
       " '/media/elea/ssd/NPP/550/HT/2022-07-06_T_AUTOPSY-BF_FR_S2_1': np.float64(0.00858817983619109),\n",
       " '/media/elea/ssd/NPP/550/TU/2023-01-05_T_HORAO-78-BF_FR_S1_1': np.float64(0.008283902638576368),\n",
       " '/media/elea/ssd/NPP/550/TU/2022-09-14_T_HORAO-38-AF_FR_S1_1': np.float64(0.00825455997869795),\n",
       " '/media/elea/ssd/NPP/550/HT/2022-07-07_T_AUTOPSY-AF_FR_S4_1': np.float64(0.008210770761915231),\n",
       " '/media/elea/ssd/NPP/550/TU/2023-09-22_T_HORAO-84-AF_FR_S2_1': np.float64(0.008025777963421521),\n",
       " '/media/elea/ssd/NPP/550/TU/2023-06-08_T_HORAO-77-AF_FR_S3_1': np.float64(0.007521737321629196),\n",
       " '/media/elea/ssd/NPP/550/TU/2023-04-27_T_HORAO-98-BF_FR_S2_1': np.float64(0.007310295955093804),\n",
       " '/media/elea/ssd/NPP/550/HT/2022-07-06_T_AUTOPSY-BF_FR_S5_1': np.float64(0.006976290369792193),\n",
       " '/media/elea/ssd/NPP/550/TU/2023-09-21_T_HORAO-104-AF_FR_S2_1': np.float64(0.006462078267845728),\n",
       " '/media/elea/ssd/NPP/550/TU/2023-10-19_T_HORAO-107-AF_FR_S3_1': np.float64(0.0063740729805303875),\n",
       " '/media/elea/ssd/NPP/550/TU/2022-10-14_T_HORAO-45-AF_FR_S3_1': np.float64(0.006095866766580471),\n",
       " '/media/elea/ssd/NPP/550/TU/2022-11-22_T_HORAO-67-BF_FR_S1_1': np.float64(0.005543209568278917),\n",
       " '/media/elea/ssd/NPP/550/HT/2022-07-06_T_AUTOPSY-BF_FR_S7_1': np.float64(0.00530996946767559),\n",
       " '/media/elea/ssd/NPP/550/TU/2023-10-23_T_HORAO-101-AF_FR_S2_1': np.float64(0.004767406642960492),\n",
       " '/media/elea/ssd/NPP/550/Irregular/2022-11-02_T_HORAO-59-AF_FR_S1_1': np.float64(0.004733966871014794),\n",
       " '/media/elea/ssd/NPP/550/TU/2023-01-05_T_HORAO-78-BF_FR_S4_1': np.float64(0.004395693027382297),\n",
       " '/media/elea/ssd/NPP/550/TU/2023-10-23_T_HORAO-103-AF_FR_S1_1': np.float64(0.004335150689080747),\n",
       " '/media/elea/ssd/NPP/550/TU/2022-09-14_T_HORAO-39-AF_FR_S2_1': np.float64(0.004216405651078836),\n",
       " '/media/elea/ssd/NPP/550/TU/2022-09-27_T_HORAO-44-AF_FR_S1_1': np.float64(0.003977406123548133),\n",
       " '/media/elea/ssd/NPP/550/HT/2022-07-06_T_AUTOPSY-BF_FR_S1_1': np.float64(0.003928750313047846),\n",
       " '/media/elea/ssd/NPP/550/TU/2023-02-08_T_HORAO-84-BF_FR_S4_1': np.float64(0.0037315397867906386),\n",
       " '/media/elea/ssd/NPP/550/TU/2022-12-01_T_HORAO-55-AF_FR_S1_1': np.float64(0.0036396724294812666),\n",
       " '/media/elea/ssd/NPP/550/HT/2022-07-06_T_AUTOPSY-BF_FR_S4_1': np.float64(0.003407984420642718),\n",
       " '/media/elea/ssd/NPP/550/Irregular/2023-08-02_T_HORAO-107-BF_FR_S5_1': np.float64(0.0032658651250379034),\n",
       " '/media/elea/ssd/NPP/550/TU/2023-10-23_T_HORAO-78-AF_FR_S4_1': np.float64(0.0028825100938071335),\n",
       " '/media/elea/ssd/NPP/550/HT/2022-07-07_T_AUTOPSY-AF_FR_S2_1': np.float64(0.0027178634366700205),\n",
       " '/media/elea/ssd/NPP/550/HT/2024-10-03_T_AUTOPSY-AF_FR_S8_1': np.float64(0.002251184834123232),\n",
       " '/media/elea/ssd/NPP/550/TU/2023-05-26_T_HORAO-103-BF_FR_S1_1': np.float64(0.0021569274788159065),\n",
       " '/media/elea/ssd/NPP/550/TU/2022-11-22_T_HORAO-68-BF_FR_S1_1': np.float64(0.0013459979504122366),\n",
       " '/media/elea/ssd/NPP/550/Irregular/2023-03-14_T_HORAO-90-BF_FR_S2_1': np.float64(0.0012208947414319438),\n",
       " '/media/elea/ssd/NPP/550/TU/2023-11-02_T_HORAO-84-AF_FR_S1_1': np.float64(0.0011193944609011464),\n",
       " '/media/elea/ssd/NPP/550/TU/2023-09-21_T_HORAO-105-AF_FR_S1_1': np.float64(0.00023088319234498833),\n",
       " '/media/elea/ssd/NPP/550/Irregular/2023-03-30_T_HORAO-93-BF_FR_S1_1': np.float64(0.0)}"
      ]
     },
     "execution_count": 81,
     "metadata": {},
     "output_type": "execute_result"
    }
   ],
   "source": [
    "difference_MM_LC = {}\n",
    "for sample, acc in accuracies.items():\n",
    "    difference_MM_LC[sample] = np.abs(acc['combined_LC'] - acc['combined_MM'])\n",
    "# Sort the dictionary by values\n",
    "difference_MM_LC = dict(sorted(difference_MM_LC.items(), key=lambda item: item[1], reverse=True))\n",
    "difference_MM_LC"
   ]
  },
  {
   "cell_type": "code",
   "execution_count": null,
   "id": "93cc99df-a7f6-4401-ac32-9f5af714153b",
   "metadata": {},
   "outputs": [],
   "source": []
  },
  {
   "cell_type": "code",
   "execution_count": 6,
   "id": "15e52f61-7cbd-442b-812f-0371510e7f18",
   "metadata": {},
   "outputs": [
    {
     "name": "stdout",
     "output_type": "stream",
     "text": [
      "Aligning wavelength: 600 nm...\n"
     ]
    },
    {
     "name": "stderr",
     "output_type": "stream",
     "text": [
      "  0%|                                                    | 0/24 [00:00<?, ?it/s]"
     ]
    },
    {
     "name": "stdout",
     "output_type": "stream",
     "text": [
      " \n",
      " >> Exported X3D .cod file as: /media/elea/ssd/NPP_dev/CALF/550x600/2025-05-22_T_AUTOPSY-CALF_FR_M38_1/raw_data/600nm/600_Intensite_aligned.cod\n",
      " \n",
      " >> Exported X3D .cod file as: /media/elea/ssd/NPP_dev/CALF/550x600/2025-05-22_T_AUTOPSY-CALF_FR_M38_1/raw_data/600nm/600_Bruit_aligned.cod\n"
     ]
    },
    {
     "name": "stderr",
     "output_type": "stream",
     "text": [
      "  4%|█▊                                          | 1/24 [00:08<03:13,  8.42s/it]"
     ]
    },
    {
     "name": "stdout",
     "output_type": "stream",
     "text": [
      " \n",
      " >> Exported X3D .cod file as: /media/elea/ssd/NPP_dev/CALF/550x600/2025-05-22_T_AUTOPSY-CALF_FR_M35_1/raw_data/600nm/600_Intensite_aligned.cod\n",
      " \n",
      " >> Exported X3D .cod file as: /media/elea/ssd/NPP_dev/CALF/550x600/2025-05-22_T_AUTOPSY-CALF_FR_M35_1/raw_data/600nm/600_Bruit_aligned.cod\n"
     ]
    },
    {
     "name": "stderr",
     "output_type": "stream",
     "text": [
      "  8%|███▋                                        | 2/24 [00:17<03:09,  8.61s/it]"
     ]
    },
    {
     "name": "stdout",
     "output_type": "stream",
     "text": [
      " \n",
      " >> Exported X3D .cod file as: /media/elea/ssd/NPP_dev/CALF/550x600/2025-05-21_T_AUTOPSY-CALF_FR_M16_1/raw_data/600nm/600_Intensite_aligned.cod\n",
      " \n",
      " >> Exported X3D .cod file as: /media/elea/ssd/NPP_dev/CALF/550x600/2025-05-21_T_AUTOPSY-CALF_FR_M16_1/raw_data/600nm/600_Bruit_aligned.cod\n"
     ]
    },
    {
     "name": "stderr",
     "output_type": "stream",
     "text": [
      " 12%|█████▌                                      | 3/24 [00:26<03:09,  9.04s/it]"
     ]
    },
    {
     "name": "stdout",
     "output_type": "stream",
     "text": [
      " \n",
      " >> Exported X3D .cod file as: /media/elea/ssd/NPP_dev/CALF/550x600/2025-05-21_T_AUTOPSY-CALF_FR_M19_1/raw_data/600nm/600_Intensite_aligned.cod\n",
      " \n",
      " >> Exported X3D .cod file as: /media/elea/ssd/NPP_dev/CALF/550x600/2025-05-21_T_AUTOPSY-CALF_FR_M19_1/raw_data/600nm/600_Bruit_aligned.cod\n"
     ]
    },
    {
     "name": "stderr",
     "output_type": "stream",
     "text": [
      " 17%|███████▎                                    | 4/24 [00:36<03:06,  9.33s/it]"
     ]
    },
    {
     "name": "stdout",
     "output_type": "stream",
     "text": [
      " \n",
      " >> Exported X3D .cod file as: /media/elea/ssd/NPP_dev/CALF/550x600/2025-05-21_T_AUTOPSY-CALF_FR_M23_1/raw_data/600nm/600_Intensite_aligned.cod\n",
      " \n",
      " >> Exported X3D .cod file as: /media/elea/ssd/NPP_dev/CALF/550x600/2025-05-21_T_AUTOPSY-CALF_FR_M23_1/raw_data/600nm/600_Bruit_aligned.cod\n"
     ]
    },
    {
     "name": "stderr",
     "output_type": "stream",
     "text": [
      " 21%|█████████▏                                  | 5/24 [00:45<02:57,  9.35s/it]"
     ]
    },
    {
     "name": "stdout",
     "output_type": "stream",
     "text": [
      " \n",
      " >> Exported X3D .cod file as: /media/elea/ssd/NPP_dev/CALF/550x600/2025-05-21_T_AUTOPSY-CALF_FR_M22_1/raw_data/600nm/600_Intensite_aligned.cod\n",
      " \n",
      " >> Exported X3D .cod file as: /media/elea/ssd/NPP_dev/CALF/550x600/2025-05-21_T_AUTOPSY-CALF_FR_M22_1/raw_data/600nm/600_Bruit_aligned.cod\n"
     ]
    },
    {
     "name": "stderr",
     "output_type": "stream",
     "text": [
      " 25%|███████████                                 | 6/24 [00:55<02:47,  9.33s/it]"
     ]
    },
    {
     "name": "stdout",
     "output_type": "stream",
     "text": [
      " \n",
      " >> Exported X3D .cod file as: /media/elea/ssd/NPP_dev/CALF/550x600/2025-05-22_T_AUTOPSY-CALF_FR_M32_1/raw_data/600nm/600_Intensite_aligned.cod\n",
      " \n",
      " >> Exported X3D .cod file as: /media/elea/ssd/NPP_dev/CALF/550x600/2025-05-22_T_AUTOPSY-CALF_FR_M32_1/raw_data/600nm/600_Bruit_aligned.cod\n"
     ]
    },
    {
     "name": "stderr",
     "output_type": "stream",
     "text": [
      " 29%|████████████▊                               | 7/24 [01:03<02:33,  9.05s/it]"
     ]
    },
    {
     "name": "stdout",
     "output_type": "stream",
     "text": [
      " \n",
      " >> Exported X3D .cod file as: /media/elea/ssd/NPP_dev/CALF/550x600/2025-05-21_T_AUTOPSY-CALF_FR_M17_1/raw_data/600nm/600_Intensite_aligned.cod\n",
      " \n",
      " >> Exported X3D .cod file as: /media/elea/ssd/NPP_dev/CALF/550x600/2025-05-21_T_AUTOPSY-CALF_FR_M17_1/raw_data/600nm/600_Bruit_aligned.cod\n"
     ]
    },
    {
     "name": "stderr",
     "output_type": "stream",
     "text": [
      " 33%|██████████████▋                             | 8/24 [01:13<02:27,  9.25s/it]"
     ]
    },
    {
     "name": "stdout",
     "output_type": "stream",
     "text": [
      " \n",
      " >> Exported X3D .cod file as: /media/elea/ssd/NPP_dev/CALF/550x600/2025-05-22_T_AUTOPSY-CALF_FR_M34_1/raw_data/600nm/600_Intensite_aligned.cod\n",
      " \n",
      " >> Exported X3D .cod file as: /media/elea/ssd/NPP_dev/CALF/550x600/2025-05-22_T_AUTOPSY-CALF_FR_M34_1/raw_data/600nm/600_Bruit_aligned.cod\n"
     ]
    },
    {
     "name": "stderr",
     "output_type": "stream",
     "text": [
      " 38%|████████████████▌                           | 9/24 [01:22<02:16,  9.12s/it]"
     ]
    },
    {
     "name": "stdout",
     "output_type": "stream",
     "text": [
      " \n",
      " >> Exported X3D .cod file as: /media/elea/ssd/NPP_dev/CALF/550x600/2025-05-21_T_AUTOPSY-CALF_FR_M20_1/raw_data/600nm/600_Intensite_aligned.cod\n",
      " \n",
      " >> Exported X3D .cod file as: /media/elea/ssd/NPP_dev/CALF/550x600/2025-05-21_T_AUTOPSY-CALF_FR_M20_1/raw_data/600nm/600_Bruit_aligned.cod\n"
     ]
    },
    {
     "name": "stderr",
     "output_type": "stream",
     "text": [
      " 46%|███████████████████▋                       | 11/24 [01:31<01:32,  7.12s/it]"
     ]
    },
    {
     "name": "stdout",
     "output_type": "stream",
     "text": [
      " \n",
      " >> Exported X3D .cod file as: /media/elea/ssd/NPP_dev/CALF/550x600/2025-05-22_T_AUTOPSY-CALF_FR_M31_1/raw_data/600nm/600_Intensite_aligned.cod\n",
      " \n",
      " >> Exported X3D .cod file as: /media/elea/ssd/NPP_dev/CALF/550x600/2025-05-22_T_AUTOPSY-CALF_FR_M31_1/raw_data/600nm/600_Bruit_aligned.cod\n"
     ]
    },
    {
     "name": "stderr",
     "output_type": "stream",
     "text": [
      " 50%|█████████████████████▌                     | 12/24 [01:40<01:29,  7.46s/it]"
     ]
    },
    {
     "name": "stdout",
     "output_type": "stream",
     "text": [
      " \n",
      " >> Exported X3D .cod file as: /media/elea/ssd/NPP_dev/CALF/550x600/2025-05-22_T_AUTOPSY-CALF_FR_M36_1/raw_data/600nm/600_Intensite_aligned.cod\n",
      " \n",
      " >> Exported X3D .cod file as: /media/elea/ssd/NPP_dev/CALF/550x600/2025-05-22_T_AUTOPSY-CALF_FR_M36_1/raw_data/600nm/600_Bruit_aligned.cod\n"
     ]
    },
    {
     "name": "stderr",
     "output_type": "stream",
     "text": [
      " 54%|███████████████████████▎                   | 13/24 [01:49<01:25,  7.80s/it]"
     ]
    },
    {
     "name": "stdout",
     "output_type": "stream",
     "text": [
      " \n",
      " >> Exported X3D .cod file as: /media/elea/ssd/NPP_dev/CALF/550x600/2025-05-21_T_AUTOPSY-CALF_FR_M27_1/raw_data/600nm/600_Intensite_aligned.cod\n",
      " \n",
      " >> Exported X3D .cod file as: /media/elea/ssd/NPP_dev/CALF/550x600/2025-05-21_T_AUTOPSY-CALF_FR_M27_1/raw_data/600nm/600_Bruit_aligned.cod\n"
     ]
    },
    {
     "name": "stderr",
     "output_type": "stream",
     "text": [
      " 58%|█████████████████████████                  | 14/24 [01:57<01:20,  8.02s/it]"
     ]
    },
    {
     "name": "stdout",
     "output_type": "stream",
     "text": [
      " \n",
      " >> Exported X3D .cod file as: /media/elea/ssd/NPP_dev/CALF/550x600/2025-05-21_T_AUTOPSY-CALF_FR_M24_1/raw_data/600nm/600_Intensite_aligned.cod\n",
      " \n",
      " >> Exported X3D .cod file as: /media/elea/ssd/NPP_dev/CALF/550x600/2025-05-21_T_AUTOPSY-CALF_FR_M24_1/raw_data/600nm/600_Bruit_aligned.cod\n"
     ]
    },
    {
     "name": "stderr",
     "output_type": "stream",
     "text": [
      " 62%|██████████████████████████▉                | 15/24 [02:06<01:13,  8.18s/it]"
     ]
    },
    {
     "name": "stdout",
     "output_type": "stream",
     "text": [
      " \n",
      " >> Exported X3D .cod file as: /media/elea/ssd/NPP_dev/CALF/550x600/2025-05-22_T_AUTOPSY-CALF_FR_M37_1/raw_data/600nm/600_Intensite_aligned.cod\n",
      " \n",
      " >> Exported X3D .cod file as: /media/elea/ssd/NPP_dev/CALF/550x600/2025-05-22_T_AUTOPSY-CALF_FR_M37_1/raw_data/600nm/600_Bruit_aligned.cod\n"
     ]
    },
    {
     "name": "stderr",
     "output_type": "stream",
     "text": [
      " 67%|████████████████████████████▋              | 16/24 [02:14<01:06,  8.29s/it]"
     ]
    },
    {
     "name": "stdout",
     "output_type": "stream",
     "text": [
      " \n",
      " >> Exported X3D .cod file as: /media/elea/ssd/NPP_dev/CALF/550x600/2025-05-21_T_AUTOPSY-CALF_FR_M26_1/raw_data/600nm/600_Intensite_aligned.cod\n",
      " \n",
      " >> Exported X3D .cod file as: /media/elea/ssd/NPP_dev/CALF/550x600/2025-05-21_T_AUTOPSY-CALF_FR_M26_1/raw_data/600nm/600_Bruit_aligned.cod\n"
     ]
    },
    {
     "name": "stderr",
     "output_type": "stream",
     "text": [
      " 71%|██████████████████████████████▍            | 17/24 [02:23<00:58,  8.36s/it]"
     ]
    },
    {
     "name": "stdout",
     "output_type": "stream",
     "text": [
      " \n",
      " >> Exported X3D .cod file as: /media/elea/ssd/NPP_dev/CALF/550x600/2025-05-21_T_AUTOPSY-CALF_FR_M28_1/raw_data/600nm/600_Intensite_aligned.cod\n",
      " \n",
      " >> Exported X3D .cod file as: /media/elea/ssd/NPP_dev/CALF/550x600/2025-05-21_T_AUTOPSY-CALF_FR_M28_1/raw_data/600nm/600_Bruit_aligned.cod\n"
     ]
    },
    {
     "name": "stderr",
     "output_type": "stream",
     "text": [
      " 75%|████████████████████████████████▎          | 18/24 [02:32<00:50,  8.46s/it]"
     ]
    },
    {
     "name": "stdout",
     "output_type": "stream",
     "text": [
      " \n",
      " >> Exported X3D .cod file as: /media/elea/ssd/NPP_dev/CALF/550x600/2025-05-22_T_AUTOPSY-CALF_FR_M30_1/raw_data/600nm/600_Intensite_aligned.cod\n",
      " \n",
      " >> Exported X3D .cod file as: /media/elea/ssd/NPP_dev/CALF/550x600/2025-05-22_T_AUTOPSY-CALF_FR_M30_1/raw_data/600nm/600_Bruit_aligned.cod\n"
     ]
    },
    {
     "name": "stderr",
     "output_type": "stream",
     "text": [
      " 79%|██████████████████████████████████         | 19/24 [02:40<00:42,  8.54s/it]"
     ]
    },
    {
     "name": "stdout",
     "output_type": "stream",
     "text": [
      " \n",
      " >> Exported X3D .cod file as: /media/elea/ssd/NPP_dev/CALF/550x600/2025-05-21_T_AUTOPSY-CALF_FR_M29_1/raw_data/600nm/600_Intensite_aligned.cod\n",
      " \n",
      " >> Exported X3D .cod file as: /media/elea/ssd/NPP_dev/CALF/550x600/2025-05-21_T_AUTOPSY-CALF_FR_M29_1/raw_data/600nm/600_Bruit_aligned.cod\n"
     ]
    },
    {
     "name": "stderr",
     "output_type": "stream",
     "text": [
      " 83%|███████████████████████████████████▊       | 20/24 [02:49<00:34,  8.52s/it]"
     ]
    },
    {
     "name": "stdout",
     "output_type": "stream",
     "text": [
      " \n",
      " >> Exported X3D .cod file as: /media/elea/ssd/NPP_dev/CALF/550x600/2025-05-22_T_AUTOPSY-CALF_FR_M33_1/raw_data/600nm/600_Intensite_aligned.cod\n",
      " \n",
      " >> Exported X3D .cod file as: /media/elea/ssd/NPP_dev/CALF/550x600/2025-05-22_T_AUTOPSY-CALF_FR_M33_1/raw_data/600nm/600_Bruit_aligned.cod\n"
     ]
    },
    {
     "name": "stderr",
     "output_type": "stream",
     "text": [
      " 88%|█████████████████████████████████████▋     | 21/24 [02:57<00:25,  8.50s/it]"
     ]
    },
    {
     "name": "stdout",
     "output_type": "stream",
     "text": [
      " \n",
      " >> Exported X3D .cod file as: /media/elea/ssd/NPP_dev/CALF/550x600/2025-05-21_T_AUTOPSY-CALF_FR_M21_1/raw_data/600nm/600_Intensite_aligned.cod\n",
      " \n",
      " >> Exported X3D .cod file as: /media/elea/ssd/NPP_dev/CALF/550x600/2025-05-21_T_AUTOPSY-CALF_FR_M21_1/raw_data/600nm/600_Bruit_aligned.cod\n"
     ]
    },
    {
     "name": "stderr",
     "output_type": "stream",
     "text": [
      " 92%|███████████████████████████████████████▍   | 22/24 [03:07<00:17,  8.89s/it]"
     ]
    },
    {
     "name": "stdout",
     "output_type": "stream",
     "text": [
      " \n",
      " >> Exported X3D .cod file as: /media/elea/ssd/NPP_dev/CALF/550x600/2025-05-21_T_AUTOPSY-CALF_FR_M25_1/raw_data/600nm/600_Intensite_aligned.cod\n",
      " \n",
      " >> Exported X3D .cod file as: /media/elea/ssd/NPP_dev/CALF/550x600/2025-05-21_T_AUTOPSY-CALF_FR_M25_1/raw_data/600nm/600_Bruit_aligned.cod\n"
     ]
    },
    {
     "name": "stderr",
     "output_type": "stream",
     "text": [
      " 96%|█████████████████████████████████████████▏ | 23/24 [03:15<00:08,  8.72s/it]"
     ]
    },
    {
     "name": "stdout",
     "output_type": "stream",
     "text": [
      " \n",
      " >> Exported X3D .cod file as: /media/elea/ssd/NPP_dev/CALF/550x600/2025-05-21_T_AUTOPSY-CALF_FR_M18_1/raw_data/600nm/600_Intensite_aligned.cod\n",
      " \n",
      " >> Exported X3D .cod file as: /media/elea/ssd/NPP_dev/CALF/550x600/2025-05-21_T_AUTOPSY-CALF_FR_M18_1/raw_data/600nm/600_Bruit_aligned.cod\n"
     ]
    },
    {
     "name": "stderr",
     "output_type": "stream",
     "text": [
      "100%|███████████████████████████████████████████| 24/24 [03:25<00:00,  8.56s/it]"
     ]
    },
    {
     "name": "stdout",
     "output_type": "stream",
     "text": [
      "Aligning wavelengths done.\n",
      "\n"
     ]
    },
    {
     "name": "stderr",
     "output_type": "stream",
     "text": [
      "\n"
     ]
    }
   ],
   "source": [
    "# align the measurements captured at different wavelengths - could cause issue when using masks obtained\n",
    "# at 550nm as the images are slightly shifted \n",
    "from mmpt.addons import align_wavelengths\n",
    "run_all = False\n",
    "align_wavelengths.align_wavelengths(mmProcessor.input_dirs, mmProcessor.PDDN_mode, run_all, [600], mmProcessor.instrument)"
   ]
  },
  {
   "cell_type": "code",
   "execution_count": null,
   "id": "72823d5f-1c55-442c-9ea7-4c8f07996a12",
   "metadata": {},
   "outputs": [],
   "source": []
  }
 ],
 "metadata": {
  "kernelspec": {
   "display_name": "Python 3 (ipykernel)",
   "language": "python",
   "name": "python3"
  },
  "language_info": {
   "codemirror_mode": {
    "name": "ipython",
    "version": 3
   },
   "file_extension": ".py",
   "mimetype": "text/x-python",
   "name": "python",
   "nbconvert_exporter": "python",
   "pygments_lexer": "ipython3",
   "version": "3.12.8"
  }
 },
 "nbformat": 4,
 "nbformat_minor": 5
}
