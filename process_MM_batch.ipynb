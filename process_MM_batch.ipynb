{
 "cells": [
  {
   "cell_type": "markdown",
   "id": "5833fa74",
   "metadata": {},
   "source": [
    "# Process the data obtained from polarimetry and reorganize the data into the correct folders"
   ]
  },
  {
   "cell_type": "code",
   "execution_count": 1,
   "id": "a9006a18",
   "metadata": {},
   "outputs": [
    {
     "name": "stdout",
     "output_type": "stream",
     "text": [
      " Could not import win32api and/or win32con\n"
     ]
    },
    {
     "name": "stderr",
     "output_type": "stream",
     "text": [
      "2025-02-03 14:42:26.412965: I tensorflow/core/util/port.cc:153] oneDNN custom operations are on. You may see slightly different numerical results due to floating-point round-off errors from different computation orders. To turn them off, set the environment variable `TF_ENABLE_ONEDNN_OPTS=0`.\n",
      "2025-02-03 14:42:26.421972: E external/local_xla/xla/stream_executor/cuda/cuda_fft.cc:477] Unable to register cuFFT factory: Attempting to register factory for plugin cuFFT when one has already been registered\n",
      "WARNING: All log messages before absl::InitializeLog() is called are written to STDERR\n",
      "E0000 00:00:1738590146.433000   71074 cuda_dnn.cc:8310] Unable to register cuDNN factory: Attempting to register factory for plugin cuDNN when one has already been registered\n",
      "E0000 00:00:1738590146.436130   71074 cuda_blas.cc:1418] Unable to register cuBLAS factory: Attempting to register factory for plugin cuBLAS when one has already been registered\n",
      "2025-02-03 14:42:26.448178: I tensorflow/core/platform/cpu_feature_guard.cc:210] This TensorFlow binary is optimized to use available CPU instructions in performance-critical operations.\n",
      "To enable the following instructions: AVX2 AVX_VNNI FMA, in other operations, rebuild TensorFlow with the appropriate compiler flags.\n"
     ]
    }
   ],
   "source": [
    "%load_ext autoreload\n",
    "%autoreload 2\n",
    "\n",
    "import os\n",
    "from processingmm import batch_processing"
   ]
  },
  {
   "cell_type": "code",
   "execution_count": 2,
   "id": "35f24a20",
   "metadata": {},
   "outputs": [],
   "source": [
    "# set the parameters to run the script\n",
    "directories = [r'/media/elea/SSD Éléa/Test_processing']\n",
    "calib_directory = r'/media/elea/SSD Éléa/calib'\n",
    "    \n",
    "# set the parameters to be used for the line visualisation with the parameter parameter_set\n",
    "parameter_set = 'TheoniPics'\n",
    "\n",
    "# set run_all to true in order to run the pipeline on all the folders (even the ones already processed)\n",
    "run_all = False\n",
    "\n",
    "# PDDN_mode can be set to:\n",
    "# 1. 'no': processes without using the PDDN\n",
    "# 2. 'pddn': processes with PDDN when available (for 550nm and 650nm)\n",
    "# 3. 'both': processes with PDDN when available and also without using the PDDN\n",
    "PDDN_mode = 'both'\n",
    "\n",
    "# Set the wavelengths to be processed\n",
    "# 1. 'all': processes all the available wavelenght\n",
    "# 2. [xxx, yyy]: processes only the wavelenghts 'xxx' and 'yyy'\n",
    "wavelengths = [550]\n",
    "\n",
    "# Processing mode\n",
    "# 1. 'full': processes everything (azimuth_noise, all plots and visualization) - 1x speed\n",
    "# 2. 'no_visualization': processes azimuth noise + all plots but no visualization - 1.25x faster\n",
    "# 3. 'fast': processes only the legacy plots (i.e. depolarization, azimuth, retardance and diattenuation) - 3x faster\n",
    "processing_mode = 'no_visualization'\n",
    "\n",
    "# Wether or not time mode (to get the processing times is activated or not)\n",
    "time_mode = True"
   ]
  },
  {
   "cell_type": "code",
   "execution_count": 9,
   "id": "017cdd19",
   "metadata": {},
   "outputs": [
    {
     "name": "stdout",
     "output_type": "stream",
     "text": [
      "1. processing without PDDN...\n"
     ]
    },
    {
     "name": "stderr",
     "output_type": "stream",
     "text": [
      "  0%|                                                     | 0/1 [00:00<?, ?it/s]"
     ]
    },
    {
     "name": "stdout",
     "output_type": "stream",
     "text": [
      "['/media/elea/SSD Éléa/Test_processing/2024-09-26_T_CHB-2_FX_X1_1']\n",
      "./temp_processing/2024-09-26_T_CHB-2_FX_X1_1/polarimetry/550nm ['Depolarization.png', 'Azimuth of optical axis.png', 'Intensity.png', 'Linear retardance.png']\n"
     ]
    },
    {
     "name": "stderr",
     "output_type": "stream",
     "text": [
      "100%|█████████████████████████████████████████████| 1/1 [00:05<00:00,  5.84s/it]\n"
     ]
    },
    {
     "name": "stdout",
     "output_type": "stream",
     "text": [
      "processing without PDDN done.\n",
      "\n",
      "2. processing with PDDN.\n"
     ]
    },
    {
     "name": "stderr",
     "output_type": "stream",
     "text": [
      "0it [00:00, ?it/s]"
     ]
    },
    {
     "name": "stdout",
     "output_type": "stream",
     "text": [
      "processing with PDDN done.\n"
     ]
    },
    {
     "name": "stderr",
     "output_type": "stream",
     "text": [
      "\n"
     ]
    },
    {
     "data": {
      "text/plain": [
       "{'MM_processing': 0.3455212116241455,\n",
       " 'azimuth_std_processing': 0.68141770362854,\n",
       " 'denoising': 0,\n",
       " 'save_npz': 0.10818719863891602,\n",
       " 'full_processing': 1.1579973697662354,\n",
       " 'plotting': 4.426774978637695}"
      ]
     },
     "execution_count": 9,
     "metadata": {},
     "output_type": "execute_result"
    }
   ],
   "source": [
    "times, time_complete = batch_processing.batch_process_master(directories, calib_directory, run_all = run_all, \n",
    "                                parameter_set = parameter_set, PDDN = PDDN_mode, \n",
    "                                wavelengths = wavelengths, processing_mode = processing_mode,\n",
    "                                time_mode = time_mode)\n",
    "times"
   ]
  },
  {
   "cell_type": "code",
   "execution_count": null,
   "id": "b0de552c",
   "metadata": {},
   "outputs": [],
   "source": []
  },
  {
   "cell_type": "code",
   "execution_count": null,
   "id": "39285dbc",
   "metadata": {},
   "outputs": [],
   "source": []
  },
  {
   "cell_type": "code",
   "execution_count": 18,
   "id": "7290a266",
   "metadata": {},
   "outputs": [],
   "source": [
    "PDDN_mode = 'both'\n",
    "run_all = False"
   ]
  },
  {
   "cell_type": "code",
   "execution_count": 22,
   "id": "a9abb508",
   "metadata": {},
   "outputs": [
    {
     "name": "stdout",
     "output_type": "stream",
     "text": [
      "['Z:\\\\DatabaseSeg\\\\DB_upToDate\\\\batch2\\\\71\\\\2022-12-07_T_HORAO-71-BF_FR_S3_1', 'Z:\\\\DatabaseSeg\\\\DB_upToDate\\\\HT\\\\2024-09-18_T_AUTOPSY-BF_FR_S5_1', 'Z:\\\\DatabaseSeg\\\\DB_upToDate\\\\batch2\\\\71\\\\2023-06-08_T_HORAO-71-AF_FR_S3_1', 'Z:\\\\DatabaseSeg\\\\DB_upToDate\\\\batch3\\\\86\\\\2023-02-21_T_HORAO-86-BF_FR_S1_1', 'Z:\\\\DatabaseSeg\\\\DB_upToDate\\\\batch5\\\\100\\\\2023-05-04_T_HORAO-100-BF_FR_S1_1', 'Z:\\\\DatabaseSeg\\\\DB_upToDate\\\\batch5\\\\98\\\\2023-10-19_T_HORAO-98-AF_FR_S3_1', 'Z:\\\\DatabaseSeg\\\\DB_upToDate\\\\batch1\\\\67\\\\2022-11-22_T_HORAO-67-BF_FR_S1_1', 'Z:\\\\DatabaseSeg\\\\DB_upToDate\\\\batch4\\\\95\\\\2023-04-18_T_HORAO-95-BF_FR_S1_1', 'Z:\\\\DatabaseSeg\\\\DB_upToDate\\\\batch3\\\\88\\\\2023-03-09_T_HORAO-88-BF_FR_S1_1', 'Z:\\\\DatabaseSeg\\\\DB_upToDate\\\\batch2\\\\76\\\\2023-03-07_T_HORAO-76-BF_FR_S1_1', 'Z:\\\\DatabaseSeg\\\\DB_upToDate\\\\batch2\\\\76\\\\2023-11-02_T_HORAO-76-AF_FR_S1_1', 'Z:\\\\DatabaseSeg\\\\DB_upToDate\\\\batch3\\\\91\\\\2023-03-22_T_HORAO-91-BF_FR_S2_1', 'Z:\\\\DatabaseSeg\\\\DB_upToDate\\\\batch4\\\\92\\\\2023-11-01_T_HORAO-92-AF_FR_S4_1', 'Z:\\\\DatabaseSeg\\\\DB_upToDate\\\\batch1\\\\42\\\\2022-09-14_T_HORAO-42-BF_FR_S3_1', 'Z:\\\\DatabaseSeg\\\\DB_upToDate\\\\batch3\\\\84\\\\2023-11-02_T_HORAO-84-AF_FR_S1_1', 'Z:\\\\DatabaseSeg\\\\DB_upToDate\\\\batch3\\\\91\\\\2023-03-22_T_HORAO-91-BF_FR_S1_1', 'Z:\\\\DatabaseSeg\\\\DB_upToDate\\\\batch4\\\\93\\\\2023-03-31_T_HORAO-93-AF_FR_S3_1', 'Z:\\\\DatabaseSeg\\\\DB_upToDate\\\\HT\\\\2022-07-07_T_autopsy-cryo-AF_FR_S2_1', 'Z:\\\\DatabaseSeg\\\\DB_upToDate\\\\batch5\\\\104\\\\2023-09-21_T_HORAO-104-AF_FR_S4_1', 'Z:\\\\DatabaseSeg\\\\DB_upToDate\\\\batch2\\\\78\\\\2023-01-05_T_HORAO-78-BF_FR_S6_1', 'Z:\\\\DatabaseSeg\\\\DB_upToDate\\\\batch1\\\\44\\\\2022-09-20_T_HORAO-44-BF_FR_S1_1', 'Z:\\\\DatabaseSeg\\\\DB_upToDate\\\\batch5\\\\104\\\\2023-06-13_T_HORAO-104-BF_FR_S6_1', 'Z:\\\\DatabaseSeg\\\\DB_upToDate\\\\HT\\\\2024-09-18_T_AUTOPSY-BF_FR_S4_1', 'Z:\\\\DatabaseSeg\\\\DB_upToDate\\\\batch1\\\\38\\\\2022-09-01_T_HORAO-38-BF_FR_S1_1', 'Z:\\\\DatabaseSeg\\\\DB_upToDate\\\\batch1\\\\63\\\\2022-11-28_T_HORAO-63-AF_FR_S2_1', 'Z:\\\\DatabaseSeg\\\\DB_upToDate\\\\batch5\\\\104\\\\2023-09-22_T_HORAO-104-AF_FR_S3_1', 'Z:\\\\DatabaseSeg\\\\DB_upToDate\\\\batch1\\\\68\\\\2022-11-22_T_HORAO-68-BF_FR_S1_1', 'Z:\\\\DatabaseSeg\\\\DB_upToDate\\\\batch1\\\\68\\\\2022-11-28_T_HORAO-68-AF_FR_S1_1', 'Z:\\\\DatabaseSeg\\\\DB_upToDate\\\\HT\\\\2022-07-06_T_autopsy-bloc_BF_FR_M3_1', 'Z:\\\\DatabaseSeg\\\\DB_upToDate\\\\batch4\\\\95\\\\2023-05-12_T_HORAO-95-AF_FR_S2_1', 'Z:\\\\DatabaseSeg\\\\DB_upToDate\\\\batch5\\\\99\\\\2023-05-02_T_HORAO-99-BF_FR_S1_1', 'Z:\\\\DatabaseSeg\\\\DB_upToDate\\\\batch5\\\\103\\\\2023-10-23_T_HORAO-103-AF_FR_S1_1', 'Z:\\\\DatabaseSeg\\\\DB_upToDate\\\\batch1\\\\29\\\\2022-08-16_T_HORAO-29-BF_FR_S1_1', 'Z:\\\\DatabaseSeg\\\\DB_upToDate\\\\batch1\\\\55\\\\2022-10-11_T_HORAO-55-BF_FR_S1_1', 'Z:\\\\DatabaseSeg\\\\DB_upToDate\\\\batch4\\\\93\\\\2023-03-31_T_HORAO-93-AF_FR_S1_1', 'Z:\\\\DatabaseSeg\\\\DB_upToDate\\\\batch3\\\\84\\\\2023-02-08_T_HORAO-84-BF_FR_S3_1', 'Z:\\\\DatabaseSeg\\\\DB_upToDate\\\\batch1\\\\37\\\\2022-09-01_T_HORAO-37-BF_FR_S2_1', 'Z:\\\\DatabaseSeg\\\\DB_upToDate\\\\HT\\\\2022-07-07_T_autopsy-cryo-AF_FR_S3_1', 'Z:\\\\DatabaseSeg\\\\DB_upToDate\\\\batch3\\\\84\\\\2023-02-08_T_HORAO-84-BF_FR_S4_1', 'Z:\\\\DatabaseSeg\\\\DB_upToDate\\\\batch1\\\\59\\\\2022-11-02_T_HORAO-59-AF_FR_S1_1', 'Z:\\\\DatabaseSeg\\\\DB_upToDate\\\\batch1\\\\45\\\\2022-09-21_T_HORAO-45-BF_FR_S2_1', 'Z:\\\\DatabaseSeg\\\\DB_upToDate\\\\batch2\\\\73\\\\2023-06-08_T_HORAO-73-AF_FR_S1_1', 'Z:\\\\DatabaseSeg\\\\DB_upToDate\\\\batch2\\\\73\\\\2022-12-13_T_HORAO-73-BF_FR_S1_1', 'Z:\\\\DatabaseSeg\\\\DB_upToDate\\\\batch2\\\\71\\\\2022-12-07_T_HORAO-71-BF_FR_S2_1', 'Z:\\\\DatabaseSeg\\\\DB_upToDate\\\\batch4\\\\94\\\\2023-04-05_T_HORAO-94-BF_FR_S2_1', 'Z:\\\\DatabaseSeg\\\\DB_upToDate\\\\batch2\\\\78\\\\2023-06-08_T_HORAO-78-AF_FR_S7_1', 'Z:\\\\DatabaseSeg\\\\DB_upToDate\\\\batch3\\\\84\\\\2023-02-22_T_HORAO-84-AF_FR_S3_1', 'Z:\\\\DatabaseSeg\\\\DB_upToDate\\\\batch1\\\\39\\\\2022-09-01_T_HORAO-39-BF_FR_S2_1', 'Z:\\\\DatabaseSeg\\\\DB_upToDate\\\\batch1\\\\64\\\\2022-11-08_T_HORAO-64-BF_FR_S1_1', 'Z:\\\\DatabaseSeg\\\\DB_upToDate\\\\batch4\\\\95\\\\2023-04-18_T_HORAO-95-BF_FR_S2_1', 'Z:\\\\DatabaseSeg\\\\DB_upToDate\\\\batch5\\\\107\\\\2023-08-02_T_HORAO-107-BF_FR_S2_1', 'Z:\\\\DatabaseSeg\\\\DB_upToDate\\\\batch5\\\\98\\\\2023-10-19_T_HORAO-98-AF_FR_S2_1', 'Z:\\\\DatabaseSeg\\\\DB_upToDate\\\\batch1\\\\45\\\\2022-09-21_T_HORAO-45-BF_FR_S4_1', 'Z:\\\\DatabaseSeg\\\\DB_upToDate\\\\batch1\\\\59\\\\2022-11-02_T_HORAO-59-AF_FR_S3_1', 'Z:\\\\DatabaseSeg\\\\DB_upToDate\\\\batch2\\\\78\\\\2023-01-05_T_HORAO-78-BF_FR_S4_1', 'Z:\\\\DatabaseSeg\\\\DB_upToDate\\\\batch5\\\\100\\\\2023-05-12_T_HORAO-100-AF_FR_S1_1', 'Z:\\\\DatabaseSeg\\\\DB_upToDate\\\\batch1\\\\45\\\\2022-10-14_T_HORAO-45-AF_FR_S2_1', 'Z:\\\\DatabaseSeg\\\\DB_upToDate\\\\batch5\\\\98\\\\2023-04-27_T_HORAO-98-BF_FR_S2_1', 'Z:\\\\DatabaseSeg\\\\DB_upToDate\\\\batch3\\\\82\\\\2023-02-07_T_HORAO-82-BF_FR_S1_1', 'Z:\\\\DatabaseSeg\\\\DB_upToDate\\\\batch2\\\\78\\\\2023-06-08_T_HORAO-78-AF_FR_S6_1', 'Z:\\\\DatabaseSeg\\\\DB_upToDate\\\\batch1\\\\63\\\\2022-11-08_T_HORAO-63-BF_FR_S1_1', 'Z:\\\\DatabaseSeg\\\\DB_upToDate\\\\batch3\\\\81\\\\2023-01-18_T_HORAO-81-BF_FR_S1_1', 'Z:\\\\DatabaseSeg\\\\DB_upToDate\\\\batch4\\\\94\\\\2023-04-05_T_HORAO-94-BF_FR_S1_1', 'Z:\\\\DatabaseSeg\\\\DB_upToDate\\\\HT\\\\2022-07-07_T_autopsy-cryo-AF_FR_S4_1', 'Z:\\\\DatabaseSeg\\\\DB_upToDate\\\\batch1\\\\59\\\\2022-11-01_T_HORAO-59-BF_FR_S2_1', 'Z:\\\\DatabaseSeg\\\\DB_upToDate\\\\batch5\\\\98\\\\2023-10-19_T_HORAO-98-AF_FR_S1_1', 'Z:\\\\DatabaseSeg\\\\DB_upToDate\\\\batch1\\\\21\\\\2022-06-29_T_HORAO-21-BF_FR_S2_1', 'Z:\\\\DatabaseSeg\\\\DB_upToDate\\\\batch4\\\\93\\\\2023-03-30_T_HORAO-93-BF_FR_S3_1', 'Z:\\\\DatabaseSeg\\\\DB_upToDate\\\\batch5\\\\101\\\\2023-10-23_T_HORAO-101-AF_FR_S2_1', 'Z:\\\\DatabaseSeg\\\\DB_upToDate\\\\batch2\\\\77\\\\2023-06-08_T_HORAO-77-AF_FR_S3_1', 'Z:\\\\DatabaseSeg\\\\DB_upToDate\\\\batch2\\\\78\\\\2023-01-05_T_HORAO-78-BF_FR_S3_1', 'Z:\\\\DatabaseSeg\\\\DB_upToDate\\\\batch1\\\\39\\\\2022-09-14_T_HORAO-39-AF_FR_S1_1', 'Z:\\\\DatabaseSeg\\\\DB_upToDate\\\\batch3\\\\86\\\\2023-02-22_T_HORAO-86-AF_FR_S1_1', 'Z:\\\\DatabaseSeg\\\\DB_upToDate\\\\batch3\\\\87\\\\2023-03-07_T_HORAO-87-BF_FR_S1_1', 'Z:\\\\DatabaseSeg\\\\DB_upToDate\\\\batch5\\\\99\\\\2023-09-22_T_HORAO-99-AF_FR_S1_1', 'Z:\\\\DatabaseSeg\\\\DB_upToDate\\\\batch5\\\\101\\\\2023-10-23_T_HORAO-101-AF_FR_S1_1', 'Z:\\\\DatabaseSeg\\\\DB_upToDate\\\\batch3\\\\84\\\\2023-02-23_T_HORAO-84-AF_FR_S4_1', 'Z:\\\\DatabaseSeg\\\\DB_upToDate\\\\batch3\\\\88\\\\2023-11-01_T_HORAO-88-AF_FR_S1_1', 'Z:\\\\DatabaseSeg\\\\DB_upToDate\\\\HT\\\\2024-09-18_T_AUTOPSY-BF_FR_S7_1', 'Z:\\\\DatabaseSeg\\\\DB_upToDate\\\\batch5\\\\104\\\\2023-06-13_T_HORAO-104-BF_FR_S3_1', 'Z:\\\\DatabaseSeg\\\\DB_upToDate\\\\batch3\\\\82\\\\2023-10-23_T_HORAO-82-AF_FR_S1_1', 'Z:\\\\DatabaseSeg\\\\DB_upToDate\\\\batch3\\\\84\\\\2023-09-22_T_HORAO-84-AF_FR_S2_1', 'Z:\\\\DatabaseSeg\\\\DB_upToDate\\\\batch5\\\\104\\\\2023-09-21_T_HORAO-104-AF_FR_S5_1', 'Z:\\\\DatabaseSeg\\\\DB_upToDate\\\\batch5\\\\98\\\\2023-04-27_T_HORAO-98-BF_FR_S1_1', 'Z:\\\\DatabaseSeg\\\\DB_upToDate\\\\batch2\\\\77\\\\2023-06-08_T_HORAO-77-AF_FR_S2_1', 'Z:\\\\DatabaseSeg\\\\DB_upToDate\\\\batch3\\\\80\\\\2023-10-23_T_HORAO-80-AF_FR_S1_1', 'Z:\\\\DatabaseSeg\\\\DB_upToDate\\\\batch2\\\\107\\\\2023-09-21_T_HORAO-107-AF_FR_S5_1', 'Z:\\\\DatabaseSeg\\\\DB_upToDate\\\\batch5\\\\104\\\\2023-09-21_T_HORAO-104-AF_FR_S6_1', 'Z:\\\\DatabaseSeg\\\\DB_upToDate\\\\batch1\\\\47\\\\2022-09-27_T_HORAO-47-BF_FR_S1_1', 'Z:\\\\DatabaseSeg\\\\DB_upToDate\\\\batch5\\\\105\\\\2023-09-21_T_HORAO-105-AF_FR_S1_1', 'Z:\\\\DatabaseSeg\\\\DB_upToDate\\\\batch1\\\\45\\\\2022-09-21_T_HORAO-45-BF_FR_S1_1', 'Z:\\\\DatabaseSeg\\\\DB_upToDate\\\\HT\\\\2022-07-06_T_autopsy-cryo-BF_FR_S2_1', 'Z:\\\\DatabaseSeg\\\\DB_upToDate\\\\batch2\\\\77\\\\2023-06-08_T_HORAO-77-AF_FR_S1_1', 'Z:\\\\DatabaseSeg\\\\DB_upToDate\\\\batch4\\\\92\\\\2023-03-23_T_HORAO-92-BF_FR_S4_1', 'Z:\\\\DatabaseSeg\\\\DB_upToDate\\\\batch3\\\\87\\\\2023-10-23_T_HORAO-87-AF_FR_S1_1', 'Z:\\\\DatabaseSeg\\\\DB_upToDate\\\\batch1\\\\42\\\\2022-10-25_T_HORAO-42-AF_FR_S3_1', 'Z:\\\\DatabaseSeg\\\\DB_upToDate\\\\batch1\\\\45\\\\2022-12-01_T_HORAO-45-AF_FR_S1_1', 'Z:\\\\DatabaseSeg\\\\DB_upToDate\\\\batch2\\\\107\\\\2023-11-01_T_HORAO-107-AF_FR_S6_1', 'Z:\\\\DatabaseSeg\\\\DB_upToDate\\\\batch2\\\\78\\\\2023-10-23_T_HORAO-78-AF_FR_S4_1', 'Z:\\\\DatabaseSeg\\\\DB_upToDate\\\\batch1\\\\67\\\\2022-11-28_T_HORAO-67-AF_FR_S1_1', 'Z:\\\\DatabaseSeg\\\\DB_upToDate\\\\batch2\\\\78\\\\2023-02-22_T_HORAO-78-AF_FR_S2_1', 'Z:\\\\DatabaseSeg\\\\DB_upToDate\\\\batch2\\\\78\\\\2023-02-22_T_HORAO-78-AF_FR_S1_1', 'Z:\\\\DatabaseSeg\\\\DB_upToDate\\\\batch3\\\\84\\\\2023-02-08_T_HORAO-84-BF_FR_S2_1', 'Z:\\\\DatabaseSeg\\\\DB_upToDate\\\\batch1\\\\63\\\\2022-11-28_T_HORAO-63-AF_FR_S3_1', 'Z:\\\\DatabaseSeg\\\\DB_upToDate\\\\batch4\\\\93\\\\2023-03-30_T_HORAO-93-BF_FR_S1_1', 'Z:\\\\DatabaseSeg\\\\DB_upToDate\\\\batch1\\\\45\\\\2022-09-21_T_HORAO-45-BF_FR_S3_1', 'Z:\\\\DatabaseSeg\\\\DB_upToDate\\\\batch1\\\\45\\\\2022-10-14_T_HORAO-45-AF_FR_S3_1', 'Z:\\\\DatabaseSeg\\\\DB_upToDate\\\\batch1\\\\68\\\\2022-11-29_T_HORAO-68-AF_FR_S2_1', 'Z:\\\\DatabaseSeg\\\\DB_upToDate\\\\batch1\\\\21\\\\2022-06-29_T_HORAO-21-AF_FR_S2_1', 'Z:\\\\DatabaseSeg\\\\DB_upToDate\\\\batch2\\\\77\\\\2023-01-04_T_HORAO-77-BF_FR_S3_1', 'Z:\\\\DatabaseSeg\\\\DB_upToDate\\\\batch1\\\\63\\\\2022-11-08_T_HORAO-63-BF_FR_S2_1', 'Z:\\\\DatabaseSeg\\\\DB_upToDate\\\\batch2\\\\90\\\\2023-03-14_T_HORAO-90-BF_FR_S2_1', 'Z:\\\\DatabaseSeg\\\\DB_upToDate\\\\batch1\\\\63\\\\2022-11-28_T_HORAO-63-AF_FR_S1_1', 'Z:\\\\DatabaseSeg\\\\DB_upToDate\\\\batch2\\\\107\\\\2023-08-02_T_HORAO-107-BF_FR_S6_1', 'Z:\\\\DatabaseSeg\\\\DB_upToDate\\\\batch4\\\\95\\\\2023-05-12_T_HORAO-95-AF_FR_S1_1', 'Z:\\\\DatabaseSeg\\\\DB_upToDate\\\\HT\\\\2022-07-06_T_autopsy-cryo-BF_FR_S1_1', 'Z:\\\\DatabaseSeg\\\\DB_upToDate\\\\batch5\\\\103\\\\2023-05-26_T_HORAO-103-BF_FR_S1_1', 'Z:\\\\DatabaseSeg\\\\DB_upToDate\\\\batch5\\\\105\\\\2023-06-20_T_HORAO-105-BF_FR_S1_1', 'Z:\\\\DatabaseSeg\\\\DB_upToDate\\\\batch5\\\\104\\\\2023-06-13_T_HORAO-104-BF_FR_S5_1', 'Z:\\\\DatabaseSeg\\\\DB_upToDate\\\\batch1\\\\37\\\\2022-09-14_T_HORAO-37-AF_FR_S1_1', 'Z:\\\\DatabaseSeg\\\\DB_upToDate\\\\HT\\\\2024-09-18_T_AUTOPSY-BF_FR_S3_1', 'Z:\\\\DatabaseSeg\\\\DB_upToDate\\\\batch3\\\\80\\\\2023-01-18_T_HORAO-80-BF_FR_S1_1', 'Z:\\\\DatabaseSeg\\\\DB_upToDate\\\\batch1\\\\44\\\\2022-09-27_T_HORAO-44-AF_FR_S1_1', 'Z:\\\\DatabaseSeg\\\\DB_upToDate\\\\batch5\\\\104\\\\2023-06-13_T_HORAO-104-BF_FR_S2_1', 'Z:\\\\DatabaseSeg\\\\DB_upToDate\\\\batch5\\\\104\\\\2023-09-21_T_HORAO-104-AF_FR_S2_1', 'Z:\\\\DatabaseSeg\\\\DB_upToDate\\\\batch3\\\\85\\\\2023-02-14_T_HORAO-85-BF_FR_S1_1', 'Z:\\\\DatabaseSeg\\\\DB_upToDate\\\\batch1\\\\68\\\\2022-11-22_T_HORAO-68-BF_FR_S2_1', 'Z:\\\\DatabaseSeg\\\\DB_upToDate\\\\batch4\\\\93\\\\2023-03-31_T_HORAO-93-AF_FR_S2_1', 'Z:\\\\DatabaseSeg\\\\DB_upToDate\\\\batch5\\\\107\\\\2023-10-19_T_HORAO-107-AF_FR_S2_1', 'Z:\\\\DatabaseSeg\\\\DB_upToDate\\\\batch1\\\\64\\\\2022-12-06_T_HORAO-64-AF_FR_S1_1', 'Z:\\\\DatabaseSeg\\\\DB_upToDate\\\\batch5\\\\101\\\\2023-05-16_T_HORAO-101-BF_FR_S1_1', 'Z:\\\\DatabaseSeg\\\\DB_upToDate\\\\batch3\\\\84\\\\2023-02-08_T_HORAO-84-BF_FR_S1_1', 'Z:\\\\DatabaseSeg\\\\DB_upToDate\\\\batch2\\\\78\\\\2023-01-05_T_HORAO-78-BF_FR_S1_1', 'Z:\\\\DatabaseSeg\\\\DB_upToDate\\\\batch1\\\\45\\\\2022-12-01_T_HORAO-45-AF_FR_S4_1', 'Z:\\\\DatabaseSeg\\\\DB_upToDate\\\\batch4\\\\94\\\\2023-06-07_T_HORAO-94-AF_FR_S2_1', 'Z:\\\\DatabaseSeg\\\\DB_upToDate\\\\batch1\\\\39\\\\2022-09-14_T_HORAO-39-AF_FR_S2_1', 'Z:\\\\DatabaseSeg\\\\DB_upToDate\\\\batch2\\\\90\\\\2023-09-22_T_HORAO-90-AF_FR_S2_1', 'Z:\\\\DatabaseSeg\\\\DB_upToDate\\\\batch3\\\\91\\\\2023-05-12_T_HORAO-91-AF_FR_S2_1', 'Z:\\\\DatabaseSeg\\\\DB_upToDate\\\\batch1\\\\55\\\\2022-12-01_T_HORAO-55-AF_FR_S1_1', 'Z:\\\\DatabaseSeg\\\\DB_upToDate\\\\batch2\\\\71\\\\2023-06-08_T_HORAO-71-AF_FR_S2_1', 'Z:\\\\DatabaseSeg\\\\DB_upToDate\\\\HT\\\\2022-07-06_T_autopsy-bloc-ffpe_BF_FR_M_1', 'Z:\\\\DatabaseSeg\\\\DB_upToDate\\\\batch5\\\\98\\\\2023-04-27_T_HORAO-98-BF_FR_S3_1', 'Z:\\\\DatabaseSeg\\\\DB_upToDate\\\\batch1\\\\37\\\\2022-09-01_T_HORAO-37-BF_FR_S1_1', 'Z:\\\\DatabaseSeg\\\\DB_upToDate\\\\batch1\\\\59\\\\2022-11-02_T_HORAO-59-AF_FR_S2_1', 'Z:\\\\DatabaseSeg\\\\DB_upToDate\\\\HT\\\\2022-07-06_T_autopsy-bloc_BF_FR_M1_1', 'Z:\\\\DatabaseSeg\\\\DB_upToDate\\\\batch5\\\\106\\\\2023-09-21_T_HORAO-106-AF_FR_S1_1', 'Z:\\\\DatabaseSeg\\\\DB_upToDate\\\\batch5\\\\107\\\\2023-08-02_T_HORAO-107-BF_FR_S3_1', 'Z:\\\\DatabaseSeg\\\\DB_upToDate\\\\batch3\\\\91\\\\2023-10-23_T_HORAO-91-AF_FR_S1_1', 'Z:\\\\DatabaseSeg\\\\DB_upToDate\\\\batch2\\\\77\\\\2023-01-04_T_HORAO-77-BF_FR_S2_1', 'Z:\\\\DatabaseSeg\\\\DB_upToDate\\\\batch2\\\\77\\\\2023-01-04_T_HORAO-77-BF_FR_S1_1', 'Z:\\\\DatabaseSeg\\\\DB_upToDate\\\\batch1\\\\53\\\\2022-12-01_T_HORAO-53-AF_FR_S1_1', 'Z:\\\\DatabaseSeg\\\\DB_upToDate\\\\batch1\\\\38\\\\2022-09-14_T_HORAO-38-AF_FR_S1_1', 'Z:\\\\DatabaseSeg\\\\DB_upToDate\\\\batch5\\\\107\\\\2023-10-19_T_HORAO-107-AF_FR_S3_1', 'Z:\\\\DatabaseSeg\\\\DB_upToDate\\\\batch2\\\\107\\\\2023-08-02_T_HORAO-107-BF_FR_S5_1', 'Z:\\\\DatabaseSeg\\\\DB_upToDate\\\\batch4\\\\93\\\\2023-03-30_T_HORAO-93-BF_FR_S2_1', 'Z:\\\\DatabaseSeg\\\\DB_upToDate\\\\batch2\\\\78\\\\2023-01-05_T_HORAO-78-BF_FR_S2_1', 'Z:\\\\DatabaseSeg\\\\DB_upToDate\\\\batch5\\\\106\\\\2023-07-25_T_HORAO-106-BF_FR_S1_1', 'Z:\\\\DatabaseSeg\\\\DB_upToDate\\\\batch5\\\\100\\\\2023-06-07_T_HORAO-100-AF_FR_S2_1']\n"
     ]
    },
    {
     "name": "stderr",
     "output_type": "stream",
     "text": [
      "\r",
      "  0%|                                                                                          | 0/158 [00:00<?, ?it/s]"
     ]
    },
    {
     "name": "stdout",
     "output_type": "stream",
     "text": [
      "['Z:\\\\DatabaseSeg\\\\DB_upToDate\\\\batch2\\\\71\\\\2022-12-07_T_HORAO-71-BF_FR_S3_1\\\\raw_data\\\\600nm\\\\600_Intensite_PDDN_aligned.cod', 'Z:\\\\DatabaseSeg\\\\DB_upToDate\\\\batch2\\\\71\\\\2022-12-07_T_HORAO-71-BF_FR_S3_1\\\\raw_data\\\\600nm\\\\600_Intensite_aligned.cod']\n",
      "['Z:\\\\DatabaseSeg\\\\DB_upToDate\\\\HT\\\\2024-09-18_T_AUTOPSY-BF_FR_S5_1\\\\raw_data\\\\600nm\\\\600_Intensite_PDDN_aligned.cod', 'Z:\\\\DatabaseSeg\\\\DB_upToDate\\\\HT\\\\2024-09-18_T_AUTOPSY-BF_FR_S5_1\\\\raw_data\\\\600nm\\\\600_Intensite_aligned.cod']\n",
      "['Z:\\\\DatabaseSeg\\\\DB_upToDate\\\\batch2\\\\71\\\\2023-06-08_T_HORAO-71-AF_FR_S3_1\\\\raw_data\\\\600nm\\\\600_Intensite_PDDN_aligned.cod', 'Z:\\\\DatabaseSeg\\\\DB_upToDate\\\\batch2\\\\71\\\\2023-06-08_T_HORAO-71-AF_FR_S3_1\\\\raw_data\\\\600nm\\\\600_Intensite_aligned.cod']\n",
      "['Z:\\\\DatabaseSeg\\\\DB_upToDate\\\\batch3\\\\86\\\\2023-02-21_T_HORAO-86-BF_FR_S1_1\\\\raw_data\\\\600nm\\\\600_Intensite_PDDN_aligned.cod', 'Z:\\\\DatabaseSeg\\\\DB_upToDate\\\\batch3\\\\86\\\\2023-02-21_T_HORAO-86-BF_FR_S1_1\\\\raw_data\\\\600nm\\\\600_Intensite_aligned.cod']\n",
      "['Z:\\\\DatabaseSeg\\\\DB_upToDate\\\\batch5\\\\100\\\\2023-05-04_T_HORAO-100-BF_FR_S1_1\\\\raw_data\\\\600nm\\\\600_Intensite_PDDN_aligned.cod', 'Z:\\\\DatabaseSeg\\\\DB_upToDate\\\\batch5\\\\100\\\\2023-05-04_T_HORAO-100-BF_FR_S1_1\\\\raw_data\\\\600nm\\\\600_Intensite_aligned.cod']\n",
      "['Z:\\\\DatabaseSeg\\\\DB_upToDate\\\\batch5\\\\98\\\\2023-10-19_T_HORAO-98-AF_FR_S3_1\\\\raw_data\\\\600nm\\\\600_Intensite_PDDN_aligned.cod', 'Z:\\\\DatabaseSeg\\\\DB_upToDate\\\\batch5\\\\98\\\\2023-10-19_T_HORAO-98-AF_FR_S3_1\\\\raw_data\\\\600nm\\\\600_Intensite_aligned.cod']\n",
      "['Z:\\\\DatabaseSeg\\\\DB_upToDate\\\\batch1\\\\67\\\\2022-11-22_T_HORAO-67-BF_FR_S1_1\\\\raw_data\\\\600nm\\\\600_Intensite_PDDN_aligned.cod', 'Z:\\\\DatabaseSeg\\\\DB_upToDate\\\\batch1\\\\67\\\\2022-11-22_T_HORAO-67-BF_FR_S1_1\\\\raw_data\\\\600nm\\\\600_Intensite_aligned.cod']\n",
      "['Z:\\\\DatabaseSeg\\\\DB_upToDate\\\\batch4\\\\95\\\\2023-04-18_T_HORAO-95-BF_FR_S1_1\\\\raw_data\\\\600nm\\\\600_Intensite_PDDN_aligned.cod', 'Z:\\\\DatabaseSeg\\\\DB_upToDate\\\\batch4\\\\95\\\\2023-04-18_T_HORAO-95-BF_FR_S1_1\\\\raw_data\\\\600nm\\\\600_Intensite_aligned.cod']\n",
      "['Z:\\\\DatabaseSeg\\\\DB_upToDate\\\\batch3\\\\88\\\\2023-03-09_T_HORAO-88-BF_FR_S1_1\\\\raw_data\\\\600nm\\\\600_Intensite_PDDN_aligned.cod', 'Z:\\\\DatabaseSeg\\\\DB_upToDate\\\\batch3\\\\88\\\\2023-03-09_T_HORAO-88-BF_FR_S1_1\\\\raw_data\\\\600nm\\\\600_Intensite_aligned.cod']\n",
      "['Z:\\\\DatabaseSeg\\\\DB_upToDate\\\\batch2\\\\76\\\\2023-03-07_T_HORAO-76-BF_FR_S1_1\\\\raw_data\\\\600nm\\\\600_Intensite_PDDN_aligned.cod', 'Z:\\\\DatabaseSeg\\\\DB_upToDate\\\\batch2\\\\76\\\\2023-03-07_T_HORAO-76-BF_FR_S1_1\\\\raw_data\\\\600nm\\\\600_Intensite_aligned.cod']\n",
      "['Z:\\\\DatabaseSeg\\\\DB_upToDate\\\\batch2\\\\76\\\\2023-11-02_T_HORAO-76-AF_FR_S1_1\\\\raw_data\\\\600nm\\\\600_Intensite_PDDN_aligned.cod', 'Z:\\\\DatabaseSeg\\\\DB_upToDate\\\\batch2\\\\76\\\\2023-11-02_T_HORAO-76-AF_FR_S1_1\\\\raw_data\\\\600nm\\\\600_Intensite_aligned.cod']\n",
      "['Z:\\\\DatabaseSeg\\\\DB_upToDate\\\\batch3\\\\91\\\\2023-03-22_T_HORAO-91-BF_FR_S2_1\\\\raw_data\\\\600nm\\\\600_Intensite_PDDN_aligned.cod', 'Z:\\\\DatabaseSeg\\\\DB_upToDate\\\\batch3\\\\91\\\\2023-03-22_T_HORAO-91-BF_FR_S2_1\\\\raw_data\\\\600nm\\\\600_Intensite_aligned.cod']\n",
      "['Z:\\\\DatabaseSeg\\\\DB_upToDate\\\\batch4\\\\92\\\\2023-11-01_T_HORAO-92-AF_FR_S4_1\\\\raw_data\\\\600nm\\\\600_Intensite_PDDN_aligned.cod', 'Z:\\\\DatabaseSeg\\\\DB_upToDate\\\\batch4\\\\92\\\\2023-11-01_T_HORAO-92-AF_FR_S4_1\\\\raw_data\\\\600nm\\\\600_Intensite_aligned.cod']\n",
      "['Z:\\\\DatabaseSeg\\\\DB_upToDate\\\\batch1\\\\42\\\\2022-09-14_T_HORAO-42-BF_FR_S3_1\\\\raw_data\\\\600nm\\\\600_Intensite_PDDN_aligned.cod', 'Z:\\\\DatabaseSeg\\\\DB_upToDate\\\\batch1\\\\42\\\\2022-09-14_T_HORAO-42-BF_FR_S3_1\\\\raw_data\\\\600nm\\\\600_Intensite_aligned.cod']\n",
      "['Z:\\\\DatabaseSeg\\\\DB_upToDate\\\\batch3\\\\84\\\\2023-11-02_T_HORAO-84-AF_FR_S1_1\\\\raw_data\\\\600nm\\\\600_Intensite_PDDN_aligned.cod', 'Z:\\\\DatabaseSeg\\\\DB_upToDate\\\\batch3\\\\84\\\\2023-11-02_T_HORAO-84-AF_FR_S1_1\\\\raw_data\\\\600nm\\\\600_Intensite_aligned.cod']\n",
      " \n",
      " >> Exported X3D .cod file as: Z:\\DatabaseSeg\\DB_upToDate\\batch3\\84\\2023-11-02_T_HORAO-84-AF_FR_S1_1\\raw_data\\600nm\\600_Intensite_PDDN_aligned.cod\n",
      " \n",
      " >> Exported X3D .cod file as: Z:\\DatabaseSeg\\DB_upToDate\\batch3\\84\\2023-11-02_T_HORAO-84-AF_FR_S1_1\\raw_data\\600nm\\600_Intensite_aligned.cod\n"
     ]
    },
    {
     "name": "stderr",
     "output_type": "stream",
     "text": [
      "\r",
      "  9%|███████▋                                                                         | 15/158 [00:30<04:51,  2.04s/it]"
     ]
    },
    {
     "name": "stdout",
     "output_type": "stream",
     "text": [
      "['Z:\\\\DatabaseSeg\\\\DB_upToDate\\\\batch3\\\\91\\\\2023-03-22_T_HORAO-91-BF_FR_S1_1\\\\raw_data\\\\600nm\\\\600_Intensite_PDDN_aligned.cod', 'Z:\\\\DatabaseSeg\\\\DB_upToDate\\\\batch3\\\\91\\\\2023-03-22_T_HORAO-91-BF_FR_S1_1\\\\raw_data\\\\600nm\\\\600_Intensite_aligned.cod']\n",
      " \n",
      " >> Exported X3D .cod file as: Z:\\DatabaseSeg\\DB_upToDate\\batch3\\91\\2023-03-22_T_HORAO-91-BF_FR_S1_1\\raw_data\\600nm\\600_Intensite_PDDN_aligned.cod\n",
      " \n",
      " >> Exported X3D .cod file as: Z:\\DatabaseSeg\\DB_upToDate\\batch3\\91\\2023-03-22_T_HORAO-91-BF_FR_S1_1\\raw_data\\600nm\\600_Intensite_aligned.cod\n"
     ]
    },
    {
     "name": "stderr",
     "output_type": "stream",
     "text": [
      "\r",
      " 10%|████████▏                                                                        | 16/158 [00:57<09:57,  4.21s/it]"
     ]
    },
    {
     "name": "stdout",
     "output_type": "stream",
     "text": [
      "['Z:\\\\DatabaseSeg\\\\DB_upToDate\\\\batch4\\\\93\\\\2023-03-31_T_HORAO-93-AF_FR_S3_1\\\\raw_data\\\\600nm\\\\600_Intensite_PDDN_aligned.cod', 'Z:\\\\DatabaseSeg\\\\DB_upToDate\\\\batch4\\\\93\\\\2023-03-31_T_HORAO-93-AF_FR_S3_1\\\\raw_data\\\\600nm\\\\600_Intensite_aligned.cod']\n",
      " \n",
      " >> Exported X3D .cod file as: Z:\\DatabaseSeg\\DB_upToDate\\batch4\\93\\2023-03-31_T_HORAO-93-AF_FR_S3_1\\raw_data\\600nm\\600_Intensite_PDDN_aligned.cod\n",
      " \n",
      " >> Exported X3D .cod file as: Z:\\DatabaseSeg\\DB_upToDate\\batch4\\93\\2023-03-31_T_HORAO-93-AF_FR_S3_1\\raw_data\\600nm\\600_Intensite_aligned.cod\n"
     ]
    },
    {
     "name": "stderr",
     "output_type": "stream",
     "text": [
      "\r",
      " 11%|████████▋                                                                        | 17/158 [01:22<15:15,  6.49s/it]"
     ]
    },
    {
     "name": "stdout",
     "output_type": "stream",
     "text": [
      "['Z:\\\\DatabaseSeg\\\\DB_upToDate\\\\HT\\\\2022-07-07_T_autopsy-cryo-AF_FR_S2_1\\\\raw_data\\\\600nm\\\\600_Intensite_PDDN_aligned.cod', 'Z:\\\\DatabaseSeg\\\\DB_upToDate\\\\HT\\\\2022-07-07_T_autopsy-cryo-AF_FR_S2_1\\\\raw_data\\\\600nm\\\\600_Intensite_aligned.cod']\n",
      "['Z:\\\\DatabaseSeg\\\\DB_upToDate\\\\batch5\\\\104\\\\2023-09-21_T_HORAO-104-AF_FR_S4_1\\\\raw_data\\\\600nm\\\\600_Intensite_PDDN_aligned.cod', 'Z:\\\\DatabaseSeg\\\\DB_upToDate\\\\batch5\\\\104\\\\2023-09-21_T_HORAO-104-AF_FR_S4_1\\\\raw_data\\\\600nm\\\\600_Intensite_aligned.cod']\n",
      " \n",
      " >> Exported X3D .cod file as: Z:\\DatabaseSeg\\DB_upToDate\\batch5\\104\\2023-09-21_T_HORAO-104-AF_FR_S4_1\\raw_data\\600nm\\600_Intensite_PDDN_aligned.cod\n",
      " \n",
      " >> Exported X3D .cod file as: Z:\\DatabaseSeg\\DB_upToDate\\batch5\\104\\2023-09-21_T_HORAO-104-AF_FR_S4_1\\raw_data\\600nm\\600_Intensite_aligned.cod\n"
     ]
    },
    {
     "name": "stderr",
     "output_type": "stream",
     "text": [
      "\r",
      " 12%|█████████▋                                                                       | 19/158 [01:46<18:05,  7.81s/it]"
     ]
    },
    {
     "name": "stdout",
     "output_type": "stream",
     "text": [
      "['Z:\\\\DatabaseSeg\\\\DB_upToDate\\\\batch2\\\\78\\\\2023-01-05_T_HORAO-78-BF_FR_S6_1\\\\raw_data\\\\600nm\\\\600_Intensite_PDDN_aligned.cod', 'Z:\\\\DatabaseSeg\\\\DB_upToDate\\\\batch2\\\\78\\\\2023-01-05_T_HORAO-78-BF_FR_S6_1\\\\raw_data\\\\600nm\\\\600_Intensite_aligned.cod']\n",
      " \n",
      " >> Exported X3D .cod file as: Z:\\DatabaseSeg\\DB_upToDate\\batch2\\78\\2023-01-05_T_HORAO-78-BF_FR_S6_1\\raw_data\\600nm\\600_Intensite_PDDN_aligned.cod\n",
      " \n",
      " >> Exported X3D .cod file as: Z:\\DatabaseSeg\\DB_upToDate\\batch2\\78\\2023-01-05_T_HORAO-78-BF_FR_S6_1\\raw_data\\600nm\\600_Intensite_aligned.cod\n"
     ]
    },
    {
     "name": "stderr",
     "output_type": "stream",
     "text": [
      "\r",
      " 13%|██████████▎                                                                      | 20/158 [02:10<23:27, 10.20s/it]"
     ]
    },
    {
     "name": "stdout",
     "output_type": "stream",
     "text": [
      "['Z:\\\\DatabaseSeg\\\\DB_upToDate\\\\batch1\\\\44\\\\2022-09-20_T_HORAO-44-BF_FR_S1_1\\\\raw_data\\\\600nm\\\\600_Intensite_PDDN_aligned.cod', 'Z:\\\\DatabaseSeg\\\\DB_upToDate\\\\batch1\\\\44\\\\2022-09-20_T_HORAO-44-BF_FR_S1_1\\\\raw_data\\\\600nm\\\\600_Intensite_aligned.cod']\n",
      "['Z:\\\\DatabaseSeg\\\\DB_upToDate\\\\batch5\\\\104\\\\2023-06-13_T_HORAO-104-BF_FR_S6_1\\\\raw_data\\\\600nm\\\\600_Intensite_PDDN_aligned.cod', 'Z:\\\\DatabaseSeg\\\\DB_upToDate\\\\batch5\\\\104\\\\2023-06-13_T_HORAO-104-BF_FR_S6_1\\\\raw_data\\\\600nm\\\\600_Intensite_aligned.cod']\n",
      " \n",
      " >> Exported X3D .cod file as: Z:\\DatabaseSeg\\DB_upToDate\\batch5\\104\\2023-06-13_T_HORAO-104-BF_FR_S6_1\\raw_data\\600nm\\600_Intensite_PDDN_aligned.cod\n",
      " \n",
      " >> Exported X3D .cod file as: Z:\\DatabaseSeg\\DB_upToDate\\batch5\\104\\2023-06-13_T_HORAO-104-BF_FR_S6_1\\raw_data\\600nm\\600_Intensite_aligned.cod\n"
     ]
    },
    {
     "name": "stderr",
     "output_type": "stream",
     "text": [
      "\r",
      " 14%|███████████▎                                                                     | 22/158 [02:34<24:21, 10.75s/it]"
     ]
    },
    {
     "name": "stdout",
     "output_type": "stream",
     "text": [
      "['Z:\\\\DatabaseSeg\\\\DB_upToDate\\\\HT\\\\2024-09-18_T_AUTOPSY-BF_FR_S4_1\\\\raw_data\\\\600nm\\\\600_Intensite_PDDN_aligned.cod', 'Z:\\\\DatabaseSeg\\\\DB_upToDate\\\\HT\\\\2024-09-18_T_AUTOPSY-BF_FR_S4_1\\\\raw_data\\\\600nm\\\\600_Intensite_aligned.cod']\n",
      "['Z:\\\\DatabaseSeg\\\\DB_upToDate\\\\batch1\\\\38\\\\2022-09-01_T_HORAO-38-BF_FR_S1_1\\\\raw_data\\\\600nm\\\\600_Intensite_PDDN_aligned.cod', 'Z:\\\\DatabaseSeg\\\\DB_upToDate\\\\batch1\\\\38\\\\2022-09-01_T_HORAO-38-BF_FR_S1_1\\\\raw_data\\\\600nm\\\\600_Intensite_aligned.cod']\n",
      "['Z:\\\\DatabaseSeg\\\\DB_upToDate\\\\batch1\\\\63\\\\2022-11-28_T_HORAO-63-AF_FR_S2_1\\\\raw_data\\\\600nm\\\\600_Intensite_PDDN_aligned.cod', 'Z:\\\\DatabaseSeg\\\\DB_upToDate\\\\batch1\\\\63\\\\2022-11-28_T_HORAO-63-AF_FR_S2_1\\\\raw_data\\\\600nm\\\\600_Intensite_aligned.cod']\n",
      " \n",
      " >> Exported X3D .cod file as: Z:\\DatabaseSeg\\DB_upToDate\\batch1\\63\\2022-11-28_T_HORAO-63-AF_FR_S2_1\\raw_data\\600nm\\600_Intensite_PDDN_aligned.cod\n",
      " \n",
      " >> Exported X3D .cod file as: Z:\\DatabaseSeg\\DB_upToDate\\batch1\\63\\2022-11-28_T_HORAO-63-AF_FR_S2_1\\raw_data\\600nm\\600_Intensite_aligned.cod\n"
     ]
    },
    {
     "name": "stderr",
     "output_type": "stream",
     "text": [
      "\r",
      " 16%|████████████▊                                                                    | 25/158 [02:59<21:40,  9.78s/it]"
     ]
    },
    {
     "name": "stdout",
     "output_type": "stream",
     "text": [
      "['Z:\\\\DatabaseSeg\\\\DB_upToDate\\\\batch5\\\\104\\\\2023-09-22_T_HORAO-104-AF_FR_S3_1\\\\raw_data\\\\600nm\\\\600_Intensite_PDDN_aligned.cod', 'Z:\\\\DatabaseSeg\\\\DB_upToDate\\\\batch5\\\\104\\\\2023-09-22_T_HORAO-104-AF_FR_S3_1\\\\raw_data\\\\600nm\\\\600_Intensite_aligned.cod']\n",
      " \n",
      " >> Exported X3D .cod file as: Z:\\DatabaseSeg\\DB_upToDate\\batch5\\104\\2023-09-22_T_HORAO-104-AF_FR_S3_1\\raw_data\\600nm\\600_Intensite_PDDN_aligned.cod\n",
      " \n",
      " >> Exported X3D .cod file as: Z:\\DatabaseSeg\\DB_upToDate\\batch5\\104\\2023-09-22_T_HORAO-104-AF_FR_S3_1\\raw_data\\600nm\\600_Intensite_aligned.cod\n"
     ]
    },
    {
     "name": "stderr",
     "output_type": "stream",
     "text": [
      "\r",
      " 16%|█████████████▎                                                                   | 26/158 [03:24<26:43, 12.15s/it]"
     ]
    },
    {
     "name": "stdout",
     "output_type": "stream",
     "text": [
      "['Z:\\\\DatabaseSeg\\\\DB_upToDate\\\\batch1\\\\68\\\\2022-11-22_T_HORAO-68-BF_FR_S1_1\\\\raw_data\\\\600nm\\\\600_Intensite_PDDN_aligned.cod', 'Z:\\\\DatabaseSeg\\\\DB_upToDate\\\\batch1\\\\68\\\\2022-11-22_T_HORAO-68-BF_FR_S1_1\\\\raw_data\\\\600nm\\\\600_Intensite_aligned.cod']\n",
      " \n",
      " >> Exported X3D .cod file as: Z:\\DatabaseSeg\\DB_upToDate\\batch1\\68\\2022-11-22_T_HORAO-68-BF_FR_S1_1\\raw_data\\600nm\\600_Intensite_PDDN_aligned.cod\n",
      " \n",
      " >> Exported X3D .cod file as: Z:\\DatabaseSeg\\DB_upToDate\\batch1\\68\\2022-11-22_T_HORAO-68-BF_FR_S1_1\\raw_data\\600nm\\600_Intensite_aligned.cod\n"
     ]
    },
    {
     "name": "stderr",
     "output_type": "stream",
     "text": [
      "\r",
      " 17%|█████████████▊                                                                   | 27/158 [03:46<30:25, 13.93s/it]"
     ]
    },
    {
     "name": "stdout",
     "output_type": "stream",
     "text": [
      "['Z:\\\\DatabaseSeg\\\\DB_upToDate\\\\batch1\\\\68\\\\2022-11-28_T_HORAO-68-AF_FR_S1_1\\\\raw_data\\\\600nm\\\\600_Intensite_PDDN_aligned.cod', 'Z:\\\\DatabaseSeg\\\\DB_upToDate\\\\batch1\\\\68\\\\2022-11-28_T_HORAO-68-AF_FR_S1_1\\\\raw_data\\\\600nm\\\\600_Intensite_aligned.cod']\n",
      " \n",
      " >> Exported X3D .cod file as: Z:\\DatabaseSeg\\DB_upToDate\\batch1\\68\\2022-11-28_T_HORAO-68-AF_FR_S1_1\\raw_data\\600nm\\600_Intensite_PDDN_aligned.cod\n",
      " \n",
      " >> Exported X3D .cod file as: Z:\\DatabaseSeg\\DB_upToDate\\batch1\\68\\2022-11-28_T_HORAO-68-AF_FR_S1_1\\raw_data\\600nm\\600_Intensite_aligned.cod\n"
     ]
    },
    {
     "name": "stderr",
     "output_type": "stream",
     "text": [
      "\r",
      " 18%|██████████████▎                                                                  | 28/158 [04:11<35:00, 16.15s/it]"
     ]
    },
    {
     "name": "stdout",
     "output_type": "stream",
     "text": [
      "['Z:\\\\DatabaseSeg\\\\DB_upToDate\\\\HT\\\\2022-07-06_T_autopsy-bloc_BF_FR_M3_1\\\\raw_data\\\\600nm\\\\600_Intensite_PDDN_aligned.cod', 'Z:\\\\DatabaseSeg\\\\DB_upToDate\\\\HT\\\\2022-07-06_T_autopsy-bloc_BF_FR_M3_1\\\\raw_data\\\\600nm\\\\600_Intensite_aligned.cod']\n",
      "['Z:\\\\DatabaseSeg\\\\DB_upToDate\\\\batch4\\\\95\\\\2023-05-12_T_HORAO-95-AF_FR_S2_1\\\\raw_data\\\\600nm\\\\600_Intensite_PDDN_aligned.cod', 'Z:\\\\DatabaseSeg\\\\DB_upToDate\\\\batch4\\\\95\\\\2023-05-12_T_HORAO-95-AF_FR_S2_1\\\\raw_data\\\\600nm\\\\600_Intensite_aligned.cod']\n",
      " \n",
      " >> Exported X3D .cod file as: Z:\\DatabaseSeg\\DB_upToDate\\batch4\\95\\2023-05-12_T_HORAO-95-AF_FR_S2_1\\raw_data\\600nm\\600_Intensite_PDDN_aligned.cod\n",
      " \n",
      " >> Exported X3D .cod file as: Z:\\DatabaseSeg\\DB_upToDate\\batch4\\95\\2023-05-12_T_HORAO-95-AF_FR_S2_1\\raw_data\\600nm\\600_Intensite_aligned.cod\n"
     ]
    },
    {
     "name": "stderr",
     "output_type": "stream",
     "text": [
      "\r",
      " 19%|███████████████▍                                                                 | 30/158 [04:35<31:11, 14.62s/it]"
     ]
    },
    {
     "name": "stdout",
     "output_type": "stream",
     "text": [
      "['Z:\\\\DatabaseSeg\\\\DB_upToDate\\\\batch5\\\\99\\\\2023-05-02_T_HORAO-99-BF_FR_S1_1\\\\raw_data\\\\600nm\\\\600_Intensite_PDDN_aligned.cod', 'Z:\\\\DatabaseSeg\\\\DB_upToDate\\\\batch5\\\\99\\\\2023-05-02_T_HORAO-99-BF_FR_S1_1\\\\raw_data\\\\600nm\\\\600_Intensite_aligned.cod']\n",
      " \n",
      " >> Exported X3D .cod file as: Z:\\DatabaseSeg\\DB_upToDate\\batch5\\99\\2023-05-02_T_HORAO-99-BF_FR_S1_1\\raw_data\\600nm\\600_Intensite_PDDN_aligned.cod\n",
      " \n",
      " >> Exported X3D .cod file as: Z:\\DatabaseSeg\\DB_upToDate\\batch5\\99\\2023-05-02_T_HORAO-99-BF_FR_S1_1\\raw_data\\600nm\\600_Intensite_aligned.cod\n"
     ]
    },
    {
     "name": "stderr",
     "output_type": "stream",
     "text": [
      "\r",
      " 20%|███████████████▉                                                                 | 31/158 [04:59<35:18, 16.68s/it]"
     ]
    },
    {
     "name": "stdout",
     "output_type": "stream",
     "text": [
      "['Z:\\\\DatabaseSeg\\\\DB_upToDate\\\\batch5\\\\103\\\\2023-10-23_T_HORAO-103-AF_FR_S1_1\\\\raw_data\\\\600nm\\\\600_Intensite_PDDN_aligned.cod', 'Z:\\\\DatabaseSeg\\\\DB_upToDate\\\\batch5\\\\103\\\\2023-10-23_T_HORAO-103-AF_FR_S1_1\\\\raw_data\\\\600nm\\\\600_Intensite_aligned.cod']\n",
      " \n",
      " >> Exported X3D .cod file as: Z:\\DatabaseSeg\\DB_upToDate\\batch5\\103\\2023-10-23_T_HORAO-103-AF_FR_S1_1\\raw_data\\600nm\\600_Intensite_PDDN_aligned.cod\n",
      " \n",
      " >> Exported X3D .cod file as: Z:\\DatabaseSeg\\DB_upToDate\\batch5\\103\\2023-10-23_T_HORAO-103-AF_FR_S1_1\\raw_data\\600nm\\600_Intensite_aligned.cod\n"
     ]
    },
    {
     "name": "stderr",
     "output_type": "stream",
     "text": [
      "\r",
      " 20%|████████████████▍                                                                | 32/158 [05:23<38:40, 18.41s/it]"
     ]
    },
    {
     "name": "stdout",
     "output_type": "stream",
     "text": [
      "['Z:\\\\DatabaseSeg\\\\DB_upToDate\\\\batch1\\\\29\\\\2022-08-16_T_HORAO-29-BF_FR_S1_1\\\\raw_data\\\\600nm\\\\600_Intensite_PDDN_aligned.cod', 'Z:\\\\DatabaseSeg\\\\DB_upToDate\\\\batch1\\\\29\\\\2022-08-16_T_HORAO-29-BF_FR_S1_1\\\\raw_data\\\\600nm\\\\600_Intensite_aligned.cod']\n",
      "['Z:\\\\DatabaseSeg\\\\DB_upToDate\\\\batch1\\\\55\\\\2022-10-11_T_HORAO-55-BF_FR_S1_1\\\\raw_data\\\\600nm\\\\600_Intensite_PDDN_aligned.cod', 'Z:\\\\DatabaseSeg\\\\DB_upToDate\\\\batch1\\\\55\\\\2022-10-11_T_HORAO-55-BF_FR_S1_1\\\\raw_data\\\\600nm\\\\600_Intensite_aligned.cod']\n",
      " \n",
      " >> Exported X3D .cod file as: Z:\\DatabaseSeg\\DB_upToDate\\batch1\\55\\2022-10-11_T_HORAO-55-BF_FR_S1_1\\raw_data\\600nm\\600_Intensite_PDDN_aligned.cod\n",
      " \n",
      " >> Exported X3D .cod file as: Z:\\DatabaseSeg\\DB_upToDate\\batch1\\55\\2022-10-11_T_HORAO-55-BF_FR_S1_1\\raw_data\\600nm\\600_Intensite_aligned.cod\n"
     ]
    },
    {
     "name": "stderr",
     "output_type": "stream",
     "text": [
      "\r",
      " 22%|█████████████████▍                                                               | 34/158 [05:48<32:53, 15.92s/it]"
     ]
    },
    {
     "name": "stdout",
     "output_type": "stream",
     "text": [
      "['Z:\\\\DatabaseSeg\\\\DB_upToDate\\\\batch4\\\\93\\\\2023-03-31_T_HORAO-93-AF_FR_S1_1\\\\raw_data\\\\600nm\\\\600_Intensite_PDDN_aligned.cod', 'Z:\\\\DatabaseSeg\\\\DB_upToDate\\\\batch4\\\\93\\\\2023-03-31_T_HORAO-93-AF_FR_S1_1\\\\raw_data\\\\600nm\\\\600_Intensite_aligned.cod']\n",
      " \n",
      " >> Exported X3D .cod file as: Z:\\DatabaseSeg\\DB_upToDate\\batch4\\93\\2023-03-31_T_HORAO-93-AF_FR_S1_1\\raw_data\\600nm\\600_Intensite_PDDN_aligned.cod\n",
      " \n",
      " >> Exported X3D .cod file as: Z:\\DatabaseSeg\\DB_upToDate\\batch4\\93\\2023-03-31_T_HORAO-93-AF_FR_S1_1\\raw_data\\600nm\\600_Intensite_aligned.cod\n"
     ]
    },
    {
     "name": "stderr",
     "output_type": "stream",
     "text": [
      "\r",
      " 22%|█████████████████▉                                                               | 35/158 [06:13<37:11, 18.14s/it]"
     ]
    },
    {
     "name": "stdout",
     "output_type": "stream",
     "text": [
      "['Z:\\\\DatabaseSeg\\\\DB_upToDate\\\\batch3\\\\84\\\\2023-02-08_T_HORAO-84-BF_FR_S3_1\\\\raw_data\\\\600nm\\\\600_Intensite_PDDN_aligned.cod', 'Z:\\\\DatabaseSeg\\\\DB_upToDate\\\\batch3\\\\84\\\\2023-02-08_T_HORAO-84-BF_FR_S3_1\\\\raw_data\\\\600nm\\\\600_Intensite_aligned.cod']\n",
      " \n",
      " >> Exported X3D .cod file as: Z:\\DatabaseSeg\\DB_upToDate\\batch3\\84\\2023-02-08_T_HORAO-84-BF_FR_S3_1\\raw_data\\600nm\\600_Intensite_PDDN_aligned.cod\n",
      " \n",
      " >> Exported X3D .cod file as: Z:\\DatabaseSeg\\DB_upToDate\\batch3\\84\\2023-02-08_T_HORAO-84-BF_FR_S3_1\\raw_data\\600nm\\600_Intensite_aligned.cod\n"
     ]
    },
    {
     "name": "stderr",
     "output_type": "stream",
     "text": [
      "\r",
      " 23%|██████████████████▍                                                              | 36/158 [06:39<40:19, 19.83s/it]"
     ]
    },
    {
     "name": "stdout",
     "output_type": "stream",
     "text": [
      "['Z:\\\\DatabaseSeg\\\\DB_upToDate\\\\batch1\\\\37\\\\2022-09-01_T_HORAO-37-BF_FR_S2_1\\\\raw_data\\\\600nm\\\\600_Intensite_PDDN_aligned.cod', 'Z:\\\\DatabaseSeg\\\\DB_upToDate\\\\batch1\\\\37\\\\2022-09-01_T_HORAO-37-BF_FR_S2_1\\\\raw_data\\\\600nm\\\\600_Intensite_aligned.cod']\n",
      "['Z:\\\\DatabaseSeg\\\\DB_upToDate\\\\HT\\\\2022-07-07_T_autopsy-cryo-AF_FR_S3_1\\\\raw_data\\\\600nm\\\\600_Intensite_PDDN_aligned.cod', 'Z:\\\\DatabaseSeg\\\\DB_upToDate\\\\HT\\\\2022-07-07_T_autopsy-cryo-AF_FR_S3_1\\\\raw_data\\\\600nm\\\\600_Intensite_aligned.cod']\n",
      "['Z:\\\\DatabaseSeg\\\\DB_upToDate\\\\batch3\\\\84\\\\2023-02-08_T_HORAO-84-BF_FR_S4_1\\\\raw_data\\\\600nm\\\\600_Intensite_PDDN_aligned.cod', 'Z:\\\\DatabaseSeg\\\\DB_upToDate\\\\batch3\\\\84\\\\2023-02-08_T_HORAO-84-BF_FR_S4_1\\\\raw_data\\\\600nm\\\\600_Intensite_aligned.cod']\n",
      " \n",
      " >> Exported X3D .cod file as: Z:\\DatabaseSeg\\DB_upToDate\\batch3\\84\\2023-02-08_T_HORAO-84-BF_FR_S4_1\\raw_data\\600nm\\600_Intensite_PDDN_aligned.cod\n",
      " \n",
      " >> Exported X3D .cod file as: Z:\\DatabaseSeg\\DB_upToDate\\batch3\\84\\2023-02-08_T_HORAO-84-BF_FR_S4_1\\raw_data\\600nm\\600_Intensite_aligned.cod\n"
     ]
    },
    {
     "name": "stderr",
     "output_type": "stream",
     "text": [
      "\r",
      " 25%|███████████████████▉                                                             | 39/158 [07:02<27:11, 13.71s/it]"
     ]
    },
    {
     "name": "stdout",
     "output_type": "stream",
     "text": [
      "['Z:\\\\DatabaseSeg\\\\DB_upToDate\\\\batch1\\\\59\\\\2022-11-02_T_HORAO-59-AF_FR_S1_1\\\\raw_data\\\\600nm\\\\600_Intensite_PDDN_aligned.cod', 'Z:\\\\DatabaseSeg\\\\DB_upToDate\\\\batch1\\\\59\\\\2022-11-02_T_HORAO-59-AF_FR_S1_1\\\\raw_data\\\\600nm\\\\600_Intensite_aligned.cod']\n",
      " \n",
      " >> Exported X3D .cod file as: Z:\\DatabaseSeg\\DB_upToDate\\batch1\\59\\2022-11-02_T_HORAO-59-AF_FR_S1_1\\raw_data\\600nm\\600_Intensite_PDDN_aligned.cod\n",
      " \n",
      " >> Exported X3D .cod file as: Z:\\DatabaseSeg\\DB_upToDate\\batch1\\59\\2022-11-02_T_HORAO-59-AF_FR_S1_1\\raw_data\\600nm\\600_Intensite_aligned.cod\n"
     ]
    },
    {
     "name": "stderr",
     "output_type": "stream",
     "text": [
      "\r",
      " 25%|████████████████████▌                                                            | 40/158 [07:29<31:58, 16.26s/it]"
     ]
    },
    {
     "name": "stdout",
     "output_type": "stream",
     "text": [
      "['Z:\\\\DatabaseSeg\\\\DB_upToDate\\\\batch1\\\\45\\\\2022-09-21_T_HORAO-45-BF_FR_S2_1\\\\raw_data\\\\600nm\\\\600_Intensite_PDDN_aligned.cod', 'Z:\\\\DatabaseSeg\\\\DB_upToDate\\\\batch1\\\\45\\\\2022-09-21_T_HORAO-45-BF_FR_S2_1\\\\raw_data\\\\600nm\\\\600_Intensite_aligned.cod']\n",
      "['Z:\\\\DatabaseSeg\\\\DB_upToDate\\\\batch2\\\\73\\\\2023-06-08_T_HORAO-73-AF_FR_S1_1\\\\raw_data\\\\600nm\\\\600_Intensite_PDDN_aligned.cod', 'Z:\\\\DatabaseSeg\\\\DB_upToDate\\\\batch2\\\\73\\\\2023-06-08_T_HORAO-73-AF_FR_S1_1\\\\raw_data\\\\600nm\\\\600_Intensite_aligned.cod']\n",
      " \n",
      " >> Exported X3D .cod file as: Z:\\DatabaseSeg\\DB_upToDate\\batch2\\73\\2023-06-08_T_HORAO-73-AF_FR_S1_1\\raw_data\\600nm\\600_Intensite_PDDN_aligned.cod\n",
      " \n",
      " >> Exported X3D .cod file as: Z:\\DatabaseSeg\\DB_upToDate\\batch2\\73\\2023-06-08_T_HORAO-73-AF_FR_S1_1\\raw_data\\600nm\\600_Intensite_aligned.cod\n"
     ]
    },
    {
     "name": "stderr",
     "output_type": "stream",
     "text": [
      "\r",
      " 27%|█████████████████████▌                                                           | 42/158 [07:53<28:34, 14.78s/it]"
     ]
    },
    {
     "name": "stdout",
     "output_type": "stream",
     "text": [
      "['Z:\\\\DatabaseSeg\\\\DB_upToDate\\\\batch2\\\\73\\\\2022-12-13_T_HORAO-73-BF_FR_S1_1\\\\raw_data\\\\600nm\\\\600_Intensite_PDDN_aligned.cod', 'Z:\\\\DatabaseSeg\\\\DB_upToDate\\\\batch2\\\\73\\\\2022-12-13_T_HORAO-73-BF_FR_S1_1\\\\raw_data\\\\600nm\\\\600_Intensite_aligned.cod']\n",
      " \n",
      " >> Exported X3D .cod file as: Z:\\DatabaseSeg\\DB_upToDate\\batch2\\73\\2022-12-13_T_HORAO-73-BF_FR_S1_1\\raw_data\\600nm\\600_Intensite_PDDN_aligned.cod\n",
      " \n",
      " >> Exported X3D .cod file as: Z:\\DatabaseSeg\\DB_upToDate\\batch2\\73\\2022-12-13_T_HORAO-73-BF_FR_S1_1\\raw_data\\600nm\\600_Intensite_aligned.cod\n"
     ]
    },
    {
     "name": "stderr",
     "output_type": "stream",
     "text": [
      "\r",
      " 27%|██████████████████████                                                           | 43/158 [08:18<32:26, 16.93s/it]"
     ]
    },
    {
     "name": "stdout",
     "output_type": "stream",
     "text": [
      "['Z:\\\\DatabaseSeg\\\\DB_upToDate\\\\batch2\\\\71\\\\2022-12-07_T_HORAO-71-BF_FR_S2_1\\\\raw_data\\\\600nm\\\\600_Intensite_PDDN_aligned.cod', 'Z:\\\\DatabaseSeg\\\\DB_upToDate\\\\batch2\\\\71\\\\2022-12-07_T_HORAO-71-BF_FR_S2_1\\\\raw_data\\\\600nm\\\\600_Intensite_aligned.cod']\n",
      " \n",
      " >> Exported X3D .cod file as: Z:\\DatabaseSeg\\DB_upToDate\\batch2\\71\\2022-12-07_T_HORAO-71-BF_FR_S2_1\\raw_data\\600nm\\600_Intensite_PDDN_aligned.cod\n",
      " \n",
      " >> Exported X3D .cod file as: Z:\\DatabaseSeg\\DB_upToDate\\batch2\\71\\2022-12-07_T_HORAO-71-BF_FR_S2_1\\raw_data\\600nm\\600_Intensite_aligned.cod\n"
     ]
    },
    {
     "name": "stderr",
     "output_type": "stream",
     "text": [
      "\r",
      " 28%|██████████████████████▌                                                          | 44/158 [08:45<36:25, 19.17s/it]"
     ]
    },
    {
     "name": "stdout",
     "output_type": "stream",
     "text": [
      "['Z:\\\\DatabaseSeg\\\\DB_upToDate\\\\batch4\\\\94\\\\2023-04-05_T_HORAO-94-BF_FR_S2_1\\\\raw_data\\\\600nm\\\\600_Intensite_PDDN_aligned.cod', 'Z:\\\\DatabaseSeg\\\\DB_upToDate\\\\batch4\\\\94\\\\2023-04-05_T_HORAO-94-BF_FR_S2_1\\\\raw_data\\\\600nm\\\\600_Intensite_aligned.cod']\n",
      " \n",
      " >> Exported X3D .cod file as: Z:\\DatabaseSeg\\DB_upToDate\\batch4\\94\\2023-04-05_T_HORAO-94-BF_FR_S2_1\\raw_data\\600nm\\600_Intensite_PDDN_aligned.cod\n",
      " \n",
      " >> Exported X3D .cod file as: Z:\\DatabaseSeg\\DB_upToDate\\batch4\\94\\2023-04-05_T_HORAO-94-BF_FR_S2_1\\raw_data\\600nm\\600_Intensite_aligned.cod\n"
     ]
    },
    {
     "name": "stderr",
     "output_type": "stream",
     "text": [
      "\r",
      " 28%|███████████████████████                                                          | 45/158 [09:10<38:27, 20.42s/it]"
     ]
    },
    {
     "name": "stdout",
     "output_type": "stream",
     "text": [
      "['Z:\\\\DatabaseSeg\\\\DB_upToDate\\\\batch2\\\\78\\\\2023-06-08_T_HORAO-78-AF_FR_S7_1\\\\raw_data\\\\600nm\\\\600_Intensite_PDDN_aligned.cod', 'Z:\\\\DatabaseSeg\\\\DB_upToDate\\\\batch2\\\\78\\\\2023-06-08_T_HORAO-78-AF_FR_S7_1\\\\raw_data\\\\600nm\\\\600_Intensite_aligned.cod']\n",
      " \n",
      " >> Exported X3D .cod file as: Z:\\DatabaseSeg\\DB_upToDate\\batch2\\78\\2023-06-08_T_HORAO-78-AF_FR_S7_1\\raw_data\\600nm\\600_Intensite_PDDN_aligned.cod\n",
      " \n",
      " >> Exported X3D .cod file as: Z:\\DatabaseSeg\\DB_upToDate\\batch2\\78\\2023-06-08_T_HORAO-78-AF_FR_S7_1\\raw_data\\600nm\\600_Intensite_aligned.cod\n"
     ]
    },
    {
     "name": "stderr",
     "output_type": "stream",
     "text": [
      "\r",
      " 29%|███████████████████████▌                                                         | 46/158 [09:33<39:32, 21.19s/it]"
     ]
    },
    {
     "name": "stdout",
     "output_type": "stream",
     "text": [
      "['Z:\\\\DatabaseSeg\\\\DB_upToDate\\\\batch3\\\\84\\\\2023-02-22_T_HORAO-84-AF_FR_S3_1\\\\raw_data\\\\600nm\\\\600_Intensite_PDDN_aligned.cod', 'Z:\\\\DatabaseSeg\\\\DB_upToDate\\\\batch3\\\\84\\\\2023-02-22_T_HORAO-84-AF_FR_S3_1\\\\raw_data\\\\600nm\\\\600_Intensite_aligned.cod']\n",
      " \n",
      " >> Exported X3D .cod file as: Z:\\DatabaseSeg\\DB_upToDate\\batch3\\84\\2023-02-22_T_HORAO-84-AF_FR_S3_1\\raw_data\\600nm\\600_Intensite_PDDN_aligned.cod\n",
      " \n",
      " >> Exported X3D .cod file as: Z:\\DatabaseSeg\\DB_upToDate\\batch3\\84\\2023-02-22_T_HORAO-84-AF_FR_S3_1\\raw_data\\600nm\\600_Intensite_aligned.cod\n"
     ]
    },
    {
     "name": "stderr",
     "output_type": "stream",
     "text": [
      "\r",
      " 30%|████████████████████████                                                         | 47/158 [09:56<40:06, 21.68s/it]"
     ]
    },
    {
     "name": "stdout",
     "output_type": "stream",
     "text": [
      "['Z:\\\\DatabaseSeg\\\\DB_upToDate\\\\batch1\\\\39\\\\2022-09-01_T_HORAO-39-BF_FR_S2_1\\\\raw_data\\\\600nm\\\\600_Intensite_PDDN_aligned.cod', 'Z:\\\\DatabaseSeg\\\\DB_upToDate\\\\batch1\\\\39\\\\2022-09-01_T_HORAO-39-BF_FR_S2_1\\\\raw_data\\\\600nm\\\\600_Intensite_aligned.cod']\n",
      "['Z:\\\\DatabaseSeg\\\\DB_upToDate\\\\batch1\\\\64\\\\2022-11-08_T_HORAO-64-BF_FR_S1_1\\\\raw_data\\\\600nm\\\\600_Intensite_PDDN_aligned.cod', 'Z:\\\\DatabaseSeg\\\\DB_upToDate\\\\batch1\\\\64\\\\2022-11-08_T_HORAO-64-BF_FR_S1_1\\\\raw_data\\\\600nm\\\\600_Intensite_aligned.cod']\n",
      " \n",
      " >> Exported X3D .cod file as: Z:\\DatabaseSeg\\DB_upToDate\\batch1\\64\\2022-11-08_T_HORAO-64-BF_FR_S1_1\\raw_data\\600nm\\600_Intensite_PDDN_aligned.cod\n",
      " \n",
      " >> Exported X3D .cod file as: Z:\\DatabaseSeg\\DB_upToDate\\batch1\\64\\2022-11-08_T_HORAO-64-BF_FR_S1_1\\raw_data\\600nm\\600_Intensite_aligned.cod\n"
     ]
    },
    {
     "name": "stderr",
     "output_type": "stream",
     "text": [
      "\r",
      " 31%|█████████████████████████                                                        | 49/158 [10:22<32:31, 17.90s/it]"
     ]
    },
    {
     "name": "stdout",
     "output_type": "stream",
     "text": [
      "['Z:\\\\DatabaseSeg\\\\DB_upToDate\\\\batch4\\\\95\\\\2023-04-18_T_HORAO-95-BF_FR_S2_1\\\\raw_data\\\\600nm\\\\600_Intensite_PDDN_aligned.cod', 'Z:\\\\DatabaseSeg\\\\DB_upToDate\\\\batch4\\\\95\\\\2023-04-18_T_HORAO-95-BF_FR_S2_1\\\\raw_data\\\\600nm\\\\600_Intensite_aligned.cod']\n",
      " \n",
      " >> Exported X3D .cod file as: Z:\\DatabaseSeg\\DB_upToDate\\batch4\\95\\2023-04-18_T_HORAO-95-BF_FR_S2_1\\raw_data\\600nm\\600_Intensite_PDDN_aligned.cod\n",
      " \n",
      " >> Exported X3D .cod file as: Z:\\DatabaseSeg\\DB_upToDate\\batch4\\95\\2023-04-18_T_HORAO-95-BF_FR_S2_1\\raw_data\\600nm\\600_Intensite_aligned.cod\n"
     ]
    },
    {
     "name": "stderr",
     "output_type": "stream",
     "text": [
      "\r",
      " 32%|█████████████████████████▋                                                       | 50/158 [10:47<35:28, 19.71s/it]"
     ]
    },
    {
     "name": "stdout",
     "output_type": "stream",
     "text": [
      "['Z:\\\\DatabaseSeg\\\\DB_upToDate\\\\batch5\\\\107\\\\2023-08-02_T_HORAO-107-BF_FR_S2_1\\\\raw_data\\\\600nm\\\\600_Intensite_PDDN_aligned.cod', 'Z:\\\\DatabaseSeg\\\\DB_upToDate\\\\batch5\\\\107\\\\2023-08-02_T_HORAO-107-BF_FR_S2_1\\\\raw_data\\\\600nm\\\\600_Intensite_aligned.cod']\n",
      " \n",
      " >> Exported X3D .cod file as: Z:\\DatabaseSeg\\DB_upToDate\\batch5\\107\\2023-08-02_T_HORAO-107-BF_FR_S2_1\\raw_data\\600nm\\600_Intensite_PDDN_aligned.cod\n",
      " \n",
      " >> Exported X3D .cod file as: Z:\\DatabaseSeg\\DB_upToDate\\batch5\\107\\2023-08-02_T_HORAO-107-BF_FR_S2_1\\raw_data\\600nm\\600_Intensite_aligned.cod\n"
     ]
    },
    {
     "name": "stderr",
     "output_type": "stream",
     "text": [
      "\r",
      " 32%|██████████████████████████▏                                                      | 51/158 [11:11<36:56, 20.71s/it]"
     ]
    },
    {
     "name": "stdout",
     "output_type": "stream",
     "text": [
      "['Z:\\\\DatabaseSeg\\\\DB_upToDate\\\\batch5\\\\98\\\\2023-10-19_T_HORAO-98-AF_FR_S2_1\\\\raw_data\\\\600nm\\\\600_Intensite_PDDN_aligned.cod', 'Z:\\\\DatabaseSeg\\\\DB_upToDate\\\\batch5\\\\98\\\\2023-10-19_T_HORAO-98-AF_FR_S2_1\\\\raw_data\\\\600nm\\\\600_Intensite_aligned.cod']\n",
      " \n",
      " >> Exported X3D .cod file as: Z:\\DatabaseSeg\\DB_upToDate\\batch5\\98\\2023-10-19_T_HORAO-98-AF_FR_S2_1\\raw_data\\600nm\\600_Intensite_PDDN_aligned.cod\n",
      " \n",
      " >> Exported X3D .cod file as: Z:\\DatabaseSeg\\DB_upToDate\\batch5\\98\\2023-10-19_T_HORAO-98-AF_FR_S2_1\\raw_data\\600nm\\600_Intensite_aligned.cod\n"
     ]
    },
    {
     "name": "stderr",
     "output_type": "stream",
     "text": [
      "\r",
      " 33%|██████████████████████████▋                                                      | 52/158 [11:38<39:28, 22.34s/it]"
     ]
    },
    {
     "name": "stdout",
     "output_type": "stream",
     "text": [
      "['Z:\\\\DatabaseSeg\\\\DB_upToDate\\\\batch1\\\\45\\\\2022-09-21_T_HORAO-45-BF_FR_S4_1\\\\raw_data\\\\600nm\\\\600_Intensite_PDDN_aligned.cod', 'Z:\\\\DatabaseSeg\\\\DB_upToDate\\\\batch1\\\\45\\\\2022-09-21_T_HORAO-45-BF_FR_S4_1\\\\raw_data\\\\600nm\\\\600_Intensite_aligned.cod']\n",
      "['Z:\\\\DatabaseSeg\\\\DB_upToDate\\\\batch1\\\\59\\\\2022-11-02_T_HORAO-59-AF_FR_S3_1\\\\raw_data\\\\600nm\\\\600_Intensite_PDDN_aligned.cod', 'Z:\\\\DatabaseSeg\\\\DB_upToDate\\\\batch1\\\\59\\\\2022-11-02_T_HORAO-59-AF_FR_S3_1\\\\raw_data\\\\600nm\\\\600_Intensite_aligned.cod']\n",
      " \n",
      " >> Exported X3D .cod file as: Z:\\DatabaseSeg\\DB_upToDate\\batch1\\59\\2022-11-02_T_HORAO-59-AF_FR_S3_1\\raw_data\\600nm\\600_Intensite_PDDN_aligned.cod\n",
      " \n",
      " >> Exported X3D .cod file as: Z:\\DatabaseSeg\\DB_upToDate\\batch1\\59\\2022-11-02_T_HORAO-59-AF_FR_S3_1\\raw_data\\600nm\\600_Intensite_aligned.cod\n"
     ]
    },
    {
     "name": "stderr",
     "output_type": "stream",
     "text": [
      "\r",
      " 34%|███████████████████████████▋                                                     | 54/158 [12:05<32:01, 18.48s/it]"
     ]
    },
    {
     "name": "stdout",
     "output_type": "stream",
     "text": [
      "['Z:\\\\DatabaseSeg\\\\DB_upToDate\\\\batch2\\\\78\\\\2023-01-05_T_HORAO-78-BF_FR_S4_1\\\\raw_data\\\\600nm\\\\600_Intensite_PDDN_aligned.cod', 'Z:\\\\DatabaseSeg\\\\DB_upToDate\\\\batch2\\\\78\\\\2023-01-05_T_HORAO-78-BF_FR_S4_1\\\\raw_data\\\\600nm\\\\600_Intensite_aligned.cod']\n",
      " \n",
      " >> Exported X3D .cod file as: Z:\\DatabaseSeg\\DB_upToDate\\batch2\\78\\2023-01-05_T_HORAO-78-BF_FR_S4_1\\raw_data\\600nm\\600_Intensite_PDDN_aligned.cod\n",
      " \n",
      " >> Exported X3D .cod file as: Z:\\DatabaseSeg\\DB_upToDate\\batch2\\78\\2023-01-05_T_HORAO-78-BF_FR_S4_1\\raw_data\\600nm\\600_Intensite_aligned.cod\n"
     ]
    },
    {
     "name": "stderr",
     "output_type": "stream",
     "text": [
      "\r",
      " 35%|████████████████████████████▏                                                    | 55/158 [12:30<34:16, 19.96s/it]"
     ]
    },
    {
     "name": "stdout",
     "output_type": "stream",
     "text": [
      "['Z:\\\\DatabaseSeg\\\\DB_upToDate\\\\batch5\\\\100\\\\2023-05-12_T_HORAO-100-AF_FR_S1_1\\\\raw_data\\\\600nm\\\\600_Intensite_PDDN_aligned.cod', 'Z:\\\\DatabaseSeg\\\\DB_upToDate\\\\batch5\\\\100\\\\2023-05-12_T_HORAO-100-AF_FR_S1_1\\\\raw_data\\\\600nm\\\\600_Intensite_aligned.cod']\n",
      " \n",
      " >> Exported X3D .cod file as: Z:\\DatabaseSeg\\DB_upToDate\\batch5\\100\\2023-05-12_T_HORAO-100-AF_FR_S1_1\\raw_data\\600nm\\600_Intensite_PDDN_aligned.cod\n",
      " \n",
      " >> Exported X3D .cod file as: Z:\\DatabaseSeg\\DB_upToDate\\batch5\\100\\2023-05-12_T_HORAO-100-AF_FR_S1_1\\raw_data\\600nm\\600_Intensite_aligned.cod\n"
     ]
    },
    {
     "name": "stderr",
     "output_type": "stream",
     "text": [
      "\r",
      " 35%|████████████████████████████▋                                                    | 56/158 [12:55<36:23, 21.41s/it]"
     ]
    },
    {
     "name": "stdout",
     "output_type": "stream",
     "text": [
      "['Z:\\\\DatabaseSeg\\\\DB_upToDate\\\\batch1\\\\45\\\\2022-10-14_T_HORAO-45-AF_FR_S2_1\\\\raw_data\\\\600nm\\\\600_Intensite_PDDN_aligned.cod', 'Z:\\\\DatabaseSeg\\\\DB_upToDate\\\\batch1\\\\45\\\\2022-10-14_T_HORAO-45-AF_FR_S2_1\\\\raw_data\\\\600nm\\\\600_Intensite_aligned.cod']\n",
      "['Z:\\\\DatabaseSeg\\\\DB_upToDate\\\\batch5\\\\98\\\\2023-04-27_T_HORAO-98-BF_FR_S2_1\\\\raw_data\\\\600nm\\\\600_Intensite_PDDN_aligned.cod', 'Z:\\\\DatabaseSeg\\\\DB_upToDate\\\\batch5\\\\98\\\\2023-04-27_T_HORAO-98-BF_FR_S2_1\\\\raw_data\\\\600nm\\\\600_Intensite_aligned.cod']\n",
      " \n",
      " >> Exported X3D .cod file as: Z:\\DatabaseSeg\\DB_upToDate\\batch5\\98\\2023-04-27_T_HORAO-98-BF_FR_S2_1\\raw_data\\600nm\\600_Intensite_PDDN_aligned.cod\n",
      " \n",
      " >> Exported X3D .cod file as: Z:\\DatabaseSeg\\DB_upToDate\\batch5\\98\\2023-04-27_T_HORAO-98-BF_FR_S2_1\\raw_data\\600nm\\600_Intensite_aligned.cod\n"
     ]
    },
    {
     "name": "stderr",
     "output_type": "stream",
     "text": [
      "\r",
      " 37%|█████████████████████████████▋                                                   | 58/158 [13:22<30:12, 18.12s/it]"
     ]
    },
    {
     "name": "stdout",
     "output_type": "stream",
     "text": [
      "['Z:\\\\DatabaseSeg\\\\DB_upToDate\\\\batch3\\\\82\\\\2023-02-07_T_HORAO-82-BF_FR_S1_1\\\\raw_data\\\\600nm\\\\600_Intensite_PDDN_aligned.cod', 'Z:\\\\DatabaseSeg\\\\DB_upToDate\\\\batch3\\\\82\\\\2023-02-07_T_HORAO-82-BF_FR_S1_1\\\\raw_data\\\\600nm\\\\600_Intensite_aligned.cod']\n",
      " \n",
      " >> Exported X3D .cod file as: Z:\\DatabaseSeg\\DB_upToDate\\batch3\\82\\2023-02-07_T_HORAO-82-BF_FR_S1_1\\raw_data\\600nm\\600_Intensite_PDDN_aligned.cod\n",
      " \n",
      " >> Exported X3D .cod file as: Z:\\DatabaseSeg\\DB_upToDate\\batch3\\82\\2023-02-07_T_HORAO-82-BF_FR_S1_1\\raw_data\\600nm\\600_Intensite_aligned.cod\n"
     ]
    },
    {
     "name": "stderr",
     "output_type": "stream",
     "text": [
      "\r",
      " 37%|██████████████████████████████▏                                                  | 59/158 [13:47<32:15, 19.55s/it]"
     ]
    },
    {
     "name": "stdout",
     "output_type": "stream",
     "text": [
      "['Z:\\\\DatabaseSeg\\\\DB_upToDate\\\\batch2\\\\78\\\\2023-06-08_T_HORAO-78-AF_FR_S6_1\\\\raw_data\\\\600nm\\\\600_Intensite_PDDN_aligned.cod', 'Z:\\\\DatabaseSeg\\\\DB_upToDate\\\\batch2\\\\78\\\\2023-06-08_T_HORAO-78-AF_FR_S6_1\\\\raw_data\\\\600nm\\\\600_Intensite_aligned.cod']\n",
      " \n",
      " >> Exported X3D .cod file as: Z:\\DatabaseSeg\\DB_upToDate\\batch2\\78\\2023-06-08_T_HORAO-78-AF_FR_S6_1\\raw_data\\600nm\\600_Intensite_PDDN_aligned.cod\n",
      " \n",
      " >> Exported X3D .cod file as: Z:\\DatabaseSeg\\DB_upToDate\\batch2\\78\\2023-06-08_T_HORAO-78-AF_FR_S6_1\\raw_data\\600nm\\600_Intensite_aligned.cod\n"
     ]
    },
    {
     "name": "stderr",
     "output_type": "stream",
     "text": [
      "\r",
      " 38%|██████████████████████████████▊                                                  | 60/158 [14:12<34:24, 21.07s/it]"
     ]
    },
    {
     "name": "stdout",
     "output_type": "stream",
     "text": [
      "['Z:\\\\DatabaseSeg\\\\DB_upToDate\\\\batch1\\\\63\\\\2022-11-08_T_HORAO-63-BF_FR_S1_1\\\\raw_data\\\\600nm\\\\600_Intensite_PDDN_aligned.cod', 'Z:\\\\DatabaseSeg\\\\DB_upToDate\\\\batch1\\\\63\\\\2022-11-08_T_HORAO-63-BF_FR_S1_1\\\\raw_data\\\\600nm\\\\600_Intensite_aligned.cod']\n",
      " \n",
      " >> Exported X3D .cod file as: Z:\\DatabaseSeg\\DB_upToDate\\batch1\\63\\2022-11-08_T_HORAO-63-BF_FR_S1_1\\raw_data\\600nm\\600_Intensite_PDDN_aligned.cod\n",
      " \n",
      " >> Exported X3D .cod file as: Z:\\DatabaseSeg\\DB_upToDate\\batch1\\63\\2022-11-08_T_HORAO-63-BF_FR_S1_1\\raw_data\\600nm\\600_Intensite_aligned.cod\n"
     ]
    },
    {
     "name": "stderr",
     "output_type": "stream",
     "text": [
      "\r",
      " 39%|███████████████████████████████▎                                                 | 61/158 [14:37<35:37, 22.04s/it]"
     ]
    },
    {
     "name": "stdout",
     "output_type": "stream",
     "text": [
      "['Z:\\\\DatabaseSeg\\\\DB_upToDate\\\\batch3\\\\81\\\\2023-01-18_T_HORAO-81-BF_FR_S1_1\\\\raw_data\\\\600nm\\\\600_Intensite_PDDN_aligned.cod', 'Z:\\\\DatabaseSeg\\\\DB_upToDate\\\\batch3\\\\81\\\\2023-01-18_T_HORAO-81-BF_FR_S1_1\\\\raw_data\\\\600nm\\\\600_Intensite_aligned.cod']\n",
      " \n",
      " >> Exported X3D .cod file as: Z:\\DatabaseSeg\\DB_upToDate\\batch3\\81\\2023-01-18_T_HORAO-81-BF_FR_S1_1\\raw_data\\600nm\\600_Intensite_PDDN_aligned.cod\n",
      " \n",
      " >> Exported X3D .cod file as: Z:\\DatabaseSeg\\DB_upToDate\\batch3\\81\\2023-01-18_T_HORAO-81-BF_FR_S1_1\\raw_data\\600nm\\600_Intensite_aligned.cod\n"
     ]
    },
    {
     "name": "stderr",
     "output_type": "stream",
     "text": [
      "\r",
      " 39%|███████████████████████████████▊                                                 | 62/158 [15:02<36:32, 22.84s/it]"
     ]
    },
    {
     "name": "stdout",
     "output_type": "stream",
     "text": [
      "['Z:\\\\DatabaseSeg\\\\DB_upToDate\\\\batch4\\\\94\\\\2023-04-05_T_HORAO-94-BF_FR_S1_1\\\\raw_data\\\\600nm\\\\600_Intensite_PDDN_aligned.cod', 'Z:\\\\DatabaseSeg\\\\DB_upToDate\\\\batch4\\\\94\\\\2023-04-05_T_HORAO-94-BF_FR_S1_1\\\\raw_data\\\\600nm\\\\600_Intensite_aligned.cod']\n",
      " \n",
      " >> Exported X3D .cod file as: Z:\\DatabaseSeg\\DB_upToDate\\batch4\\94\\2023-04-05_T_HORAO-94-BF_FR_S1_1\\raw_data\\600nm\\600_Intensite_PDDN_aligned.cod\n",
      " \n",
      " >> Exported X3D .cod file as: Z:\\DatabaseSeg\\DB_upToDate\\batch4\\94\\2023-04-05_T_HORAO-94-BF_FR_S1_1\\raw_data\\600nm\\600_Intensite_aligned.cod\n"
     ]
    },
    {
     "name": "stderr",
     "output_type": "stream",
     "text": [
      "\r",
      " 40%|████████████████████████████████▎                                                | 63/158 [15:28<37:17, 23.55s/it]"
     ]
    },
    {
     "name": "stdout",
     "output_type": "stream",
     "text": [
      "['Z:\\\\DatabaseSeg\\\\DB_upToDate\\\\HT\\\\2022-07-07_T_autopsy-cryo-AF_FR_S4_1\\\\raw_data\\\\600nm\\\\600_Intensite_PDDN_aligned.cod', 'Z:\\\\DatabaseSeg\\\\DB_upToDate\\\\HT\\\\2022-07-07_T_autopsy-cryo-AF_FR_S4_1\\\\raw_data\\\\600nm\\\\600_Intensite_aligned.cod']\n",
      "['Z:\\\\DatabaseSeg\\\\DB_upToDate\\\\batch1\\\\59\\\\2022-11-01_T_HORAO-59-BF_FR_S2_1\\\\raw_data\\\\600nm\\\\600_Intensite_PDDN_aligned.cod', 'Z:\\\\DatabaseSeg\\\\DB_upToDate\\\\batch1\\\\59\\\\2022-11-01_T_HORAO-59-BF_FR_S2_1\\\\raw_data\\\\600nm\\\\600_Intensite_aligned.cod']\n",
      " \n",
      " >> Exported X3D .cod file as: Z:\\DatabaseSeg\\DB_upToDate\\batch1\\59\\2022-11-01_T_HORAO-59-BF_FR_S2_1\\raw_data\\600nm\\600_Intensite_PDDN_aligned.cod\n",
      " \n",
      " >> Exported X3D .cod file as: Z:\\DatabaseSeg\\DB_upToDate\\batch1\\59\\2022-11-01_T_HORAO-59-BF_FR_S2_1\\raw_data\\600nm\\600_Intensite_aligned.cod\n"
     ]
    },
    {
     "name": "stderr",
     "output_type": "stream",
     "text": [
      "\r",
      " 41%|█████████████████████████████████▎                                               | 65/158 [15:51<28:23, 18.32s/it]"
     ]
    },
    {
     "name": "stdout",
     "output_type": "stream",
     "text": [
      "['Z:\\\\DatabaseSeg\\\\DB_upToDate\\\\batch5\\\\98\\\\2023-10-19_T_HORAO-98-AF_FR_S1_1\\\\raw_data\\\\600nm\\\\600_Intensite_PDDN_aligned.cod', 'Z:\\\\DatabaseSeg\\\\DB_upToDate\\\\batch5\\\\98\\\\2023-10-19_T_HORAO-98-AF_FR_S1_1\\\\raw_data\\\\600nm\\\\600_Intensite_aligned.cod']\n",
      " \n",
      " >> Exported X3D .cod file as: Z:\\DatabaseSeg\\DB_upToDate\\batch5\\98\\2023-10-19_T_HORAO-98-AF_FR_S1_1\\raw_data\\600nm\\600_Intensite_PDDN_aligned.cod\n",
      " \n",
      " >> Exported X3D .cod file as: Z:\\DatabaseSeg\\DB_upToDate\\batch5\\98\\2023-10-19_T_HORAO-98-AF_FR_S1_1\\raw_data\\600nm\\600_Intensite_aligned.cod\n"
     ]
    },
    {
     "name": "stderr",
     "output_type": "stream",
     "text": [
      "\r",
      " 42%|█████████████████████████████████▊                                               | 66/158 [16:16<30:29, 19.89s/it]"
     ]
    },
    {
     "name": "stdout",
     "output_type": "stream",
     "text": [
      "['Z:\\\\DatabaseSeg\\\\DB_upToDate\\\\batch1\\\\21\\\\2022-06-29_T_HORAO-21-BF_FR_S2_1\\\\raw_data\\\\600nm\\\\600_Intensite_PDDN_aligned.cod', 'Z:\\\\DatabaseSeg\\\\DB_upToDate\\\\batch1\\\\21\\\\2022-06-29_T_HORAO-21-BF_FR_S2_1\\\\raw_data\\\\600nm\\\\600_Intensite_aligned.cod']\n",
      "['Z:\\\\DatabaseSeg\\\\DB_upToDate\\\\batch4\\\\93\\\\2023-03-30_T_HORAO-93-BF_FR_S3_1\\\\raw_data\\\\600nm\\\\600_Intensite_PDDN_aligned.cod', 'Z:\\\\DatabaseSeg\\\\DB_upToDate\\\\batch4\\\\93\\\\2023-03-30_T_HORAO-93-BF_FR_S3_1\\\\raw_data\\\\600nm\\\\600_Intensite_aligned.cod']\n",
      " \n",
      " >> Exported X3D .cod file as: Z:\\DatabaseSeg\\DB_upToDate\\batch4\\93\\2023-03-30_T_HORAO-93-BF_FR_S3_1\\raw_data\\600nm\\600_Intensite_PDDN_aligned.cod\n",
      " \n",
      " >> Exported X3D .cod file as: Z:\\DatabaseSeg\\DB_upToDate\\batch4\\93\\2023-03-30_T_HORAO-93-BF_FR_S3_1\\raw_data\\600nm\\600_Intensite_aligned.cod\n"
     ]
    },
    {
     "name": "stderr",
     "output_type": "stream",
     "text": [
      "\r",
      " 43%|██████████████████████████████████▊                                              | 68/158 [16:42<25:37, 17.08s/it]"
     ]
    },
    {
     "name": "stdout",
     "output_type": "stream",
     "text": [
      "['Z:\\\\DatabaseSeg\\\\DB_upToDate\\\\batch5\\\\101\\\\2023-10-23_T_HORAO-101-AF_FR_S2_1\\\\raw_data\\\\600nm\\\\600_Intensite_PDDN_aligned.cod', 'Z:\\\\DatabaseSeg\\\\DB_upToDate\\\\batch5\\\\101\\\\2023-10-23_T_HORAO-101-AF_FR_S2_1\\\\raw_data\\\\600nm\\\\600_Intensite_aligned.cod']\n",
      " \n",
      " >> Exported X3D .cod file as: Z:\\DatabaseSeg\\DB_upToDate\\batch5\\101\\2023-10-23_T_HORAO-101-AF_FR_S2_1\\raw_data\\600nm\\600_Intensite_PDDN_aligned.cod\n",
      " \n",
      " >> Exported X3D .cod file as: Z:\\DatabaseSeg\\DB_upToDate\\batch5\\101\\2023-10-23_T_HORAO-101-AF_FR_S2_1\\raw_data\\600nm\\600_Intensite_aligned.cod\n"
     ]
    },
    {
     "name": "stderr",
     "output_type": "stream",
     "text": [
      "\r",
      " 44%|███████████████████████████████████▎                                             | 69/158 [17:06<27:42, 18.68s/it]"
     ]
    },
    {
     "name": "stdout",
     "output_type": "stream",
     "text": [
      "['Z:\\\\DatabaseSeg\\\\DB_upToDate\\\\batch2\\\\77\\\\2023-06-08_T_HORAO-77-AF_FR_S3_1\\\\raw_data\\\\600nm\\\\600_Intensite_PDDN_aligned.cod', 'Z:\\\\DatabaseSeg\\\\DB_upToDate\\\\batch2\\\\77\\\\2023-06-08_T_HORAO-77-AF_FR_S3_1\\\\raw_data\\\\600nm\\\\600_Intensite_aligned.cod']\n",
      " \n",
      " >> Exported X3D .cod file as: Z:\\DatabaseSeg\\DB_upToDate\\batch2\\77\\2023-06-08_T_HORAO-77-AF_FR_S3_1\\raw_data\\600nm\\600_Intensite_PDDN_aligned.cod\n",
      " \n",
      " >> Exported X3D .cod file as: Z:\\DatabaseSeg\\DB_upToDate\\batch2\\77\\2023-06-08_T_HORAO-77-AF_FR_S3_1\\raw_data\\600nm\\600_Intensite_aligned.cod\n"
     ]
    },
    {
     "name": "stderr",
     "output_type": "stream",
     "text": [
      "\r",
      " 44%|███████████████████████████████████▉                                             | 70/158 [17:31<29:44, 20.28s/it]"
     ]
    },
    {
     "name": "stdout",
     "output_type": "stream",
     "text": [
      "['Z:\\\\DatabaseSeg\\\\DB_upToDate\\\\batch2\\\\78\\\\2023-01-05_T_HORAO-78-BF_FR_S3_1\\\\raw_data\\\\600nm\\\\600_Intensite_PDDN_aligned.cod', 'Z:\\\\DatabaseSeg\\\\DB_upToDate\\\\batch2\\\\78\\\\2023-01-05_T_HORAO-78-BF_FR_S3_1\\\\raw_data\\\\600nm\\\\600_Intensite_aligned.cod']\n",
      " \n",
      " >> Exported X3D .cod file as: Z:\\DatabaseSeg\\DB_upToDate\\batch2\\78\\2023-01-05_T_HORAO-78-BF_FR_S3_1\\raw_data\\600nm\\600_Intensite_PDDN_aligned.cod\n",
      " \n",
      " >> Exported X3D .cod file as: Z:\\DatabaseSeg\\DB_upToDate\\batch2\\78\\2023-01-05_T_HORAO-78-BF_FR_S3_1\\raw_data\\600nm\\600_Intensite_aligned.cod\n"
     ]
    },
    {
     "name": "stderr",
     "output_type": "stream",
     "text": [
      "\r",
      " 45%|████████████████████████████████████▍                                            | 71/158 [17:56<31:08, 21.48s/it]"
     ]
    },
    {
     "name": "stdout",
     "output_type": "stream",
     "text": [
      "['Z:\\\\DatabaseSeg\\\\DB_upToDate\\\\batch1\\\\39\\\\2022-09-14_T_HORAO-39-AF_FR_S1_1\\\\raw_data\\\\600nm\\\\600_Intensite_PDDN_aligned.cod', 'Z:\\\\DatabaseSeg\\\\DB_upToDate\\\\batch1\\\\39\\\\2022-09-14_T_HORAO-39-AF_FR_S1_1\\\\raw_data\\\\600nm\\\\600_Intensite_aligned.cod']\n",
      "['Z:\\\\DatabaseSeg\\\\DB_upToDate\\\\batch3\\\\86\\\\2023-02-22_T_HORAO-86-AF_FR_S1_1\\\\raw_data\\\\600nm\\\\600_Intensite_PDDN_aligned.cod', 'Z:\\\\DatabaseSeg\\\\DB_upToDate\\\\batch3\\\\86\\\\2023-02-22_T_HORAO-86-AF_FR_S1_1\\\\raw_data\\\\600nm\\\\600_Intensite_aligned.cod']\n",
      " \n",
      " >> Exported X3D .cod file as: Z:\\DatabaseSeg\\DB_upToDate\\batch3\\86\\2023-02-22_T_HORAO-86-AF_FR_S1_1\\raw_data\\600nm\\600_Intensite_PDDN_aligned.cod\n",
      " \n",
      " >> Exported X3D .cod file as: Z:\\DatabaseSeg\\DB_upToDate\\batch3\\86\\2023-02-22_T_HORAO-86-AF_FR_S1_1\\raw_data\\600nm\\600_Intensite_aligned.cod\n"
     ]
    },
    {
     "name": "stderr",
     "output_type": "stream",
     "text": [
      "\r",
      " 46%|█████████████████████████████████████▍                                           | 73/158 [18:20<24:40, 17.42s/it]"
     ]
    },
    {
     "name": "stdout",
     "output_type": "stream",
     "text": [
      "['Z:\\\\DatabaseSeg\\\\DB_upToDate\\\\batch3\\\\87\\\\2023-03-07_T_HORAO-87-BF_FR_S1_1\\\\raw_data\\\\600nm\\\\600_Intensite_PDDN_aligned.cod', 'Z:\\\\DatabaseSeg\\\\DB_upToDate\\\\batch3\\\\87\\\\2023-03-07_T_HORAO-87-BF_FR_S1_1\\\\raw_data\\\\600nm\\\\600_Intensite_aligned.cod']\n",
      " \n",
      " >> Exported X3D .cod file as: Z:\\DatabaseSeg\\DB_upToDate\\batch3\\87\\2023-03-07_T_HORAO-87-BF_FR_S1_1\\raw_data\\600nm\\600_Intensite_PDDN_aligned.cod\n",
      " \n",
      " >> Exported X3D .cod file as: Z:\\DatabaseSeg\\DB_upToDate\\batch3\\87\\2023-03-07_T_HORAO-87-BF_FR_S1_1\\raw_data\\600nm\\600_Intensite_aligned.cod\n"
     ]
    },
    {
     "name": "stderr",
     "output_type": "stream",
     "text": [
      "\r",
      " 47%|█████████████████████████████████████▉                                           | 74/158 [18:45<26:49, 19.17s/it]"
     ]
    },
    {
     "name": "stdout",
     "output_type": "stream",
     "text": [
      "['Z:\\\\DatabaseSeg\\\\DB_upToDate\\\\batch5\\\\99\\\\2023-09-22_T_HORAO-99-AF_FR_S1_1\\\\raw_data\\\\600nm\\\\600_Intensite_PDDN_aligned.cod', 'Z:\\\\DatabaseSeg\\\\DB_upToDate\\\\batch5\\\\99\\\\2023-09-22_T_HORAO-99-AF_FR_S1_1\\\\raw_data\\\\600nm\\\\600_Intensite_aligned.cod']\n",
      " \n",
      " >> Exported X3D .cod file as: Z:\\DatabaseSeg\\DB_upToDate\\batch5\\99\\2023-09-22_T_HORAO-99-AF_FR_S1_1\\raw_data\\600nm\\600_Intensite_PDDN_aligned.cod\n",
      " \n",
      " >> Exported X3D .cod file as: Z:\\DatabaseSeg\\DB_upToDate\\batch5\\99\\2023-09-22_T_HORAO-99-AF_FR_S1_1\\raw_data\\600nm\\600_Intensite_aligned.cod\n"
     ]
    },
    {
     "name": "stderr",
     "output_type": "stream",
     "text": [
      "\r",
      " 47%|██████████████████████████████████████▍                                          | 75/158 [19:09<28:20, 20.48s/it]"
     ]
    },
    {
     "name": "stdout",
     "output_type": "stream",
     "text": [
      "['Z:\\\\DatabaseSeg\\\\DB_upToDate\\\\batch5\\\\101\\\\2023-10-23_T_HORAO-101-AF_FR_S1_1\\\\raw_data\\\\600nm\\\\600_Intensite_PDDN_aligned.cod', 'Z:\\\\DatabaseSeg\\\\DB_upToDate\\\\batch5\\\\101\\\\2023-10-23_T_HORAO-101-AF_FR_S1_1\\\\raw_data\\\\600nm\\\\600_Intensite_aligned.cod']\n",
      " \n",
      " >> Exported X3D .cod file as: Z:\\DatabaseSeg\\DB_upToDate\\batch5\\101\\2023-10-23_T_HORAO-101-AF_FR_S1_1\\raw_data\\600nm\\600_Intensite_PDDN_aligned.cod\n",
      " \n",
      " >> Exported X3D .cod file as: Z:\\DatabaseSeg\\DB_upToDate\\batch5\\101\\2023-10-23_T_HORAO-101-AF_FR_S1_1\\raw_data\\600nm\\600_Intensite_aligned.cod\n"
     ]
    },
    {
     "name": "stderr",
     "output_type": "stream",
     "text": [
      "\r",
      " 48%|██████████████████████████████████████▉                                          | 76/158 [19:36<29:59, 21.94s/it]"
     ]
    },
    {
     "name": "stdout",
     "output_type": "stream",
     "text": [
      "['Z:\\\\DatabaseSeg\\\\DB_upToDate\\\\batch3\\\\84\\\\2023-02-23_T_HORAO-84-AF_FR_S4_1\\\\raw_data\\\\600nm\\\\600_Intensite_PDDN_aligned.cod', 'Z:\\\\DatabaseSeg\\\\DB_upToDate\\\\batch3\\\\84\\\\2023-02-23_T_HORAO-84-AF_FR_S4_1\\\\raw_data\\\\600nm\\\\600_Intensite_aligned.cod']\n",
      " \n",
      " >> Exported X3D .cod file as: Z:\\DatabaseSeg\\DB_upToDate\\batch3\\84\\2023-02-23_T_HORAO-84-AF_FR_S4_1\\raw_data\\600nm\\600_Intensite_PDDN_aligned.cod\n",
      " \n",
      " >> Exported X3D .cod file as: Z:\\DatabaseSeg\\DB_upToDate\\batch3\\84\\2023-02-23_T_HORAO-84-AF_FR_S4_1\\raw_data\\600nm\\600_Intensite_aligned.cod\n"
     ]
    },
    {
     "name": "stderr",
     "output_type": "stream",
     "text": [
      "\r",
      " 49%|███████████████████████████████████████▍                                         | 77/158 [20:02<31:12, 23.12s/it]"
     ]
    },
    {
     "name": "stdout",
     "output_type": "stream",
     "text": [
      "['Z:\\\\DatabaseSeg\\\\DB_upToDate\\\\batch3\\\\88\\\\2023-11-01_T_HORAO-88-AF_FR_S1_1\\\\raw_data\\\\600nm\\\\600_Intensite_PDDN_aligned.cod', 'Z:\\\\DatabaseSeg\\\\DB_upToDate\\\\batch3\\\\88\\\\2023-11-01_T_HORAO-88-AF_FR_S1_1\\\\raw_data\\\\600nm\\\\600_Intensite_aligned.cod']\n",
      " \n",
      " >> Exported X3D .cod file as: Z:\\DatabaseSeg\\DB_upToDate\\batch3\\88\\2023-11-01_T_HORAO-88-AF_FR_S1_1\\raw_data\\600nm\\600_Intensite_PDDN_aligned.cod\n",
      " \n",
      " >> Exported X3D .cod file as: Z:\\DatabaseSeg\\DB_upToDate\\batch3\\88\\2023-11-01_T_HORAO-88-AF_FR_S1_1\\raw_data\\600nm\\600_Intensite_aligned.cod\n"
     ]
    },
    {
     "name": "stderr",
     "output_type": "stream",
     "text": [
      "\r",
      " 49%|███████████████████████████████████████▉                                         | 78/158 [20:29<32:19, 24.24s/it]"
     ]
    },
    {
     "name": "stdout",
     "output_type": "stream",
     "text": [
      "['Z:\\\\DatabaseSeg\\\\DB_upToDate\\\\HT\\\\2024-09-18_T_AUTOPSY-BF_FR_S7_1\\\\raw_data\\\\600nm\\\\600_Intensite_PDDN_aligned.cod', 'Z:\\\\DatabaseSeg\\\\DB_upToDate\\\\HT\\\\2024-09-18_T_AUTOPSY-BF_FR_S7_1\\\\raw_data\\\\600nm\\\\600_Intensite_aligned.cod']\n",
      "['Z:\\\\DatabaseSeg\\\\DB_upToDate\\\\batch5\\\\104\\\\2023-06-13_T_HORAO-104-BF_FR_S3_1\\\\raw_data\\\\600nm\\\\600_Intensite_PDDN_aligned.cod', 'Z:\\\\DatabaseSeg\\\\DB_upToDate\\\\batch5\\\\104\\\\2023-06-13_T_HORAO-104-BF_FR_S3_1\\\\raw_data\\\\600nm\\\\600_Intensite_aligned.cod']\n",
      " \n",
      " >> Exported X3D .cod file as: Z:\\DatabaseSeg\\DB_upToDate\\batch5\\104\\2023-06-13_T_HORAO-104-BF_FR_S3_1\\raw_data\\600nm\\600_Intensite_PDDN_aligned.cod\n",
      " \n",
      " >> Exported X3D .cod file as: Z:\\DatabaseSeg\\DB_upToDate\\batch5\\104\\2023-06-13_T_HORAO-104-BF_FR_S3_1\\raw_data\\600nm\\600_Intensite_aligned.cod\n"
     ]
    },
    {
     "name": "stderr",
     "output_type": "stream",
     "text": [
      "\r",
      " 51%|█████████████████████████████████████████                                        | 80/158 [20:58<26:00, 20.01s/it]"
     ]
    },
    {
     "name": "stdout",
     "output_type": "stream",
     "text": [
      "['Z:\\\\DatabaseSeg\\\\DB_upToDate\\\\batch3\\\\82\\\\2023-10-23_T_HORAO-82-AF_FR_S1_1\\\\raw_data\\\\600nm\\\\600_Intensite_PDDN_aligned.cod', 'Z:\\\\DatabaseSeg\\\\DB_upToDate\\\\batch3\\\\82\\\\2023-10-23_T_HORAO-82-AF_FR_S1_1\\\\raw_data\\\\600nm\\\\600_Intensite_aligned.cod']\n",
      " \n",
      " >> Exported X3D .cod file as: Z:\\DatabaseSeg\\DB_upToDate\\batch3\\82\\2023-10-23_T_HORAO-82-AF_FR_S1_1\\raw_data\\600nm\\600_Intensite_PDDN_aligned.cod\n",
      " \n",
      " >> Exported X3D .cod file as: Z:\\DatabaseSeg\\DB_upToDate\\batch3\\82\\2023-10-23_T_HORAO-82-AF_FR_S1_1\\raw_data\\600nm\\600_Intensite_aligned.cod\n"
     ]
    },
    {
     "name": "stderr",
     "output_type": "stream",
     "text": [
      "\r",
      " 51%|█████████████████████████████████████████▌                                       | 81/158 [21:23<27:01, 21.06s/it]"
     ]
    },
    {
     "name": "stdout",
     "output_type": "stream",
     "text": [
      "['Z:\\\\DatabaseSeg\\\\DB_upToDate\\\\batch3\\\\84\\\\2023-09-22_T_HORAO-84-AF_FR_S2_1\\\\raw_data\\\\600nm\\\\600_Intensite_PDDN_aligned.cod', 'Z:\\\\DatabaseSeg\\\\DB_upToDate\\\\batch3\\\\84\\\\2023-09-22_T_HORAO-84-AF_FR_S2_1\\\\raw_data\\\\600nm\\\\600_Intensite_aligned.cod']\n",
      " \n",
      " >> Exported X3D .cod file as: Z:\\DatabaseSeg\\DB_upToDate\\batch3\\84\\2023-09-22_T_HORAO-84-AF_FR_S2_1\\raw_data\\600nm\\600_Intensite_PDDN_aligned.cod\n",
      " \n",
      " >> Exported X3D .cod file as: Z:\\DatabaseSeg\\DB_upToDate\\batch3\\84\\2023-09-22_T_HORAO-84-AF_FR_S2_1\\raw_data\\600nm\\600_Intensite_aligned.cod\n"
     ]
    },
    {
     "name": "stderr",
     "output_type": "stream",
     "text": [
      "\r",
      " 52%|██████████████████████████████████████████                                       | 82/158 [21:48<27:54, 22.03s/it]"
     ]
    },
    {
     "name": "stdout",
     "output_type": "stream",
     "text": [
      "['Z:\\\\DatabaseSeg\\\\DB_upToDate\\\\batch5\\\\104\\\\2023-09-21_T_HORAO-104-AF_FR_S5_1\\\\raw_data\\\\600nm\\\\600_Intensite_PDDN_aligned.cod', 'Z:\\\\DatabaseSeg\\\\DB_upToDate\\\\batch5\\\\104\\\\2023-09-21_T_HORAO-104-AF_FR_S5_1\\\\raw_data\\\\600nm\\\\600_Intensite_aligned.cod']\n",
      " \n",
      " >> Exported X3D .cod file as: Z:\\DatabaseSeg\\DB_upToDate\\batch5\\104\\2023-09-21_T_HORAO-104-AF_FR_S5_1\\raw_data\\600nm\\600_Intensite_PDDN_aligned.cod\n",
      " \n",
      " >> Exported X3D .cod file as: Z:\\DatabaseSeg\\DB_upToDate\\batch5\\104\\2023-09-21_T_HORAO-104-AF_FR_S5_1\\raw_data\\600nm\\600_Intensite_aligned.cod\n"
     ]
    },
    {
     "name": "stderr",
     "output_type": "stream",
     "text": [
      "\r",
      " 53%|██████████████████████████████████████████▌                                      | 83/158 [22:11<28:07, 22.50s/it]"
     ]
    },
    {
     "name": "stdout",
     "output_type": "stream",
     "text": [
      "['Z:\\\\DatabaseSeg\\\\DB_upToDate\\\\batch5\\\\98\\\\2023-04-27_T_HORAO-98-BF_FR_S1_1\\\\raw_data\\\\600nm\\\\600_Intensite_PDDN_aligned.cod', 'Z:\\\\DatabaseSeg\\\\DB_upToDate\\\\batch5\\\\98\\\\2023-04-27_T_HORAO-98-BF_FR_S1_1\\\\raw_data\\\\600nm\\\\600_Intensite_aligned.cod']\n",
      " \n",
      " >> Exported X3D .cod file as: Z:\\DatabaseSeg\\DB_upToDate\\batch5\\98\\2023-04-27_T_HORAO-98-BF_FR_S1_1\\raw_data\\600nm\\600_Intensite_PDDN_aligned.cod\n",
      " \n",
      " >> Exported X3D .cod file as: Z:\\DatabaseSeg\\DB_upToDate\\batch5\\98\\2023-04-27_T_HORAO-98-BF_FR_S1_1\\raw_data\\600nm\\600_Intensite_aligned.cod\n"
     ]
    },
    {
     "name": "stderr",
     "output_type": "stream",
     "text": [
      "\r",
      " 53%|███████████████████████████████████████████                                      | 84/158 [22:35<28:17, 22.94s/it]"
     ]
    },
    {
     "name": "stdout",
     "output_type": "stream",
     "text": [
      "['Z:\\\\DatabaseSeg\\\\DB_upToDate\\\\batch2\\\\77\\\\2023-06-08_T_HORAO-77-AF_FR_S2_1\\\\raw_data\\\\600nm\\\\600_Intensite_PDDN_aligned.cod', 'Z:\\\\DatabaseSeg\\\\DB_upToDate\\\\batch2\\\\77\\\\2023-06-08_T_HORAO-77-AF_FR_S2_1\\\\raw_data\\\\600nm\\\\600_Intensite_aligned.cod']\n",
      " \n",
      " >> Exported X3D .cod file as: Z:\\DatabaseSeg\\DB_upToDate\\batch2\\77\\2023-06-08_T_HORAO-77-AF_FR_S2_1\\raw_data\\600nm\\600_Intensite_PDDN_aligned.cod\n",
      " \n",
      " >> Exported X3D .cod file as: Z:\\DatabaseSeg\\DB_upToDate\\batch2\\77\\2023-06-08_T_HORAO-77-AF_FR_S2_1\\raw_data\\600nm\\600_Intensite_aligned.cod\n"
     ]
    },
    {
     "name": "stderr",
     "output_type": "stream",
     "text": [
      "\r",
      " 54%|███████████████████████████████████████████▌                                     | 85/158 [23:00<28:28, 23.40s/it]"
     ]
    },
    {
     "name": "stdout",
     "output_type": "stream",
     "text": [
      "['Z:\\\\DatabaseSeg\\\\DB_upToDate\\\\batch3\\\\80\\\\2023-10-23_T_HORAO-80-AF_FR_S1_1\\\\raw_data\\\\600nm\\\\600_Intensite_PDDN_aligned.cod', 'Z:\\\\DatabaseSeg\\\\DB_upToDate\\\\batch3\\\\80\\\\2023-10-23_T_HORAO-80-AF_FR_S1_1\\\\raw_data\\\\600nm\\\\600_Intensite_aligned.cod']\n",
      " \n",
      " >> Exported X3D .cod file as: Z:\\DatabaseSeg\\DB_upToDate\\batch3\\80\\2023-10-23_T_HORAO-80-AF_FR_S1_1\\raw_data\\600nm\\600_Intensite_PDDN_aligned.cod\n",
      " \n",
      " >> Exported X3D .cod file as: Z:\\DatabaseSeg\\DB_upToDate\\batch3\\80\\2023-10-23_T_HORAO-80-AF_FR_S1_1\\raw_data\\600nm\\600_Intensite_aligned.cod\n"
     ]
    },
    {
     "name": "stderr",
     "output_type": "stream",
     "text": [
      "\r",
      " 54%|████████████████████████████████████████████                                     | 86/158 [23:25<28:35, 23.82s/it]"
     ]
    },
    {
     "name": "stdout",
     "output_type": "stream",
     "text": [
      "['Z:\\\\DatabaseSeg\\\\DB_upToDate\\\\batch2\\\\107\\\\2023-09-21_T_HORAO-107-AF_FR_S5_1\\\\raw_data\\\\600nm\\\\600_Intensite_PDDN_aligned.cod', 'Z:\\\\DatabaseSeg\\\\DB_upToDate\\\\batch2\\\\107\\\\2023-09-21_T_HORAO-107-AF_FR_S5_1\\\\raw_data\\\\600nm\\\\600_Intensite_aligned.cod']\n",
      " \n",
      " >> Exported X3D .cod file as: Z:\\DatabaseSeg\\DB_upToDate\\batch2\\107\\2023-09-21_T_HORAO-107-AF_FR_S5_1\\raw_data\\600nm\\600_Intensite_PDDN_aligned.cod\n",
      " \n",
      " >> Exported X3D .cod file as: Z:\\DatabaseSeg\\DB_upToDate\\batch2\\107\\2023-09-21_T_HORAO-107-AF_FR_S5_1\\raw_data\\600nm\\600_Intensite_aligned.cod\n"
     ]
    },
    {
     "name": "stderr",
     "output_type": "stream",
     "text": [
      "\r",
      " 55%|████████████████████████████████████████████▌                                    | 87/158 [23:47<27:46, 23.47s/it]"
     ]
    },
    {
     "name": "stdout",
     "output_type": "stream",
     "text": [
      "['Z:\\\\DatabaseSeg\\\\DB_upToDate\\\\batch5\\\\104\\\\2023-09-21_T_HORAO-104-AF_FR_S6_1\\\\raw_data\\\\600nm\\\\600_Intensite_PDDN_aligned.cod', 'Z:\\\\DatabaseSeg\\\\DB_upToDate\\\\batch5\\\\104\\\\2023-09-21_T_HORAO-104-AF_FR_S6_1\\\\raw_data\\\\600nm\\\\600_Intensite_aligned.cod']\n",
      " \n",
      " >> Exported X3D .cod file as: Z:\\DatabaseSeg\\DB_upToDate\\batch5\\104\\2023-09-21_T_HORAO-104-AF_FR_S6_1\\raw_data\\600nm\\600_Intensite_PDDN_aligned.cod\n",
      " \n",
      " >> Exported X3D .cod file as: Z:\\DatabaseSeg\\DB_upToDate\\batch5\\104\\2023-09-21_T_HORAO-104-AF_FR_S6_1\\raw_data\\600nm\\600_Intensite_aligned.cod\n"
     ]
    },
    {
     "name": "stderr",
     "output_type": "stream",
     "text": [
      "\r",
      " 56%|█████████████████████████████████████████████                                    | 88/158 [24:12<27:49, 23.85s/it]"
     ]
    },
    {
     "name": "stdout",
     "output_type": "stream",
     "text": [
      "['Z:\\\\DatabaseSeg\\\\DB_upToDate\\\\batch1\\\\47\\\\2022-09-27_T_HORAO-47-BF_FR_S1_1\\\\raw_data\\\\600nm\\\\600_Intensite_PDDN_aligned.cod', 'Z:\\\\DatabaseSeg\\\\DB_upToDate\\\\batch1\\\\47\\\\2022-09-27_T_HORAO-47-BF_FR_S1_1\\\\raw_data\\\\600nm\\\\600_Intensite_aligned.cod']\n",
      "['Z:\\\\DatabaseSeg\\\\DB_upToDate\\\\batch5\\\\105\\\\2023-09-21_T_HORAO-105-AF_FR_S1_1\\\\raw_data\\\\600nm\\\\600_Intensite_PDDN_aligned.cod', 'Z:\\\\DatabaseSeg\\\\DB_upToDate\\\\batch5\\\\105\\\\2023-09-21_T_HORAO-105-AF_FR_S1_1\\\\raw_data\\\\600nm\\\\600_Intensite_aligned.cod']\n",
      " \n",
      " >> Exported X3D .cod file as: Z:\\DatabaseSeg\\DB_upToDate\\batch5\\105\\2023-09-21_T_HORAO-105-AF_FR_S1_1\\raw_data\\600nm\\600_Intensite_PDDN_aligned.cod\n",
      " \n",
      " >> Exported X3D .cod file as: Z:\\DatabaseSeg\\DB_upToDate\\batch5\\105\\2023-09-21_T_HORAO-105-AF_FR_S1_1\\raw_data\\600nm\\600_Intensite_aligned.cod\n"
     ]
    },
    {
     "name": "stderr",
     "output_type": "stream",
     "text": [
      "\r",
      " 57%|██████████████████████████████████████████████▏                                  | 90/158 [24:38<21:24, 18.89s/it]"
     ]
    },
    {
     "name": "stdout",
     "output_type": "stream",
     "text": [
      "['Z:\\\\DatabaseSeg\\\\DB_upToDate\\\\batch1\\\\45\\\\2022-09-21_T_HORAO-45-BF_FR_S1_1\\\\raw_data\\\\600nm\\\\600_Intensite_PDDN_aligned.cod', 'Z:\\\\DatabaseSeg\\\\DB_upToDate\\\\batch1\\\\45\\\\2022-09-21_T_HORAO-45-BF_FR_S1_1\\\\raw_data\\\\600nm\\\\600_Intensite_aligned.cod']\n",
      "['Z:\\\\DatabaseSeg\\\\DB_upToDate\\\\HT\\\\2022-07-06_T_autopsy-cryo-BF_FR_S2_1\\\\raw_data\\\\600nm\\\\600_Intensite_PDDN_aligned.cod', 'Z:\\\\DatabaseSeg\\\\DB_upToDate\\\\HT\\\\2022-07-06_T_autopsy-cryo-BF_FR_S2_1\\\\raw_data\\\\600nm\\\\600_Intensite_aligned.cod']\n",
      "['Z:\\\\DatabaseSeg\\\\DB_upToDate\\\\batch2\\\\77\\\\2023-06-08_T_HORAO-77-AF_FR_S1_1\\\\raw_data\\\\600nm\\\\600_Intensite_PDDN_aligned.cod', 'Z:\\\\DatabaseSeg\\\\DB_upToDate\\\\batch2\\\\77\\\\2023-06-08_T_HORAO-77-AF_FR_S1_1\\\\raw_data\\\\600nm\\\\600_Intensite_aligned.cod']\n",
      " \n",
      " >> Exported X3D .cod file as: Z:\\DatabaseSeg\\DB_upToDate\\batch2\\77\\2023-06-08_T_HORAO-77-AF_FR_S1_1\\raw_data\\600nm\\600_Intensite_PDDN_aligned.cod\n",
      " \n",
      " >> Exported X3D .cod file as: Z:\\DatabaseSeg\\DB_upToDate\\batch2\\77\\2023-06-08_T_HORAO-77-AF_FR_S1_1\\raw_data\\600nm\\600_Intensite_aligned.cod\n"
     ]
    },
    {
     "name": "stderr",
     "output_type": "stream",
     "text": [
      "\r",
      " 59%|███████████████████████████████████████████████▋                                 | 93/158 [25:02<14:36, 13.48s/it]"
     ]
    },
    {
     "name": "stdout",
     "output_type": "stream",
     "text": [
      "['Z:\\\\DatabaseSeg\\\\DB_upToDate\\\\batch4\\\\92\\\\2023-03-23_T_HORAO-92-BF_FR_S4_1\\\\raw_data\\\\600nm\\\\600_Intensite_PDDN_aligned.cod', 'Z:\\\\DatabaseSeg\\\\DB_upToDate\\\\batch4\\\\92\\\\2023-03-23_T_HORAO-92-BF_FR_S4_1\\\\raw_data\\\\600nm\\\\600_Intensite_aligned.cod']\n",
      " \n",
      " >> Exported X3D .cod file as: Z:\\DatabaseSeg\\DB_upToDate\\batch4\\92\\2023-03-23_T_HORAO-92-BF_FR_S4_1\\raw_data\\600nm\\600_Intensite_PDDN_aligned.cod\n",
      " \n",
      " >> Exported X3D .cod file as: Z:\\DatabaseSeg\\DB_upToDate\\batch4\\92\\2023-03-23_T_HORAO-92-BF_FR_S4_1\\raw_data\\600nm\\600_Intensite_aligned.cod\n"
     ]
    },
    {
     "name": "stderr",
     "output_type": "stream",
     "text": [
      "\r",
      " 59%|████████████████████████████████████████████████▏                                | 94/158 [25:29<17:09, 16.09s/it]"
     ]
    },
    {
     "name": "stdout",
     "output_type": "stream",
     "text": [
      "['Z:\\\\DatabaseSeg\\\\DB_upToDate\\\\batch3\\\\87\\\\2023-10-23_T_HORAO-87-AF_FR_S1_1\\\\raw_data\\\\600nm\\\\600_Intensite_PDDN_aligned.cod', 'Z:\\\\DatabaseSeg\\\\DB_upToDate\\\\batch3\\\\87\\\\2023-10-23_T_HORAO-87-AF_FR_S1_1\\\\raw_data\\\\600nm\\\\600_Intensite_aligned.cod']\n",
      " \n",
      " >> Exported X3D .cod file as: Z:\\DatabaseSeg\\DB_upToDate\\batch3\\87\\2023-10-23_T_HORAO-87-AF_FR_S1_1\\raw_data\\600nm\\600_Intensite_PDDN_aligned.cod\n",
      " \n",
      " >> Exported X3D .cod file as: Z:\\DatabaseSeg\\DB_upToDate\\batch3\\87\\2023-10-23_T_HORAO-87-AF_FR_S1_1\\raw_data\\600nm\\600_Intensite_aligned.cod\n"
     ]
    },
    {
     "name": "stderr",
     "output_type": "stream",
     "text": [
      "\r",
      " 60%|████████████████████████████████████████████████▋                                | 95/158 [25:54<18:51, 17.96s/it]"
     ]
    },
    {
     "name": "stdout",
     "output_type": "stream",
     "text": [
      "['Z:\\\\DatabaseSeg\\\\DB_upToDate\\\\batch1\\\\42\\\\2022-10-25_T_HORAO-42-AF_FR_S3_1\\\\raw_data\\\\600nm\\\\600_Intensite_PDDN_aligned.cod', 'Z:\\\\DatabaseSeg\\\\DB_upToDate\\\\batch1\\\\42\\\\2022-10-25_T_HORAO-42-AF_FR_S3_1\\\\raw_data\\\\600nm\\\\600_Intensite_aligned.cod']\n",
      " \n",
      " >> Exported X3D .cod file as: Z:\\DatabaseSeg\\DB_upToDate\\batch1\\42\\2022-10-25_T_HORAO-42-AF_FR_S3_1\\raw_data\\600nm\\600_Intensite_PDDN_aligned.cod\n",
      " \n",
      " >> Exported X3D .cod file as: Z:\\DatabaseSeg\\DB_upToDate\\batch1\\42\\2022-10-25_T_HORAO-42-AF_FR_S3_1\\raw_data\\600nm\\600_Intensite_aligned.cod\n"
     ]
    },
    {
     "name": "stderr",
     "output_type": "stream",
     "text": [
      "\r",
      " 61%|█████████████████████████████████████████████████▏                               | 96/158 [26:18<19:53, 19.25s/it]"
     ]
    },
    {
     "name": "stdout",
     "output_type": "stream",
     "text": [
      "['Z:\\\\DatabaseSeg\\\\DB_upToDate\\\\batch1\\\\45\\\\2022-12-01_T_HORAO-45-AF_FR_S1_1\\\\raw_data\\\\600nm\\\\600_Intensite_PDDN_aligned.cod', 'Z:\\\\DatabaseSeg\\\\DB_upToDate\\\\batch1\\\\45\\\\2022-12-01_T_HORAO-45-AF_FR_S1_1\\\\raw_data\\\\600nm\\\\600_Intensite_aligned.cod']\n",
      " \n",
      " >> Exported X3D .cod file as: Z:\\DatabaseSeg\\DB_upToDate\\batch1\\45\\2022-12-01_T_HORAO-45-AF_FR_S1_1\\raw_data\\600nm\\600_Intensite_PDDN_aligned.cod\n",
      " \n",
      " >> Exported X3D .cod file as: Z:\\DatabaseSeg\\DB_upToDate\\batch1\\45\\2022-12-01_T_HORAO-45-AF_FR_S1_1\\raw_data\\600nm\\600_Intensite_aligned.cod\n"
     ]
    },
    {
     "name": "stderr",
     "output_type": "stream",
     "text": [
      "\r",
      " 61%|█████████████████████████████████████████████████▋                               | 97/158 [26:42<20:58, 20.63s/it]"
     ]
    },
    {
     "name": "stdout",
     "output_type": "stream",
     "text": [
      "['Z:\\\\DatabaseSeg\\\\DB_upToDate\\\\batch2\\\\107\\\\2023-11-01_T_HORAO-107-AF_FR_S6_1\\\\raw_data\\\\600nm\\\\600_Intensite_PDDN_aligned.cod', 'Z:\\\\DatabaseSeg\\\\DB_upToDate\\\\batch2\\\\107\\\\2023-11-01_T_HORAO-107-AF_FR_S6_1\\\\raw_data\\\\600nm\\\\600_Intensite_aligned.cod']\n",
      " \n",
      " >> Exported X3D .cod file as: Z:\\DatabaseSeg\\DB_upToDate\\batch2\\107\\2023-11-01_T_HORAO-107-AF_FR_S6_1\\raw_data\\600nm\\600_Intensite_PDDN_aligned.cod\n",
      " \n",
      " >> Exported X3D .cod file as: Z:\\DatabaseSeg\\DB_upToDate\\batch2\\107\\2023-11-01_T_HORAO-107-AF_FR_S6_1\\raw_data\\600nm\\600_Intensite_aligned.cod\n"
     ]
    },
    {
     "name": "stderr",
     "output_type": "stream",
     "text": [
      "\r",
      " 62%|██████████████████████████████████████████████████▏                              | 98/158 [27:07<21:47, 21.79s/it]"
     ]
    },
    {
     "name": "stdout",
     "output_type": "stream",
     "text": [
      "['Z:\\\\DatabaseSeg\\\\DB_upToDate\\\\batch2\\\\78\\\\2023-10-23_T_HORAO-78-AF_FR_S4_1\\\\raw_data\\\\600nm\\\\600_Intensite_PDDN_aligned.cod', 'Z:\\\\DatabaseSeg\\\\DB_upToDate\\\\batch2\\\\78\\\\2023-10-23_T_HORAO-78-AF_FR_S4_1\\\\raw_data\\\\600nm\\\\600_Intensite_aligned.cod']\n",
      " \n",
      " >> Exported X3D .cod file as: Z:\\DatabaseSeg\\DB_upToDate\\batch2\\78\\2023-10-23_T_HORAO-78-AF_FR_S4_1\\raw_data\\600nm\\600_Intensite_PDDN_aligned.cod\n",
      " \n",
      " >> Exported X3D .cod file as: Z:\\DatabaseSeg\\DB_upToDate\\batch2\\78\\2023-10-23_T_HORAO-78-AF_FR_S4_1\\raw_data\\600nm\\600_Intensite_aligned.cod\n"
     ]
    },
    {
     "name": "stderr",
     "output_type": "stream",
     "text": [
      "\r",
      " 63%|██████████████████████████████████████████████████▊                              | 99/158 [27:33<22:30, 22.90s/it]"
     ]
    },
    {
     "name": "stdout",
     "output_type": "stream",
     "text": [
      "['Z:\\\\DatabaseSeg\\\\DB_upToDate\\\\batch1\\\\67\\\\2022-11-28_T_HORAO-67-AF_FR_S1_1\\\\raw_data\\\\600nm\\\\600_Intensite_PDDN_aligned.cod', 'Z:\\\\DatabaseSeg\\\\DB_upToDate\\\\batch1\\\\67\\\\2022-11-28_T_HORAO-67-AF_FR_S1_1\\\\raw_data\\\\600nm\\\\600_Intensite_aligned.cod']\n",
      " \n",
      " >> Exported X3D .cod file as: Z:\\DatabaseSeg\\DB_upToDate\\batch1\\67\\2022-11-28_T_HORAO-67-AF_FR_S1_1\\raw_data\\600nm\\600_Intensite_PDDN_aligned.cod\n",
      " \n",
      " >> Exported X3D .cod file as: Z:\\DatabaseSeg\\DB_upToDate\\batch1\\67\\2022-11-28_T_HORAO-67-AF_FR_S1_1\\raw_data\\600nm\\600_Intensite_aligned.cod\n"
     ]
    },
    {
     "name": "stderr",
     "output_type": "stream",
     "text": [
      "\r",
      " 63%|██████████████████████████████████████████████████▋                             | 100/158 [27:58<22:36, 23.38s/it]"
     ]
    },
    {
     "name": "stdout",
     "output_type": "stream",
     "text": [
      "['Z:\\\\DatabaseSeg\\\\DB_upToDate\\\\batch2\\\\78\\\\2023-02-22_T_HORAO-78-AF_FR_S2_1\\\\raw_data\\\\600nm\\\\600_Intensite_PDDN_aligned.cod', 'Z:\\\\DatabaseSeg\\\\DB_upToDate\\\\batch2\\\\78\\\\2023-02-22_T_HORAO-78-AF_FR_S2_1\\\\raw_data\\\\600nm\\\\600_Intensite_aligned.cod']\n",
      " \n",
      " >> Exported X3D .cod file as: Z:\\DatabaseSeg\\DB_upToDate\\batch2\\78\\2023-02-22_T_HORAO-78-AF_FR_S2_1\\raw_data\\600nm\\600_Intensite_PDDN_aligned.cod\n",
      " \n",
      " >> Exported X3D .cod file as: Z:\\DatabaseSeg\\DB_upToDate\\batch2\\78\\2023-02-22_T_HORAO-78-AF_FR_S2_1\\raw_data\\600nm\\600_Intensite_aligned.cod\n"
     ]
    },
    {
     "name": "stderr",
     "output_type": "stream",
     "text": [
      "\r",
      " 64%|███████████████████████████████████████████████████▏                            | 101/158 [28:23<22:35, 23.78s/it]"
     ]
    },
    {
     "name": "stdout",
     "output_type": "stream",
     "text": [
      "['Z:\\\\DatabaseSeg\\\\DB_upToDate\\\\batch2\\\\78\\\\2023-02-22_T_HORAO-78-AF_FR_S1_1\\\\raw_data\\\\600nm\\\\600_Intensite_PDDN_aligned.cod', 'Z:\\\\DatabaseSeg\\\\DB_upToDate\\\\batch2\\\\78\\\\2023-02-22_T_HORAO-78-AF_FR_S1_1\\\\raw_data\\\\600nm\\\\600_Intensite_aligned.cod']\n",
      " \n",
      " >> Exported X3D .cod file as: Z:\\DatabaseSeg\\DB_upToDate\\batch2\\78\\2023-02-22_T_HORAO-78-AF_FR_S1_1\\raw_data\\600nm\\600_Intensite_PDDN_aligned.cod\n",
      " \n",
      " >> Exported X3D .cod file as: Z:\\DatabaseSeg\\DB_upToDate\\batch2\\78\\2023-02-22_T_HORAO-78-AF_FR_S1_1\\raw_data\\600nm\\600_Intensite_aligned.cod\n"
     ]
    },
    {
     "name": "stderr",
     "output_type": "stream",
     "text": [
      "\r",
      " 65%|███████████████████████████████████████████████████▋                            | 102/158 [28:47<22:17, 23.89s/it]"
     ]
    },
    {
     "name": "stdout",
     "output_type": "stream",
     "text": [
      "['Z:\\\\DatabaseSeg\\\\DB_upToDate\\\\batch3\\\\84\\\\2023-02-08_T_HORAO-84-BF_FR_S2_1\\\\raw_data\\\\600nm\\\\600_Intensite_PDDN_aligned.cod', 'Z:\\\\DatabaseSeg\\\\DB_upToDate\\\\batch3\\\\84\\\\2023-02-08_T_HORAO-84-BF_FR_S2_1\\\\raw_data\\\\600nm\\\\600_Intensite_aligned.cod']\n",
      " \n",
      " >> Exported X3D .cod file as: Z:\\DatabaseSeg\\DB_upToDate\\batch3\\84\\2023-02-08_T_HORAO-84-BF_FR_S2_1\\raw_data\\600nm\\600_Intensite_PDDN_aligned.cod\n",
      " \n",
      " >> Exported X3D .cod file as: Z:\\DatabaseSeg\\DB_upToDate\\batch3\\84\\2023-02-08_T_HORAO-84-BF_FR_S2_1\\raw_data\\600nm\\600_Intensite_aligned.cod\n"
     ]
    },
    {
     "name": "stderr",
     "output_type": "stream",
     "text": [
      "\r",
      " 65%|████████████████████████████████████████████████████▏                           | 103/158 [29:13<22:38, 24.70s/it]"
     ]
    },
    {
     "name": "stdout",
     "output_type": "stream",
     "text": [
      "['Z:\\\\DatabaseSeg\\\\DB_upToDate\\\\batch1\\\\63\\\\2022-11-28_T_HORAO-63-AF_FR_S3_1\\\\raw_data\\\\600nm\\\\600_Intensite_PDDN_aligned.cod', 'Z:\\\\DatabaseSeg\\\\DB_upToDate\\\\batch1\\\\63\\\\2022-11-28_T_HORAO-63-AF_FR_S3_1\\\\raw_data\\\\600nm\\\\600_Intensite_aligned.cod']\n",
      " \n",
      " >> Exported X3D .cod file as: Z:\\DatabaseSeg\\DB_upToDate\\batch1\\63\\2022-11-28_T_HORAO-63-AF_FR_S3_1\\raw_data\\600nm\\600_Intensite_PDDN_aligned.cod\n",
      " \n",
      " >> Exported X3D .cod file as: Z:\\DatabaseSeg\\DB_upToDate\\batch1\\63\\2022-11-28_T_HORAO-63-AF_FR_S3_1\\raw_data\\600nm\\600_Intensite_aligned.cod\n"
     ]
    },
    {
     "name": "stderr",
     "output_type": "stream",
     "text": [
      "\r",
      " 66%|████████████████████████████████████████████████████▋                           | 104/158 [29:38<22:20, 24.82s/it]"
     ]
    },
    {
     "name": "stdout",
     "output_type": "stream",
     "text": [
      "['Z:\\\\DatabaseSeg\\\\DB_upToDate\\\\batch4\\\\93\\\\2023-03-30_T_HORAO-93-BF_FR_S1_1\\\\raw_data\\\\600nm\\\\600_Intensite_PDDN_aligned.cod', 'Z:\\\\DatabaseSeg\\\\DB_upToDate\\\\batch4\\\\93\\\\2023-03-30_T_HORAO-93-BF_FR_S1_1\\\\raw_data\\\\600nm\\\\600_Intensite_aligned.cod']\n",
      " \n",
      " >> Exported X3D .cod file as: Z:\\DatabaseSeg\\DB_upToDate\\batch4\\93\\2023-03-30_T_HORAO-93-BF_FR_S1_1\\raw_data\\600nm\\600_Intensite_PDDN_aligned.cod\n",
      " \n",
      " >> Exported X3D .cod file as: Z:\\DatabaseSeg\\DB_upToDate\\batch4\\93\\2023-03-30_T_HORAO-93-BF_FR_S1_1\\raw_data\\600nm\\600_Intensite_aligned.cod\n"
     ]
    },
    {
     "name": "stderr",
     "output_type": "stream",
     "text": [
      "\r",
      " 66%|█████████████████████████████████████████████████████▏                          | 105/158 [30:04<22:08, 25.06s/it]"
     ]
    },
    {
     "name": "stdout",
     "output_type": "stream",
     "text": [
      "['Z:\\\\DatabaseSeg\\\\DB_upToDate\\\\batch1\\\\45\\\\2022-09-21_T_HORAO-45-BF_FR_S3_1\\\\raw_data\\\\600nm\\\\600_Intensite_PDDN_aligned.cod', 'Z:\\\\DatabaseSeg\\\\DB_upToDate\\\\batch1\\\\45\\\\2022-09-21_T_HORAO-45-BF_FR_S3_1\\\\raw_data\\\\600nm\\\\600_Intensite_aligned.cod']\n",
      "['Z:\\\\DatabaseSeg\\\\DB_upToDate\\\\batch1\\\\45\\\\2022-10-14_T_HORAO-45-AF_FR_S3_1\\\\raw_data\\\\600nm\\\\600_Intensite_PDDN_aligned.cod', 'Z:\\\\DatabaseSeg\\\\DB_upToDate\\\\batch1\\\\45\\\\2022-10-14_T_HORAO-45-AF_FR_S3_1\\\\raw_data\\\\600nm\\\\600_Intensite_aligned.cod']\n",
      " \n",
      " >> Exported X3D .cod file as: Z:\\DatabaseSeg\\DB_upToDate\\batch1\\45\\2022-10-14_T_HORAO-45-AF_FR_S3_1\\raw_data\\600nm\\600_Intensite_PDDN_aligned.cod\n",
      " \n",
      " >> Exported X3D .cod file as: Z:\\DatabaseSeg\\DB_upToDate\\batch1\\45\\2022-10-14_T_HORAO-45-AF_FR_S3_1\\raw_data\\600nm\\600_Intensite_aligned.cod\n"
     ]
    },
    {
     "name": "stderr",
     "output_type": "stream",
     "text": [
      "\r",
      " 68%|██████████████████████████████████████████████████████▏                         | 107/158 [30:30<16:35, 19.52s/it]"
     ]
    },
    {
     "name": "stdout",
     "output_type": "stream",
     "text": [
      "['Z:\\\\DatabaseSeg\\\\DB_upToDate\\\\batch1\\\\68\\\\2022-11-29_T_HORAO-68-AF_FR_S2_1\\\\raw_data\\\\600nm\\\\600_Intensite_PDDN_aligned.cod', 'Z:\\\\DatabaseSeg\\\\DB_upToDate\\\\batch1\\\\68\\\\2022-11-29_T_HORAO-68-AF_FR_S2_1\\\\raw_data\\\\600nm\\\\600_Intensite_aligned.cod']\n",
      " \n",
      " >> Exported X3D .cod file as: Z:\\DatabaseSeg\\DB_upToDate\\batch1\\68\\2022-11-29_T_HORAO-68-AF_FR_S2_1\\raw_data\\600nm\\600_Intensite_PDDN_aligned.cod\n",
      " \n",
      " >> Exported X3D .cod file as: Z:\\DatabaseSeg\\DB_upToDate\\batch1\\68\\2022-11-29_T_HORAO-68-AF_FR_S2_1\\raw_data\\600nm\\600_Intensite_aligned.cod\n"
     ]
    },
    {
     "name": "stderr",
     "output_type": "stream",
     "text": [
      "\r",
      " 68%|██████████████████████████████████████████████████████▋                         | 108/158 [30:56<17:31, 21.03s/it]"
     ]
    },
    {
     "name": "stdout",
     "output_type": "stream",
     "text": [
      "['Z:\\\\DatabaseSeg\\\\DB_upToDate\\\\batch1\\\\21\\\\2022-06-29_T_HORAO-21-AF_FR_S2_1\\\\raw_data\\\\600nm\\\\600_Intensite_PDDN_aligned.cod', 'Z:\\\\DatabaseSeg\\\\DB_upToDate\\\\batch1\\\\21\\\\2022-06-29_T_HORAO-21-AF_FR_S2_1\\\\raw_data\\\\600nm\\\\600_Intensite_aligned.cod']\n",
      "['Z:\\\\DatabaseSeg\\\\DB_upToDate\\\\batch2\\\\77\\\\2023-01-04_T_HORAO-77-BF_FR_S3_1\\\\raw_data\\\\600nm\\\\600_Intensite_PDDN_aligned.cod', 'Z:\\\\DatabaseSeg\\\\DB_upToDate\\\\batch2\\\\77\\\\2023-01-04_T_HORAO-77-BF_FR_S3_1\\\\raw_data\\\\600nm\\\\600_Intensite_aligned.cod']\n",
      " \n",
      " >> Exported X3D .cod file as: Z:\\DatabaseSeg\\DB_upToDate\\batch2\\77\\2023-01-04_T_HORAO-77-BF_FR_S3_1\\raw_data\\600nm\\600_Intensite_PDDN_aligned.cod\n",
      " \n",
      " >> Exported X3D .cod file as: Z:\\DatabaseSeg\\DB_upToDate\\batch2\\77\\2023-01-04_T_HORAO-77-BF_FR_S3_1\\raw_data\\600nm\\600_Intensite_aligned.cod\n"
     ]
    },
    {
     "name": "stderr",
     "output_type": "stream",
     "text": [
      "\r",
      " 70%|███████████████████████████████████████████████████████▋                        | 110/158 [31:21<14:01, 17.53s/it]"
     ]
    },
    {
     "name": "stdout",
     "output_type": "stream",
     "text": [
      "['Z:\\\\DatabaseSeg\\\\DB_upToDate\\\\batch1\\\\63\\\\2022-11-08_T_HORAO-63-BF_FR_S2_1\\\\raw_data\\\\600nm\\\\600_Intensite_PDDN_aligned.cod', 'Z:\\\\DatabaseSeg\\\\DB_upToDate\\\\batch1\\\\63\\\\2022-11-08_T_HORAO-63-BF_FR_S2_1\\\\raw_data\\\\600nm\\\\600_Intensite_aligned.cod']\n",
      " \n",
      " >> Exported X3D .cod file as: Z:\\DatabaseSeg\\DB_upToDate\\batch1\\63\\2022-11-08_T_HORAO-63-BF_FR_S2_1\\raw_data\\600nm\\600_Intensite_PDDN_aligned.cod\n",
      " \n",
      " >> Exported X3D .cod file as: Z:\\DatabaseSeg\\DB_upToDate\\batch1\\63\\2022-11-08_T_HORAO-63-BF_FR_S2_1\\raw_data\\600nm\\600_Intensite_aligned.cod\n"
     ]
    },
    {
     "name": "stderr",
     "output_type": "stream",
     "text": [
      "\r",
      " 70%|████████████████████████████████████████████████████████▏                       | 111/158 [31:47<15:17, 19.52s/it]"
     ]
    },
    {
     "name": "stdout",
     "output_type": "stream",
     "text": [
      "['Z:\\\\DatabaseSeg\\\\DB_upToDate\\\\batch2\\\\90\\\\2023-03-14_T_HORAO-90-BF_FR_S2_1\\\\raw_data\\\\600nm\\\\600_Intensite_PDDN_aligned.cod', 'Z:\\\\DatabaseSeg\\\\DB_upToDate\\\\batch2\\\\90\\\\2023-03-14_T_HORAO-90-BF_FR_S2_1\\\\raw_data\\\\600nm\\\\600_Intensite_aligned.cod']\n",
      " \n",
      " >> Exported X3D .cod file as: Z:\\DatabaseSeg\\DB_upToDate\\batch2\\90\\2023-03-14_T_HORAO-90-BF_FR_S2_1\\raw_data\\600nm\\600_Intensite_PDDN_aligned.cod\n",
      " \n",
      " >> Exported X3D .cod file as: Z:\\DatabaseSeg\\DB_upToDate\\batch2\\90\\2023-03-14_T_HORAO-90-BF_FR_S2_1\\raw_data\\600nm\\600_Intensite_aligned.cod\n"
     ]
    },
    {
     "name": "stderr",
     "output_type": "stream",
     "text": [
      "\r",
      " 71%|████████████████████████████████████████████████████████▋                       | 112/158 [32:15<16:28, 21.48s/it]"
     ]
    },
    {
     "name": "stdout",
     "output_type": "stream",
     "text": [
      "['Z:\\\\DatabaseSeg\\\\DB_upToDate\\\\batch1\\\\63\\\\2022-11-28_T_HORAO-63-AF_FR_S1_1\\\\raw_data\\\\600nm\\\\600_Intensite_PDDN_aligned.cod', 'Z:\\\\DatabaseSeg\\\\DB_upToDate\\\\batch1\\\\63\\\\2022-11-28_T_HORAO-63-AF_FR_S1_1\\\\raw_data\\\\600nm\\\\600_Intensite_aligned.cod']\n",
      " \n",
      " >> Exported X3D .cod file as: Z:\\DatabaseSeg\\DB_upToDate\\batch1\\63\\2022-11-28_T_HORAO-63-AF_FR_S1_1\\raw_data\\600nm\\600_Intensite_PDDN_aligned.cod\n",
      " \n",
      " >> Exported X3D .cod file as: Z:\\DatabaseSeg\\DB_upToDate\\batch1\\63\\2022-11-28_T_HORAO-63-AF_FR_S1_1\\raw_data\\600nm\\600_Intensite_aligned.cod\n"
     ]
    },
    {
     "name": "stderr",
     "output_type": "stream",
     "text": [
      "\r",
      " 72%|█████████████████████████████████████████████████████████▏                      | 113/158 [32:39<16:37, 22.17s/it]"
     ]
    },
    {
     "name": "stdout",
     "output_type": "stream",
     "text": [
      "['Z:\\\\DatabaseSeg\\\\DB_upToDate\\\\batch2\\\\107\\\\2023-08-02_T_HORAO-107-BF_FR_S6_1\\\\raw_data\\\\600nm\\\\600_Intensite_PDDN_aligned.cod', 'Z:\\\\DatabaseSeg\\\\DB_upToDate\\\\batch2\\\\107\\\\2023-08-02_T_HORAO-107-BF_FR_S6_1\\\\raw_data\\\\600nm\\\\600_Intensite_aligned.cod']\n",
      " \n",
      " >> Exported X3D .cod file as: Z:\\DatabaseSeg\\DB_upToDate\\batch2\\107\\2023-08-02_T_HORAO-107-BF_FR_S6_1\\raw_data\\600nm\\600_Intensite_PDDN_aligned.cod\n",
      " \n",
      " >> Exported X3D .cod file as: Z:\\DatabaseSeg\\DB_upToDate\\batch2\\107\\2023-08-02_T_HORAO-107-BF_FR_S6_1\\raw_data\\600nm\\600_Intensite_aligned.cod\n"
     ]
    },
    {
     "name": "stderr",
     "output_type": "stream",
     "text": [
      "\r",
      " 72%|█████████████████████████████████████████████████████████▋                      | 114/158 [33:05<16:59, 23.17s/it]"
     ]
    },
    {
     "name": "stdout",
     "output_type": "stream",
     "text": [
      "['Z:\\\\DatabaseSeg\\\\DB_upToDate\\\\batch4\\\\95\\\\2023-05-12_T_HORAO-95-AF_FR_S1_1\\\\raw_data\\\\600nm\\\\600_Intensite_PDDN_aligned.cod', 'Z:\\\\DatabaseSeg\\\\DB_upToDate\\\\batch4\\\\95\\\\2023-05-12_T_HORAO-95-AF_FR_S1_1\\\\raw_data\\\\600nm\\\\600_Intensite_aligned.cod']\n",
      " \n",
      " >> Exported X3D .cod file as: Z:\\DatabaseSeg\\DB_upToDate\\batch4\\95\\2023-05-12_T_HORAO-95-AF_FR_S1_1\\raw_data\\600nm\\600_Intensite_PDDN_aligned.cod\n",
      " \n",
      " >> Exported X3D .cod file as: Z:\\DatabaseSeg\\DB_upToDate\\batch4\\95\\2023-05-12_T_HORAO-95-AF_FR_S1_1\\raw_data\\600nm\\600_Intensite_aligned.cod\n"
     ]
    },
    {
     "name": "stderr",
     "output_type": "stream",
     "text": [
      "\r",
      " 73%|██████████████████████████████████████████████████████████▏                     | 115/158 [33:30<17:04, 23.83s/it]"
     ]
    },
    {
     "name": "stdout",
     "output_type": "stream",
     "text": [
      "['Z:\\\\DatabaseSeg\\\\DB_upToDate\\\\HT\\\\2022-07-06_T_autopsy-cryo-BF_FR_S1_1\\\\raw_data\\\\600nm\\\\600_Intensite_PDDN_aligned.cod', 'Z:\\\\DatabaseSeg\\\\DB_upToDate\\\\HT\\\\2022-07-06_T_autopsy-cryo-BF_FR_S1_1\\\\raw_data\\\\600nm\\\\600_Intensite_aligned.cod']\n",
      "['Z:\\\\DatabaseSeg\\\\DB_upToDate\\\\batch5\\\\103\\\\2023-05-26_T_HORAO-103-BF_FR_S1_1\\\\raw_data\\\\600nm\\\\600_Intensite_PDDN_aligned.cod', 'Z:\\\\DatabaseSeg\\\\DB_upToDate\\\\batch5\\\\103\\\\2023-05-26_T_HORAO-103-BF_FR_S1_1\\\\raw_data\\\\600nm\\\\600_Intensite_aligned.cod']\n",
      " \n",
      " >> Exported X3D .cod file as: Z:\\DatabaseSeg\\DB_upToDate\\batch5\\103\\2023-05-26_T_HORAO-103-BF_FR_S1_1\\raw_data\\600nm\\600_Intensite_PDDN_aligned.cod\n",
      " \n",
      " >> Exported X3D .cod file as: Z:\\DatabaseSeg\\DB_upToDate\\batch5\\103\\2023-05-26_T_HORAO-103-BF_FR_S1_1\\raw_data\\600nm\\600_Intensite_aligned.cod\n"
     ]
    },
    {
     "name": "stderr",
     "output_type": "stream",
     "text": [
      "\r",
      " 74%|███████████████████████████████████████████████████████████▏                    | 117/158 [33:57<13:04, 19.12s/it]"
     ]
    },
    {
     "name": "stdout",
     "output_type": "stream",
     "text": [
      "['Z:\\\\DatabaseSeg\\\\DB_upToDate\\\\batch5\\\\105\\\\2023-06-20_T_HORAO-105-BF_FR_S1_1\\\\raw_data\\\\600nm\\\\600_Intensite_PDDN_aligned.cod', 'Z:\\\\DatabaseSeg\\\\DB_upToDate\\\\batch5\\\\105\\\\2023-06-20_T_HORAO-105-BF_FR_S1_1\\\\raw_data\\\\600nm\\\\600_Intensite_aligned.cod']\n",
      " \n",
      " >> Exported X3D .cod file as: Z:\\DatabaseSeg\\DB_upToDate\\batch5\\105\\2023-06-20_T_HORAO-105-BF_FR_S1_1\\raw_data\\600nm\\600_Intensite_PDDN_aligned.cod\n",
      " \n",
      " >> Exported X3D .cod file as: Z:\\DatabaseSeg\\DB_upToDate\\batch5\\105\\2023-06-20_T_HORAO-105-BF_FR_S1_1\\raw_data\\600nm\\600_Intensite_aligned.cod\n"
     ]
    },
    {
     "name": "stderr",
     "output_type": "stream",
     "text": [
      "\r",
      " 75%|███████████████████████████████████████████████████████████▋                    | 118/158 [34:21<13:34, 20.36s/it]"
     ]
    },
    {
     "name": "stdout",
     "output_type": "stream",
     "text": [
      "['Z:\\\\DatabaseSeg\\\\DB_upToDate\\\\batch5\\\\104\\\\2023-06-13_T_HORAO-104-BF_FR_S5_1\\\\raw_data\\\\600nm\\\\600_Intensite_PDDN_aligned.cod', 'Z:\\\\DatabaseSeg\\\\DB_upToDate\\\\batch5\\\\104\\\\2023-06-13_T_HORAO-104-BF_FR_S5_1\\\\raw_data\\\\600nm\\\\600_Intensite_aligned.cod']\n",
      " \n",
      " >> Exported X3D .cod file as: Z:\\DatabaseSeg\\DB_upToDate\\batch5\\104\\2023-06-13_T_HORAO-104-BF_FR_S5_1\\raw_data\\600nm\\600_Intensite_PDDN_aligned.cod\n",
      " \n",
      " >> Exported X3D .cod file as: Z:\\DatabaseSeg\\DB_upToDate\\batch5\\104\\2023-06-13_T_HORAO-104-BF_FR_S5_1\\raw_data\\600nm\\600_Intensite_aligned.cod\n"
     ]
    },
    {
     "name": "stderr",
     "output_type": "stream",
     "text": [
      "\r",
      " 75%|████████████████████████████████████████████████████████████▎                   | 119/158 [34:44<13:40, 21.04s/it]"
     ]
    },
    {
     "name": "stdout",
     "output_type": "stream",
     "text": [
      "['Z:\\\\DatabaseSeg\\\\DB_upToDate\\\\batch1\\\\37\\\\2022-09-14_T_HORAO-37-AF_FR_S1_1\\\\raw_data\\\\600nm\\\\600_Intensite_PDDN_aligned.cod', 'Z:\\\\DatabaseSeg\\\\DB_upToDate\\\\batch1\\\\37\\\\2022-09-14_T_HORAO-37-AF_FR_S1_1\\\\raw_data\\\\600nm\\\\600_Intensite_aligned.cod']\n",
      "['Z:\\\\DatabaseSeg\\\\DB_upToDate\\\\HT\\\\2024-09-18_T_AUTOPSY-BF_FR_S3_1\\\\raw_data\\\\600nm\\\\600_Intensite_PDDN_aligned.cod', 'Z:\\\\DatabaseSeg\\\\DB_upToDate\\\\HT\\\\2024-09-18_T_AUTOPSY-BF_FR_S3_1\\\\raw_data\\\\600nm\\\\600_Intensite_aligned.cod']\n",
      "['Z:\\\\DatabaseSeg\\\\DB_upToDate\\\\batch3\\\\80\\\\2023-01-18_T_HORAO-80-BF_FR_S1_1\\\\raw_data\\\\600nm\\\\600_Intensite_PDDN_aligned.cod', 'Z:\\\\DatabaseSeg\\\\DB_upToDate\\\\batch3\\\\80\\\\2023-01-18_T_HORAO-80-BF_FR_S1_1\\\\raw_data\\\\600nm\\\\600_Intensite_aligned.cod']\n",
      " \n",
      " >> Exported X3D .cod file as: Z:\\DatabaseSeg\\DB_upToDate\\batch3\\80\\2023-01-18_T_HORAO-80-BF_FR_S1_1\\raw_data\\600nm\\600_Intensite_PDDN_aligned.cod\n",
      " \n",
      " >> Exported X3D .cod file as: Z:\\DatabaseSeg\\DB_upToDate\\batch3\\80\\2023-01-18_T_HORAO-80-BF_FR_S1_1\\raw_data\\600nm\\600_Intensite_aligned.cod\n"
     ]
    },
    {
     "name": "stderr",
     "output_type": "stream",
     "text": [
      "\r",
      " 77%|█████████████████████████████████████████████████████████████▊                  | 122/158 [35:09<08:39, 14.44s/it]"
     ]
    },
    {
     "name": "stdout",
     "output_type": "stream",
     "text": [
      "['Z:\\\\DatabaseSeg\\\\DB_upToDate\\\\batch1\\\\44\\\\2022-09-27_T_HORAO-44-AF_FR_S1_1\\\\raw_data\\\\600nm\\\\600_Intensite_PDDN_aligned.cod', 'Z:\\\\DatabaseSeg\\\\DB_upToDate\\\\batch1\\\\44\\\\2022-09-27_T_HORAO-44-AF_FR_S1_1\\\\raw_data\\\\600nm\\\\600_Intensite_aligned.cod']\n",
      "['Z:\\\\DatabaseSeg\\\\DB_upToDate\\\\batch5\\\\104\\\\2023-06-13_T_HORAO-104-BF_FR_S2_1\\\\raw_data\\\\600nm\\\\600_Intensite_PDDN_aligned.cod', 'Z:\\\\DatabaseSeg\\\\DB_upToDate\\\\batch5\\\\104\\\\2023-06-13_T_HORAO-104-BF_FR_S2_1\\\\raw_data\\\\600nm\\\\600_Intensite_aligned.cod']\n",
      " \n",
      " >> Exported X3D .cod file as: Z:\\DatabaseSeg\\DB_upToDate\\batch5\\104\\2023-06-13_T_HORAO-104-BF_FR_S2_1\\raw_data\\600nm\\600_Intensite_PDDN_aligned.cod\n",
      " \n",
      " >> Exported X3D .cod file as: Z:\\DatabaseSeg\\DB_upToDate\\batch5\\104\\2023-06-13_T_HORAO-104-BF_FR_S2_1\\raw_data\\600nm\\600_Intensite_aligned.cod\n"
     ]
    },
    {
     "name": "stderr",
     "output_type": "stream",
     "text": [
      "\r",
      " 78%|██████████████████████████████████████████████████████████████▊                 | 124/158 [35:34<07:47, 13.75s/it]"
     ]
    },
    {
     "name": "stdout",
     "output_type": "stream",
     "text": [
      "['Z:\\\\DatabaseSeg\\\\DB_upToDate\\\\batch5\\\\104\\\\2023-09-21_T_HORAO-104-AF_FR_S2_1\\\\raw_data\\\\600nm\\\\600_Intensite_PDDN_aligned.cod', 'Z:\\\\DatabaseSeg\\\\DB_upToDate\\\\batch5\\\\104\\\\2023-09-21_T_HORAO-104-AF_FR_S2_1\\\\raw_data\\\\600nm\\\\600_Intensite_aligned.cod']\n",
      " \n",
      " >> Exported X3D .cod file as: Z:\\DatabaseSeg\\DB_upToDate\\batch5\\104\\2023-09-21_T_HORAO-104-AF_FR_S2_1\\raw_data\\600nm\\600_Intensite_PDDN_aligned.cod\n",
      " \n",
      " >> Exported X3D .cod file as: Z:\\DatabaseSeg\\DB_upToDate\\batch5\\104\\2023-09-21_T_HORAO-104-AF_FR_S2_1\\raw_data\\600nm\\600_Intensite_aligned.cod\n"
     ]
    },
    {
     "name": "stderr",
     "output_type": "stream",
     "text": [
      "\r",
      " 79%|███████████████████████████████████████████████████████████████▎                | 125/158 [35:57<08:35, 15.62s/it]"
     ]
    },
    {
     "name": "stdout",
     "output_type": "stream",
     "text": [
      "['Z:\\\\DatabaseSeg\\\\DB_upToDate\\\\batch3\\\\85\\\\2023-02-14_T_HORAO-85-BF_FR_S1_1\\\\raw_data\\\\600nm\\\\600_Intensite_PDDN_aligned.cod', 'Z:\\\\DatabaseSeg\\\\DB_upToDate\\\\batch3\\\\85\\\\2023-02-14_T_HORAO-85-BF_FR_S1_1\\\\raw_data\\\\600nm\\\\600_Intensite_aligned.cod']\n",
      " \n",
      " >> Exported X3D .cod file as: Z:\\DatabaseSeg\\DB_upToDate\\batch3\\85\\2023-02-14_T_HORAO-85-BF_FR_S1_1\\raw_data\\600nm\\600_Intensite_PDDN_aligned.cod\n",
      " \n",
      " >> Exported X3D .cod file as: Z:\\DatabaseSeg\\DB_upToDate\\batch3\\85\\2023-02-14_T_HORAO-85-BF_FR_S1_1\\raw_data\\600nm\\600_Intensite_aligned.cod\n"
     ]
    },
    {
     "name": "stderr",
     "output_type": "stream",
     "text": [
      "\r",
      " 80%|███████████████████████████████████████████████████████████████▊                | 126/158 [36:20<09:08, 17.13s/it]"
     ]
    },
    {
     "name": "stdout",
     "output_type": "stream",
     "text": [
      "['Z:\\\\DatabaseSeg\\\\DB_upToDate\\\\batch1\\\\68\\\\2022-11-22_T_HORAO-68-BF_FR_S2_1\\\\raw_data\\\\600nm\\\\600_Intensite_PDDN_aligned.cod', 'Z:\\\\DatabaseSeg\\\\DB_upToDate\\\\batch1\\\\68\\\\2022-11-22_T_HORAO-68-BF_FR_S2_1\\\\raw_data\\\\600nm\\\\600_Intensite_aligned.cod']\n",
      " \n",
      " >> Exported X3D .cod file as: Z:\\DatabaseSeg\\DB_upToDate\\batch1\\68\\2022-11-22_T_HORAO-68-BF_FR_S2_1\\raw_data\\600nm\\600_Intensite_PDDN_aligned.cod\n",
      " \n",
      " >> Exported X3D .cod file as: Z:\\DatabaseSeg\\DB_upToDate\\batch1\\68\\2022-11-22_T_HORAO-68-BF_FR_S2_1\\raw_data\\600nm\\600_Intensite_aligned.cod\n"
     ]
    },
    {
     "name": "stderr",
     "output_type": "stream",
     "text": [
      "\r",
      " 80%|████████████████████████████████████████████████████████████████▎               | 127/158 [36:44<09:44, 18.87s/it]"
     ]
    },
    {
     "name": "stdout",
     "output_type": "stream",
     "text": [
      "['Z:\\\\DatabaseSeg\\\\DB_upToDate\\\\batch4\\\\93\\\\2023-03-31_T_HORAO-93-AF_FR_S2_1\\\\raw_data\\\\600nm\\\\600_Intensite_PDDN_aligned.cod', 'Z:\\\\DatabaseSeg\\\\DB_upToDate\\\\batch4\\\\93\\\\2023-03-31_T_HORAO-93-AF_FR_S2_1\\\\raw_data\\\\600nm\\\\600_Intensite_aligned.cod']\n",
      " \n",
      " >> Exported X3D .cod file as: Z:\\DatabaseSeg\\DB_upToDate\\batch4\\93\\2023-03-31_T_HORAO-93-AF_FR_S2_1\\raw_data\\600nm\\600_Intensite_PDDN_aligned.cod\n",
      " \n",
      " >> Exported X3D .cod file as: Z:\\DatabaseSeg\\DB_upToDate\\batch4\\93\\2023-03-31_T_HORAO-93-AF_FR_S2_1\\raw_data\\600nm\\600_Intensite_aligned.cod\n"
     ]
    },
    {
     "name": "stderr",
     "output_type": "stream",
     "text": [
      "\r",
      " 81%|████████████████████████████████████████████████████████████████▊               | 128/158 [37:11<10:25, 20.84s/it]"
     ]
    },
    {
     "name": "stdout",
     "output_type": "stream",
     "text": [
      "['Z:\\\\DatabaseSeg\\\\DB_upToDate\\\\batch5\\\\107\\\\2023-10-19_T_HORAO-107-AF_FR_S2_1\\\\raw_data\\\\600nm\\\\600_Intensite_PDDN_aligned.cod', 'Z:\\\\DatabaseSeg\\\\DB_upToDate\\\\batch5\\\\107\\\\2023-10-19_T_HORAO-107-AF_FR_S2_1\\\\raw_data\\\\600nm\\\\600_Intensite_aligned.cod']\n",
      " \n",
      " >> Exported X3D .cod file as: Z:\\DatabaseSeg\\DB_upToDate\\batch5\\107\\2023-10-19_T_HORAO-107-AF_FR_S2_1\\raw_data\\600nm\\600_Intensite_PDDN_aligned.cod\n",
      " \n",
      " >> Exported X3D .cod file as: Z:\\DatabaseSeg\\DB_upToDate\\batch5\\107\\2023-10-19_T_HORAO-107-AF_FR_S2_1\\raw_data\\600nm\\600_Intensite_aligned.cod\n"
     ]
    },
    {
     "name": "stderr",
     "output_type": "stream",
     "text": [
      "\r",
      " 82%|█████████████████████████████████████████████████████████████████▎              | 129/158 [37:35<10:27, 21.65s/it]"
     ]
    },
    {
     "name": "stdout",
     "output_type": "stream",
     "text": [
      "['Z:\\\\DatabaseSeg\\\\DB_upToDate\\\\batch1\\\\64\\\\2022-12-06_T_HORAO-64-AF_FR_S1_1\\\\raw_data\\\\600nm\\\\600_Intensite_PDDN_aligned.cod', 'Z:\\\\DatabaseSeg\\\\DB_upToDate\\\\batch1\\\\64\\\\2022-12-06_T_HORAO-64-AF_FR_S1_1\\\\raw_data\\\\600nm\\\\600_Intensite_aligned.cod']\n",
      " \n",
      " >> Exported X3D .cod file as: Z:\\DatabaseSeg\\DB_upToDate\\batch1\\64\\2022-12-06_T_HORAO-64-AF_FR_S1_1\\raw_data\\600nm\\600_Intensite_PDDN_aligned.cod\n",
      " \n",
      " >> Exported X3D .cod file as: Z:\\DatabaseSeg\\DB_upToDate\\batch1\\64\\2022-12-06_T_HORAO-64-AF_FR_S1_1\\raw_data\\600nm\\600_Intensite_aligned.cod\n"
     ]
    },
    {
     "name": "stderr",
     "output_type": "stream",
     "text": [
      "\r",
      " 82%|█████████████████████████████████████████████████████████████████▊              | 130/158 [38:00<10:28, 22.46s/it]"
     ]
    },
    {
     "name": "stdout",
     "output_type": "stream",
     "text": [
      "['Z:\\\\DatabaseSeg\\\\DB_upToDate\\\\batch5\\\\101\\\\2023-05-16_T_HORAO-101-BF_FR_S1_1\\\\raw_data\\\\600nm\\\\600_Intensite_PDDN_aligned.cod', 'Z:\\\\DatabaseSeg\\\\DB_upToDate\\\\batch5\\\\101\\\\2023-05-16_T_HORAO-101-BF_FR_S1_1\\\\raw_data\\\\600nm\\\\600_Intensite_aligned.cod']\n",
      " \n",
      " >> Exported X3D .cod file as: Z:\\DatabaseSeg\\DB_upToDate\\batch5\\101\\2023-05-16_T_HORAO-101-BF_FR_S1_1\\raw_data\\600nm\\600_Intensite_PDDN_aligned.cod\n",
      " \n",
      " >> Exported X3D .cod file as: Z:\\DatabaseSeg\\DB_upToDate\\batch5\\101\\2023-05-16_T_HORAO-101-BF_FR_S1_1\\raw_data\\600nm\\600_Intensite_aligned.cod\n"
     ]
    },
    {
     "name": "stderr",
     "output_type": "stream",
     "text": [
      "\r",
      " 83%|██████████████████████████████████████████████████████████████████▎             | 131/158 [38:23<10:15, 22.79s/it]"
     ]
    },
    {
     "name": "stdout",
     "output_type": "stream",
     "text": [
      "['Z:\\\\DatabaseSeg\\\\DB_upToDate\\\\batch3\\\\84\\\\2023-02-08_T_HORAO-84-BF_FR_S1_1\\\\raw_data\\\\600nm\\\\600_Intensite_PDDN_aligned.cod', 'Z:\\\\DatabaseSeg\\\\DB_upToDate\\\\batch3\\\\84\\\\2023-02-08_T_HORAO-84-BF_FR_S1_1\\\\raw_data\\\\600nm\\\\600_Intensite_aligned.cod']\n",
      " \n",
      " >> Exported X3D .cod file as: Z:\\DatabaseSeg\\DB_upToDate\\batch3\\84\\2023-02-08_T_HORAO-84-BF_FR_S1_1\\raw_data\\600nm\\600_Intensite_PDDN_aligned.cod\n",
      " \n",
      " >> Exported X3D .cod file as: Z:\\DatabaseSeg\\DB_upToDate\\batch3\\84\\2023-02-08_T_HORAO-84-BF_FR_S1_1\\raw_data\\600nm\\600_Intensite_aligned.cod\n"
     ]
    },
    {
     "name": "stderr",
     "output_type": "stream",
     "text": [
      "\r",
      " 84%|██████████████████████████████████████████████████████████████████▊             | 132/158 [38:49<10:16, 23.72s/it]"
     ]
    },
    {
     "name": "stdout",
     "output_type": "stream",
     "text": [
      "['Z:\\\\DatabaseSeg\\\\DB_upToDate\\\\batch2\\\\78\\\\2023-01-05_T_HORAO-78-BF_FR_S1_1\\\\raw_data\\\\600nm\\\\600_Intensite_PDDN_aligned.cod', 'Z:\\\\DatabaseSeg\\\\DB_upToDate\\\\batch2\\\\78\\\\2023-01-05_T_HORAO-78-BF_FR_S1_1\\\\raw_data\\\\600nm\\\\600_Intensite_aligned.cod']\n",
      " \n",
      " >> Exported X3D .cod file as: Z:\\DatabaseSeg\\DB_upToDate\\batch2\\78\\2023-01-05_T_HORAO-78-BF_FR_S1_1\\raw_data\\600nm\\600_Intensite_PDDN_aligned.cod\n",
      " \n",
      " >> Exported X3D .cod file as: Z:\\DatabaseSeg\\DB_upToDate\\batch2\\78\\2023-01-05_T_HORAO-78-BF_FR_S1_1\\raw_data\\600nm\\600_Intensite_aligned.cod\n"
     ]
    },
    {
     "name": "stderr",
     "output_type": "stream",
     "text": [
      "\r",
      " 84%|███████████████████████████████████████████████████████████████████▎            | 133/158 [39:12<09:47, 23.50s/it]"
     ]
    },
    {
     "name": "stdout",
     "output_type": "stream",
     "text": [
      "['Z:\\\\DatabaseSeg\\\\DB_upToDate\\\\batch1\\\\45\\\\2022-12-01_T_HORAO-45-AF_FR_S4_1\\\\raw_data\\\\600nm\\\\600_Intensite_PDDN_aligned.cod', 'Z:\\\\DatabaseSeg\\\\DB_upToDate\\\\batch1\\\\45\\\\2022-12-01_T_HORAO-45-AF_FR_S4_1\\\\raw_data\\\\600nm\\\\600_Intensite_aligned.cod']\n",
      " \n",
      " >> Exported X3D .cod file as: Z:\\DatabaseSeg\\DB_upToDate\\batch1\\45\\2022-12-01_T_HORAO-45-AF_FR_S4_1\\raw_data\\600nm\\600_Intensite_PDDN_aligned.cod\n",
      " \n",
      " >> Exported X3D .cod file as: Z:\\DatabaseSeg\\DB_upToDate\\batch1\\45\\2022-12-01_T_HORAO-45-AF_FR_S4_1\\raw_data\\600nm\\600_Intensite_aligned.cod\n"
     ]
    },
    {
     "name": "stderr",
     "output_type": "stream",
     "text": [
      "\r",
      " 85%|███████████████████████████████████████████████████████████████████▊            | 134/158 [39:37<09:28, 23.71s/it]"
     ]
    },
    {
     "name": "stdout",
     "output_type": "stream",
     "text": [
      "['Z:\\\\DatabaseSeg\\\\DB_upToDate\\\\batch4\\\\94\\\\2023-06-07_T_HORAO-94-AF_FR_S2_1\\\\raw_data\\\\600nm\\\\600_Intensite_PDDN_aligned.cod', 'Z:\\\\DatabaseSeg\\\\DB_upToDate\\\\batch4\\\\94\\\\2023-06-07_T_HORAO-94-AF_FR_S2_1\\\\raw_data\\\\600nm\\\\600_Intensite_aligned.cod']\n",
      " \n",
      " >> Exported X3D .cod file as: Z:\\DatabaseSeg\\DB_upToDate\\batch4\\94\\2023-06-07_T_HORAO-94-AF_FR_S2_1\\raw_data\\600nm\\600_Intensite_PDDN_aligned.cod\n",
      " \n",
      " >> Exported X3D .cod file as: Z:\\DatabaseSeg\\DB_upToDate\\batch4\\94\\2023-06-07_T_HORAO-94-AF_FR_S2_1\\raw_data\\600nm\\600_Intensite_aligned.cod\n"
     ]
    },
    {
     "name": "stderr",
     "output_type": "stream",
     "text": [
      "\r",
      " 85%|████████████████████████████████████████████████████████████████████▎           | 135/158 [40:00<09:03, 23.63s/it]"
     ]
    },
    {
     "name": "stdout",
     "output_type": "stream",
     "text": [
      "['Z:\\\\DatabaseSeg\\\\DB_upToDate\\\\batch1\\\\39\\\\2022-09-14_T_HORAO-39-AF_FR_S2_1\\\\raw_data\\\\600nm\\\\600_Intensite_PDDN_aligned.cod', 'Z:\\\\DatabaseSeg\\\\DB_upToDate\\\\batch1\\\\39\\\\2022-09-14_T_HORAO-39-AF_FR_S2_1\\\\raw_data\\\\600nm\\\\600_Intensite_aligned.cod']\n",
      "['Z:\\\\DatabaseSeg\\\\DB_upToDate\\\\batch2\\\\90\\\\2023-09-22_T_HORAO-90-AF_FR_S2_1\\\\raw_data\\\\600nm\\\\600_Intensite_PDDN_aligned.cod', 'Z:\\\\DatabaseSeg\\\\DB_upToDate\\\\batch2\\\\90\\\\2023-09-22_T_HORAO-90-AF_FR_S2_1\\\\raw_data\\\\600nm\\\\600_Intensite_aligned.cod']\n",
      " \n",
      " >> Exported X3D .cod file as: Z:\\DatabaseSeg\\DB_upToDate\\batch2\\90\\2023-09-22_T_HORAO-90-AF_FR_S2_1\\raw_data\\600nm\\600_Intensite_PDDN_aligned.cod\n",
      " \n",
      " >> Exported X3D .cod file as: Z:\\DatabaseSeg\\DB_upToDate\\batch2\\90\\2023-09-22_T_HORAO-90-AF_FR_S2_1\\raw_data\\600nm\\600_Intensite_aligned.cod\n"
     ]
    },
    {
     "name": "stderr",
     "output_type": "stream",
     "text": [
      "\r",
      " 87%|█████████████████████████████████████████████████████████████████████▎          | 137/158 [40:25<06:27, 18.47s/it]"
     ]
    },
    {
     "name": "stdout",
     "output_type": "stream",
     "text": [
      "['Z:\\\\DatabaseSeg\\\\DB_upToDate\\\\batch3\\\\91\\\\2023-05-12_T_HORAO-91-AF_FR_S2_1\\\\raw_data\\\\600nm\\\\600_Intensite_PDDN_aligned.cod', 'Z:\\\\DatabaseSeg\\\\DB_upToDate\\\\batch3\\\\91\\\\2023-05-12_T_HORAO-91-AF_FR_S2_1\\\\raw_data\\\\600nm\\\\600_Intensite_aligned.cod']\n",
      " \n",
      " >> Exported X3D .cod file as: Z:\\DatabaseSeg\\DB_upToDate\\batch3\\91\\2023-05-12_T_HORAO-91-AF_FR_S2_1\\raw_data\\600nm\\600_Intensite_PDDN_aligned.cod\n",
      " \n",
      " >> Exported X3D .cod file as: Z:\\DatabaseSeg\\DB_upToDate\\batch3\\91\\2023-05-12_T_HORAO-91-AF_FR_S2_1\\raw_data\\600nm\\600_Intensite_aligned.cod\n"
     ]
    },
    {
     "name": "stderr",
     "output_type": "stream",
     "text": [
      "\r",
      " 87%|█████████████████████████████████████████████████████████████████████▊          | 138/158 [40:48<06:34, 19.73s/it]"
     ]
    },
    {
     "name": "stdout",
     "output_type": "stream",
     "text": [
      "['Z:\\\\DatabaseSeg\\\\DB_upToDate\\\\batch1\\\\55\\\\2022-12-01_T_HORAO-55-AF_FR_S1_1\\\\raw_data\\\\600nm\\\\600_Intensite_PDDN_aligned.cod', 'Z:\\\\DatabaseSeg\\\\DB_upToDate\\\\batch1\\\\55\\\\2022-12-01_T_HORAO-55-AF_FR_S1_1\\\\raw_data\\\\600nm\\\\600_Intensite_aligned.cod']\n",
      " \n",
      " >> Exported X3D .cod file as: Z:\\DatabaseSeg\\DB_upToDate\\batch1\\55\\2022-12-01_T_HORAO-55-AF_FR_S1_1\\raw_data\\600nm\\600_Intensite_PDDN_aligned.cod\n",
      " \n",
      " >> Exported X3D .cod file as: Z:\\DatabaseSeg\\DB_upToDate\\batch1\\55\\2022-12-01_T_HORAO-55-AF_FR_S1_1\\raw_data\\600nm\\600_Intensite_aligned.cod\n"
     ]
    },
    {
     "name": "stderr",
     "output_type": "stream",
     "text": [
      "\r",
      " 88%|██████████████████████████████████████████████████████████████████████▍         | 139/158 [41:12<06:35, 20.81s/it]"
     ]
    },
    {
     "name": "stdout",
     "output_type": "stream",
     "text": [
      "['Z:\\\\DatabaseSeg\\\\DB_upToDate\\\\batch2\\\\71\\\\2023-06-08_T_HORAO-71-AF_FR_S2_1\\\\raw_data\\\\600nm\\\\600_Intensite_PDDN_aligned.cod', 'Z:\\\\DatabaseSeg\\\\DB_upToDate\\\\batch2\\\\71\\\\2023-06-08_T_HORAO-71-AF_FR_S2_1\\\\raw_data\\\\600nm\\\\600_Intensite_aligned.cod']\n",
      " \n",
      " >> Exported X3D .cod file as: Z:\\DatabaseSeg\\DB_upToDate\\batch2\\71\\2023-06-08_T_HORAO-71-AF_FR_S2_1\\raw_data\\600nm\\600_Intensite_PDDN_aligned.cod\n",
      " \n",
      " >> Exported X3D .cod file as: Z:\\DatabaseSeg\\DB_upToDate\\batch2\\71\\2023-06-08_T_HORAO-71-AF_FR_S2_1\\raw_data\\600nm\\600_Intensite_aligned.cod\n"
     ]
    },
    {
     "name": "stderr",
     "output_type": "stream",
     "text": [
      "\r",
      " 89%|██████████████████████████████████████████████████████████████████████▉         | 140/158 [41:36<06:30, 21.70s/it]"
     ]
    },
    {
     "name": "stdout",
     "output_type": "stream",
     "text": [
      "['Z:\\\\DatabaseSeg\\\\DB_upToDate\\\\HT\\\\2022-07-06_T_autopsy-bloc-ffpe_BF_FR_M_1\\\\raw_data\\\\600nm\\\\600_Intensite_PDDN_aligned.cod', 'Z:\\\\DatabaseSeg\\\\DB_upToDate\\\\HT\\\\2022-07-06_T_autopsy-bloc-ffpe_BF_FR_M_1\\\\raw_data\\\\600nm\\\\600_Intensite_aligned.cod']\n",
      "['Z:\\\\DatabaseSeg\\\\DB_upToDate\\\\batch5\\\\98\\\\2023-04-27_T_HORAO-98-BF_FR_S3_1\\\\raw_data\\\\600nm\\\\600_Intensite_PDDN_aligned.cod', 'Z:\\\\DatabaseSeg\\\\DB_upToDate\\\\batch5\\\\98\\\\2023-04-27_T_HORAO-98-BF_FR_S3_1\\\\raw_data\\\\600nm\\\\600_Intensite_aligned.cod']\n",
      " \n",
      " >> Exported X3D .cod file as: Z:\\DatabaseSeg\\DB_upToDate\\batch5\\98\\2023-04-27_T_HORAO-98-BF_FR_S3_1\\raw_data\\600nm\\600_Intensite_PDDN_aligned.cod\n",
      " \n",
      " >> Exported X3D .cod file as: Z:\\DatabaseSeg\\DB_upToDate\\batch5\\98\\2023-04-27_T_HORAO-98-BF_FR_S3_1\\raw_data\\600nm\\600_Intensite_aligned.cod\n"
     ]
    },
    {
     "name": "stderr",
     "output_type": "stream",
     "text": [
      "\r",
      " 90%|███████████████████████████████████████████████████████████████████████▉        | 142/158 [42:03<04:49, 18.11s/it]"
     ]
    },
    {
     "name": "stdout",
     "output_type": "stream",
     "text": [
      "['Z:\\\\DatabaseSeg\\\\DB_upToDate\\\\batch1\\\\37\\\\2022-09-01_T_HORAO-37-BF_FR_S1_1\\\\raw_data\\\\600nm\\\\600_Intensite_PDDN_aligned.cod', 'Z:\\\\DatabaseSeg\\\\DB_upToDate\\\\batch1\\\\37\\\\2022-09-01_T_HORAO-37-BF_FR_S1_1\\\\raw_data\\\\600nm\\\\600_Intensite_aligned.cod']\n",
      "['Z:\\\\DatabaseSeg\\\\DB_upToDate\\\\batch1\\\\59\\\\2022-11-02_T_HORAO-59-AF_FR_S2_1\\\\raw_data\\\\600nm\\\\600_Intensite_PDDN_aligned.cod', 'Z:\\\\DatabaseSeg\\\\DB_upToDate\\\\batch1\\\\59\\\\2022-11-02_T_HORAO-59-AF_FR_S2_1\\\\raw_data\\\\600nm\\\\600_Intensite_aligned.cod']\n",
      " \n",
      " >> Exported X3D .cod file as: Z:\\DatabaseSeg\\DB_upToDate\\batch1\\59\\2022-11-02_T_HORAO-59-AF_FR_S2_1\\raw_data\\600nm\\600_Intensite_PDDN_aligned.cod\n",
      " \n",
      " >> Exported X3D .cod file as: Z:\\DatabaseSeg\\DB_upToDate\\batch1\\59\\2022-11-02_T_HORAO-59-AF_FR_S2_1\\raw_data\\600nm\\600_Intensite_aligned.cod\n"
     ]
    },
    {
     "name": "stderr",
     "output_type": "stream",
     "text": [
      "\r",
      " 91%|████████████████████████████████████████████████████████████████████████▉       | 144/158 [42:29<03:45, 16.11s/it]"
     ]
    },
    {
     "name": "stdout",
     "output_type": "stream",
     "text": [
      "['Z:\\\\DatabaseSeg\\\\DB_upToDate\\\\HT\\\\2022-07-06_T_autopsy-bloc_BF_FR_M1_1\\\\raw_data\\\\600nm\\\\600_Intensite_PDDN_aligned.cod', 'Z:\\\\DatabaseSeg\\\\DB_upToDate\\\\HT\\\\2022-07-06_T_autopsy-bloc_BF_FR_M1_1\\\\raw_data\\\\600nm\\\\600_Intensite_aligned.cod']\n",
      "['Z:\\\\DatabaseSeg\\\\DB_upToDate\\\\batch5\\\\106\\\\2023-09-21_T_HORAO-106-AF_FR_S1_1\\\\raw_data\\\\600nm\\\\600_Intensite_PDDN_aligned.cod', 'Z:\\\\DatabaseSeg\\\\DB_upToDate\\\\batch5\\\\106\\\\2023-09-21_T_HORAO-106-AF_FR_S1_1\\\\raw_data\\\\600nm\\\\600_Intensite_aligned.cod']\n",
      " \n",
      " >> Exported X3D .cod file as: Z:\\DatabaseSeg\\DB_upToDate\\batch5\\106\\2023-09-21_T_HORAO-106-AF_FR_S1_1\\raw_data\\600nm\\600_Intensite_PDDN_aligned.cod\n",
      " \n",
      " >> Exported X3D .cod file as: Z:\\DatabaseSeg\\DB_upToDate\\batch5\\106\\2023-09-21_T_HORAO-106-AF_FR_S1_1\\raw_data\\600nm\\600_Intensite_aligned.cod\n"
     ]
    },
    {
     "name": "stderr",
     "output_type": "stream",
     "text": [
      "\r",
      " 92%|█████████████████████████████████████████████████████████████████████████▉      | 146/158 [42:53<02:55, 14.65s/it]"
     ]
    },
    {
     "name": "stdout",
     "output_type": "stream",
     "text": [
      "['Z:\\\\DatabaseSeg\\\\DB_upToDate\\\\batch5\\\\107\\\\2023-08-02_T_HORAO-107-BF_FR_S3_1\\\\raw_data\\\\600nm\\\\600_Intensite_PDDN_aligned.cod', 'Z:\\\\DatabaseSeg\\\\DB_upToDate\\\\batch5\\\\107\\\\2023-08-02_T_HORAO-107-BF_FR_S3_1\\\\raw_data\\\\600nm\\\\600_Intensite_aligned.cod']\n",
      " \n",
      " >> Exported X3D .cod file as: Z:\\DatabaseSeg\\DB_upToDate\\batch5\\107\\2023-08-02_T_HORAO-107-BF_FR_S3_1\\raw_data\\600nm\\600_Intensite_PDDN_aligned.cod\n",
      " \n",
      " >> Exported X3D .cod file as: Z:\\DatabaseSeg\\DB_upToDate\\batch5\\107\\2023-08-02_T_HORAO-107-BF_FR_S3_1\\raw_data\\600nm\\600_Intensite_aligned.cod\n"
     ]
    },
    {
     "name": "stderr",
     "output_type": "stream",
     "text": [
      "\r",
      " 93%|██████████████████████████████████████████████████████████████████████████▍     | 147/158 [43:18<03:04, 16.73s/it]"
     ]
    },
    {
     "name": "stdout",
     "output_type": "stream",
     "text": [
      "['Z:\\\\DatabaseSeg\\\\DB_upToDate\\\\batch3\\\\91\\\\2023-10-23_T_HORAO-91-AF_FR_S1_1\\\\raw_data\\\\600nm\\\\600_Intensite_PDDN_aligned.cod', 'Z:\\\\DatabaseSeg\\\\DB_upToDate\\\\batch3\\\\91\\\\2023-10-23_T_HORAO-91-AF_FR_S1_1\\\\raw_data\\\\600nm\\\\600_Intensite_aligned.cod']\n",
      " \n",
      " >> Exported X3D .cod file as: Z:\\DatabaseSeg\\DB_upToDate\\batch3\\91\\2023-10-23_T_HORAO-91-AF_FR_S1_1\\raw_data\\600nm\\600_Intensite_PDDN_aligned.cod\n",
      " \n",
      " >> Exported X3D .cod file as: Z:\\DatabaseSeg\\DB_upToDate\\batch3\\91\\2023-10-23_T_HORAO-91-AF_FR_S1_1\\raw_data\\600nm\\600_Intensite_aligned.cod\n"
     ]
    },
    {
     "name": "stderr",
     "output_type": "stream",
     "text": [
      "\r",
      " 94%|██████████████████████████████████████████████████████████████████████████▉     | 148/158 [43:41<03:01, 18.17s/it]"
     ]
    },
    {
     "name": "stdout",
     "output_type": "stream",
     "text": [
      "['Z:\\\\DatabaseSeg\\\\DB_upToDate\\\\batch2\\\\77\\\\2023-01-04_T_HORAO-77-BF_FR_S2_1\\\\raw_data\\\\600nm\\\\600_Intensite_PDDN_aligned.cod', 'Z:\\\\DatabaseSeg\\\\DB_upToDate\\\\batch2\\\\77\\\\2023-01-04_T_HORAO-77-BF_FR_S2_1\\\\raw_data\\\\600nm\\\\600_Intensite_aligned.cod']\n",
      " \n",
      " >> Exported X3D .cod file as: Z:\\DatabaseSeg\\DB_upToDate\\batch2\\77\\2023-01-04_T_HORAO-77-BF_FR_S2_1\\raw_data\\600nm\\600_Intensite_PDDN_aligned.cod\n",
      " \n",
      " >> Exported X3D .cod file as: Z:\\DatabaseSeg\\DB_upToDate\\batch2\\77\\2023-01-04_T_HORAO-77-BF_FR_S2_1\\raw_data\\600nm\\600_Intensite_aligned.cod\n"
     ]
    },
    {
     "name": "stderr",
     "output_type": "stream",
     "text": [
      "\r",
      " 94%|███████████████████████████████████████████████████████████████████████████▍    | 149/158 [44:06<02:59, 19.90s/it]"
     ]
    },
    {
     "name": "stdout",
     "output_type": "stream",
     "text": [
      "['Z:\\\\DatabaseSeg\\\\DB_upToDate\\\\batch2\\\\77\\\\2023-01-04_T_HORAO-77-BF_FR_S1_1\\\\raw_data\\\\600nm\\\\600_Intensite_PDDN_aligned.cod', 'Z:\\\\DatabaseSeg\\\\DB_upToDate\\\\batch2\\\\77\\\\2023-01-04_T_HORAO-77-BF_FR_S1_1\\\\raw_data\\\\600nm\\\\600_Intensite_aligned.cod']\n",
      " \n",
      " >> Exported X3D .cod file as: Z:\\DatabaseSeg\\DB_upToDate\\batch2\\77\\2023-01-04_T_HORAO-77-BF_FR_S1_1\\raw_data\\600nm\\600_Intensite_PDDN_aligned.cod\n",
      " \n",
      " >> Exported X3D .cod file as: Z:\\DatabaseSeg\\DB_upToDate\\batch2\\77\\2023-01-04_T_HORAO-77-BF_FR_S1_1\\raw_data\\600nm\\600_Intensite_aligned.cod\n"
     ]
    },
    {
     "name": "stderr",
     "output_type": "stream",
     "text": [
      "\r",
      " 95%|███████████████████████████████████████████████████████████████████████████▉    | 150/158 [44:32<02:51, 21.41s/it]"
     ]
    },
    {
     "name": "stdout",
     "output_type": "stream",
     "text": [
      "['Z:\\\\DatabaseSeg\\\\DB_upToDate\\\\batch1\\\\53\\\\2022-12-01_T_HORAO-53-AF_FR_S1_1\\\\raw_data\\\\600nm\\\\600_Intensite_PDDN_aligned.cod', 'Z:\\\\DatabaseSeg\\\\DB_upToDate\\\\batch1\\\\53\\\\2022-12-01_T_HORAO-53-AF_FR_S1_1\\\\raw_data\\\\600nm\\\\600_Intensite_aligned.cod']\n",
      " \n",
      " >> Exported X3D .cod file as: Z:\\DatabaseSeg\\DB_upToDate\\batch1\\53\\2022-12-01_T_HORAO-53-AF_FR_S1_1\\raw_data\\600nm\\600_Intensite_PDDN_aligned.cod\n",
      " \n",
      " >> Exported X3D .cod file as: Z:\\DatabaseSeg\\DB_upToDate\\batch1\\53\\2022-12-01_T_HORAO-53-AF_FR_S1_1\\raw_data\\600nm\\600_Intensite_aligned.cod\n"
     ]
    },
    {
     "name": "stderr",
     "output_type": "stream",
     "text": [
      "\r",
      " 96%|████████████████████████████████████████████████████████████████████████████▍   | 151/158 [44:56<02:34, 22.03s/it]"
     ]
    },
    {
     "name": "stdout",
     "output_type": "stream",
     "text": [
      "['Z:\\\\DatabaseSeg\\\\DB_upToDate\\\\batch1\\\\38\\\\2022-09-14_T_HORAO-38-AF_FR_S1_1\\\\raw_data\\\\600nm\\\\600_Intensite_PDDN_aligned.cod', 'Z:\\\\DatabaseSeg\\\\DB_upToDate\\\\batch1\\\\38\\\\2022-09-14_T_HORAO-38-AF_FR_S1_1\\\\raw_data\\\\600nm\\\\600_Intensite_aligned.cod']\n",
      "['Z:\\\\DatabaseSeg\\\\DB_upToDate\\\\batch5\\\\107\\\\2023-10-19_T_HORAO-107-AF_FR_S3_1\\\\raw_data\\\\600nm\\\\600_Intensite_PDDN_aligned.cod', 'Z:\\\\DatabaseSeg\\\\DB_upToDate\\\\batch5\\\\107\\\\2023-10-19_T_HORAO-107-AF_FR_S3_1\\\\raw_data\\\\600nm\\\\600_Intensite_aligned.cod']\n",
      " \n",
      " >> Exported X3D .cod file as: Z:\\DatabaseSeg\\DB_upToDate\\batch5\\107\\2023-10-19_T_HORAO-107-AF_FR_S3_1\\raw_data\\600nm\\600_Intensite_PDDN_aligned.cod\n",
      " \n",
      " >> Exported X3D .cod file as: Z:\\DatabaseSeg\\DB_upToDate\\batch5\\107\\2023-10-19_T_HORAO-107-AF_FR_S3_1\\raw_data\\600nm\\600_Intensite_aligned.cod\n"
     ]
    },
    {
     "name": "stderr",
     "output_type": "stream",
     "text": [
      "\r",
      " 97%|█████████████████████████████████████████████████████████████████████████████▍  | 153/158 [45:22<01:31, 18.21s/it]"
     ]
    },
    {
     "name": "stdout",
     "output_type": "stream",
     "text": [
      "['Z:\\\\DatabaseSeg\\\\DB_upToDate\\\\batch2\\\\107\\\\2023-08-02_T_HORAO-107-BF_FR_S5_1\\\\raw_data\\\\600nm\\\\600_Intensite_PDDN_aligned.cod', 'Z:\\\\DatabaseSeg\\\\DB_upToDate\\\\batch2\\\\107\\\\2023-08-02_T_HORAO-107-BF_FR_S5_1\\\\raw_data\\\\600nm\\\\600_Intensite_aligned.cod']\n",
      " \n",
      " >> Exported X3D .cod file as: Z:\\DatabaseSeg\\DB_upToDate\\batch2\\107\\2023-08-02_T_HORAO-107-BF_FR_S5_1\\raw_data\\600nm\\600_Intensite_PDDN_aligned.cod\n",
      " \n",
      " >> Exported X3D .cod file as: Z:\\DatabaseSeg\\DB_upToDate\\batch2\\107\\2023-08-02_T_HORAO-107-BF_FR_S5_1\\raw_data\\600nm\\600_Intensite_aligned.cod\n"
     ]
    },
    {
     "name": "stderr",
     "output_type": "stream",
     "text": [
      "\r",
      " 97%|█████████████████████████████████████████████████████████████████████████████▉  | 154/158 [45:49<01:20, 20.18s/it]"
     ]
    },
    {
     "name": "stdout",
     "output_type": "stream",
     "text": [
      "['Z:\\\\DatabaseSeg\\\\DB_upToDate\\\\batch4\\\\93\\\\2023-03-30_T_HORAO-93-BF_FR_S2_1\\\\raw_data\\\\600nm\\\\600_Intensite_PDDN_aligned.cod', 'Z:\\\\DatabaseSeg\\\\DB_upToDate\\\\batch4\\\\93\\\\2023-03-30_T_HORAO-93-BF_FR_S2_1\\\\raw_data\\\\600nm\\\\600_Intensite_aligned.cod']\n",
      " \n",
      " >> Exported X3D .cod file as: Z:\\DatabaseSeg\\DB_upToDate\\batch4\\93\\2023-03-30_T_HORAO-93-BF_FR_S2_1\\raw_data\\600nm\\600_Intensite_PDDN_aligned.cod\n",
      " \n",
      " >> Exported X3D .cod file as: Z:\\DatabaseSeg\\DB_upToDate\\batch4\\93\\2023-03-30_T_HORAO-93-BF_FR_S2_1\\raw_data\\600nm\\600_Intensite_aligned.cod\n"
     ]
    },
    {
     "name": "stderr",
     "output_type": "stream",
     "text": [
      "\r",
      " 98%|██████████████████████████████████████████████████████████████████████████████▍ | 155/158 [46:14<01:04, 21.42s/it]"
     ]
    },
    {
     "name": "stdout",
     "output_type": "stream",
     "text": [
      "['Z:\\\\DatabaseSeg\\\\DB_upToDate\\\\batch2\\\\78\\\\2023-01-05_T_HORAO-78-BF_FR_S2_1\\\\raw_data\\\\600nm\\\\600_Intensite_PDDN_aligned.cod', 'Z:\\\\DatabaseSeg\\\\DB_upToDate\\\\batch2\\\\78\\\\2023-01-05_T_HORAO-78-BF_FR_S2_1\\\\raw_data\\\\600nm\\\\600_Intensite_aligned.cod']\n",
      " \n",
      " >> Exported X3D .cod file as: Z:\\DatabaseSeg\\DB_upToDate\\batch2\\78\\2023-01-05_T_HORAO-78-BF_FR_S2_1\\raw_data\\600nm\\600_Intensite_PDDN_aligned.cod\n",
      " \n",
      " >> Exported X3D .cod file as: Z:\\DatabaseSeg\\DB_upToDate\\batch2\\78\\2023-01-05_T_HORAO-78-BF_FR_S2_1\\raw_data\\600nm\\600_Intensite_aligned.cod\n"
     ]
    },
    {
     "name": "stderr",
     "output_type": "stream",
     "text": [
      "\r",
      " 99%|██████████████████████████████████████████████████████████████████████████████▉ | 156/158 [46:38<00:44, 22.10s/it]"
     ]
    },
    {
     "name": "stdout",
     "output_type": "stream",
     "text": [
      "['Z:\\\\DatabaseSeg\\\\DB_upToDate\\\\batch5\\\\106\\\\2023-07-25_T_HORAO-106-BF_FR_S1_1\\\\raw_data\\\\600nm\\\\600_Intensite_PDDN_aligned.cod', 'Z:\\\\DatabaseSeg\\\\DB_upToDate\\\\batch5\\\\106\\\\2023-07-25_T_HORAO-106-BF_FR_S1_1\\\\raw_data\\\\600nm\\\\600_Intensite_aligned.cod']\n",
      " \n",
      " >> Exported X3D .cod file as: Z:\\DatabaseSeg\\DB_upToDate\\batch5\\106\\2023-07-25_T_HORAO-106-BF_FR_S1_1\\raw_data\\600nm\\600_Intensite_PDDN_aligned.cod\n",
      " \n",
      " >> Exported X3D .cod file as: Z:\\DatabaseSeg\\DB_upToDate\\batch5\\106\\2023-07-25_T_HORAO-106-BF_FR_S1_1\\raw_data\\600nm\\600_Intensite_aligned.cod\n"
     ]
    },
    {
     "name": "stderr",
     "output_type": "stream",
     "text": [
      "\r",
      " 99%|███████████████████████████████████████████████████████████████████████████████▍| 157/158 [47:03<00:22, 22.98s/it]"
     ]
    },
    {
     "name": "stdout",
     "output_type": "stream",
     "text": [
      "['Z:\\\\DatabaseSeg\\\\DB_upToDate\\\\batch5\\\\100\\\\2023-06-07_T_HORAO-100-AF_FR_S2_1\\\\raw_data\\\\600nm\\\\600_Intensite_PDDN_aligned.cod', 'Z:\\\\DatabaseSeg\\\\DB_upToDate\\\\batch5\\\\100\\\\2023-06-07_T_HORAO-100-AF_FR_S2_1\\\\raw_data\\\\600nm\\\\600_Intensite_aligned.cod']\n",
      " \n",
      " >> Exported X3D .cod file as: Z:\\DatabaseSeg\\DB_upToDate\\batch5\\100\\2023-06-07_T_HORAO-100-AF_FR_S2_1\\raw_data\\600nm\\600_Intensite_PDDN_aligned.cod\n",
      " \n",
      " >> Exported X3D .cod file as: Z:\\DatabaseSeg\\DB_upToDate\\batch5\\100\\2023-06-07_T_HORAO-100-AF_FR_S2_1\\raw_data\\600nm\\600_Intensite_aligned.cod\n"
     ]
    },
    {
     "name": "stderr",
     "output_type": "stream",
     "text": [
      "100%|████████████████████████████████████████████████████████████████████████████████| 158/158 [47:28<00:00, 18.03s/it]\n"
     ]
    }
   ],
   "source": [
    "from processingmm import align_wavelengths\n",
    "align_wavelengths.align_wavelenghts(directories, PDDN_mode, run_all, imgj_processing = False)"
   ]
  },
  {
   "cell_type": "code",
   "execution_count": null,
   "id": "be0174b7",
   "metadata": {},
   "outputs": [],
   "source": [
    "from processingmm import add_calibration\n",
    "add_calibration.add_calibration(directories)"
   ]
  },
  {
   "cell_type": "code",
   "execution_count": null,
   "id": "cc87c952",
   "metadata": {},
   "outputs": [],
   "source": []
  },
  {
   "cell_type": "code",
   "execution_count": null,
   "id": "394aaa1c",
   "metadata": {},
   "outputs": [],
   "source": []
  }
 ],
 "metadata": {
  "kernelspec": {
   "display_name": "Python 3 (ipykernel)",
   "language": "python",
   "name": "python3"
  },
  "language_info": {
   "codemirror_mode": {
    "name": "ipython",
    "version": 3
   },
   "file_extension": ".py",
   "mimetype": "text/x-python",
   "name": "python",
   "nbconvert_exporter": "python",
   "pygments_lexer": "ipython3",
   "version": "3.12.8"
  }
 },
 "nbformat": 4,
 "nbformat_minor": 5
}
