{
 "cells": [
  {
   "cell_type": "markdown",
   "id": "5833fa74",
   "metadata": {},
   "source": [
    "# Process the data obtained from polarimetry and reorganize the data into the correct folders"
   ]
  },
  {
   "cell_type": "code",
   "execution_count": 1,
   "id": "a9006a18",
   "metadata": {},
   "outputs": [
    {
     "name": "stdout",
     "output_type": "stream",
     "text": [
      " Could not import win32api and/or win32con\n",
      " [wrn] tensorboard not available - training not possible\n",
      " [wrn] tensorboard not available - training not possible\n"
     ]
    }
   ],
   "source": [
    "%load_ext autoreload\n",
    "%autoreload 2\n",
    "\n",
    "import os\n",
    "from processingmm import processingmm"
   ]
  },
  {
   "cell_type": "code",
   "execution_count": null,
   "id": "40d299fa-1270-4737-99a3-f2e7c75f87a1",
   "metadata": {},
   "outputs": [],
   "source": []
  },
  {
   "cell_type": "code",
   "execution_count": 6,
   "id": "35f24a20",
   "metadata": {},
   "outputs": [],
   "source": [
    "# set the parameters to run the script\n",
    "directories = [r'/media/elea/ssd/NPP/test']\n",
    "calib_directory = r'/media/elea/ssd/NPP/calib'\n",
    "    \n",
    "# set the parameters to be used for the line visualisation\n",
    "# NB: parameter file accessible in ./src/processingmm/data/parameters_visualisations.json\n",
    "parameter_set = 'default'\n",
    "\n",
    "# set run_all to true in order to run the pipeline on all the folders (even the ones already processed)\n",
    "run_all = True\n",
    "\n",
    "# PDDN_mode can be set to:\n",
    "# 1. 'no': processes without using the PDDN\n",
    "# 2. 'pddn': processes with PDDN when available (for 550nm and 650nm)\n",
    "# 3. 'both': processes both with PDDN when available and without PDDN\n",
    "PDDN_mode = 'no'\n",
    "\n",
    "# do not specify unless you want to use a custom path for the PDDN models\n",
    "PDDN_models_path = None\n",
    "\n",
    "# Set the wavelengths to be processed\n",
    "# 1. 'all': processes all the available wavelenght\n",
    "# 2. [xxx, yyy]: processes only the wavelenghts 'xxx' and 'yyy'\n",
    "wavelengths = [550, 600]\n",
    "\n",
    "# Processing mode\n",
    "# 1. 'no_viz': processes only the MM - no visualization at all. useful for fast computation\n",
    "# 2. 'default': processes the MM and plots the polarimetric parameters maps (i.e. depolarization, azimuth, \n",
    "# retardance, diattenuation, azimuth local variability)\n",
    "# 3. 'full': do like default, and additionally plot the MM components, as well as the line\n",
    "# visualization\n",
    "\n",
    "# define if pdf figures should be saved (takes a lot of time) - no impact when processing_mode is set to no_viz\n",
    "\n",
    "# NB: processing time without PDDN (with the data on a SSD drive)\n",
    "# 'no_viz': 0.39s\n",
    "# 'default', save_pdf_figs False: 1.65s\n",
    "# 'default', save_pdf_figs True: 2.67s\n",
    "# 'full', save_pdf_figs False: 3.24s\n",
    "# 'full', save_pdf_figs True: 5.94s\n",
    "processing_mode = 'no_viz'\n",
    "save_pdf_figs = False\n",
    "\n",
    "# define if the wavelenghts should be aligned before processing - and used for the computation\n",
    "align_wls = True\n",
    "\n",
    "parameters = processingmm.get_parameters(directories, calib_directory, wavelengths, parameter_set = parameter_set, \n",
    "                                PDDN_mode = PDDN_mode, PDDN_models_path = PDDN_models_path, \n",
    "                                processing_mode = processing_mode, run_all = run_all, \n",
    "                                save_pdf_figs = save_pdf_figs, align_wls = align_wls)"
   ]
  },
  {
   "cell_type": "code",
   "execution_count": null,
   "id": "3e2ea1d8-4794-49c2-9a16-9ae7874fe36c",
   "metadata": {},
   "outputs": [],
   "source": []
  },
  {
   "cell_type": "code",
   "execution_count": 7,
   "id": "017cdd19",
   "metadata": {},
   "outputs": [
    {
     "name": "stdout",
     "output_type": "stream",
     "text": [
      "processing without PDDN...\n",
      "Aligning wavelength: 600 nm...\n"
     ]
    },
    {
     "name": "stderr",
     "output_type": "stream",
     "text": [
      "100%|██████████████████████████████████████████| 1/1 [00:00<00:00, 15087.42it/s]\n"
     ]
    },
    {
     "name": "stdout",
     "output_type": "stream",
     "text": [
      "Aligning wavelengths done.\n",
      "\n"
     ]
    },
    {
     "name": "stderr",
     "output_type": "stream",
     "text": [
      "  0%|                                                     | 0/1 [00:00<?, ?it/s]"
     ]
    },
    {
     "name": "stdout",
     "output_type": "stream",
     "text": [
      "Processing: /media/elea/ssd/NPP/test/2022-07-06_T_AUTOPSY-BF_FR_S1_1\n"
     ]
    },
    {
     "name": "stderr",
     "output_type": "stream",
     "text": [
      "100%|█████████████████████████████████████████████| 1/1 [00:00<00:00,  1.76it/s]"
     ]
    },
    {
     "name": "stdout",
     "output_type": "stream",
     "text": [
      "processing without PDDN done.\n",
      "CPU times: user 3.92 s, sys: 241 ms, total: 4.16 s\n",
      "Wall time: 574 ms\n"
     ]
    },
    {
     "name": "stderr",
     "output_type": "stream",
     "text": [
      "\n"
     ]
    },
    {
     "data": {
      "text/plain": [
       "{'azimuth_curation': 0.007475852966308594,\n",
       " 'data_loading': 0.015058517456054688,\n",
       " 'MM_processing': 0.4295804500579834,\n",
       " 'azimuth_std_processing': 0.05463552474975586,\n",
       " 'full_processing': 0.5069880485534668,\n",
       " 'save_npz': 0.05886983871459961,\n",
       " 'viz': 4.5299530029296875e-05,\n",
       " 'total': 0.5701749324798584}"
      ]
     },
     "execution_count": 7,
     "metadata": {},
     "output_type": "execute_result"
    }
   ],
   "source": [
    "%%time\n",
    "times = processingmm.batch_process_master(parameters)\n",
    "times"
   ]
  },
  {
   "cell_type": "code",
   "execution_count": null,
   "id": "1490dce5-310b-4130-8e0e-a37001b6329b",
   "metadata": {},
   "outputs": [],
   "source": []
  },
  {
   "cell_type": "code",
   "execution_count": 6,
   "id": "e11c296a-4919-4ff5-9635-f77659aaa101",
   "metadata": {},
   "outputs": [
    {
     "name": "stderr",
     "output_type": "stream",
     "text": [
      "INFO: Using device cuda\n",
      "INFO: Model loaded from intensities_1.pt\n",
      "Steps 1 test:   0%|          | 0/1 [00:00<?, ?img/s]"
     ]
    },
    {
     "name": "stdout",
     "output_type": "stream",
     "text": [
      "Processing with labels...\n",
      "\n",
      "Running predictions on sample 550/TU/2023-01-04_T_HORAO-77-BF_FR_S3_1\n"
     ]
    },
    {
     "name": "stderr",
     "output_type": "stream",
     "text": [
      "Steps 1 test: 100%|██████████| 1/1 [00:01<00:00,  1.43s/img]\n",
      "Steps 1 test:   0%|          | 0/1 [00:00<?, ?img/s]"
     ]
    },
    {
     "name": "stdout",
     "output_type": "stream",
     "text": [
      "\n",
      "Running predictions on sample 550/TU/2022-09-14_T_HORAO-39-AF_FR_S1_1\n"
     ]
    },
    {
     "name": "stderr",
     "output_type": "stream",
     "text": [
      "Steps 1 test: 100%|██████████| 1/1 [00:00<00:00,  1.08img/s]\n",
      "Steps 1 test:   0%|          | 0/1 [00:00<?, ?img/s]"
     ]
    },
    {
     "name": "stdout",
     "output_type": "stream",
     "text": [
      "\n",
      "Running predictions on sample 550/TU/2022-06-29_T_HORAO-21-AF_FR_S2_1\n"
     ]
    },
    {
     "name": "stderr",
     "output_type": "stream",
     "text": [
      "Steps 1 test: 100%|██████████| 1/1 [00:00<00:00,  1.04img/s]\n",
      "Steps 1 test:   0%|          | 0/1 [00:00<?, ?img/s]"
     ]
    },
    {
     "name": "stdout",
     "output_type": "stream",
     "text": [
      "\n",
      "Running predictions on sample 550/HT/2024-10-03_T_AUTOPSY-AF_FR_S4_1\n"
     ]
    },
    {
     "name": "stderr",
     "output_type": "stream",
     "text": [
      "Steps 1 test: 100%|██████████| 1/1 [00:00<00:00,  1.10img/s]\n",
      "Steps 1 test:   0%|          | 0/1 [00:00<?, ?img/s]"
     ]
    },
    {
     "name": "stdout",
     "output_type": "stream",
     "text": [
      "Sample ID 2024-10-03_T_AUTOPSY-AF_FR_S4_1 not found in metadata.\n",
      "Number of classes, 2, does not match size of target_names, 3. Try specifying the labels parameter\n",
      "\n",
      "Running predictions on sample 550/Irregular/2022-12-07_T_HORAO-71-BF_FR_S3_1\n"
     ]
    },
    {
     "name": "stderr",
     "output_type": "stream",
     "text": [
      "Steps 1 test: 100%|██████████| 1/1 [00:00<00:00,  1.06img/s]\n",
      "Steps 1 test:   0%|          | 0/1 [00:00<?, ?img/s]"
     ]
    },
    {
     "name": "stdout",
     "output_type": "stream",
     "text": [
      "\n",
      "Running predictions on sample 550/Irregular/2023-03-22_T_HORAO-91-BF_FR_S1_1\n"
     ]
    },
    {
     "name": "stderr",
     "output_type": "stream",
     "text": [
      "Steps 1 test: 100%|██████████| 1/1 [00:01<00:00,  1.06s/img]\n",
      "Steps 1 test:   0%|          | 0/1 [00:00<?, ?img/s]"
     ]
    },
    {
     "name": "stdout",
     "output_type": "stream",
     "text": [
      "\n",
      "Running predictions on sample 550/TU/2023-04-05_T_HORAO-94-BF_FR_S1_1\n"
     ]
    },
    {
     "name": "stderr",
     "output_type": "stream",
     "text": [
      "Steps 1 test: 100%|██████████| 1/1 [00:00<00:00,  1.06img/s]\n",
      "Steps 1 test:   0%|          | 0/1 [00:00<?, ?img/s]"
     ]
    },
    {
     "name": "stdout",
     "output_type": "stream",
     "text": [
      "\n",
      "Running predictions on sample 550/Irregular/2023-02-08_T_HORAO-84-BF_FR_S2_1\n"
     ]
    },
    {
     "name": "stderr",
     "output_type": "stream",
     "text": [
      "Steps 1 test: 100%|██████████| 1/1 [00:01<00:00,  1.01s/img]\n",
      "Steps 1 test:   0%|          | 0/1 [00:00<?, ?img/s]"
     ]
    },
    {
     "name": "stdout",
     "output_type": "stream",
     "text": [
      "\n",
      "Running predictions on sample 550/Irregular/2023-06-08_T_HORAO-71-AF_FR_S2_1\n"
     ]
    },
    {
     "name": "stderr",
     "output_type": "stream",
     "text": [
      "Steps 1 test: 100%|██████████| 1/1 [00:00<00:00,  1.04img/s]\n",
      "Steps 1 test:   0%|          | 0/1 [00:00<?, ?img/s]"
     ]
    },
    {
     "name": "stdout",
     "output_type": "stream",
     "text": [
      "Number of classes, 2, does not match size of target_names, 3. Try specifying the labels parameter\n",
      "\n",
      "Running predictions on sample 550/TU/2022-11-02_T_HORAO-59-AF_FR_S3_1\n"
     ]
    },
    {
     "name": "stderr",
     "output_type": "stream",
     "text": [
      "Steps 1 test: 100%|██████████| 1/1 [00:00<00:00,  1.03img/s]\n",
      "Steps 1 test:   0%|          | 0/1 [00:00<?, ?img/s]"
     ]
    },
    {
     "name": "stdout",
     "output_type": "stream",
     "text": [
      "\n",
      "Running predictions on sample 550/HT/2022-07-07_T_AUTOPSY-AF_FR_S4_1\n"
     ]
    },
    {
     "name": "stderr",
     "output_type": "stream",
     "text": [
      "Steps 1 test: 100%|██████████| 1/1 [00:00<00:00,  1.12img/s]\n",
      "Steps 1 test:   0%|          | 0/1 [00:00<?, ?img/s]"
     ]
    },
    {
     "name": "stdout",
     "output_type": "stream",
     "text": [
      "Sample ID 2022-07-07_T_AUTOPSY-AF_FR_S4_1 not found in metadata.\n",
      "Number of classes, 2, does not match size of target_names, 3. Try specifying the labels parameter\n",
      "\n",
      "Running predictions on sample 550/TU/2022-09-21_T_HORAO-45-BF_FR_S1_1\n"
     ]
    },
    {
     "name": "stderr",
     "output_type": "stream",
     "text": [
      "Steps 1 test: 100%|██████████| 1/1 [00:01<00:00,  1.01s/img]\n",
      "Steps 1 test:   0%|          | 0/1 [00:00<?, ?img/s]"
     ]
    },
    {
     "name": "stdout",
     "output_type": "stream",
     "text": [
      "\n",
      "Running predictions on sample 550/TU/2022-08-16_T_HORAO-29-BF_FR_S1_1\n"
     ]
    },
    {
     "name": "stderr",
     "output_type": "stream",
     "text": [
      "Steps 1 test: 100%|██████████| 1/1 [00:00<00:00,  1.05img/s]\n",
      "Steps 1 test:   0%|          | 0/1 [00:00<?, ?img/s]"
     ]
    },
    {
     "name": "stdout",
     "output_type": "stream",
     "text": [
      "Number of classes, 2, does not match size of target_names, 3. Try specifying the labels parameter\n",
      "\n",
      "Running predictions on sample 550/TU/2023-10-19_T_HORAO-98-AF_FR_S3_1\n"
     ]
    },
    {
     "name": "stderr",
     "output_type": "stream",
     "text": [
      "Steps 1 test: 100%|██████████| 1/1 [00:00<00:00,  1.00img/s]\n",
      "Steps 1 test:   0%|          | 0/1 [00:00<?, ?img/s]"
     ]
    },
    {
     "name": "stdout",
     "output_type": "stream",
     "text": [
      "\n",
      "Running predictions on sample 550/TU/2023-01-05_T_HORAO-78-BF_FR_S2_1\n"
     ]
    },
    {
     "name": "stderr",
     "output_type": "stream",
     "text": [
      "Steps 1 test: 100%|██████████| 1/1 [00:01<00:00,  1.00s/img]\n",
      "Steps 1 test:   0%|          | 0/1 [00:00<?, ?img/s]"
     ]
    },
    {
     "name": "stdout",
     "output_type": "stream",
     "text": [
      "Number of classes, 2, does not match size of target_names, 3. Try specifying the labels parameter\n",
      "\n",
      "Running predictions on sample 550/Irregular/2023-03-22_T_HORAO-91-BF_FR_S2_1\n"
     ]
    },
    {
     "name": "stderr",
     "output_type": "stream",
     "text": [
      "Steps 1 test: 100%|██████████| 1/1 [00:00<00:00,  1.10img/s]\n",
      "Steps 1 test:   0%|          | 0/1 [00:00<?, ?img/s]"
     ]
    },
    {
     "name": "stdout",
     "output_type": "stream",
     "text": [
      "\n",
      "Running predictions on sample 550/Irregular/2023-04-18_T_HORAO-95-BF_FR_S1_1\n"
     ]
    },
    {
     "name": "stderr",
     "output_type": "stream",
     "text": [
      "Steps 1 test: 100%|██████████| 1/1 [00:00<00:00,  1.04img/s]\n",
      "Steps 1 test:   0%|          | 0/1 [00:00<?, ?img/s]"
     ]
    },
    {
     "name": "stdout",
     "output_type": "stream",
     "text": [
      "Number of classes, 2, does not match size of target_names, 3. Try specifying the labels parameter\n",
      "\n",
      "Running predictions on sample 550/TU/2022-12-01_T_HORAO-45-AF_FR_S1_1\n"
     ]
    },
    {
     "name": "stderr",
     "output_type": "stream",
     "text": [
      "Steps 1 test: 100%|██████████| 1/1 [00:00<00:00,  1.02img/s]\n",
      "Steps 1 test:   0%|          | 0/1 [00:00<?, ?img/s]"
     ]
    },
    {
     "name": "stdout",
     "output_type": "stream",
     "text": [
      "\n",
      "Running predictions on sample 550/HT/2022-07-06_T_AUTOPSY-BF_FR_S4_1\n"
     ]
    },
    {
     "name": "stderr",
     "output_type": "stream",
     "text": [
      "Steps 1 test: 100%|██████████| 1/1 [00:00<00:00,  1.09img/s]\n",
      "Steps 1 test:   0%|          | 0/1 [00:00<?, ?img/s]"
     ]
    },
    {
     "name": "stdout",
     "output_type": "stream",
     "text": [
      "Sample ID 2022-07-06_T_AUTOPSY-BF_FR_S4_1 not found in metadata.\n",
      "\n",
      "Running predictions on sample 550/TU/2023-06-07_T_HORAO-94-AF_FR_S2_1\n"
     ]
    },
    {
     "name": "stderr",
     "output_type": "stream",
     "text": [
      "Steps 1 test: 100%|██████████| 1/1 [00:00<00:00,  1.05img/s]\n",
      "Steps 1 test:   0%|          | 0/1 [00:00<?, ?img/s]"
     ]
    },
    {
     "name": "stdout",
     "output_type": "stream",
     "text": [
      "Number of classes, 2, does not match size of target_names, 3. Try specifying the labels parameter\n",
      "\n",
      "Running predictions on sample 550/TU/2023-05-26_T_HORAO-103-BF_FR_S1_1\n"
     ]
    },
    {
     "name": "stderr",
     "output_type": "stream",
     "text": [
      "Steps 1 test: 100%|██████████| 1/1 [00:00<00:00,  1.06img/s]\n",
      "Steps 1 test:   0%|          | 0/1 [00:00<?, ?img/s]"
     ]
    },
    {
     "name": "stdout",
     "output_type": "stream",
     "text": [
      "Number of classes, 2, does not match size of target_names, 3. Try specifying the labels parameter\n",
      "\n",
      "Running predictions on sample 550/TU/2022-09-14_T_HORAO-39-AF_FR_S2_1\n"
     ]
    },
    {
     "name": "stderr",
     "output_type": "stream",
     "text": [
      "Steps 1 test: 100%|██████████| 1/1 [00:00<00:00,  1.15img/s]\n",
      "Steps 1 test:   0%|          | 0/1 [00:00<?, ?img/s]"
     ]
    },
    {
     "name": "stdout",
     "output_type": "stream",
     "text": [
      "\n",
      "Running predictions on sample 550/TU/2022-09-27_T_HORAO-44-AF_FR_S1_1\n"
     ]
    },
    {
     "name": "stderr",
     "output_type": "stream",
     "text": [
      "Steps 1 test: 100%|██████████| 1/1 [00:00<00:00,  1.04img/s]\n",
      "Steps 1 test:   0%|          | 0/1 [00:00<?, ?img/s]"
     ]
    },
    {
     "name": "stdout",
     "output_type": "stream",
     "text": [
      "\n",
      "Running predictions on sample 550/TU/2022-10-14_T_HORAO-45-AF_FR_S2_1\n"
     ]
    },
    {
     "name": "stderr",
     "output_type": "stream",
     "text": [
      "Steps 1 test: 100%|██████████| 1/1 [00:00<00:00,  1.01img/s]\n",
      "Steps 1 test:   0%|          | 0/1 [00:00<?, ?img/s]"
     ]
    },
    {
     "name": "stdout",
     "output_type": "stream",
     "text": [
      "\n",
      "Running predictions on sample 550/TU/2023-01-05_T_HORAO-78-BF_FR_S1_1\n"
     ]
    },
    {
     "name": "stderr",
     "output_type": "stream",
     "text": [
      "Steps 1 test: 100%|██████████| 1/1 [00:00<00:00,  1.08img/s]\n",
      "Steps 1 test:   0%|          | 0/1 [00:00<?, ?img/s]"
     ]
    },
    {
     "name": "stdout",
     "output_type": "stream",
     "text": [
      "\n",
      "Running predictions on sample 550/TU/2023-02-08_T_HORAO-84-BF_FR_S3_1\n"
     ]
    },
    {
     "name": "stderr",
     "output_type": "stream",
     "text": [
      "Steps 1 test: 100%|██████████| 1/1 [00:00<00:00,  1.05img/s]\n",
      "Steps 1 test:   0%|          | 0/1 [00:00<?, ?img/s]"
     ]
    },
    {
     "name": "stdout",
     "output_type": "stream",
     "text": [
      "\n",
      "Running predictions on sample 550/HT/2022-07-06_T_AUTOPSY-BF_FR_S2_1\n"
     ]
    },
    {
     "name": "stderr",
     "output_type": "stream",
     "text": [
      "Steps 1 test: 100%|██████████| 1/1 [00:00<00:00,  1.11img/s]\n",
      "Steps 1 test:   0%|          | 0/1 [00:00<?, ?img/s]"
     ]
    },
    {
     "name": "stdout",
     "output_type": "stream",
     "text": [
      "Sample ID 2022-07-06_T_AUTOPSY-BF_FR_S2_1 not found in metadata.\n",
      "\n",
      "Running predictions on sample 550/Irregular/2022-09-20_T_HORAO-44-BF_FR_S1_1\n"
     ]
    },
    {
     "name": "stderr",
     "output_type": "stream",
     "text": [
      "Steps 1 test: 100%|██████████| 1/1 [00:00<00:00,  1.04img/s]\n",
      "Steps 1 test:   0%|          | 0/1 [00:00<?, ?img/s]"
     ]
    },
    {
     "name": "stdout",
     "output_type": "stream",
     "text": [
      "Number of classes, 2, does not match size of target_names, 3. Try specifying the labels parameter\n",
      "\n",
      "Running predictions on sample 550/Irregular/2023-02-14_T_HORAO-85-BF_FR_S1_1\n"
     ]
    },
    {
     "name": "stderr",
     "output_type": "stream",
     "text": [
      "Steps 1 test: 100%|██████████| 1/1 [00:00<00:00,  1.13img/s]\n",
      "Steps 1 test:   0%|          | 0/1 [00:00<?, ?img/s]"
     ]
    },
    {
     "name": "stdout",
     "output_type": "stream",
     "text": [
      "\n",
      "Running predictions on sample 550/TU/2022-11-22_T_HORAO-67-BF_FR_S1_1\n"
     ]
    },
    {
     "name": "stderr",
     "output_type": "stream",
     "text": [
      "Steps 1 test: 100%|██████████| 1/1 [00:00<00:00,  1.06img/s]\n",
      "Steps 1 test:   0%|          | 0/1 [00:00<?, ?img/s]"
     ]
    },
    {
     "name": "stdout",
     "output_type": "stream",
     "text": [
      "\n",
      "Running predictions on sample 550/TU/2023-06-13_T_HORAO-104-BF_FR_S3_1\n"
     ]
    },
    {
     "name": "stderr",
     "output_type": "stream",
     "text": [
      "Steps 1 test: 100%|██████████| 1/1 [00:01<00:00,  1.02s/img]\n",
      "Steps 1 test:   0%|          | 0/1 [00:00<?, ?img/s]"
     ]
    },
    {
     "name": "stdout",
     "output_type": "stream",
     "text": [
      "\n",
      "Running predictions on sample 550/Irregular/2023-08-02_T_HORAO-107-BF_FR_S6_1\n"
     ]
    },
    {
     "name": "stderr",
     "output_type": "stream",
     "text": [
      "Steps 1 test: 100%|██████████| 1/1 [00:00<00:00,  1.00img/s]\n",
      "Steps 1 test:   0%|          | 0/1 [00:00<?, ?img/s]"
     ]
    },
    {
     "name": "stdout",
     "output_type": "stream",
     "text": [
      "\n",
      "Running predictions on sample 550/HT/2024-09-18_T_AUTOPSY-BF_FR_S3_1\n"
     ]
    },
    {
     "name": "stderr",
     "output_type": "stream",
     "text": [
      "Steps 1 test: 100%|██████████| 1/1 [00:00<00:00,  1.01img/s]\n",
      "Steps 1 test:   0%|          | 0/1 [00:00<?, ?img/s]"
     ]
    },
    {
     "name": "stdout",
     "output_type": "stream",
     "text": [
      "Sample ID 2024-09-18_T_AUTOPSY-BF_FR_S3_1 not found in metadata.\n",
      "\n",
      "Running predictions on sample 550/TU/2022-11-22_T_HORAO-68-BF_FR_S1_1\n"
     ]
    },
    {
     "name": "stderr",
     "output_type": "stream",
     "text": [
      "Steps 1 test: 100%|██████████| 1/1 [00:00<00:00,  1.09img/s]\n",
      "Steps 1 test:   0%|          | 0/1 [00:00<?, ?img/s]"
     ]
    },
    {
     "name": "stdout",
     "output_type": "stream",
     "text": [
      "\n",
      "Running predictions on sample 550/TU/2023-02-23_T_HORAO-84-AF_FR_S4_1\n"
     ]
    },
    {
     "name": "stderr",
     "output_type": "stream",
     "text": [
      "Steps 1 test: 100%|██████████| 1/1 [00:00<00:00,  1.01img/s]\n",
      "Steps 1 test:   0%|          | 0/1 [00:00<?, ?img/s]"
     ]
    },
    {
     "name": "stdout",
     "output_type": "stream",
     "text": [
      "\n",
      "Running predictions on sample 550/Irregular/2022-12-07_T_HORAO-71-BF_FR_S2_1\n"
     ]
    },
    {
     "name": "stderr",
     "output_type": "stream",
     "text": [
      "Steps 1 test: 100%|██████████| 1/1 [00:00<00:00,  1.07img/s]\n",
      "Steps 1 test:   0%|          | 0/1 [00:00<?, ?img/s]"
     ]
    },
    {
     "name": "stdout",
     "output_type": "stream",
     "text": [
      "\n",
      "Running predictions on sample 550/TU/2023-10-23_T_HORAO-101-AF_FR_S1_1\n"
     ]
    },
    {
     "name": "stderr",
     "output_type": "stream",
     "text": [
      "Steps 1 test: 100%|██████████| 1/1 [00:01<00:00,  1.07s/img]\n",
      "Steps 1 test:   0%|          | 0/1 [00:00<?, ?img/s]"
     ]
    },
    {
     "name": "stdout",
     "output_type": "stream",
     "text": [
      "\n",
      "Running predictions on sample 550/HT/2024-09-18_T_AUTOPSY-BF_FR_S4_1\n"
     ]
    },
    {
     "name": "stderr",
     "output_type": "stream",
     "text": [
      "Steps 1 test: 100%|██████████| 1/1 [00:00<00:00,  1.12img/s]\n",
      "Steps 1 test:   0%|          | 0/1 [00:00<?, ?img/s]"
     ]
    },
    {
     "name": "stdout",
     "output_type": "stream",
     "text": [
      "Sample ID 2024-09-18_T_AUTOPSY-BF_FR_S4_1 not found in metadata.\n",
      "\n",
      "Running predictions on sample 550/TU/2022-09-01_T_HORAO-37-BF_FR_S1_1\n"
     ]
    },
    {
     "name": "stderr",
     "output_type": "stream",
     "text": [
      "Steps 1 test: 100%|██████████| 1/1 [00:00<00:00,  1.02img/s]\n",
      "Steps 1 test:   0%|          | 0/1 [00:00<?, ?img/s]"
     ]
    },
    {
     "name": "stdout",
     "output_type": "stream",
     "text": [
      "\n",
      "Running predictions on sample 550/Irregular/2023-05-12_T_HORAO-95-AF_FR_S2_1\n"
     ]
    },
    {
     "name": "stderr",
     "output_type": "stream",
     "text": [
      "Steps 1 test: 100%|██████████| 1/1 [00:00<00:00,  1.02img/s]\n",
      "Steps 1 test:   0%|          | 0/1 [00:00<?, ?img/s]"
     ]
    },
    {
     "name": "stdout",
     "output_type": "stream",
     "text": [
      "Number of classes, 2, does not match size of target_names, 3. Try specifying the labels parameter\n",
      "\n",
      "Running predictions on sample 550/TU/2023-09-22_T_HORAO-99-AF_FR_S1_1\n"
     ]
    },
    {
     "name": "stderr",
     "output_type": "stream",
     "text": [
      "Steps 1 test: 100%|██████████| 1/1 [00:00<00:00,  1.05img/s]\n",
      "Steps 1 test:   0%|          | 0/1 [00:00<?, ?img/s]"
     ]
    },
    {
     "name": "stdout",
     "output_type": "stream",
     "text": [
      "\n",
      "Running predictions on sample 550/Irregular/2023-04-18_T_HORAO-95-BF_FR_S2_1\n"
     ]
    },
    {
     "name": "stderr",
     "output_type": "stream",
     "text": [
      "Steps 1 test: 100%|██████████| 1/1 [00:00<00:00,  1.09img/s]\n",
      "Steps 1 test:   0%|          | 0/1 [00:00<?, ?img/s]"
     ]
    },
    {
     "name": "stdout",
     "output_type": "stream",
     "text": [
      "\n",
      "Running predictions on sample 550/TU/2023-10-23_T_HORAO-103-AF_FR_S1_1\n"
     ]
    },
    {
     "name": "stderr",
     "output_type": "stream",
     "text": [
      "Steps 1 test: 100%|██████████| 1/1 [00:00<00:00,  1.17img/s]\n",
      "Steps 1 test:   0%|          | 0/1 [00:00<?, ?img/s]"
     ]
    },
    {
     "name": "stdout",
     "output_type": "stream",
     "text": [
      "\n",
      "Running predictions on sample 550/Irregular/2023-03-30_T_HORAO-93-BF_FR_S1_1\n"
     ]
    },
    {
     "name": "stderr",
     "output_type": "stream",
     "text": [
      "Steps 1 test: 100%|██████████| 1/1 [00:01<00:00,  1.07s/img]\n",
      "Steps 1 test:   0%|          | 0/1 [00:00<?, ?img/s]"
     ]
    },
    {
     "name": "stdout",
     "output_type": "stream",
     "text": [
      "\n",
      "Running predictions on sample 550/Irregular/2022-12-01_T_HORAO-53-AF_FR_S1_1\n"
     ]
    },
    {
     "name": "stderr",
     "output_type": "stream",
     "text": [
      "Steps 1 test: 100%|██████████| 1/1 [00:00<00:00,  1.16img/s]\n",
      "Steps 1 test:   0%|          | 0/1 [00:00<?, ?img/s]"
     ]
    },
    {
     "name": "stdout",
     "output_type": "stream",
     "text": [
      "\n",
      "Running predictions on sample 550/Irregular/2023-11-01_T_HORAO-92-AF_FR_S4_1\n"
     ]
    },
    {
     "name": "stderr",
     "output_type": "stream",
     "text": [
      "Steps 1 test: 100%|██████████| 1/1 [00:00<00:00,  1.04img/s]\n",
      "Steps 1 test:   0%|          | 0/1 [00:00<?, ?img/s]"
     ]
    },
    {
     "name": "stdout",
     "output_type": "stream",
     "text": [
      "\n",
      "Running predictions on sample 550/TU/2022-09-01_T_HORAO-37-BF_FR_S2_1\n"
     ]
    },
    {
     "name": "stderr",
     "output_type": "stream",
     "text": [
      "Steps 1 test: 100%|██████████| 1/1 [00:00<00:00,  1.19img/s]\n",
      "Steps 1 test:   0%|          | 0/1 [00:00<?, ?img/s]"
     ]
    },
    {
     "name": "stdout",
     "output_type": "stream",
     "text": [
      "\n",
      "Running predictions on sample 550/TU/2022-11-08_T_HORAO-64-BF_FR_S1_1\n"
     ]
    },
    {
     "name": "stderr",
     "output_type": "stream",
     "text": [
      "Steps 1 test: 100%|██████████| 1/1 [00:00<00:00,  1.02img/s]\n",
      "Steps 1 test:   0%|          | 0/1 [00:00<?, ?img/s]"
     ]
    },
    {
     "name": "stdout",
     "output_type": "stream",
     "text": [
      "\n",
      "Running predictions on sample 550/TU/2023-10-19_T_HORAO-98-AF_FR_S2_1\n"
     ]
    },
    {
     "name": "stderr",
     "output_type": "stream",
     "text": [
      "Steps 1 test: 100%|██████████| 1/1 [00:00<00:00,  1.07img/s]\n",
      "Steps 1 test:   0%|          | 0/1 [00:00<?, ?img/s]"
     ]
    },
    {
     "name": "stdout",
     "output_type": "stream",
     "text": [
      "\n",
      "Running predictions on sample 550/TU/2022-12-01_T_HORAO-45-AF_FR_S4_1\n"
     ]
    },
    {
     "name": "stderr",
     "output_type": "stream",
     "text": [
      "Steps 1 test: 100%|██████████| 1/1 [00:01<00:00,  1.03s/img]\n",
      "Steps 1 test:   0%|          | 0/1 [00:00<?, ?img/s]"
     ]
    },
    {
     "name": "stdout",
     "output_type": "stream",
     "text": [
      "\n",
      "Running predictions on sample 550/TU/2022-11-22_T_HORAO-68-BF_FR_S2_1\n"
     ]
    },
    {
     "name": "stderr",
     "output_type": "stream",
     "text": [
      "Steps 1 test: 100%|██████████| 1/1 [00:01<00:00,  1.06s/img]\n",
      "Steps 1 test:   0%|          | 0/1 [00:00<?, ?img/s]"
     ]
    },
    {
     "name": "stdout",
     "output_type": "stream",
     "text": [
      "\n",
      "Running predictions on sample 550/HT/2024-10-03_T_AUTOPSY-AF_FR_S2_1\n"
     ]
    },
    {
     "name": "stderr",
     "output_type": "stream",
     "text": [
      "Steps 1 test: 100%|██████████| 1/1 [00:00<00:00,  1.12img/s]\n",
      "Steps 1 test:   0%|          | 0/1 [00:00<?, ?img/s]"
     ]
    },
    {
     "name": "stdout",
     "output_type": "stream",
     "text": [
      "Sample ID 2024-10-03_T_AUTOPSY-AF_FR_S2_1 not found in metadata.\n",
      "\n",
      "Running predictions on sample 550/TU/2023-06-08_T_HORAO-77-AF_FR_S3_1\n"
     ]
    },
    {
     "name": "stderr",
     "output_type": "stream",
     "text": [
      "Steps 1 test: 100%|██████████| 1/1 [00:00<00:00,  1.09img/s]\n",
      "Steps 1 test:   0%|          | 0/1 [00:00<?, ?img/s]"
     ]
    },
    {
     "name": "stdout",
     "output_type": "stream",
     "text": [
      "\n",
      "Running predictions on sample 550/TU/2022-11-08_T_HORAO-63-BF_FR_S1_1\n"
     ]
    },
    {
     "name": "stderr",
     "output_type": "stream",
     "text": [
      "Steps 1 test: 100%|██████████| 1/1 [00:00<00:00,  1.12img/s]\n",
      "Steps 1 test:   0%|          | 0/1 [00:00<?, ?img/s]"
     ]
    },
    {
     "name": "stdout",
     "output_type": "stream",
     "text": [
      "\n",
      "Running predictions on sample 550/Irregular/2023-05-16_T_HORAO-101-BF_FR_S1_1\n"
     ]
    },
    {
     "name": "stderr",
     "output_type": "stream",
     "text": [
      "Steps 1 test: 100%|██████████| 1/1 [00:00<00:00,  1.03img/s]\n",
      "Steps 1 test:   0%|          | 0/1 [00:00<?, ?img/s]"
     ]
    },
    {
     "name": "stdout",
     "output_type": "stream",
     "text": [
      "\n",
      "Running predictions on sample 550/TU/2023-05-02_T_HORAO-99-BF_FR_S1_1\n"
     ]
    },
    {
     "name": "stderr",
     "output_type": "stream",
     "text": [
      "Steps 1 test: 100%|██████████| 1/1 [00:00<00:00,  1.08img/s]\n",
      "Steps 1 test:   0%|          | 0/1 [00:00<?, ?img/s]"
     ]
    },
    {
     "name": "stdout",
     "output_type": "stream",
     "text": [
      "\n",
      "Running predictions on sample 550/HT/2024-10-03_T_AUTOPSY-AF_FR_S1_1\n"
     ]
    },
    {
     "name": "stderr",
     "output_type": "stream",
     "text": [
      "Steps 1 test: 100%|██████████| 1/1 [00:00<00:00,  1.07img/s]\n",
      "Steps 1 test:   0%|          | 0/1 [00:00<?, ?img/s]"
     ]
    },
    {
     "name": "stdout",
     "output_type": "stream",
     "text": [
      "Sample ID 2024-10-03_T_AUTOPSY-AF_FR_S1_1 not found in metadata.\n",
      "\n",
      "Running predictions on sample 550/TU/2022-10-25_T_HORAO-42-AF_FR_S3_1\n"
     ]
    },
    {
     "name": "stderr",
     "output_type": "stream",
     "text": [
      "Steps 1 test: 100%|██████████| 1/1 [00:00<00:00,  1.11img/s]\n",
      "Steps 1 test:   0%|          | 0/1 [00:00<?, ?img/s]"
     ]
    },
    {
     "name": "stdout",
     "output_type": "stream",
     "text": [
      "Number of classes, 2, does not match size of target_names, 3. Try specifying the labels parameter\n",
      "\n",
      "Running predictions on sample 550/TU/2022-11-01_T_HORAO-59-BF_FR_S2_1\n"
     ]
    },
    {
     "name": "stderr",
     "output_type": "stream",
     "text": [
      "Steps 1 test: 100%|██████████| 1/1 [00:00<00:00,  1.08img/s]\n",
      "Steps 1 test:   0%|          | 0/1 [00:00<?, ?img/s]"
     ]
    },
    {
     "name": "stdout",
     "output_type": "stream",
     "text": [
      "Number of classes, 2, does not match size of target_names, 3. Try specifying the labels parameter\n",
      "\n",
      "Running predictions on sample 550/TU/2023-06-13_T_HORAO-104-BF_FR_S6_1\n"
     ]
    },
    {
     "name": "stderr",
     "output_type": "stream",
     "text": [
      "Steps 1 test: 100%|██████████| 1/1 [00:01<00:00,  1.06s/img]\n",
      "Steps 1 test:   0%|          | 0/1 [00:00<?, ?img/s]"
     ]
    },
    {
     "name": "stdout",
     "output_type": "stream",
     "text": [
      "\n",
      "Running predictions on sample 550/TU/2023-06-20_T_HORAO-105-BF_FR_S1_1\n"
     ]
    },
    {
     "name": "stderr",
     "output_type": "stream",
     "text": [
      "Steps 1 test: 100%|██████████| 1/1 [00:01<00:00,  1.04s/img]\n",
      "Steps 1 test:   0%|          | 0/1 [00:00<?, ?img/s]"
     ]
    },
    {
     "name": "stdout",
     "output_type": "stream",
     "text": [
      "Number of classes, 2, does not match size of target_names, 3. Try specifying the labels parameter\n",
      "\n",
      "Running predictions on sample 550/TU/2023-06-08_T_HORAO-77-AF_FR_S1_1\n"
     ]
    },
    {
     "name": "stderr",
     "output_type": "stream",
     "text": [
      "Steps 1 test: 100%|██████████| 1/1 [00:00<00:00,  1.04img/s]\n",
      "Steps 1 test:   0%|          | 0/1 [00:00<?, ?img/s]"
     ]
    },
    {
     "name": "stdout",
     "output_type": "stream",
     "text": [
      "\n",
      "Running predictions on sample 550/Irregular/2023-10-19_T_HORAO-98-AF_FR_S1_1\n"
     ]
    },
    {
     "name": "stderr",
     "output_type": "stream",
     "text": [
      "Steps 1 test: 100%|██████████| 1/1 [00:00<00:00,  1.13img/s]\n",
      "Steps 1 test:   0%|          | 0/1 [00:00<?, ?img/s]"
     ]
    },
    {
     "name": "stdout",
     "output_type": "stream",
     "text": [
      "\n",
      "Running predictions on sample 550/Irregular/2023-03-14_T_HORAO-90-BF_FR_S2_1\n"
     ]
    },
    {
     "name": "stderr",
     "output_type": "stream",
     "text": [
      "Steps 1 test: 100%|██████████| 1/1 [00:00<00:00,  1.08img/s]\n",
      "Steps 1 test:   0%|          | 0/1 [00:00<?, ?img/s]"
     ]
    },
    {
     "name": "stdout",
     "output_type": "stream",
     "text": [
      "Number of classes, 2, does not match size of target_names, 3. Try specifying the labels parameter\n",
      "\n",
      "Running predictions on sample 550/TU/2023-09-21_T_HORAO-104-AF_FR_S2_1\n"
     ]
    },
    {
     "name": "stderr",
     "output_type": "stream",
     "text": [
      "Steps 1 test: 100%|██████████| 1/1 [00:00<00:00,  1.00img/s]\n",
      "Steps 1 test:   0%|          | 0/1 [00:00<?, ?img/s]"
     ]
    },
    {
     "name": "stdout",
     "output_type": "stream",
     "text": [
      "\n",
      "Running predictions on sample 550/HT/2022-07-06_T_AUTOPSY-BF_FR_S1_1\n"
     ]
    },
    {
     "name": "stderr",
     "output_type": "stream",
     "text": [
      "Steps 1 test: 100%|██████████| 1/1 [00:00<00:00,  1.15img/s]\n",
      "Steps 1 test:   0%|          | 0/1 [00:00<?, ?img/s]"
     ]
    },
    {
     "name": "stdout",
     "output_type": "stream",
     "text": [
      "Sample ID 2022-07-06_T_AUTOPSY-BF_FR_S1_1 not found in metadata.\n",
      "\n",
      "Running predictions on sample 550/TU/2023-06-08_T_HORAO-77-AF_FR_S2_1\n"
     ]
    },
    {
     "name": "stderr",
     "output_type": "stream",
     "text": [
      "Steps 1 test: 100%|██████████| 1/1 [00:00<00:00,  1.12img/s]\n",
      "Steps 1 test:   0%|          | 0/1 [00:00<?, ?img/s]"
     ]
    },
    {
     "name": "stdout",
     "output_type": "stream",
     "text": [
      "\n",
      "Running predictions on sample 550/Irregular/2023-08-02_T_HORAO-107-BF_FR_S5_1\n"
     ]
    },
    {
     "name": "stderr",
     "output_type": "stream",
     "text": [
      "Steps 1 test: 100%|██████████| 1/1 [00:00<00:00,  1.10img/s]\n",
      "Steps 1 test:   0%|          | 0/1 [00:00<?, ?img/s]"
     ]
    },
    {
     "name": "stdout",
     "output_type": "stream",
     "text": [
      "\n",
      "Running predictions on sample 550/TU/2023-02-22_T_HORAO-78-AF_FR_S1_1\n"
     ]
    },
    {
     "name": "stderr",
     "output_type": "stream",
     "text": [
      "Steps 1 test: 100%|██████████| 1/1 [00:00<00:00,  1.11img/s]\n",
      "Steps 1 test:   0%|          | 0/1 [00:00<?, ?img/s]"
     ]
    },
    {
     "name": "stdout",
     "output_type": "stream",
     "text": [
      "\n",
      "Running predictions on sample 550/HT/2022-07-06_T_AUTOPSY-BF_FR_S6_1\n"
     ]
    },
    {
     "name": "stderr",
     "output_type": "stream",
     "text": [
      "Steps 1 test: 100%|██████████| 1/1 [00:00<00:00,  1.13img/s]\n",
      "Steps 1 test:   0%|          | 0/1 [00:00<?, ?img/s]"
     ]
    },
    {
     "name": "stdout",
     "output_type": "stream",
     "text": [
      "Sample ID 2022-07-06_T_AUTOPSY-BF_FR_S6_1 not found in metadata.\n",
      "\n",
      "Running predictions on sample 550/TU/2022-10-11_T_HORAO-55-BF_FR_S1_1\n"
     ]
    },
    {
     "name": "stderr",
     "output_type": "stream",
     "text": [
      "Steps 1 test: 100%|██████████| 1/1 [00:01<00:00,  1.16s/img]\n",
      "Steps 1 test:   0%|          | 0/1 [00:00<?, ?img/s]"
     ]
    },
    {
     "name": "stdout",
     "output_type": "stream",
     "text": [
      "Number of classes, 2, does not match size of target_names, 3. Try specifying the labels parameter\n",
      "\n",
      "Running predictions on sample 550/Irregular/2023-03-31_T_HORAO-93-AF_FR_S3_1\n"
     ]
    },
    {
     "name": "stderr",
     "output_type": "stream",
     "text": [
      "Steps 1 test: 100%|██████████| 1/1 [00:01<00:00,  1.66s/img]\n",
      "Steps 1 test:   0%|          | 0/1 [00:00<?, ?img/s]"
     ]
    },
    {
     "name": "stdout",
     "output_type": "stream",
     "text": [
      "\n",
      "Running predictions on sample 550/HT/2024-10-03_T_AUTOPSY-AF_FR_S8_1\n"
     ]
    },
    {
     "name": "stderr",
     "output_type": "stream",
     "text": [
      "Steps 1 test: 100%|██████████| 1/1 [00:01<00:00,  1.74s/img]\n",
      "Steps 1 test:   0%|          | 0/1 [00:00<?, ?img/s]"
     ]
    },
    {
     "name": "stdout",
     "output_type": "stream",
     "text": [
      "Sample ID 2024-10-03_T_AUTOPSY-AF_FR_S8_1 not found in metadata.\n",
      "Number of classes, 2, does not match size of target_names, 3. Try specifying the labels parameter\n",
      "\n",
      "Running predictions on sample 550/TU/2023-09-21_T_HORAO-104-AF_FR_S4_1\n"
     ]
    },
    {
     "name": "stderr",
     "output_type": "stream",
     "text": [
      "Steps 1 test: 100%|██████████| 1/1 [00:01<00:00,  1.85s/img]\n",
      "Steps 1 test:   0%|          | 0/1 [00:00<?, ?img/s]"
     ]
    },
    {
     "name": "stdout",
     "output_type": "stream",
     "text": [
      "\n",
      "Running predictions on sample 550/TU/2023-08-02_T_HORAO-107-BF_FR_S3_1\n"
     ]
    },
    {
     "name": "stderr",
     "output_type": "stream",
     "text": [
      "Steps 1 test: 100%|██████████| 1/1 [00:01<00:00,  1.83s/img]\n",
      "Steps 1 test:   0%|          | 0/1 [00:00<?, ?img/s]"
     ]
    },
    {
     "name": "stdout",
     "output_type": "stream",
     "text": [
      "Number of classes, 2, does not match size of target_names, 3. Try specifying the labels parameter\n",
      "\n",
      "Running predictions on sample 550/TU/2023-06-13_T_HORAO-104-BF_FR_S5_1\n"
     ]
    },
    {
     "name": "stderr",
     "output_type": "stream",
     "text": [
      "Steps 1 test: 100%|██████████| 1/1 [00:01<00:00,  1.87s/img]\n",
      "Steps 1 test:   0%|          | 0/1 [00:00<?, ?img/s]"
     ]
    },
    {
     "name": "stdout",
     "output_type": "stream",
     "text": [
      "\n",
      "Running predictions on sample 550/TU/2022-11-28_T_HORAO-63-AF_FR_S3_1\n"
     ]
    },
    {
     "name": "stderr",
     "output_type": "stream",
     "text": [
      "Steps 1 test: 100%|██████████| 1/1 [00:01<00:00,  1.90s/img]\n",
      "Steps 1 test:   0%|          | 0/1 [00:00<?, ?img/s]"
     ]
    },
    {
     "name": "stdout",
     "output_type": "stream",
     "text": [
      "\n",
      "Running predictions on sample 550/TU/2022-09-01_T_HORAO-39-BF_FR_S2_1\n"
     ]
    },
    {
     "name": "stderr",
     "output_type": "stream",
     "text": [
      "Steps 1 test: 100%|██████████| 1/1 [00:01<00:00,  1.59s/img]\n",
      "Steps 1 test:   0%|          | 0/1 [00:00<?, ?img/s]"
     ]
    },
    {
     "name": "stdout",
     "output_type": "stream",
     "text": [
      "\n",
      "Running predictions on sample 550/TU/2022-11-28_T_HORAO-63-AF_FR_S2_1\n"
     ]
    },
    {
     "name": "stderr",
     "output_type": "stream",
     "text": [
      "Steps 1 test: 100%|██████████| 1/1 [00:01<00:00,  1.65s/img]\n",
      "Steps 1 test:   0%|          | 0/1 [00:00<?, ?img/s]"
     ]
    },
    {
     "name": "stdout",
     "output_type": "stream",
     "text": [
      "Number of classes, 2, does not match size of target_names, 3. Try specifying the labels parameter\n",
      "\n",
      "Running predictions on sample 550/TU/2023-09-21_T_HORAO-104-AF_FR_S5_1\n"
     ]
    },
    {
     "name": "stderr",
     "output_type": "stream",
     "text": [
      "Steps 1 test: 100%|██████████| 1/1 [00:00<00:00,  1.18img/s]\n",
      "Steps 1 test:   0%|          | 0/1 [00:00<?, ?img/s]"
     ]
    },
    {
     "name": "stdout",
     "output_type": "stream",
     "text": [
      "\n",
      "Running predictions on sample 550/TU/2023-01-05_T_HORAO-78-BF_FR_S4_1\n"
     ]
    },
    {
     "name": "stderr",
     "output_type": "stream",
     "text": [
      "Steps 1 test: 100%|██████████| 1/1 [00:00<00:00,  1.12img/s]\n",
      "Steps 1 test:   0%|          | 0/1 [00:00<?, ?img/s]"
     ]
    },
    {
     "name": "stdout",
     "output_type": "stream",
     "text": [
      "\n",
      "Running predictions on sample 550/Irregular/2022-12-06_T_HORAO-64-AF_FR_S1_1\n"
     ]
    },
    {
     "name": "stderr",
     "output_type": "stream",
     "text": [
      "Steps 1 test: 100%|██████████| 1/1 [00:00<00:00,  1.04img/s]\n",
      "Steps 1 test:   0%|          | 0/1 [00:00<?, ?img/s]"
     ]
    },
    {
     "name": "stdout",
     "output_type": "stream",
     "text": [
      "\n",
      "Running predictions on sample 550/TU/2022-11-28_T_HORAO-67-AF_FR_S1_1\n"
     ]
    },
    {
     "name": "stderr",
     "output_type": "stream",
     "text": [
      "Steps 1 test: 100%|██████████| 1/1 [00:00<00:00,  1.21img/s]\n",
      "Steps 1 test:   0%|          | 0/1 [00:00<?, ?img/s]"
     ]
    },
    {
     "name": "stdout",
     "output_type": "stream",
     "text": [
      "\n",
      "Running predictions on sample 550/TU/2022-11-28_T_HORAO-63-AF_FR_S1_1\n"
     ]
    },
    {
     "name": "stderr",
     "output_type": "stream",
     "text": [
      "Steps 1 test: 100%|██████████| 1/1 [00:00<00:00,  1.18img/s]\n",
      "Steps 1 test:   0%|          | 0/1 [00:00<?, ?img/s]"
     ]
    },
    {
     "name": "stdout",
     "output_type": "stream",
     "text": [
      "\n",
      "Running predictions on sample 550/TU/2022-09-21_T_HORAO-45-BF_FR_S3_1\n"
     ]
    },
    {
     "name": "stderr",
     "output_type": "stream",
     "text": [
      "Steps 1 test: 100%|██████████| 1/1 [00:00<00:00,  1.12img/s]\n",
      "Steps 1 test:   0%|          | 0/1 [00:00<?, ?img/s]"
     ]
    },
    {
     "name": "stdout",
     "output_type": "stream",
     "text": [
      "\n",
      "Running predictions on sample 550/TU/2022-12-01_T_HORAO-55-AF_FR_S1_1\n"
     ]
    },
    {
     "name": "stderr",
     "output_type": "stream",
     "text": [
      "Steps 1 test: 100%|██████████| 1/1 [00:00<00:00,  1.23img/s]\n",
      "Steps 1 test:   0%|          | 0/1 [00:00<?, ?img/s]"
     ]
    },
    {
     "name": "stdout",
     "output_type": "stream",
     "text": [
      "Number of classes, 2, does not match size of target_names, 3. Try specifying the labels parameter\n",
      "\n",
      "Running predictions on sample 550/HT/2022-07-06_T_AUTOPSY-BF_FR_S7_1\n"
     ]
    },
    {
     "name": "stderr",
     "output_type": "stream",
     "text": [
      "Steps 1 test: 100%|██████████| 1/1 [00:00<00:00,  1.15img/s]\n",
      "Steps 1 test:   0%|          | 0/1 [00:00<?, ?img/s]"
     ]
    },
    {
     "name": "stdout",
     "output_type": "stream",
     "text": [
      "Sample ID 2022-07-06_T_AUTOPSY-BF_FR_S7_1 not found in metadata.\n",
      "\n",
      "Running predictions on sample 550/TU/2023-11-02_T_HORAO-84-AF_FR_S1_1\n"
     ]
    },
    {
     "name": "stderr",
     "output_type": "stream",
     "text": [
      "Steps 1 test: 100%|██████████| 1/1 [00:00<00:00,  1.03img/s]\n",
      "Steps 1 test:   0%|          | 0/1 [00:00<?, ?img/s]"
     ]
    },
    {
     "name": "stdout",
     "output_type": "stream",
     "text": [
      "\n",
      "Running predictions on sample 550/TU/2023-02-08_T_HORAO-84-BF_FR_S1_1\n"
     ]
    },
    {
     "name": "stderr",
     "output_type": "stream",
     "text": [
      "Steps 1 test: 100%|██████████| 1/1 [00:00<00:00,  1.11img/s]\n",
      "Steps 1 test:   0%|          | 0/1 [00:00<?, ?img/s]"
     ]
    },
    {
     "name": "stdout",
     "output_type": "stream",
     "text": [
      "\n",
      "Running predictions on sample 550/TU/2022-09-14_T_HORAO-37-AF_FR_S1_1\n"
     ]
    },
    {
     "name": "stderr",
     "output_type": "stream",
     "text": [
      "Steps 1 test: 100%|██████████| 1/1 [00:00<00:00,  1.25img/s]\n",
      "Steps 1 test:   0%|          | 0/1 [00:00<?, ?img/s]"
     ]
    },
    {
     "name": "stdout",
     "output_type": "stream",
     "text": [
      "\n",
      "Running predictions on sample 550/TU/2023-10-23_T_HORAO-78-AF_FR_S4_1\n"
     ]
    },
    {
     "name": "stderr",
     "output_type": "stream",
     "text": [
      "Steps 1 test: 100%|██████████| 1/1 [00:00<00:00,  1.11img/s]\n",
      "Steps 1 test:   0%|          | 0/1 [00:00<?, ?img/s]"
     ]
    },
    {
     "name": "stdout",
     "output_type": "stream",
     "text": [
      "\n",
      "Running predictions on sample 550/TU/2023-06-08_T_HORAO-78-AF_FR_S7_1\n"
     ]
    },
    {
     "name": "stderr",
     "output_type": "stream",
     "text": [
      "Steps 1 test: 100%|██████████| 1/1 [00:00<00:00,  1.14img/s]\n",
      "Steps 1 test:   0%|          | 0/1 [00:00<?, ?img/s]"
     ]
    },
    {
     "name": "stdout",
     "output_type": "stream",
     "text": [
      "\n",
      "Running predictions on sample 550/Irregular/2023-09-22_T_HORAO-90-AF_FR_S2_1\n"
     ]
    },
    {
     "name": "stderr",
     "output_type": "stream",
     "text": [
      "Steps 1 test: 100%|██████████| 1/1 [00:00<00:00,  1.27img/s]\n",
      "Steps 1 test:   0%|          | 0/1 [00:00<?, ?img/s]"
     ]
    },
    {
     "name": "stdout",
     "output_type": "stream",
     "text": [
      "\n",
      "Running predictions on sample 550/TU/2022-11-02_T_HORAO-59-AF_FR_S2_1\n"
     ]
    },
    {
     "name": "stderr",
     "output_type": "stream",
     "text": [
      "Steps 1 test: 100%|██████████| 1/1 [00:00<00:00,  1.22img/s]\n",
      "Steps 1 test:   0%|          | 0/1 [00:00<?, ?img/s]"
     ]
    },
    {
     "name": "stdout",
     "output_type": "stream",
     "text": [
      "Number of classes, 2, does not match size of target_names, 3. Try specifying the labels parameter\n",
      "\n",
      "Running predictions on sample 550/HT/2024-09-18_T_AUTOPSY-BF_FR_S7_1\n"
     ]
    },
    {
     "name": "stderr",
     "output_type": "stream",
     "text": [
      "Steps 1 test: 100%|██████████| 1/1 [00:00<00:00,  1.14img/s]\n",
      "Steps 1 test:   0%|          | 0/1 [00:00<?, ?img/s]"
     ]
    },
    {
     "name": "stdout",
     "output_type": "stream",
     "text": [
      "Sample ID 2024-09-18_T_AUTOPSY-BF_FR_S7_1 not found in metadata.\n",
      "\n",
      "Running predictions on sample 550/HT/2022-07-07_T_AUTOPSY-AF_FR_S2_1\n"
     ]
    },
    {
     "name": "stderr",
     "output_type": "stream",
     "text": [
      "Steps 1 test: 100%|██████████| 1/1 [00:00<00:00,  1.14img/s]\n",
      "Steps 1 test:   0%|          | 0/1 [00:00<?, ?img/s]"
     ]
    },
    {
     "name": "stdout",
     "output_type": "stream",
     "text": [
      "Sample ID 2022-07-07_T_AUTOPSY-AF_FR_S2_1 not found in metadata.\n",
      "\n",
      "Running predictions on sample 550/TU/2023-06-08_T_HORAO-71-AF_FR_S3_1\n"
     ]
    },
    {
     "name": "stderr",
     "output_type": "stream",
     "text": [
      "Steps 1 test: 100%|██████████| 1/1 [00:00<00:00,  1.13img/s]\n",
      "Steps 1 test:   0%|          | 0/1 [00:00<?, ?img/s]"
     ]
    },
    {
     "name": "stdout",
     "output_type": "stream",
     "text": [
      "Number of classes, 2, does not match size of target_names, 3. Try specifying the labels parameter\n",
      "\n",
      "Running predictions on sample 550/TU/2022-10-14_T_HORAO-45-AF_FR_S3_1\n"
     ]
    },
    {
     "name": "stderr",
     "output_type": "stream",
     "text": [
      "Steps 1 test: 100%|██████████| 1/1 [00:00<00:00,  1.09img/s]\n",
      "Steps 1 test:   0%|          | 0/1 [00:00<?, ?img/s]"
     ]
    },
    {
     "name": "stdout",
     "output_type": "stream",
     "text": [
      "\n",
      "Running predictions on sample 550/TU/2023-05-12_T_HORAO-91-AF_FR_S2_1\n"
     ]
    },
    {
     "name": "stderr",
     "output_type": "stream",
     "text": [
      "Steps 1 test: 100%|██████████| 1/1 [00:00<00:00,  1.11img/s]\n",
      "Steps 1 test:   0%|          | 0/1 [00:00<?, ?img/s]"
     ]
    },
    {
     "name": "stdout",
     "output_type": "stream",
     "text": [
      "\n",
      "Running predictions on sample 550/TU/2023-04-27_T_HORAO-98-BF_FR_S3_1\n"
     ]
    },
    {
     "name": "stderr",
     "output_type": "stream",
     "text": [
      "Steps 1 test: 100%|██████████| 1/1 [00:00<00:00,  1.03img/s]\n",
      "Steps 1 test:   0%|          | 0/1 [00:00<?, ?img/s]"
     ]
    },
    {
     "name": "stdout",
     "output_type": "stream",
     "text": [
      "\n",
      "Running predictions on sample 550/TU/2023-04-27_T_HORAO-98-BF_FR_S2_1\n"
     ]
    },
    {
     "name": "stderr",
     "output_type": "stream",
     "text": [
      "Steps 1 test: 100%|██████████| 1/1 [00:00<00:00,  1.13img/s]\n",
      "Steps 1 test:   0%|          | 0/1 [00:00<?, ?img/s]"
     ]
    },
    {
     "name": "stdout",
     "output_type": "stream",
     "text": [
      "Number of classes, 2, does not match size of target_names, 3. Try specifying the labels parameter\n",
      "\n",
      "Running predictions on sample 550/TU/2023-09-22_T_HORAO-104-AF_FR_S3_1\n"
     ]
    },
    {
     "name": "stderr",
     "output_type": "stream",
     "text": [
      "Steps 1 test: 100%|██████████| 1/1 [00:00<00:00,  1.16img/s]\n",
      "Steps 1 test:   0%|          | 0/1 [00:00<?, ?img/s]"
     ]
    },
    {
     "name": "stdout",
     "output_type": "stream",
     "text": [
      "\n",
      "Running predictions on sample 550/Irregular/2023-03-23_T_HORAO-92-BF_FR_S4_1\n"
     ]
    },
    {
     "name": "stderr",
     "output_type": "stream",
     "text": [
      "Steps 1 test: 100%|██████████| 1/1 [00:00<00:00,  1.06img/s]\n",
      "Steps 1 test:   0%|          | 0/1 [00:00<?, ?img/s]"
     ]
    },
    {
     "name": "stdout",
     "output_type": "stream",
     "text": [
      "Number of classes, 2, does not match size of target_names, 3. Try specifying the labels parameter\n",
      "\n",
      "Running predictions on sample 550/Irregular/2022-09-14_T_HORAO-42-BF_FR_S3_1\n"
     ]
    },
    {
     "name": "stderr",
     "output_type": "stream",
     "text": [
      "Steps 1 test: 100%|██████████| 1/1 [00:00<00:00,  1.21img/s]\n",
      "Steps 1 test:   0%|          | 0/1 [00:00<?, ?img/s]"
     ]
    },
    {
     "name": "stdout",
     "output_type": "stream",
     "text": [
      "\n",
      "Running predictions on sample 550/TU/2022-09-14_T_HORAO-38-AF_FR_S1_1\n"
     ]
    },
    {
     "name": "stderr",
     "output_type": "stream",
     "text": [
      "Steps 1 test: 100%|██████████| 1/1 [00:00<00:00,  1.19img/s]\n",
      "Steps 1 test:   0%|          | 0/1 [00:00<?, ?img/s]"
     ]
    },
    {
     "name": "stdout",
     "output_type": "stream",
     "text": [
      "Number of classes, 2, does not match size of target_names, 3. Try specifying the labels parameter\n",
      "\n",
      "Running predictions on sample 550/TU/2022-06-29_T_HORAO-21-BF_FR_S2_1\n"
     ]
    },
    {
     "name": "stderr",
     "output_type": "stream",
     "text": [
      "Steps 1 test: 100%|██████████| 1/1 [00:00<00:00,  1.12img/s]\n",
      "Steps 1 test:   0%|          | 0/1 [00:00<?, ?img/s]"
     ]
    },
    {
     "name": "stdout",
     "output_type": "stream",
     "text": [
      "\n",
      "Running predictions on sample 550/TU/2023-01-05_T_HORAO-78-BF_FR_S3_1\n"
     ]
    },
    {
     "name": "stderr",
     "output_type": "stream",
     "text": [
      "Steps 1 test: 100%|██████████| 1/1 [00:00<00:00,  1.09img/s]\n",
      "Steps 1 test:   0%|          | 0/1 [00:00<?, ?img/s]"
     ]
    },
    {
     "name": "stdout",
     "output_type": "stream",
     "text": [
      "\n",
      "Running predictions on sample 550/TU/2023-05-12_T_HORAO-95-AF_FR_S1_1\n"
     ]
    },
    {
     "name": "stderr",
     "output_type": "stream",
     "text": [
      "Steps 1 test: 100%|██████████| 1/1 [00:00<00:00,  1.14img/s]\n",
      "Steps 1 test:   0%|          | 0/1 [00:00<?, ?img/s]"
     ]
    },
    {
     "name": "stdout",
     "output_type": "stream",
     "text": [
      "\n",
      "Running predictions on sample 550/TU/2023-09-21_T_HORAO-104-AF_FR_S6_1\n"
     ]
    },
    {
     "name": "stderr",
     "output_type": "stream",
     "text": [
      "Steps 1 test: 100%|██████████| 1/1 [00:00<00:00,  1.16img/s]\n",
      "Steps 1 test:   0%|          | 0/1 [00:00<?, ?img/s]"
     ]
    },
    {
     "name": "stdout",
     "output_type": "stream",
     "text": [
      "\n",
      "Running predictions on sample 550/TU/2023-05-12_T_HORAO-100-AF_FR_S1_1\n"
     ]
    },
    {
     "name": "stderr",
     "output_type": "stream",
     "text": [
      "Steps 1 test: 100%|██████████| 1/1 [00:00<00:00,  1.12img/s]\n",
      "Steps 1 test:   0%|          | 0/1 [00:00<?, ?img/s]"
     ]
    },
    {
     "name": "stdout",
     "output_type": "stream",
     "text": [
      "\n",
      "Running predictions on sample 550/HT/2022-07-07_T_AUTOPSY-AF_FR_S3_1\n"
     ]
    },
    {
     "name": "stderr",
     "output_type": "stream",
     "text": [
      "Steps 1 test: 100%|██████████| 1/1 [00:00<00:00,  1.17img/s]\n",
      "Steps 1 test:   0%|          | 0/1 [00:00<?, ?img/s]"
     ]
    },
    {
     "name": "stdout",
     "output_type": "stream",
     "text": [
      "Sample ID 2022-07-07_T_AUTOPSY-AF_FR_S3_1 not found in metadata.\n",
      "\n",
      "Running predictions on sample 550/TU/2023-04-05_T_HORAO-94-BF_FR_S2_1\n"
     ]
    },
    {
     "name": "stderr",
     "output_type": "stream",
     "text": [
      "Steps 1 test: 100%|██████████| 1/1 [00:00<00:00,  1.20img/s]\n",
      "Steps 1 test:   0%|          | 0/1 [00:00<?, ?img/s]"
     ]
    },
    {
     "name": "stdout",
     "output_type": "stream",
     "text": [
      "Number of classes, 2, does not match size of target_names, 3. Try specifying the labels parameter\n",
      "\n",
      "Running predictions on sample 550/TU/2022-09-21_T_HORAO-45-BF_FR_S4_1\n"
     ]
    },
    {
     "name": "stderr",
     "output_type": "stream",
     "text": [
      "Steps 1 test: 100%|██████████| 1/1 [00:00<00:00,  1.13img/s]\n",
      "Steps 1 test:   0%|          | 0/1 [00:00<?, ?img/s]"
     ]
    },
    {
     "name": "stdout",
     "output_type": "stream",
     "text": [
      "\n",
      "Running predictions on sample 550/TU/2023-10-23_T_HORAO-91-AF_FR_S1_1\n"
     ]
    },
    {
     "name": "stderr",
     "output_type": "stream",
     "text": [
      "Steps 1 test: 100%|██████████| 1/1 [00:00<00:00,  1.11img/s]\n",
      "Steps 1 test:   0%|          | 0/1 [00:00<?, ?img/s]"
     ]
    },
    {
     "name": "stdout",
     "output_type": "stream",
     "text": [
      "\n",
      "Running predictions on sample 550/Irregular/2023-04-27_T_HORAO-98-BF_FR_S1_1\n"
     ]
    },
    {
     "name": "stderr",
     "output_type": "stream",
     "text": [
      "Steps 1 test: 100%|██████████| 1/1 [00:00<00:00,  1.14img/s]\n",
      "Steps 1 test:   0%|          | 0/1 [00:00<?, ?img/s]"
     ]
    },
    {
     "name": "stdout",
     "output_type": "stream",
     "text": [
      "\n",
      "Running predictions on sample 550/TU/2023-06-07_T_HORAO-100-AF_FR_S2_1\n"
     ]
    },
    {
     "name": "stderr",
     "output_type": "stream",
     "text": [
      "Steps 1 test: 100%|██████████| 1/1 [00:00<00:00,  1.09img/s]\n",
      "Steps 1 test:   0%|          | 0/1 [00:00<?, ?img/s]"
     ]
    },
    {
     "name": "stdout",
     "output_type": "stream",
     "text": [
      "\n",
      "Running predictions on sample 550/TU/2023-09-22_T_HORAO-84-AF_FR_S2_1\n"
     ]
    },
    {
     "name": "stderr",
     "output_type": "stream",
     "text": [
      "Steps 1 test: 100%|██████████| 1/1 [00:00<00:00,  1.15img/s]\n",
      "Steps 1 test:   0%|          | 0/1 [00:00<?, ?img/s]"
     ]
    },
    {
     "name": "stdout",
     "output_type": "stream",
     "text": [
      "\n",
      "Running predictions on sample 550/Irregular/2023-09-21_T_HORAO-107-AF_FR_S5_1\n"
     ]
    },
    {
     "name": "stderr",
     "output_type": "stream",
     "text": [
      "Steps 1 test: 100%|██████████| 1/1 [00:00<00:00,  1.20img/s]\n",
      "Steps 1 test:   0%|          | 0/1 [00:00<?, ?img/s]"
     ]
    },
    {
     "name": "stdout",
     "output_type": "stream",
     "text": [
      "Number of classes, 2, does not match size of target_names, 3. Try specifying the labels parameter\n",
      "\n",
      "Running predictions on sample 550/TU/2023-09-21_T_HORAO-105-AF_FR_S1_1\n"
     ]
    },
    {
     "name": "stderr",
     "output_type": "stream",
     "text": [
      "Steps 1 test: 100%|██████████| 1/1 [00:00<00:00,  1.11img/s]\n",
      "Steps 1 test:   0%|          | 0/1 [00:00<?, ?img/s]"
     ]
    },
    {
     "name": "stdout",
     "output_type": "stream",
     "text": [
      "Number of classes, 1, does not match size of target_names, 3. Try specifying the labels parameter\n",
      "\n",
      "Running predictions on sample 550/TU/2022-11-08_T_HORAO-63-BF_FR_S2_1\n"
     ]
    },
    {
     "name": "stderr",
     "output_type": "stream",
     "text": [
      "Steps 1 test: 100%|██████████| 1/1 [00:00<00:00,  1.13img/s]\n",
      "Steps 1 test:   0%|          | 0/1 [00:00<?, ?img/s]"
     ]
    },
    {
     "name": "stdout",
     "output_type": "stream",
     "text": [
      "Number of classes, 2, does not match size of target_names, 3. Try specifying the labels parameter\n",
      "\n",
      "Running predictions on sample 550/TU/2023-02-22_T_HORAO-78-AF_FR_S2_1\n"
     ]
    },
    {
     "name": "stderr",
     "output_type": "stream",
     "text": [
      "Steps 1 test: 100%|██████████| 1/1 [00:00<00:00,  1.11img/s]\n",
      "Steps 1 test:   0%|          | 0/1 [00:00<?, ?img/s]"
     ]
    },
    {
     "name": "stdout",
     "output_type": "stream",
     "text": [
      "\n",
      "Running predictions on sample 550/TU/2022-11-28_T_HORAO-68-AF_FR_S1_1\n"
     ]
    },
    {
     "name": "stderr",
     "output_type": "stream",
     "text": [
      "Steps 1 test: 100%|██████████| 1/1 [00:00<00:00,  1.01img/s]\n",
      "Steps 1 test:   0%|          | 0/1 [00:00<?, ?img/s]"
     ]
    },
    {
     "name": "stdout",
     "output_type": "stream",
     "text": [
      "Number of classes, 2, does not match size of target_names, 3. Try specifying the labels parameter\n",
      "\n",
      "Running predictions on sample 550/HT/2022-07-06_T_AUTOPSY-BF_FR_S5_1\n"
     ]
    },
    {
     "name": "stderr",
     "output_type": "stream",
     "text": [
      "Steps 1 test: 100%|██████████| 1/1 [00:00<00:00,  1.00img/s]\n",
      "Steps 1 test:   0%|          | 0/1 [00:00<?, ?img/s]"
     ]
    },
    {
     "name": "stdout",
     "output_type": "stream",
     "text": [
      "Sample ID 2022-07-06_T_AUTOPSY-BF_FR_S5_1 not found in metadata.\n",
      "\n",
      "Running predictions on sample 550/TU/2023-01-04_T_HORAO-77-BF_FR_S2_1\n"
     ]
    },
    {
     "name": "stderr",
     "output_type": "stream",
     "text": [
      "Steps 1 test: 100%|██████████| 1/1 [00:01<00:00,  1.02s/img]\n",
      "Steps 1 test:   0%|          | 0/1 [00:00<?, ?img/s]"
     ]
    },
    {
     "name": "stdout",
     "output_type": "stream",
     "text": [
      "\n",
      "Running predictions on sample 550/TU/2022-09-21_T_HORAO-45-BF_FR_S2_1\n"
     ]
    },
    {
     "name": "stderr",
     "output_type": "stream",
     "text": [
      "Steps 1 test: 100%|██████████| 1/1 [00:01<00:00,  1.40s/img]\n",
      "Steps 1 test:   0%|          | 0/1 [00:00<?, ?img/s]"
     ]
    },
    {
     "name": "stdout",
     "output_type": "stream",
     "text": [
      "\n",
      "Running predictions on sample 550/Irregular/2023-03-30_T_HORAO-93-BF_FR_S2_1\n"
     ]
    },
    {
     "name": "stderr",
     "output_type": "stream",
     "text": [
      "Steps 1 test: 100%|██████████| 1/1 [00:01<00:00,  1.62s/img]\n",
      "Steps 1 test:   0%|          | 0/1 [00:00<?, ?img/s]"
     ]
    },
    {
     "name": "stdout",
     "output_type": "stream",
     "text": [
      "\n",
      "Running predictions on sample 550/TU/2023-03-31_T_HORAO-93-AF_FR_S2_1\n"
     ]
    },
    {
     "name": "stderr",
     "output_type": "stream",
     "text": [
      "Steps 1 test: 100%|██████████| 1/1 [00:01<00:00,  1.62s/img]\n",
      "Steps 1 test:   0%|          | 0/1 [00:00<?, ?img/s]"
     ]
    },
    {
     "name": "stdout",
     "output_type": "stream",
     "text": [
      "\n",
      "Running predictions on sample 550/Irregular/2023-03-30_T_HORAO-93-BF_FR_S3_1\n"
     ]
    },
    {
     "name": "stderr",
     "output_type": "stream",
     "text": [
      "Steps 1 test: 100%|██████████| 1/1 [00:00<00:00,  1.09img/s]\n",
      "Steps 1 test:   0%|          | 0/1 [00:00<?, ?img/s]"
     ]
    },
    {
     "name": "stdout",
     "output_type": "stream",
     "text": [
      "\n",
      "Running predictions on sample 550/TU/2022-09-01_T_HORAO-38-BF_FR_S1_1\n"
     ]
    },
    {
     "name": "stderr",
     "output_type": "stream",
     "text": [
      "Steps 1 test: 100%|██████████| 1/1 [00:00<00:00,  1.13img/s]\n",
      "Steps 1 test:   0%|          | 0/1 [00:00<?, ?img/s]"
     ]
    },
    {
     "name": "stdout",
     "output_type": "stream",
     "text": [
      "\n",
      "Running predictions on sample 550/TU/2022-11-29_T_HORAO-68-AF_FR_S2_1\n"
     ]
    },
    {
     "name": "stderr",
     "output_type": "stream",
     "text": [
      "Steps 1 test: 100%|██████████| 1/1 [00:00<00:00,  1.01img/s]\n",
      "Steps 1 test:   0%|          | 0/1 [00:00<?, ?img/s]"
     ]
    },
    {
     "name": "stdout",
     "output_type": "stream",
     "text": [
      "Number of classes, 2, does not match size of target_names, 3. Try specifying the labels parameter\n",
      "\n",
      "Running predictions on sample 550/TU/2023-11-01_T_HORAO-88-AF_FR_S1_1\n"
     ]
    },
    {
     "name": "stderr",
     "output_type": "stream",
     "text": [
      "Steps 1 test: 100%|██████████| 1/1 [00:01<00:00,  1.05s/img]\n",
      "Steps 1 test:   0%|          | 0/1 [00:00<?, ?img/s]"
     ]
    },
    {
     "name": "stdout",
     "output_type": "stream",
     "text": [
      "\n",
      "Running predictions on sample 550/HT/2024-10-03_T_AUTOPSY-AF_FR_S3_1\n"
     ]
    },
    {
     "name": "stderr",
     "output_type": "stream",
     "text": [
      "Steps 1 test: 100%|██████████| 1/1 [00:00<00:00,  1.08img/s]\n",
      "Steps 1 test:   0%|          | 0/1 [00:00<?, ?img/s]"
     ]
    },
    {
     "name": "stdout",
     "output_type": "stream",
     "text": [
      "Sample ID 2024-10-03_T_AUTOPSY-AF_FR_S3_1 not found in metadata.\n",
      "Number of classes, 2, does not match size of target_names, 3. Try specifying the labels parameter\n",
      "\n",
      "Running predictions on sample 550/TU/2023-06-13_T_HORAO-104-BF_FR_S2_1\n"
     ]
    },
    {
     "name": "stderr",
     "output_type": "stream",
     "text": [
      "Steps 1 test: 100%|██████████| 1/1 [00:00<00:00,  1.09img/s]\n",
      "Steps 1 test:   0%|          | 0/1 [00:00<?, ?img/s]"
     ]
    },
    {
     "name": "stdout",
     "output_type": "stream",
     "text": [
      "\n",
      "Running predictions on sample 550/TU/2023-01-05_T_HORAO-78-BF_FR_S6_1\n"
     ]
    },
    {
     "name": "stderr",
     "output_type": "stream",
     "text": [
      "Steps 1 test: 100%|██████████| 1/1 [00:00<00:00,  1.12img/s]\n",
      "Steps 1 test:   0%|          | 0/1 [00:00<?, ?img/s]"
     ]
    },
    {
     "name": "stdout",
     "output_type": "stream",
     "text": [
      "\n",
      "Running predictions on sample 550/TU/2023-05-04_T_HORAO-100-BF_FR_S1_1\n"
     ]
    },
    {
     "name": "stderr",
     "output_type": "stream",
     "text": [
      "Steps 1 test: 100%|██████████| 1/1 [00:00<00:00,  1.02img/s]\n",
      "Steps 1 test:   0%|          | 0/1 [00:00<?, ?img/s]"
     ]
    },
    {
     "name": "stdout",
     "output_type": "stream",
     "text": [
      "\n",
      "Running predictions on sample 550/TU/2023-02-08_T_HORAO-84-BF_FR_S4_1\n"
     ]
    },
    {
     "name": "stderr",
     "output_type": "stream",
     "text": [
      "Steps 1 test: 100%|██████████| 1/1 [00:00<00:00,  1.07img/s]\n",
      "Steps 1 test:   0%|          | 0/1 [00:00<?, ?img/s]"
     ]
    },
    {
     "name": "stdout",
     "output_type": "stream",
     "text": [
      "\n",
      "Running predictions on sample 550/TU/2023-10-23_T_HORAO-101-AF_FR_S2_1\n"
     ]
    },
    {
     "name": "stderr",
     "output_type": "stream",
     "text": [
      "Steps 1 test: 100%|██████████| 1/1 [00:00<00:00,  1.15img/s]\n",
      "Steps 1 test:   0%|          | 0/1 [00:00<?, ?img/s]"
     ]
    },
    {
     "name": "stdout",
     "output_type": "stream",
     "text": [
      "\n",
      "Running predictions on sample 550/Irregular/2023-11-01_T_HORAO-107-AF_FR_S6_1\n"
     ]
    },
    {
     "name": "stderr",
     "output_type": "stream",
     "text": [
      "Steps 1 test: 100%|██████████| 1/1 [00:00<00:00,  1.11img/s]\n",
      "Steps 1 test:   0%|          | 0/1 [00:00<?, ?img/s]"
     ]
    },
    {
     "name": "stdout",
     "output_type": "stream",
     "text": [
      "\n",
      "Running predictions on sample 550/Irregular/2022-11-02_T_HORAO-59-AF_FR_S1_1\n"
     ]
    },
    {
     "name": "stderr",
     "output_type": "stream",
     "text": [
      "Steps 1 test: 100%|██████████| 1/1 [00:00<00:00,  1.09img/s]\n",
      "Steps 1 test:   0%|          | 0/1 [00:00<?, ?img/s]"
     ]
    },
    {
     "name": "stdout",
     "output_type": "stream",
     "text": [
      "Number of classes, 2, does not match size of target_names, 3. Try specifying the labels parameter\n",
      "\n",
      "Running predictions on sample 550/TU/2023-02-22_T_HORAO-84-AF_FR_S3_1\n"
     ]
    },
    {
     "name": "stderr",
     "output_type": "stream",
     "text": [
      "Steps 1 test: 100%|██████████| 1/1 [00:00<00:00,  1.11img/s]\n",
      "Steps 1 test:   0%|          | 0/1 [00:00<?, ?img/s]"
     ]
    },
    {
     "name": "stdout",
     "output_type": "stream",
     "text": [
      "\n",
      "Running predictions on sample 550/HT/2024-09-18_T_AUTOPSY-BF_FR_S5_1\n"
     ]
    },
    {
     "name": "stderr",
     "output_type": "stream",
     "text": [
      "Steps 1 test: 100%|██████████| 1/1 [00:00<00:00,  1.17img/s]\n",
      "Steps 1 test:   0%|          | 0/1 [00:00<?, ?img/s]"
     ]
    },
    {
     "name": "stdout",
     "output_type": "stream",
     "text": [
      "Sample ID 2024-09-18_T_AUTOPSY-BF_FR_S5_1 not found in metadata.\n",
      "\n",
      "Running predictions on sample 550/Irregular/2023-03-31_T_HORAO-93-AF_FR_S1_1\n"
     ]
    },
    {
     "name": "stderr",
     "output_type": "stream",
     "text": [
      "Steps 1 test: 100%|██████████| 1/1 [00:00<00:00,  1.13img/s]\n",
      "Steps 1 test:   0%|          | 0/1 [00:00<?, ?img/s]"
     ]
    },
    {
     "name": "stdout",
     "output_type": "stream",
     "text": [
      "\n",
      "Running predictions on sample 550/TU/2023-06-08_T_HORAO-78-AF_FR_S6_1\n"
     ]
    },
    {
     "name": "stderr",
     "output_type": "stream",
     "text": [
      "Steps 1 test: 100%|██████████| 1/1 [00:00<00:00,  1.11img/s]\n",
      "Steps 1 test:   0%|          | 0/1 [00:00<?, ?img/s]"
     ]
    },
    {
     "name": "stdout",
     "output_type": "stream",
     "text": [
      "\n",
      "Running predictions on sample 550/HT/2022-07-06_T_AUTOPSY-BF_FR_S8_1\n"
     ]
    },
    {
     "name": "stderr",
     "output_type": "stream",
     "text": [
      "Steps 1 test: 100%|██████████| 1/1 [00:00<00:00,  1.10img/s]\n",
      "Steps 1 test:   0%|          | 0/1 [00:00<?, ?img/s]"
     ]
    },
    {
     "name": "stdout",
     "output_type": "stream",
     "text": [
      "Sample ID 2022-07-06_T_AUTOPSY-BF_FR_S8_1 not found in metadata.\n",
      "\n",
      "Running predictions on sample 550/TU/2023-10-19_T_HORAO-107-AF_FR_S3_1\n"
     ]
    },
    {
     "name": "stderr",
     "output_type": "stream",
     "text": [
      "Steps 1 test: 100%|██████████| 1/1 [00:00<00:00,  1.16img/s]\n",
      "Steps 1 test:   0%|          | 0/1 [00:00<?, ?img/s]"
     ]
    },
    {
     "name": "stdout",
     "output_type": "stream",
     "text": [
      "\n",
      "Running predictions on sample 550/TU/2023-01-04_T_HORAO-77-BF_FR_S1_1\n"
     ]
    },
    {
     "name": "stderr",
     "output_type": "stream",
     "text": [
      "Steps 1 test: 100%|██████████| 1/1 [00:00<00:00,  1.09img/s]\n"
     ]
    }
   ],
   "source": [
    "from processingmm.addons import predict\n",
    "predict.batch_prediction(parameters, no_labels = False, MM = False, model_name = None)"
   ]
  },
  {
   "cell_type": "code",
   "execution_count": null,
   "id": "0fa352b8-0738-47b7-9f27-2aacc26de3db",
   "metadata": {},
   "outputs": [],
   "source": []
  },
  {
   "cell_type": "code",
   "execution_count": 129,
   "id": "61611c16-067f-47a0-8fbc-076472169d33",
   "metadata": {},
   "outputs": [
    {
     "name": "stdout",
     "output_type": "stream",
     "text": [
      "CPU times: user 280 μs, sys: 1.02 ms, total: 1.3 ms\n",
      "Wall time: 1.08 ms\n"
     ]
    },
    {
     "data": {
      "text/plain": [
       "0.0005217790603637695"
      ]
     },
     "execution_count": 129,
     "metadata": {},
     "output_type": "execute_result"
    }
   ],
   "source": [
    "%%time\n",
    "from processingmm.addons import visualization_lines\n",
    "\n",
    "# Approximate time to process the line visualization save_pdf_figs True : 3.85s\n",
    "# Approximate time to process the line visualization save_pdf_figs False : 4.92s\n",
    "run_all = False\n",
    "times = visualization_lines.batch_visualization(parameters, run_all)\n",
    "times"
   ]
  },
  {
   "cell_type": "code",
   "execution_count": null,
   "id": "d24101bc-bdbf-4494-8596-efe0b1ba04fb",
   "metadata": {},
   "outputs": [],
   "source": []
  },
  {
   "cell_type": "code",
   "execution_count": 131,
   "id": "7290a266",
   "metadata": {},
   "outputs": [
    {
     "name": "stdout",
     "output_type": "stream",
     "text": [
      "Aligning wavelength: 600 nm...\n"
     ]
    },
    {
     "name": "stderr",
     "output_type": "stream",
     "text": [
      "100%|██████████████████████████████████████████| 2/2 [00:00<00:00, 11554.56it/s]"
     ]
    },
    {
     "name": "stdout",
     "output_type": "stream",
     "text": [
      "Aligning wavelengths done.\n",
      "\n"
     ]
    },
    {
     "name": "stderr",
     "output_type": "stream",
     "text": [
      "\n"
     ]
    }
   ],
   "source": [
    "# align the measurements captured at different wavelengths - could cause issue when using masks obtained\n",
    "# at 550nm as the images are slightly shifted \n",
    "from processingmm.addons import align_wavelengths\n",
    "directories = ['/media/elea/ssd/NPP_dev/test']\n",
    "\n",
    "PDDN_mode = 'both'\n",
    "run_all = False\n",
    "align_wavelengths.align_wavelengths(directories, PDDN_mode, run_all, [600])"
   ]
  },
  {
   "cell_type": "code",
   "execution_count": null,
   "id": "15e52f61-7cbd-442b-812f-0371510e7f18",
   "metadata": {},
   "outputs": [],
   "source": []
  }
 ],
 "metadata": {
  "kernelspec": {
   "display_name": "Python 3 (ipykernel)",
   "language": "python",
   "name": "python3"
  },
  "language_info": {
   "codemirror_mode": {
    "name": "ipython",
    "version": 3
   },
   "file_extension": ".py",
   "mimetype": "text/x-python",
   "name": "python",
   "nbconvert_exporter": "python",
   "pygments_lexer": "ipython3",
   "version": "3.12.9"
  }
 },
 "nbformat": 4,
 "nbformat_minor": 5
}
